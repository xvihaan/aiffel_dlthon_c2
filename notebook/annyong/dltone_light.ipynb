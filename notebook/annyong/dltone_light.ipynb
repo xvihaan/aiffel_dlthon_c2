{
 "cells": [
  {
   "cell_type": "markdown",
   "id": "c2c849c1",
   "metadata": {
    "id": "f6c924f9"
   },
   "source": [
    "# 0. 버전확인"
   ]
  },
  {
   "cell_type": "code",
   "execution_count": 1,
   "id": "f4e320ed",
   "metadata": {
    "colab": {
     "base_uri": "https://localhost:8080/"
    },
    "id": "7634cf25",
    "outputId": "91baa030-b2a8-4205-eb7c-f82df90b2fb2"
   },
   "outputs": [
    {
     "name": "stdout",
     "output_type": "stream",
     "text": [
      "2.6.0\n"
     ]
    }
   ],
   "source": [
    "import tensorflow\n",
    "\n",
    "print(tensorflow.__version__)"
   ]
  },
  {
   "cell_type": "code",
   "execution_count": 2,
   "id": "c3bf3000",
   "metadata": {
    "colab": {
     "base_uri": "https://localhost:8080/"
    },
    "id": "Zo-WoErj0JBj",
    "outputId": "de714098-ecd6-4e0f-e3ae-c37a10c20cd9"
   },
   "outputs": [],
   "source": [
    "# !pip install wandb"
   ]
  },
  {
   "cell_type": "code",
   "execution_count": 3,
   "id": "a2fc4939",
   "metadata": {},
   "outputs": [],
   "source": [
    "# !pip install torch"
   ]
  },
  {
   "cell_type": "code",
   "execution_count": 4,
   "id": "bc19e37f",
   "metadata": {},
   "outputs": [],
   "source": [
    "# !pip install wandb transformers scikit-learn"
   ]
  },
  {
   "cell_type": "code",
   "execution_count": 5,
   "id": "a63e5743",
   "metadata": {
    "colab": {
     "base_uri": "https://localhost:8080/"
    },
    "id": "L2sygijdn7br",
    "outputId": "6c1bbb24-1ccb-49ec-cfd9-c6aed3167a99"
   },
   "outputs": [],
   "source": [
    "# !pip install transformers"
   ]
  },
  {
   "cell_type": "code",
   "execution_count": 6,
   "id": "81eed4cf",
   "metadata": {
    "colab": {
     "base_uri": "https://localhost:8080/"
    },
    "id": "GrB2t1-83uJu",
    "outputId": "3c00edac-1723-4414-9c91-4dc778a28d25"
   },
   "outputs": [],
   "source": [
    "# !pip install transformers sklearn"
   ]
  },
  {
   "cell_type": "markdown",
   "id": "2dd20d27",
   "metadata": {
    "id": "cddf7c91"
   },
   "source": [
    "# Step 1. 데이터 수집하기\n",
    "### new_train.csv사용"
   ]
  },
  {
   "cell_type": "code",
   "execution_count": 7,
   "id": "1e77ccbb",
   "metadata": {
    "colab": {
     "base_uri": "https://localhost:8080/"
    },
    "id": "cb34ed99",
    "outputId": "b18852b7-3093-492b-a874-a3702f07c3bf"
   },
   "outputs": [
    {
     "name": "stdout",
     "output_type": "stream",
     "text": [
      "=3\n"
     ]
    }
   ],
   "source": [
    "import tensorflow as tf\n",
    "import numpy as np\n",
    "import pandas as pd\n",
    "import os\n",
    "import re\n",
    "\n",
    "from bs4 import BeautifulSoup\n",
    "from tensorflow.keras.preprocessing.text import Tokenizer\n",
    "from tensorflow.keras.preprocessing.sequence import pad_sequences\n",
    "\n",
    "import torch\n",
    "from torch.utils.data import DataLoader, Dataset\n",
    "from torch.cuda.amp import autocast, GradScaler  # Mixed precision training\n",
    "\n",
    "import transformers\n",
    "from transformers import BertTokenizer, BertModel,  DistilBertForSequenceClassification, AdamW\n",
    "from transformers import pipeline\n",
    "\n",
    "from sklearn.metrics import f1_score\n",
    "from sklearn.manifold import TSNE\n",
    "from sklearn.decomposition import PCA\n",
    "\n",
    "import matplotlib.pyplot as plt\n",
    "import seaborn as sns\n",
    "\n",
    "\n",
    "import urllib.request\n",
    "import warnings\n",
    "warnings.filterwarnings(\"ignore\", category=UserWarning, module='bs4')\n",
    "\n",
    "print('=3')"
   ]
  },
  {
   "cell_type": "code",
   "execution_count": 8,
   "id": "24f3701f",
   "metadata": {
    "colab": {
     "base_uri": "https://localhost:8080/",
     "height": 206
    },
    "id": "592d898b",
    "outputId": "585d8a50-4497-463e-a0e7-c97b8d09a1cc"
   },
   "outputs": [
    {
     "data": {
      "text/html": [
       "<div>\n",
       "<style scoped>\n",
       "    .dataframe tbody tr th:only-of-type {\n",
       "        vertical-align: middle;\n",
       "    }\n",
       "\n",
       "    .dataframe tbody tr th {\n",
       "        vertical-align: top;\n",
       "    }\n",
       "\n",
       "    .dataframe thead th {\n",
       "        text-align: right;\n",
       "    }\n",
       "</style>\n",
       "<table border=\"1\" class=\"dataframe\">\n",
       "  <thead>\n",
       "    <tr style=\"text-align: right;\">\n",
       "      <th></th>\n",
       "      <th>idx</th>\n",
       "      <th>class</th>\n",
       "      <th>conversation</th>\n",
       "    </tr>\n",
       "  </thead>\n",
       "  <tbody>\n",
       "    <tr>\n",
       "      <th>0</th>\n",
       "      <td>0</td>\n",
       "      <td>협박 대화</td>\n",
       "      <td>지금 너 스스로를 죽여달라고 애원하는 것인가?\\n 아닙니다. 죄송합니다.\\n 죽을 ...</td>\n",
       "    </tr>\n",
       "    <tr>\n",
       "      <th>1</th>\n",
       "      <td>1</td>\n",
       "      <td>협박 대화</td>\n",
       "      <td>길동경찰서입니다.\\n9시 40분 마트에 폭발물을 설치할거다.\\n네?\\n똑바로 들어 ...</td>\n",
       "    </tr>\n",
       "    <tr>\n",
       "      <th>2</th>\n",
       "      <td>2</td>\n",
       "      <td>기타 괴롭힘 대화</td>\n",
       "      <td>너 되게 귀여운거 알지? 나보다 작은 남자는 첨봤어.\\n그만해. 니들 놀리는거 재미...</td>\n",
       "    </tr>\n",
       "    <tr>\n",
       "      <th>3</th>\n",
       "      <td>3</td>\n",
       "      <td>갈취 대화</td>\n",
       "      <td>어이 거기\\n예??\\n너 말이야 너. 이리 오라고\\n무슨 일.\\n너 옷 좋아보인다?...</td>\n",
       "    </tr>\n",
       "    <tr>\n",
       "      <th>4</th>\n",
       "      <td>4</td>\n",
       "      <td>갈취 대화</td>\n",
       "      <td>저기요 혹시 날이 너무 뜨겁잖아요? 저희 회사에서 이 선크림 파는데 한 번 손등에 ...</td>\n",
       "    </tr>\n",
       "  </tbody>\n",
       "</table>\n",
       "</div>"
      ],
      "text/plain": [
       "   idx      class                                       conversation\n",
       "0    0      협박 대화  지금 너 스스로를 죽여달라고 애원하는 것인가?\\n 아닙니다. 죄송합니다.\\n 죽을 ...\n",
       "1    1      협박 대화  길동경찰서입니다.\\n9시 40분 마트에 폭발물을 설치할거다.\\n네?\\n똑바로 들어 ...\n",
       "2    2  기타 괴롭힘 대화  너 되게 귀여운거 알지? 나보다 작은 남자는 첨봤어.\\n그만해. 니들 놀리는거 재미...\n",
       "3    3      갈취 대화  어이 거기\\n예??\\n너 말이야 너. 이리 오라고\\n무슨 일.\\n너 옷 좋아보인다?...\n",
       "4    4      갈취 대화  저기요 혹시 날이 너무 뜨겁잖아요? 저희 회사에서 이 선크림 파는데 한 번 손등에 ..."
      ]
     },
     "execution_count": 8,
     "metadata": {},
     "output_type": "execute_result"
    }
   ],
   "source": [
    "train_data_path ='/aiffel/aiffel/workplace/new_train.csv'\n",
    "train_data = pd.read_csv(train_data_path)\n",
    "train_data.head()"
   ]
  },
  {
   "cell_type": "code",
   "execution_count": 33,
   "id": "16b4d0f5",
   "metadata": {
    "id": "cae89b50"
   },
   "outputs": [],
   "source": [
    "data = train_data.copy()"
   ]
  },
  {
   "cell_type": "code",
   "execution_count": 34,
   "id": "3c6c2430",
   "metadata": {},
   "outputs": [
    {
     "data": {
      "text/html": [
       "<div>\n",
       "<style scoped>\n",
       "    .dataframe tbody tr th:only-of-type {\n",
       "        vertical-align: middle;\n",
       "    }\n",
       "\n",
       "    .dataframe tbody tr th {\n",
       "        vertical-align: top;\n",
       "    }\n",
       "\n",
       "    .dataframe thead th {\n",
       "        text-align: right;\n",
       "    }\n",
       "</style>\n",
       "<table border=\"1\" class=\"dataframe\">\n",
       "  <thead>\n",
       "    <tr style=\"text-align: right;\">\n",
       "      <th></th>\n",
       "      <th>idx</th>\n",
       "      <th>text</th>\n",
       "    </tr>\n",
       "  </thead>\n",
       "  <tbody>\n",
       "    <tr>\n",
       "      <th>0</th>\n",
       "      <td>t_000</td>\n",
       "      <td>아가씨 담배한갑주소 네 4500원입니다 어 네 지갑어디갔지 에이 버스에서 잃어버렸나...</td>\n",
       "    </tr>\n",
       "    <tr>\n",
       "      <th>1</th>\n",
       "      <td>t_001</td>\n",
       "      <td>우리팀에서 다른팀으로 갈 사람 없나? 그럼 영지씨가 가는건 어때?  네? 제가요? ...</td>\n",
       "    </tr>\n",
       "    <tr>\n",
       "      <th>2</th>\n",
       "      <td>t_002</td>\n",
       "      <td>너 오늘 그게 뭐야 네 제가 뭘 잘못했나요.? 제대로 좀 하지 네 똑바로 좀 하지 ...</td>\n",
       "    </tr>\n",
       "    <tr>\n",
       "      <th>3</th>\n",
       "      <td>t_003</td>\n",
       "      <td>이거 들어바 와 이 노래 진짜 좋다 그치 요즘 이 것만 들어 진짜 너무 좋다 내가 ...</td>\n",
       "    </tr>\n",
       "    <tr>\n",
       "      <th>4</th>\n",
       "      <td>t_004</td>\n",
       "      <td>아무튼 앞으로 니가 내 와이파이야. .응 와이파이 온. 켰어. 반말? 주인님이라고도...</td>\n",
       "    </tr>\n",
       "  </tbody>\n",
       "</table>\n",
       "</div>"
      ],
      "text/plain": [
       "     idx                                               text\n",
       "0  t_000  아가씨 담배한갑주소 네 4500원입니다 어 네 지갑어디갔지 에이 버스에서 잃어버렸나...\n",
       "1  t_001  우리팀에서 다른팀으로 갈 사람 없나? 그럼 영지씨가 가는건 어때?  네? 제가요? ...\n",
       "2  t_002  너 오늘 그게 뭐야 네 제가 뭘 잘못했나요.? 제대로 좀 하지 네 똑바로 좀 하지 ...\n",
       "3  t_003  이거 들어바 와 이 노래 진짜 좋다 그치 요즘 이 것만 들어 진짜 너무 좋다 내가 ...\n",
       "4  t_004  아무튼 앞으로 니가 내 와이파이야. .응 와이파이 온. 켰어. 반말? 주인님이라고도..."
      ]
     },
     "execution_count": 34,
     "metadata": {},
     "output_type": "execute_result"
    }
   ],
   "source": [
    "test_data_path ='/aiffel/aiffel/workplace/test.csv'\n",
    "test_data = pd.read_csv(test_data_path)\n",
    "test_data.head()"
   ]
  },
  {
   "cell_type": "code",
   "execution_count": 35,
   "id": "cc5ad980",
   "metadata": {
    "id": "cae89b50"
   },
   "outputs": [],
   "source": [
    "test = test_data.copy()"
   ]
  },
  {
   "cell_type": "markdown",
   "id": "af2ab311",
   "metadata": {
    "id": "872744dc"
   },
   "source": [
    "# Step 2. 데이터 전처리하기\n",
    "### 5) 데이터 증강 외 모두 적용\n",
    "\n",
    "#### **1) 한글 불용어 처리  2) 구두점 처리  3) 중복 공백 제거  4) 양쪽 공백 제거   6) 임베딩 방식(모델에서 처리해줌)**"
   ]
  },
  {
   "cell_type": "code",
   "execution_count": 36,
   "id": "564f62ad",
   "metadata": {
    "colab": {
     "base_uri": "https://localhost:8080/"
    },
    "id": "a21eb0c2",
    "outputId": "c24a4ba8-708f-4c23-9f80-8896b49f92cf"
   },
   "outputs": [
    {
     "name": "stdout",
     "output_type": "stream",
     "text": [
      "샘플 개수: 12092\n"
     ]
    }
   ],
   "source": [
    "num_samples = len(data)\n",
    "print(\"샘플 개수:\", num_samples)"
   ]
  },
  {
   "cell_type": "code",
   "execution_count": 37,
   "id": "a4d5f9c3",
   "metadata": {
    "colab": {
     "base_uri": "https://localhost:8080/"
    },
    "id": "944c9de5",
    "outputId": "c03d0d25-182d-4d18-a6c7-a614d28af608"
   },
   "outputs": [
    {
     "name": "stdout",
     "output_type": "stream",
     "text": [
      "중복된 데이터: {}\n"
     ]
    }
   ],
   "source": [
    "# 중복 확인\n",
    "from collections import Counter\n",
    "\n",
    "data_counts = Counter(data)\n",
    "duplicates = {item: count for item, count in data_counts.items() if count > 1}\n",
    "\n",
    "print(\"중복된 데이터:\", duplicates)  # {1: 2} (1이 2번 등장)"
   ]
  },
  {
   "cell_type": "code",
   "execution_count": 38,
   "id": "dc72b803",
   "metadata": {
    "colab": {
     "base_uri": "https://localhost:8080/"
    },
    "id": "cd2db021",
    "outputId": "e6ab51c4-c0c4-48fb-e22c-ccc80ee3532a"
   },
   "outputs": [
    {
     "name": "stdout",
     "output_type": "stream",
     "text": [
      "class 열에 누락값이 있습니까? False\n",
      "idx 열에 누락값이 있습니까? False\n"
     ]
    }
   ],
   "source": [
    "# 'class' 열과 'idx' 열에 누락값 확인\n",
    "missing_class = data['class'].isnull().any()\n",
    "missing_idx = data['idx'].isnull().any()\n",
    "\n",
    "print(\"class 열에 누락값이 있습니까?\", missing_class)  # True (누락값 있음)\n",
    "print(\"idx 열에 누락값이 있습니까?\", missing_idx)      # True (누락값 있음)\n"
   ]
  },
  {
   "cell_type": "code",
   "execution_count": 39,
   "id": "0a914dd5",
   "metadata": {
    "colab": {
     "base_uri": "https://localhost:8080/"
    },
    "id": "d5c26550",
    "outputId": "3b607f11-73af-4cbb-f414-c13cd6d82fcb"
   },
   "outputs": [
    {
     "name": "stdout",
     "output_type": "stream",
     "text": [
      "                                        conversation  \\\n",
      "0  지금 너 스스로를 죽여달라고 애원하는 것인가?\\n 아닙니다. 죄송합니다.\\n 죽을 ...   \n",
      "1  길동경찰서입니다.\\n9시 40분 마트에 폭발물을 설치할거다.\\n네?\\n똑바로 들어 ...   \n",
      "2  너 되게 귀여운거 알지? 나보다 작은 남자는 첨봤어.\\n그만해. 니들 놀리는거 재미...   \n",
      "3  어이 거기\\n예??\\n너 말이야 너. 이리 오라고\\n무슨 일.\\n너 옷 좋아보인다?...   \n",
      "4  저기요 혹시 날이 너무 뜨겁잖아요? 저희 회사에서 이 선크림 파는데 한 번 손등에 ...   \n",
      "\n",
      "                              conversation_processed  \\\n",
      "0  지금 너 스스로를 죽여달라고 애원하는 것인가 ? 아닙니다 . 죄송합니다 . 죽을 거...   \n",
      "1  길동경찰서입니다 . 9시 40분 마트에 폭발물을 설치할거다 . 네 ? 똑바로 들어 ...   \n",
      "2  너 되게 귀여운거 알지 ? 나보다 작은 남자는 첨봤어 . 그만해 . 니들 놀리는거 ...   \n",
      "3  어이 거기 예 ? ? 너 말이야 너 . 이리 오라고 무슨 일 . 너 옷 좋아보인다 ...   \n",
      "4  저기요 혹시 날이 너무 뜨겁잖아요 ? 저희 회사에서 이 선크림 파는데 한 번 손등에...   \n",
      "\n",
      "                               conversation_filtered  \n",
      "0  지금 너 스스로를 죽여달라고 애원하는 것인가 ? 아닙니다 . 죄송합니다 . 죽을 거...  \n",
      "1  길동경찰서입니다 . 9시 40분 마트에 폭발물을 설치할거다 . 네 ? 똑바로 들어 ...  \n",
      "2  너 되게 귀여운거 알지 ? 나보다 작은 남자는 첨봤어 . 그만해 . 니들 놀리는거 ...  \n",
      "3  어이 거기 예 ? ? 너 말이야 너 . 이리 오라고 무슨 일 . 너 옷 좋아보인다 ...  \n",
      "4  저기요 혹시 날이 너무 뜨겁잖아요 ? 저희 회사에서 선크림 파는데 한 번 손등에 발...  \n"
     ]
    }
   ],
   "source": [
    "import re\n",
    "\n",
    "# 한글 불용어 목록\n",
    "stopwords = [\n",
    "    \"이\", \"그\", \"저\", \"가\", \"을\", \"를\", \"에\", \"의\", \"와\", \"과\", \"들\"\n",
    "]\n",
    "\n",
    "def preprocess_korean_text(data):\n",
    "    processed_texts = []\n",
    "\n",
    "    for sentence in data:\n",
    "        # 구두점 처리\n",
    "        sentence = re.sub(r\"([?.!,])\", r\" \\1 \", sentence)\n",
    "\n",
    "        # 중복 공백 제거\n",
    "        sentence = re.sub(r'\\s+', ' ', sentence)\n",
    "\n",
    "        # 양쪽 공백 제거\n",
    "        sentence = sentence.strip()\n",
    "\n",
    "        processed_texts.append(sentence)\n",
    "\n",
    "    return processed_texts\n",
    "\n",
    "def remove_stopwords(data, stopwords):\n",
    "    filtered_texts = []\n",
    "\n",
    "    for sentence in data:\n",
    "        # 텍스트를 공백으로 분리하여 단어 리스트 생성\n",
    "        words = sentence.split()\n",
    "\n",
    "        # 불용어가 아닌 단어만 필터링\n",
    "        filtered_words = [word for word in words if word not in stopwords]\n",
    "\n",
    "        # 필터링된 단어를 다시 문자열로 결합\n",
    "        filtered_texts.append(' '.join(filtered_words))\n",
    "\n",
    "    return filtered_texts\n",
    "\n",
    "\n",
    "# conversation 열에 대해서만 전처리 및 불용어 제거 적용\n",
    "data['conversation_processed'] = preprocess_korean_text(data['conversation'])\n",
    "data['conversation_filtered'] = remove_stopwords(data['conversation_processed'], stopwords)\n",
    "\n",
    "# 결과 확인\n",
    "print(data[['conversation', 'conversation_processed', 'conversation_filtered']].head())\n"
   ]
  },
  {
   "cell_type": "code",
   "execution_count": 40,
   "id": "ee4424ae",
   "metadata": {
    "colab": {
     "base_uri": "https://localhost:8080/",
     "height": 597
    },
    "id": "bc61a93a",
    "outputId": "160aabf8-93e7-496d-f14c-5399582bbf32"
   },
   "outputs": [
    {
     "data": {
      "text/html": [
       "<div>\n",
       "<style scoped>\n",
       "    .dataframe tbody tr th:only-of-type {\n",
       "        vertical-align: middle;\n",
       "    }\n",
       "\n",
       "    .dataframe tbody tr th {\n",
       "        vertical-align: top;\n",
       "    }\n",
       "\n",
       "    .dataframe thead th {\n",
       "        text-align: right;\n",
       "    }\n",
       "</style>\n",
       "<table border=\"1\" class=\"dataframe\">\n",
       "  <thead>\n",
       "    <tr style=\"text-align: right;\">\n",
       "      <th></th>\n",
       "      <th>idx</th>\n",
       "      <th>class</th>\n",
       "      <th>conversation</th>\n",
       "      <th>conversation_processed</th>\n",
       "      <th>conversation_filtered</th>\n",
       "    </tr>\n",
       "  </thead>\n",
       "  <tbody>\n",
       "    <tr>\n",
       "      <th>0</th>\n",
       "      <td>0</td>\n",
       "      <td>협박 대화</td>\n",
       "      <td>지금 너 스스로를 죽여달라고 애원하는 것인가?\\n 아닙니다. 죄송합니다.\\n 죽을 ...</td>\n",
       "      <td>지금 너 스스로를 죽여달라고 애원하는 것인가 ? 아닙니다 . 죄송합니다 . 죽을 거...</td>\n",
       "      <td>지금 너 스스로를 죽여달라고 애원하는 것인가 ? 아닙니다 . 죄송합니다 . 죽을 거...</td>\n",
       "    </tr>\n",
       "    <tr>\n",
       "      <th>1</th>\n",
       "      <td>1</td>\n",
       "      <td>협박 대화</td>\n",
       "      <td>길동경찰서입니다.\\n9시 40분 마트에 폭발물을 설치할거다.\\n네?\\n똑바로 들어 ...</td>\n",
       "      <td>길동경찰서입니다 . 9시 40분 마트에 폭발물을 설치할거다 . 네 ? 똑바로 들어 ...</td>\n",
       "      <td>길동경찰서입니다 . 9시 40분 마트에 폭발물을 설치할거다 . 네 ? 똑바로 들어 ...</td>\n",
       "    </tr>\n",
       "    <tr>\n",
       "      <th>2</th>\n",
       "      <td>2</td>\n",
       "      <td>기타 괴롭힘 대화</td>\n",
       "      <td>너 되게 귀여운거 알지? 나보다 작은 남자는 첨봤어.\\n그만해. 니들 놀리는거 재미...</td>\n",
       "      <td>너 되게 귀여운거 알지 ? 나보다 작은 남자는 첨봤어 . 그만해 . 니들 놀리는거 ...</td>\n",
       "      <td>너 되게 귀여운거 알지 ? 나보다 작은 남자는 첨봤어 . 그만해 . 니들 놀리는거 ...</td>\n",
       "    </tr>\n",
       "    <tr>\n",
       "      <th>3</th>\n",
       "      <td>3</td>\n",
       "      <td>갈취 대화</td>\n",
       "      <td>어이 거기\\n예??\\n너 말이야 너. 이리 오라고\\n무슨 일.\\n너 옷 좋아보인다?...</td>\n",
       "      <td>어이 거기 예 ? ? 너 말이야 너 . 이리 오라고 무슨 일 . 너 옷 좋아보인다 ...</td>\n",
       "      <td>어이 거기 예 ? ? 너 말이야 너 . 이리 오라고 무슨 일 . 너 옷 좋아보인다 ...</td>\n",
       "    </tr>\n",
       "    <tr>\n",
       "      <th>4</th>\n",
       "      <td>4</td>\n",
       "      <td>갈취 대화</td>\n",
       "      <td>저기요 혹시 날이 너무 뜨겁잖아요? 저희 회사에서 이 선크림 파는데 한 번 손등에 ...</td>\n",
       "      <td>저기요 혹시 날이 너무 뜨겁잖아요 ? 저희 회사에서 이 선크림 파는데 한 번 손등에...</td>\n",
       "      <td>저기요 혹시 날이 너무 뜨겁잖아요 ? 저희 회사에서 선크림 파는데 한 번 손등에 발...</td>\n",
       "    </tr>\n",
       "    <tr>\n",
       "      <th>...</th>\n",
       "      <td>...</td>\n",
       "      <td>...</td>\n",
       "      <td>...</td>\n",
       "      <td>...</td>\n",
       "      <td>...</td>\n",
       "    </tr>\n",
       "    <tr>\n",
       "      <th>12087</th>\n",
       "      <td>12087</td>\n",
       "      <td>일반</td>\n",
       "      <td>미안하다... 나 내일 회사 하루 쉬려고. 회사를? 어...너무 힘들어서 하루 쉬고...</td>\n",
       "      <td>미안하다 . . . 나 내일 회사 하루 쉬려고 . 회사를 ? 어 . . . 너무 힘...</td>\n",
       "      <td>미안하다 . . . 나 내일 회사 하루 쉬려고 . 회사를 ? 어 . . . 너무 힘...</td>\n",
       "    </tr>\n",
       "    <tr>\n",
       "      <th>12088</th>\n",
       "      <td>12088</td>\n",
       "      <td>일반</td>\n",
       "      <td>아~엄마 뭐하는데 이 오밤중에? 난 정말 나간다. 애들처럼 왜 이러냐고? 동네 창피...</td>\n",
       "      <td>아~엄마 뭐하는데 이 오밤중에 ? 난 정말 나간다 . 애들처럼 왜 이러냐고 ? 동네...</td>\n",
       "      <td>아~엄마 뭐하는데 오밤중에 ? 난 정말 나간다 . 애들처럼 왜 이러냐고 ? 동네 창...</td>\n",
       "    </tr>\n",
       "    <tr>\n",
       "      <th>12089</th>\n",
       "      <td>12089</td>\n",
       "      <td>일반</td>\n",
       "      <td>니 방에 들어가, 자 임마. 엄마 갑자기 짐 들고 사라질까봐 불안해서 못 나가. 겁...</td>\n",
       "      <td>니 방에 들어가 , 자 임마 . 엄마 갑자기 짐 들고 사라질까봐 불안해서 못 나가 ...</td>\n",
       "      <td>니 방에 들어가 , 자 임마 . 엄마 갑자기 짐 들고 사라질까봐 불안해서 못 나가 ...</td>\n",
       "    </tr>\n",
       "    <tr>\n",
       "      <th>12090</th>\n",
       "      <td>12090</td>\n",
       "      <td>일반</td>\n",
       "      <td>어, 왜 일어나있어? 힘든데 누워있지. 아니, 이젠 괜찮아 오빠. 뭐가 괜찮아? 어...</td>\n",
       "      <td>어 , 왜 일어나있어 ? 힘든데 누워있지 . 아니 , 이젠 괜찮아 오빠 . 뭐가 괜...</td>\n",
       "      <td>어 , 왜 일어나있어 ? 힘든데 누워있지 . 아니 , 이젠 괜찮아 오빠 . 뭐가 괜...</td>\n",
       "    </tr>\n",
       "    <tr>\n",
       "      <th>12091</th>\n",
       "      <td>12091</td>\n",
       "      <td>일반</td>\n",
       "      <td>오랜만에 병원 밖이라도 나가서 점심을 먹으니까 아주 꿀맛이다. 며칠에 한번 집에 들...</td>\n",
       "      <td>오랜만에 병원 밖이라도 나가서 점심을 먹으니까 아주 꿀맛이다 . 며칠에 한번 집에 ...</td>\n",
       "      <td>오랜만에 병원 밖이라도 나가서 점심을 먹으니까 아주 꿀맛이다 . 며칠에 한번 집에 ...</td>\n",
       "    </tr>\n",
       "  </tbody>\n",
       "</table>\n",
       "<p>12092 rows × 5 columns</p>\n",
       "</div>"
      ],
      "text/plain": [
       "         idx      class                                       conversation  \\\n",
       "0          0      협박 대화  지금 너 스스로를 죽여달라고 애원하는 것인가?\\n 아닙니다. 죄송합니다.\\n 죽을 ...   \n",
       "1          1      협박 대화  길동경찰서입니다.\\n9시 40분 마트에 폭발물을 설치할거다.\\n네?\\n똑바로 들어 ...   \n",
       "2          2  기타 괴롭힘 대화  너 되게 귀여운거 알지? 나보다 작은 남자는 첨봤어.\\n그만해. 니들 놀리는거 재미...   \n",
       "3          3      갈취 대화  어이 거기\\n예??\\n너 말이야 너. 이리 오라고\\n무슨 일.\\n너 옷 좋아보인다?...   \n",
       "4          4      갈취 대화  저기요 혹시 날이 너무 뜨겁잖아요? 저희 회사에서 이 선크림 파는데 한 번 손등에 ...   \n",
       "...      ...        ...                                                ...   \n",
       "12087  12087         일반  미안하다... 나 내일 회사 하루 쉬려고. 회사를? 어...너무 힘들어서 하루 쉬고...   \n",
       "12088  12088         일반  아~엄마 뭐하는데 이 오밤중에? 난 정말 나간다. 애들처럼 왜 이러냐고? 동네 창피...   \n",
       "12089  12089         일반  니 방에 들어가, 자 임마. 엄마 갑자기 짐 들고 사라질까봐 불안해서 못 나가. 겁...   \n",
       "12090  12090         일반  어, 왜 일어나있어? 힘든데 누워있지. 아니, 이젠 괜찮아 오빠. 뭐가 괜찮아? 어...   \n",
       "12091  12091         일반  오랜만에 병원 밖이라도 나가서 점심을 먹으니까 아주 꿀맛이다. 며칠에 한번 집에 들...   \n",
       "\n",
       "                                  conversation_processed  \\\n",
       "0      지금 너 스스로를 죽여달라고 애원하는 것인가 ? 아닙니다 . 죄송합니다 . 죽을 거...   \n",
       "1      길동경찰서입니다 . 9시 40분 마트에 폭발물을 설치할거다 . 네 ? 똑바로 들어 ...   \n",
       "2      너 되게 귀여운거 알지 ? 나보다 작은 남자는 첨봤어 . 그만해 . 니들 놀리는거 ...   \n",
       "3      어이 거기 예 ? ? 너 말이야 너 . 이리 오라고 무슨 일 . 너 옷 좋아보인다 ...   \n",
       "4      저기요 혹시 날이 너무 뜨겁잖아요 ? 저희 회사에서 이 선크림 파는데 한 번 손등에...   \n",
       "...                                                  ...   \n",
       "12087  미안하다 . . . 나 내일 회사 하루 쉬려고 . 회사를 ? 어 . . . 너무 힘...   \n",
       "12088  아~엄마 뭐하는데 이 오밤중에 ? 난 정말 나간다 . 애들처럼 왜 이러냐고 ? 동네...   \n",
       "12089  니 방에 들어가 , 자 임마 . 엄마 갑자기 짐 들고 사라질까봐 불안해서 못 나가 ...   \n",
       "12090  어 , 왜 일어나있어 ? 힘든데 누워있지 . 아니 , 이젠 괜찮아 오빠 . 뭐가 괜...   \n",
       "12091  오랜만에 병원 밖이라도 나가서 점심을 먹으니까 아주 꿀맛이다 . 며칠에 한번 집에 ...   \n",
       "\n",
       "                                   conversation_filtered  \n",
       "0      지금 너 스스로를 죽여달라고 애원하는 것인가 ? 아닙니다 . 죄송합니다 . 죽을 거...  \n",
       "1      길동경찰서입니다 . 9시 40분 마트에 폭발물을 설치할거다 . 네 ? 똑바로 들어 ...  \n",
       "2      너 되게 귀여운거 알지 ? 나보다 작은 남자는 첨봤어 . 그만해 . 니들 놀리는거 ...  \n",
       "3      어이 거기 예 ? ? 너 말이야 너 . 이리 오라고 무슨 일 . 너 옷 좋아보인다 ...  \n",
       "4      저기요 혹시 날이 너무 뜨겁잖아요 ? 저희 회사에서 선크림 파는데 한 번 손등에 발...  \n",
       "...                                                  ...  \n",
       "12087  미안하다 . . . 나 내일 회사 하루 쉬려고 . 회사를 ? 어 . . . 너무 힘...  \n",
       "12088  아~엄마 뭐하는데 오밤중에 ? 난 정말 나간다 . 애들처럼 왜 이러냐고 ? 동네 창...  \n",
       "12089  니 방에 들어가 , 자 임마 . 엄마 갑자기 짐 들고 사라질까봐 불안해서 못 나가 ...  \n",
       "12090  어 , 왜 일어나있어 ? 힘든데 누워있지 . 아니 , 이젠 괜찮아 오빠 . 뭐가 괜...  \n",
       "12091  오랜만에 병원 밖이라도 나가서 점심을 먹으니까 아주 꿀맛이다 . 며칠에 한번 집에 ...  \n",
       "\n",
       "[12092 rows x 5 columns]"
      ]
     },
     "execution_count": 40,
     "metadata": {},
     "output_type": "execute_result"
    }
   ],
   "source": [
    "data"
   ]
  },
  {
   "cell_type": "code",
   "execution_count": 41,
   "id": "c8a06e3d",
   "metadata": {
    "colab": {
     "base_uri": "https://localhost:8080/",
     "height": 423
    },
    "id": "32bee70e",
    "outputId": "ab9a82f1-77c9-4c43-de23-7916641be33b"
   },
   "outputs": [
    {
     "data": {
      "text/html": [
       "<div>\n",
       "<style scoped>\n",
       "    .dataframe tbody tr th:only-of-type {\n",
       "        vertical-align: middle;\n",
       "    }\n",
       "\n",
       "    .dataframe tbody tr th {\n",
       "        vertical-align: top;\n",
       "    }\n",
       "\n",
       "    .dataframe thead th {\n",
       "        text-align: right;\n",
       "    }\n",
       "</style>\n",
       "<table border=\"1\" class=\"dataframe\">\n",
       "  <thead>\n",
       "    <tr style=\"text-align: right;\">\n",
       "      <th></th>\n",
       "      <th>idx</th>\n",
       "      <th>class</th>\n",
       "      <th>conversation_filtered</th>\n",
       "    </tr>\n",
       "  </thead>\n",
       "  <tbody>\n",
       "    <tr>\n",
       "      <th>0</th>\n",
       "      <td>0</td>\n",
       "      <td>협박 대화</td>\n",
       "      <td>지금 너 스스로를 죽여달라고 애원하는 것인가 ? 아닙니다 . 죄송합니다 . 죽을 거...</td>\n",
       "    </tr>\n",
       "    <tr>\n",
       "      <th>1</th>\n",
       "      <td>1</td>\n",
       "      <td>협박 대화</td>\n",
       "      <td>길동경찰서입니다 . 9시 40분 마트에 폭발물을 설치할거다 . 네 ? 똑바로 들어 ...</td>\n",
       "    </tr>\n",
       "    <tr>\n",
       "      <th>2</th>\n",
       "      <td>2</td>\n",
       "      <td>기타 괴롭힘 대화</td>\n",
       "      <td>너 되게 귀여운거 알지 ? 나보다 작은 남자는 첨봤어 . 그만해 . 니들 놀리는거 ...</td>\n",
       "    </tr>\n",
       "    <tr>\n",
       "      <th>3</th>\n",
       "      <td>3</td>\n",
       "      <td>갈취 대화</td>\n",
       "      <td>어이 거기 예 ? ? 너 말이야 너 . 이리 오라고 무슨 일 . 너 옷 좋아보인다 ...</td>\n",
       "    </tr>\n",
       "    <tr>\n",
       "      <th>4</th>\n",
       "      <td>4</td>\n",
       "      <td>갈취 대화</td>\n",
       "      <td>저기요 혹시 날이 너무 뜨겁잖아요 ? 저희 회사에서 선크림 파는데 한 번 손등에 발...</td>\n",
       "    </tr>\n",
       "    <tr>\n",
       "      <th>...</th>\n",
       "      <td>...</td>\n",
       "      <td>...</td>\n",
       "      <td>...</td>\n",
       "    </tr>\n",
       "    <tr>\n",
       "      <th>12087</th>\n",
       "      <td>12087</td>\n",
       "      <td>일반</td>\n",
       "      <td>미안하다 . . . 나 내일 회사 하루 쉬려고 . 회사를 ? 어 . . . 너무 힘...</td>\n",
       "    </tr>\n",
       "    <tr>\n",
       "      <th>12088</th>\n",
       "      <td>12088</td>\n",
       "      <td>일반</td>\n",
       "      <td>아~엄마 뭐하는데 오밤중에 ? 난 정말 나간다 . 애들처럼 왜 이러냐고 ? 동네 창...</td>\n",
       "    </tr>\n",
       "    <tr>\n",
       "      <th>12089</th>\n",
       "      <td>12089</td>\n",
       "      <td>일반</td>\n",
       "      <td>니 방에 들어가 , 자 임마 . 엄마 갑자기 짐 들고 사라질까봐 불안해서 못 나가 ...</td>\n",
       "    </tr>\n",
       "    <tr>\n",
       "      <th>12090</th>\n",
       "      <td>12090</td>\n",
       "      <td>일반</td>\n",
       "      <td>어 , 왜 일어나있어 ? 힘든데 누워있지 . 아니 , 이젠 괜찮아 오빠 . 뭐가 괜...</td>\n",
       "    </tr>\n",
       "    <tr>\n",
       "      <th>12091</th>\n",
       "      <td>12091</td>\n",
       "      <td>일반</td>\n",
       "      <td>오랜만에 병원 밖이라도 나가서 점심을 먹으니까 아주 꿀맛이다 . 며칠에 한번 집에 ...</td>\n",
       "    </tr>\n",
       "  </tbody>\n",
       "</table>\n",
       "<p>12092 rows × 3 columns</p>\n",
       "</div>"
      ],
      "text/plain": [
       "         idx      class                              conversation_filtered\n",
       "0          0      협박 대화  지금 너 스스로를 죽여달라고 애원하는 것인가 ? 아닙니다 . 죄송합니다 . 죽을 거...\n",
       "1          1      협박 대화  길동경찰서입니다 . 9시 40분 마트에 폭발물을 설치할거다 . 네 ? 똑바로 들어 ...\n",
       "2          2  기타 괴롭힘 대화  너 되게 귀여운거 알지 ? 나보다 작은 남자는 첨봤어 . 그만해 . 니들 놀리는거 ...\n",
       "3          3      갈취 대화  어이 거기 예 ? ? 너 말이야 너 . 이리 오라고 무슨 일 . 너 옷 좋아보인다 ...\n",
       "4          4      갈취 대화  저기요 혹시 날이 너무 뜨겁잖아요 ? 저희 회사에서 선크림 파는데 한 번 손등에 발...\n",
       "...      ...        ...                                                ...\n",
       "12087  12087         일반  미안하다 . . . 나 내일 회사 하루 쉬려고 . 회사를 ? 어 . . . 너무 힘...\n",
       "12088  12088         일반  아~엄마 뭐하는데 오밤중에 ? 난 정말 나간다 . 애들처럼 왜 이러냐고 ? 동네 창...\n",
       "12089  12089         일반  니 방에 들어가 , 자 임마 . 엄마 갑자기 짐 들고 사라질까봐 불안해서 못 나가 ...\n",
       "12090  12090         일반  어 , 왜 일어나있어 ? 힘든데 누워있지 . 아니 , 이젠 괜찮아 오빠 . 뭐가 괜...\n",
       "12091  12091         일반  오랜만에 병원 밖이라도 나가서 점심을 먹으니까 아주 꿀맛이다 . 며칠에 한번 집에 ...\n",
       "\n",
       "[12092 rows x 3 columns]"
      ]
     },
     "execution_count": 41,
     "metadata": {},
     "output_type": "execute_result"
    }
   ],
   "source": [
    "# Q열과 A열 삭제\n",
    "data = data.drop(columns=['conversation', 'conversation_processed'])\n",
    "data"
   ]
  },
  {
   "cell_type": "code",
   "execution_count": 42,
   "id": "8d12cd8c",
   "metadata": {
    "colab": {
     "base_uri": "https://localhost:8080/",
     "height": 423
    },
    "id": "9f2e8849",
    "outputId": "ade80499-9d2b-44eb-c93d-b08736c8c87b"
   },
   "outputs": [
    {
     "data": {
      "text/html": [
       "<div>\n",
       "<style scoped>\n",
       "    .dataframe tbody tr th:only-of-type {\n",
       "        vertical-align: middle;\n",
       "    }\n",
       "\n",
       "    .dataframe tbody tr th {\n",
       "        vertical-align: top;\n",
       "    }\n",
       "\n",
       "    .dataframe thead th {\n",
       "        text-align: right;\n",
       "    }\n",
       "</style>\n",
       "<table border=\"1\" class=\"dataframe\">\n",
       "  <thead>\n",
       "    <tr style=\"text-align: right;\">\n",
       "      <th></th>\n",
       "      <th>idx</th>\n",
       "      <th>class</th>\n",
       "      <th>conversation</th>\n",
       "    </tr>\n",
       "  </thead>\n",
       "  <tbody>\n",
       "    <tr>\n",
       "      <th>0</th>\n",
       "      <td>0</td>\n",
       "      <td>협박 대화</td>\n",
       "      <td>지금 너 스스로를 죽여달라고 애원하는 것인가 ? 아닙니다 . 죄송합니다 . 죽을 거...</td>\n",
       "    </tr>\n",
       "    <tr>\n",
       "      <th>1</th>\n",
       "      <td>1</td>\n",
       "      <td>협박 대화</td>\n",
       "      <td>길동경찰서입니다 . 9시 40분 마트에 폭발물을 설치할거다 . 네 ? 똑바로 들어 ...</td>\n",
       "    </tr>\n",
       "    <tr>\n",
       "      <th>2</th>\n",
       "      <td>2</td>\n",
       "      <td>기타 괴롭힘 대화</td>\n",
       "      <td>너 되게 귀여운거 알지 ? 나보다 작은 남자는 첨봤어 . 그만해 . 니들 놀리는거 ...</td>\n",
       "    </tr>\n",
       "    <tr>\n",
       "      <th>3</th>\n",
       "      <td>3</td>\n",
       "      <td>갈취 대화</td>\n",
       "      <td>어이 거기 예 ? ? 너 말이야 너 . 이리 오라고 무슨 일 . 너 옷 좋아보인다 ...</td>\n",
       "    </tr>\n",
       "    <tr>\n",
       "      <th>4</th>\n",
       "      <td>4</td>\n",
       "      <td>갈취 대화</td>\n",
       "      <td>저기요 혹시 날이 너무 뜨겁잖아요 ? 저희 회사에서 선크림 파는데 한 번 손등에 발...</td>\n",
       "    </tr>\n",
       "    <tr>\n",
       "      <th>...</th>\n",
       "      <td>...</td>\n",
       "      <td>...</td>\n",
       "      <td>...</td>\n",
       "    </tr>\n",
       "    <tr>\n",
       "      <th>12087</th>\n",
       "      <td>12087</td>\n",
       "      <td>일반</td>\n",
       "      <td>미안하다 . . . 나 내일 회사 하루 쉬려고 . 회사를 ? 어 . . . 너무 힘...</td>\n",
       "    </tr>\n",
       "    <tr>\n",
       "      <th>12088</th>\n",
       "      <td>12088</td>\n",
       "      <td>일반</td>\n",
       "      <td>아~엄마 뭐하는데 오밤중에 ? 난 정말 나간다 . 애들처럼 왜 이러냐고 ? 동네 창...</td>\n",
       "    </tr>\n",
       "    <tr>\n",
       "      <th>12089</th>\n",
       "      <td>12089</td>\n",
       "      <td>일반</td>\n",
       "      <td>니 방에 들어가 , 자 임마 . 엄마 갑자기 짐 들고 사라질까봐 불안해서 못 나가 ...</td>\n",
       "    </tr>\n",
       "    <tr>\n",
       "      <th>12090</th>\n",
       "      <td>12090</td>\n",
       "      <td>일반</td>\n",
       "      <td>어 , 왜 일어나있어 ? 힘든데 누워있지 . 아니 , 이젠 괜찮아 오빠 . 뭐가 괜...</td>\n",
       "    </tr>\n",
       "    <tr>\n",
       "      <th>12091</th>\n",
       "      <td>12091</td>\n",
       "      <td>일반</td>\n",
       "      <td>오랜만에 병원 밖이라도 나가서 점심을 먹으니까 아주 꿀맛이다 . 며칠에 한번 집에 ...</td>\n",
       "    </tr>\n",
       "  </tbody>\n",
       "</table>\n",
       "<p>12092 rows × 3 columns</p>\n",
       "</div>"
      ],
      "text/plain": [
       "         idx      class                                       conversation\n",
       "0          0      협박 대화  지금 너 스스로를 죽여달라고 애원하는 것인가 ? 아닙니다 . 죄송합니다 . 죽을 거...\n",
       "1          1      협박 대화  길동경찰서입니다 . 9시 40분 마트에 폭발물을 설치할거다 . 네 ? 똑바로 들어 ...\n",
       "2          2  기타 괴롭힘 대화  너 되게 귀여운거 알지 ? 나보다 작은 남자는 첨봤어 . 그만해 . 니들 놀리는거 ...\n",
       "3          3      갈취 대화  어이 거기 예 ? ? 너 말이야 너 . 이리 오라고 무슨 일 . 너 옷 좋아보인다 ...\n",
       "4          4      갈취 대화  저기요 혹시 날이 너무 뜨겁잖아요 ? 저희 회사에서 선크림 파는데 한 번 손등에 발...\n",
       "...      ...        ...                                                ...\n",
       "12087  12087         일반  미안하다 . . . 나 내일 회사 하루 쉬려고 . 회사를 ? 어 . . . 너무 힘...\n",
       "12088  12088         일반  아~엄마 뭐하는데 오밤중에 ? 난 정말 나간다 . 애들처럼 왜 이러냐고 ? 동네 창...\n",
       "12089  12089         일반  니 방에 들어가 , 자 임마 . 엄마 갑자기 짐 들고 사라질까봐 불안해서 못 나가 ...\n",
       "12090  12090         일반  어 , 왜 일어나있어 ? 힘든데 누워있지 . 아니 , 이젠 괜찮아 오빠 . 뭐가 괜...\n",
       "12091  12091         일반  오랜만에 병원 밖이라도 나가서 점심을 먹으니까 아주 꿀맛이다 . 며칠에 한번 집에 ...\n",
       "\n",
       "[12092 rows x 3 columns]"
      ]
     },
     "execution_count": 42,
     "metadata": {},
     "output_type": "execute_result"
    }
   ],
   "source": [
    "# 열 이름 변경\n",
    "data = data.rename(columns={'conversation_filtered': 'conversation'})\n",
    "data\n"
   ]
  },
  {
   "cell_type": "code",
   "execution_count": 43,
   "id": "f9846477",
   "metadata": {
    "colab": {
     "base_uri": "https://localhost:8080/",
     "height": 423
    },
    "id": "EGx_TFyU5KoH",
    "outputId": "f70e3fef-1575-4ca0-a21d-a9771e45a598"
   },
   "outputs": [
    {
     "data": {
      "text/html": [
       "<div>\n",
       "<style scoped>\n",
       "    .dataframe tbody tr th:only-of-type {\n",
       "        vertical-align: middle;\n",
       "    }\n",
       "\n",
       "    .dataframe tbody tr th {\n",
       "        vertical-align: top;\n",
       "    }\n",
       "\n",
       "    .dataframe thead th {\n",
       "        text-align: right;\n",
       "    }\n",
       "</style>\n",
       "<table border=\"1\" class=\"dataframe\">\n",
       "  <thead>\n",
       "    <tr style=\"text-align: right;\">\n",
       "      <th></th>\n",
       "      <th>idx</th>\n",
       "      <th>class_label</th>\n",
       "      <th>conversation</th>\n",
       "    </tr>\n",
       "  </thead>\n",
       "  <tbody>\n",
       "    <tr>\n",
       "      <th>0</th>\n",
       "      <td>0</td>\n",
       "      <td>협박 대화</td>\n",
       "      <td>지금 너 스스로를 죽여달라고 애원하는 것인가 ? 아닙니다 . 죄송합니다 . 죽을 거...</td>\n",
       "    </tr>\n",
       "    <tr>\n",
       "      <th>1</th>\n",
       "      <td>1</td>\n",
       "      <td>협박 대화</td>\n",
       "      <td>길동경찰서입니다 . 9시 40분 마트에 폭발물을 설치할거다 . 네 ? 똑바로 들어 ...</td>\n",
       "    </tr>\n",
       "    <tr>\n",
       "      <th>2</th>\n",
       "      <td>2</td>\n",
       "      <td>기타 괴롭힘 대화</td>\n",
       "      <td>너 되게 귀여운거 알지 ? 나보다 작은 남자는 첨봤어 . 그만해 . 니들 놀리는거 ...</td>\n",
       "    </tr>\n",
       "    <tr>\n",
       "      <th>3</th>\n",
       "      <td>3</td>\n",
       "      <td>갈취 대화</td>\n",
       "      <td>어이 거기 예 ? ? 너 말이야 너 . 이리 오라고 무슨 일 . 너 옷 좋아보인다 ...</td>\n",
       "    </tr>\n",
       "    <tr>\n",
       "      <th>4</th>\n",
       "      <td>4</td>\n",
       "      <td>갈취 대화</td>\n",
       "      <td>저기요 혹시 날이 너무 뜨겁잖아요 ? 저희 회사에서 선크림 파는데 한 번 손등에 발...</td>\n",
       "    </tr>\n",
       "    <tr>\n",
       "      <th>...</th>\n",
       "      <td>...</td>\n",
       "      <td>...</td>\n",
       "      <td>...</td>\n",
       "    </tr>\n",
       "    <tr>\n",
       "      <th>12087</th>\n",
       "      <td>12087</td>\n",
       "      <td>일반</td>\n",
       "      <td>미안하다 . . . 나 내일 회사 하루 쉬려고 . 회사를 ? 어 . . . 너무 힘...</td>\n",
       "    </tr>\n",
       "    <tr>\n",
       "      <th>12088</th>\n",
       "      <td>12088</td>\n",
       "      <td>일반</td>\n",
       "      <td>아~엄마 뭐하는데 오밤중에 ? 난 정말 나간다 . 애들처럼 왜 이러냐고 ? 동네 창...</td>\n",
       "    </tr>\n",
       "    <tr>\n",
       "      <th>12089</th>\n",
       "      <td>12089</td>\n",
       "      <td>일반</td>\n",
       "      <td>니 방에 들어가 , 자 임마 . 엄마 갑자기 짐 들고 사라질까봐 불안해서 못 나가 ...</td>\n",
       "    </tr>\n",
       "    <tr>\n",
       "      <th>12090</th>\n",
       "      <td>12090</td>\n",
       "      <td>일반</td>\n",
       "      <td>어 , 왜 일어나있어 ? 힘든데 누워있지 . 아니 , 이젠 괜찮아 오빠 . 뭐가 괜...</td>\n",
       "    </tr>\n",
       "    <tr>\n",
       "      <th>12091</th>\n",
       "      <td>12091</td>\n",
       "      <td>일반</td>\n",
       "      <td>오랜만에 병원 밖이라도 나가서 점심을 먹으니까 아주 꿀맛이다 . 며칠에 한번 집에 ...</td>\n",
       "    </tr>\n",
       "  </tbody>\n",
       "</table>\n",
       "<p>12092 rows × 3 columns</p>\n",
       "</div>"
      ],
      "text/plain": [
       "         idx class_label                                       conversation\n",
       "0          0       협박 대화  지금 너 스스로를 죽여달라고 애원하는 것인가 ? 아닙니다 . 죄송합니다 . 죽을 거...\n",
       "1          1       협박 대화  길동경찰서입니다 . 9시 40분 마트에 폭발물을 설치할거다 . 네 ? 똑바로 들어 ...\n",
       "2          2   기타 괴롭힘 대화  너 되게 귀여운거 알지 ? 나보다 작은 남자는 첨봤어 . 그만해 . 니들 놀리는거 ...\n",
       "3          3       갈취 대화  어이 거기 예 ? ? 너 말이야 너 . 이리 오라고 무슨 일 . 너 옷 좋아보인다 ...\n",
       "4          4       갈취 대화  저기요 혹시 날이 너무 뜨겁잖아요 ? 저희 회사에서 선크림 파는데 한 번 손등에 발...\n",
       "...      ...         ...                                                ...\n",
       "12087  12087          일반  미안하다 . . . 나 내일 회사 하루 쉬려고 . 회사를 ? 어 . . . 너무 힘...\n",
       "12088  12088          일반  아~엄마 뭐하는데 오밤중에 ? 난 정말 나간다 . 애들처럼 왜 이러냐고 ? 동네 창...\n",
       "12089  12089          일반  니 방에 들어가 , 자 임마 . 엄마 갑자기 짐 들고 사라질까봐 불안해서 못 나가 ...\n",
       "12090  12090          일반  어 , 왜 일어나있어 ? 힘든데 누워있지 . 아니 , 이젠 괜찮아 오빠 . 뭐가 괜...\n",
       "12091  12091          일반  오랜만에 병원 밖이라도 나가서 점심을 먹으니까 아주 꿀맛이다 . 며칠에 한번 집에 ...\n",
       "\n",
       "[12092 rows x 3 columns]"
      ]
     },
     "execution_count": 43,
     "metadata": {},
     "output_type": "execute_result"
    }
   ],
   "source": [
    "# 열 이름 변경\n",
    "data = data.rename(columns={'class': 'class_label'})\n",
    "data"
   ]
  },
  {
   "cell_type": "code",
   "execution_count": 44,
   "id": "e0922202",
   "metadata": {
    "colab": {
     "base_uri": "https://localhost:8080/",
     "height": 997
    },
    "id": "e628f4d3",
    "outputId": "2ea30aee-0a55-4afe-e407-3ec7366f7ba0"
   },
   "outputs": [
    {
     "name": "stdout",
     "output_type": "stream",
     "text": [
      "대화의 최소 길이 : 8\n",
      "대화의 최대 길이 : 305\n",
      "대화의 평균 길이 : 55.55946080052927\n"
     ]
    },
    {
     "data": {
      "image/png": "[encoded data removed]",
      "text/plain": [
       "<Figure size 432x288 with 1 Axes>"
      ]
     },
     "metadata": {
      "needs_background": "light"
     },
     "output_type": "display_data"
    },
    {
     "data": {
      "image/png": "[encoded data removed]",
      "text/plain": [
       "<Figure size 432x288 with 1 Axes>"
      ]
     },
     "metadata": {
      "needs_background": "light"
     },
     "output_type": "display_data"
    }
   ],
   "source": [
    "# 길이 분포 출력\n",
    "conversation_len = [len(s.split()) for s in data['conversation']]\n",
    "class_label_len = [len(s.split()) for s in data['class_label']]\n",
    "\n",
    "print('대화의 최소 길이 : {}'.format(np.min(conversation_len)))\n",
    "print('대화의 최대 길이 : {}'.format(np.max(conversation_len)))\n",
    "print('대화의 평균 길이 : {}'.format(np.mean(conversation_len)))\n",
    "\n",
    "# 길이 분포 시각화\n",
    "plt.subplot(1, 1, 1)\n",
    "plt.boxplot(conversation_len)\n",
    "plt.title('Conversation')\n",
    "\n",
    "plt.tight_layout()\n",
    "plt.show()\n",
    "\n",
    "plt.title('Conversation Length Distribution')\n",
    "plt.hist(conversation_len, bins=40)\n",
    "plt.xlabel('Length of Samples')\n",
    "plt.ylabel('Number of Samples')\n",
    "plt.show()\n"
   ]
  },
  {
   "cell_type": "code",
   "execution_count": 45,
   "id": "4c27e8f4",
   "metadata": {
    "colab": {
     "base_uri": "https://localhost:8080/"
    },
    "id": "a049fb74",
    "outputId": "05d2510e-83fe-4fe0-fa84-bfb5ce9ab237",
    "scrolled": true
   },
   "outputs": [
    {
     "name": "stdout",
     "output_type": "stream",
     "text": [
      "120\n"
     ]
    }
   ],
   "source": [
    "# 샘플의 최대 허용 길이 또는 패딩 후의 최종 길이\n",
    "MAX_LENGTH = 120\n",
    "print(MAX_LENGTH)"
   ]
  },
  {
   "cell_type": "markdown",
   "id": "e3e7c5a0",
   "metadata": {
    "id": "5c946afc"
   },
   "source": [
    "# (사용x)Step 3. SubwordTextEncoder 사용하기\n",
    "#### BERT의 토크나이저는 이미 광범위한 텍스트 데이터로 **학습된 단어장을 포함하고 있으며, 문장을 정수로 인코딩하고 패딩하는 기능도 포함**되어 있습니다.  \n",
    "\n",
    "KLUE-BERT와 같은 사전 학습된 BERT 모델을 사용하면,  \n",
    "**단어장을 만들고 정수 인코딩 및 패딩을 처리하는 과정은 필요하지 않습니다.**\n",
    "\n"
   ]
  },
  {
   "cell_type": "markdown",
   "id": "fe74be44",
   "metadata": {
    "id": "94befb17"
   },
   "source": [
    "#### 1. 단어장(Vocabulary) 만들기"
   ]
  },
  {
   "cell_type": "markdown",
   "id": "9b5da37e",
   "metadata": {
    "id": "ace9f9a9"
   },
   "source": [
    "#### 2. 각 단어를 고유한 정수로 인코딩(Integer encoding) & 패딩(Padding)"
   ]
  },
  {
   "cell_type": "code",
   "execution_count": 46,
   "id": "c1cf559d",
   "metadata": {
    "colab": {
     "base_uri": "https://localhost:8080/"
    },
    "id": "D--w3pPuwWfy",
    "outputId": "1ed0b6c2-590b-4c35-9bc0-4446c16ebe43"
   },
   "outputs": [],
   "source": [
    "# print(conversation[2])\n",
    "# print(class_label[2])"
   ]
  },
  {
   "cell_type": "code",
   "execution_count": 47,
   "id": "949abafe",
   "metadata": {
    "id": "0995bfe0"
   },
   "outputs": [
    {
     "data": {
      "text/plain": [
       "\"\\nBATCH_SIZE = 64\\nBUFFER_SIZE = 20000\\n\\n# 디코더는 이전의 target을 다음의 input으로 사용합니다.\\n# 이에 따라 outputs에서는 START_TOKEN을 제거하겠습니다.\\ndataset = tf.data.Dataset.from_tensor_slices((\\n    {\\n        'inputs': conversation,\\n        'dec_inputs': class_label[:, :-1]\\n    },\\n    {\\n        'outputs': class_label[:, 1:]\\n    },\\n))\\n\\ndataset = dataset.cache()\\ndataset = dataset.shuffle(BUFFER_SIZE)\\ndataset = dataset.batch(BATCH_SIZE)\\ndataset = dataset.prefetch(tf.data.experimental.AUTOTUNE)\\n\""
      ]
     },
     "execution_count": 47,
     "metadata": {},
     "output_type": "execute_result"
    }
   ],
   "source": [
    "'''\n",
    "BATCH_SIZE = 64\n",
    "BUFFER_SIZE = 20000\n",
    "\n",
    "# 디코더는 이전의 target을 다음의 input으로 사용합니다.\n",
    "# 이에 따라 outputs에서는 START_TOKEN을 제거하겠습니다.\n",
    "dataset = tf.data.Dataset.from_tensor_slices((\n",
    "    {\n",
    "        'inputs': conversation,\n",
    "        'dec_inputs': class_label[:, :-1]\n",
    "    },\n",
    "    {\n",
    "        'outputs': class_label[:, 1:]\n",
    "    },\n",
    "))\n",
    "\n",
    "dataset = dataset.cache()\n",
    "dataset = dataset.shuffle(BUFFER_SIZE)\n",
    "dataset = dataset.batch(BATCH_SIZE)\n",
    "dataset = dataset.prefetch(tf.data.experimental.AUTOTUNE)\n",
    "'''"
   ]
  },
  {
   "cell_type": "markdown",
   "id": "3e4655ca",
   "metadata": {
    "id": "Zs2GieLtsdHL"
   },
   "source": []
  },
  {
   "cell_type": "markdown",
   "id": "ad49bfae",
   "metadata": {
    "id": "vlililoX0NF1"
   },
   "source": []
  },
  {
   "cell_type": "code",
   "execution_count": 48,
   "id": "8fe76df5",
   "metadata": {
    "colab": {
     "base_uri": "https://localhost:8080/"
    },
    "id": "A4aHf6I70Nnk",
    "outputId": "61130b05-c8b9-4b06-9e34-e923fad9e33c"
   },
   "outputs": [
    {
     "name": "stderr",
     "output_type": "stream",
     "text": [
      "\u001b[34m\u001b[1mwandb\u001b[0m: \u001b[33mWARNING\u001b[0m Calling wandb.login() after wandb.init() has no effect.\n"
     ]
    },
    {
     "data": {
      "text/plain": [
       "True"
      ]
     },
     "execution_count": 48,
     "metadata": {},
     "output_type": "execute_result"
    }
   ],
   "source": [
    "import wandb\n",
    "wandb.login()\n"
   ]
  },
  {
   "cell_type": "code",
   "execution_count": 49,
   "id": "eb56f618",
   "metadata": {
    "colab": {
     "base_uri": "https://localhost:8080/",
     "height": 630,
     "referenced_widgets": [
      "5f3d9aa636504613b7d0551e9655f432",
      "c64d6116a35640908f9bf2b5a24e397a",
      "55719d6c55a84855a0077b7c49d3d71a",
      "aeffa1b5b6be4fda9e25486d46b481c1",
      "d4b709f80a9947ada6149b7491802a9f",
      "71bf8217faf84a82970ca2294dae772b",
      "a7a285a6222843b5b05df72b94054383",
      "291aa9f380264bbf9ab1f9bf6b0f897f"
     ]
    },
    "id": "K6lAimMr03H0",
    "outputId": "03b2b084-10a0-476a-962c-63ddea3de62b"
   },
   "outputs": [
    {
     "data": {
      "text/html": [
       "Finishing last run (ID:dbdcr08h) before initializing another..."
      ],
      "text/plain": [
       "<IPython.core.display.HTML object>"
      ]
     },
     "metadata": {},
     "output_type": "display_data"
    },
    {
     "data": {
      "application/vnd.jupyter.widget-view+json": {
       "model_id": "",
       "version_major": 2,
       "version_minor": 0
      },
      "text/plain": [
       "VBox(children=(Label(value='0.011 MB of 0.011 MB uploaded\\r'), FloatProgress(value=1.0, max=1.0)))"
      ]
     },
     "metadata": {},
     "output_type": "display_data"
    },
    {
     "data": {
      "text/html": [
       " View run <strong style=\"color:#cdcd00\">different-silence-14</strong> at: <a href='https://wandb.ai/ctan0722-innodigital/dim_reduction_example/runs/dbdcr08h' target=\"_blank\">https://wandb.ai/ctan0722-innodigital/dim_reduction_example/runs/dbdcr08h</a><br/> View project at: <a href='https://wandb.ai/ctan0722-innodigital/dim_reduction_example' target=\"_blank\">https://wandb.ai/ctan0722-innodigital/dim_reduction_example</a><br/>Synced 5 W&B file(s), 0 media file(s), 0 artifact file(s) and 0 other file(s)"
      ],
      "text/plain": [
       "<IPython.core.display.HTML object>"
      ]
     },
     "metadata": {},
     "output_type": "display_data"
    },
    {
     "data": {
      "text/html": [
       "Find logs at: <code>./wandb/run-20241004_024750-dbdcr08h/logs</code>"
      ],
      "text/plain": [
       "<IPython.core.display.HTML object>"
      ]
     },
     "metadata": {},
     "output_type": "display_data"
    },
    {
     "data": {
      "text/html": [
       "Successfully finished last run (ID:dbdcr08h). Initializing new run:<br/>"
      ],
      "text/plain": [
       "<IPython.core.display.HTML object>"
      ]
     },
     "metadata": {},
     "output_type": "display_data"
    },
    {
     "data": {
      "text/html": [
       "Tracking run with wandb version 0.18.3"
      ],
      "text/plain": [
       "<IPython.core.display.HTML object>"
      ]
     },
     "metadata": {},
     "output_type": "display_data"
    },
    {
     "data": {
      "text/html": [
       "Run data is saved locally in <code>/aiffel/aiffel/workplace/wandb/run-20241004_024836-dlf3t3px</code>"
      ],
      "text/plain": [
       "<IPython.core.display.HTML object>"
      ]
     },
     "metadata": {},
     "output_type": "display_data"
    },
    {
     "data": {
      "text/html": [
       "Syncing run <strong><a href='https://wandb.ai/ctan0722-innodigital/dim_reduction_example/runs/dlf3t3px' target=\"_blank\">azure-tree-15</a></strong> to <a href='https://wandb.ai/ctan0722-innodigital/dim_reduction_example' target=\"_blank\">Weights & Biases</a> (<a href='https://wandb.me/run' target=\"_blank\">docs</a>)<br/>"
      ],
      "text/plain": [
       "<IPython.core.display.HTML object>"
      ]
     },
     "metadata": {},
     "output_type": "display_data"
    },
    {
     "data": {
      "text/html": [
       " View project at <a href='https://wandb.ai/ctan0722-innodigital/dim_reduction_example' target=\"_blank\">https://wandb.ai/ctan0722-innodigital/dim_reduction_example</a>"
      ],
      "text/plain": [
       "<IPython.core.display.HTML object>"
      ]
     },
     "metadata": {},
     "output_type": "display_data"
    },
    {
     "data": {
      "text/html": [
       " View run at <a href='https://wandb.ai/ctan0722-innodigital/dim_reduction_example/runs/dlf3t3px' target=\"_blank\">https://wandb.ai/ctan0722-innodigital/dim_reduction_example/runs/dlf3t3px</a>"
      ],
      "text/plain": [
       "<IPython.core.display.HTML object>"
      ]
     },
     "metadata": {},
     "output_type": "display_data"
    },
    {
     "data": {
      "text/html": [
       "<button onClick=\"this.nextSibling.style.display='block';this.style.display='none';\">Display W&B run</button><iframe src='https://wandb.ai/ctan0722-innodigital/dim_reduction_example/runs/dlf3t3px?jupyter=true' style='border:none;width:100%;height:420px;display:none;'></iframe>"
      ],
      "text/plain": [
       "<wandb.sdk.wandb_run.Run at 0x7d1b0e8312b0>"
      ]
     },
     "execution_count": 49,
     "metadata": {},
     "output_type": "execute_result"
    }
   ],
   "source": [
    "wandb.init(project=\"dim_reduction_example\")\n"
   ]
  },
  {
   "cell_type": "code",
   "execution_count": 50,
   "id": "ff7e199f",
   "metadata": {
    "colab": {
     "base_uri": "https://localhost:8080/",
     "height": 210,
     "referenced_widgets": [
      "bba67b8f55cc4f93905bac1c51ef2693",
      "32dd0bf50c3c4fea902305c50c0948f3",
      "4075f76518004bf88163342a9a121741",
      "170fe869f740471d81bbbd60af33bb97",
      "063bab5ce0cc4c6baa7c00fdb9ebbb05",
      "547375e1997149b9966a3e5105ef3b1e",
      "ea85fb07a99e4abc96cac774f4310a25",
      "14a8580f3010431b95d2193bbcf18dd5"
     ]
    },
    "id": "Q94svpQS09lW",
    "outputId": "8678cf3e-f178-407c-bce2-945b0a400688"
   },
   "outputs": [
    {
     "data": {
      "text/html": [
       "Finishing last run (ID:dlf3t3px) before initializing another..."
      ],
      "text/plain": [
       "<IPython.core.display.HTML object>"
      ]
     },
     "metadata": {},
     "output_type": "display_data"
    },
    {
     "data": {
      "application/vnd.jupyter.widget-view+json": {
       "model_id": "",
       "version_major": 2,
       "version_minor": 0
      },
      "text/plain": [
       "VBox(children=(Label(value='0.007 MB of 0.007 MB uploaded\\r'), FloatProgress(value=1.0, max=1.0)))"
      ]
     },
     "metadata": {},
     "output_type": "display_data"
    },
    {
     "data": {
      "text/html": [
       " View run <strong style=\"color:#cdcd00\">azure-tree-15</strong> at: <a href='https://wandb.ai/ctan0722-innodigital/dim_reduction_example/runs/dlf3t3px' target=\"_blank\">https://wandb.ai/ctan0722-innodigital/dim_reduction_example/runs/dlf3t3px</a><br/> View project at: <a href='https://wandb.ai/ctan0722-innodigital/dim_reduction_example' target=\"_blank\">https://wandb.ai/ctan0722-innodigital/dim_reduction_example</a><br/>Synced 5 W&B file(s), 0 media file(s), 0 artifact file(s) and 0 other file(s)"
      ],
      "text/plain": [
       "<IPython.core.display.HTML object>"
      ]
     },
     "metadata": {},
     "output_type": "display_data"
    },
    {
     "data": {
      "text/html": [
       "Find logs at: <code>./wandb/run-20241004_024836-dlf3t3px/logs</code>"
      ],
      "text/plain": [
       "<IPython.core.display.HTML object>"
      ]
     },
     "metadata": {},
     "output_type": "display_data"
    },
    {
     "data": {
      "text/html": [
       "Successfully finished last run (ID:dlf3t3px). Initializing new run:<br/>"
      ],
      "text/plain": [
       "<IPython.core.display.HTML object>"
      ]
     },
     "metadata": {},
     "output_type": "display_data"
    },
    {
     "data": {
      "text/html": [
       "Tracking run with wandb version 0.18.3"
      ],
      "text/plain": [
       "<IPython.core.display.HTML object>"
      ]
     },
     "metadata": {},
     "output_type": "display_data"
    },
    {
     "data": {
      "text/html": [
       "Run data is saved locally in <code>/aiffel/aiffel/workplace/wandb/run-20241004_024839-m1a42aqb</code>"
      ],
      "text/plain": [
       "<IPython.core.display.HTML object>"
      ]
     },
     "metadata": {},
     "output_type": "display_data"
    },
    {
     "data": {
      "text/html": [
       "Syncing run <strong><a href='https://wandb.ai/ctan0722-innodigital/dim_reduction_example/runs/m1a42aqb' target=\"_blank\">sparkling-lake-16</a></strong> to <a href='https://wandb.ai/ctan0722-innodigital/dim_reduction_example' target=\"_blank\">Weights & Biases</a> (<a href='https://wandb.me/run' target=\"_blank\">docs</a>)<br/>"
      ],
      "text/plain": [
       "<IPython.core.display.HTML object>"
      ]
     },
     "metadata": {},
     "output_type": "display_data"
    },
    {
     "data": {
      "text/html": [
       " View project at <a href='https://wandb.ai/ctan0722-innodigital/dim_reduction_example' target=\"_blank\">https://wandb.ai/ctan0722-innodigital/dim_reduction_example</a>"
      ],
      "text/plain": [
       "<IPython.core.display.HTML object>"
      ]
     },
     "metadata": {},
     "output_type": "display_data"
    },
    {
     "data": {
      "text/html": [
       " View run at <a href='https://wandb.ai/ctan0722-innodigital/dim_reduction_example/runs/m1a42aqb' target=\"_blank\">https://wandb.ai/ctan0722-innodigital/dim_reduction_example/runs/m1a42aqb</a>"
      ],
      "text/plain": [
       "<IPython.core.display.HTML object>"
      ]
     },
     "metadata": {},
     "output_type": "display_data"
    },
    {
     "data": {
      "text/plain": [
       "'\\n# PCA 적용\\npca = PCA(n_components=2)\\npca_components = pca.fit_transform(conversation)\\n\\n# t-SNE 적용\\ntsne = TSNE(n_components=2, random_state=42)\\ntsne_components = tsne.fit_transform(conversation)\\n\\n# 시각화 결과를 WandB에 기록\\nwandb.log({\\n    \"PCA Scatter Plot\": wandb.plot.scatter(\\n        wandb.Table(data=[[x, y] for x, y in zip(pca_components[:, 0], pca_components[:, 1])],\\n                    columns=[\"PC1\", \"PC2\"]),\\n        \"PC1\", \"PC2\", title=\"PCA of Data\"\\n    ),\\n    \"t-SNE Scatter Plot\": wandb.plot.scatter(\\n        wandb.Table(data=[[x, y] for x, y in zip(tsne_components[:, 0], tsne_components[:, 1])],\\n                    columns=[\"Dim1\", \"Dim2\"]),\\n        \"Dim1\", \"Dim2\", title=\"t-SNE of Data\"\\n    )\\n})\\n'"
      ]
     },
     "execution_count": 50,
     "metadata": {},
     "output_type": "execute_result"
    }
   ],
   "source": [
    "# WandB 프로젝트 초기화\n",
    "wandb.init(project=\"dim_reduction_example\")\n",
    "\n",
    "# 예시 데이터: conversation에 정수 인코딩된 데이터가 있다고 가정\n",
    "# conversation = np.random.randn(100, 300)  # 임의 데이터 예시\n",
    "'''\n",
    "# PCA 적용\n",
    "pca = PCA(n_components=2)\n",
    "pca_components = pca.fit_transform(conversation)\n",
    "\n",
    "# t-SNE 적용\n",
    "tsne = TSNE(n_components=2, random_state=42)\n",
    "tsne_components = tsne.fit_transform(conversation)\n",
    "\n",
    "# 시각화 결과를 WandB에 기록\n",
    "wandb.log({\n",
    "    \"PCA Scatter Plot\": wandb.plot.scatter(\n",
    "        wandb.Table(data=[[x, y] for x, y in zip(pca_components[:, 0], pca_components[:, 1])],\n",
    "                    columns=[\"PC1\", \"PC2\"]),\n",
    "        \"PC1\", \"PC2\", title=\"PCA of Data\"\n",
    "    ),\n",
    "    \"t-SNE Scatter Plot\": wandb.plot.scatter(\n",
    "        wandb.Table(data=[[x, y] for x, y in zip(tsne_components[:, 0], tsne_components[:, 1])],\n",
    "                    columns=[\"Dim1\", \"Dim2\"]),\n",
    "        \"Dim1\", \"Dim2\", title=\"t-SNE of Data\"\n",
    "    )\n",
    "})\n",
    "'''"
   ]
  },
  {
   "cell_type": "markdown",
   "id": "8cd9a593",
   "metadata": {
    "id": "b7523f17"
   },
   "source": [
    "# step 4. 모델 정의"
   ]
  },
  {
   "cell_type": "markdown",
   "id": "98df935c",
   "metadata": {
    "id": "19f3c8ba"
   },
   "source": [
    "#### 9-4. KLUE-BERT 가져오기"
   ]
  },
  {
   "cell_type": "markdown",
   "id": "3759c9e8",
   "metadata": {
    "id": "YzPm5JO-4NXk"
   },
   "source": [
    "## KLUE-BERT와 t-SNE를 사용한 시각화\n",
    "\n",
    "주요 단계 요약:\n",
    "1. KLUE-BERT 모델과 토크나이저 로드  \n",
    "2. 텍스트 데이터를 KLUE-BERT 임베딩으로 변환  \n",
    "3. t-SNE를 사용하여 차원 축소  \n",
    "4. t-SNE 시각화  "
   ]
  },
  {
   "cell_type": "markdown",
   "id": "3330b9a5",
   "metadata": {
    "id": "9eKzsQ5r9loo"
   },
   "source": [
    "> t-SNE, \t**작은 데이터셋**의 클러스터링된 패턴을 탐색하거나, 데이터의 **국소적 특성**을 시각화하기 좋음.\n",
    "\n",
    "\n",
    "**작은 데이터셋인가?**\n",
    "-> 크기 측면에서 보면, 데이터셋의 크기가 12,092개의 샘플로 되어 있는 중간 크기의 데이터셋  \n",
    "=> (t-SNE를 사용하는 데 무리가 없는 크기, 매우 크지는 않아서 빠르게 처리가능)\n",
    "\n",
    "\n",
    "\n",
    "**국소적 특성**\n",
    "-> 협박과 관련된 문장들이 같은 공간에 모이고, 갈취와 직장 내 괴롭힘은 다른 영역에 모이는지 등 우리의 상식과 비슷한지 확인하고자 함.  \n",
    "-> 세부적으로 어떤 문장들이 더 유사한지를 탐구"
   ]
  },
  {
   "cell_type": "markdown",
   "id": "d3e3fc3d",
   "metadata": {
    "id": "qwtRzJQQ8KEe"
   },
   "source": [
    "### 1.KLUE-BERT 모델과 토크나이저 로드"
   ]
  },
  {
   "cell_type": "code",
   "execution_count": 51,
   "id": "1ca0756b",
   "metadata": {
    "colab": {
     "base_uri": "https://localhost:8080/"
    },
    "id": "tn1miQZenx7P",
    "outputId": "4a1fd7c3-ae82-4c82-cd10-af703b60b021"
   },
   "outputs": [],
   "source": [
    "# KLUE-BERT 모델과 토크나이저 로드\n",
    "# tokenizer = BertTokenizer.from_pretrained(\"klue/bert-base\")\n",
    "# model = BertModel.from_pretrained(\"klue/bert-base\") # BertForSequenceClassification 대신 BertModel 사용\n",
    "\n",
    "# model = BertForSequenceClassification.from_pretrained(\"klue/bert-base\")\n",
    "# ERROR : AttributeError: 'SequenceClassifierOutput' object has no attribute 'last_hidden_state'"
   ]
  },
  {
   "cell_type": "markdown",
   "id": "42598880",
   "metadata": {},
   "source": [
    "**1. 다시 시도 :  모델과 토크나이저 로드 (경량화된 모델사용)**"
   ]
  },
  {
   "cell_type": "code",
   "execution_count": 52,
   "id": "24cee07c",
   "metadata": {},
   "outputs": [],
   "source": [
    "device = torch.device(\"cuda\" if torch.cuda.is_available() else \"cpu\")"
   ]
  },
  {
   "cell_type": "code",
   "execution_count": 53,
   "id": "af5f559d",
   "metadata": {
    "scrolled": true
   },
   "outputs": [
    {
     "name": "stderr",
     "output_type": "stream",
     "text": [
      "The tokenizer class you load from this checkpoint is not the same type as the class this function is called from. It may result in unexpected tokenization. \n",
      "The tokenizer class you load from this checkpoint is 'DistilBertTokenizer'. \n",
      "The class this function is called from is 'BertTokenizer'.\n",
      "Some weights of the model checkpoint at distilbert-base-uncased were not used when initializing DistilBertForSequenceClassification: ['vocab_layer_norm.weight', 'vocab_projector.weight', 'vocab_transform.bias', 'vocab_transform.weight', 'vocab_projector.bias', 'vocab_layer_norm.bias']\n",
      "- This IS expected if you are initializing DistilBertForSequenceClassification from the checkpoint of a model trained on another task or with another architecture (e.g. initializing a BertForSequenceClassification model from a BertForPreTraining model).\n",
      "- This IS NOT expected if you are initializing DistilBertForSequenceClassification from the checkpoint of a model that you expect to be exactly identical (initializing a BertForSequenceClassification model from a BertForSequenceClassification model).\n",
      "Some weights of DistilBertForSequenceClassification were not initialized from the model checkpoint at distilbert-base-uncased and are newly initialized: ['classifier.bias', 'pre_classifier.weight', 'classifier.weight', 'pre_classifier.bias']\n",
      "You should probably TRAIN this model on a down-stream task to be able to use it for predictions and inference.\n"
     ]
    },
    {
     "data": {
      "text/plain": [
       "DistilBertForSequenceClassification(\n",
       "  (distilbert): DistilBertModel(\n",
       "    (embeddings): Embeddings(\n",
       "      (word_embeddings): Embedding(30522, 768, padding_idx=0)\n",
       "      (position_embeddings): Embedding(512, 768)\n",
       "      (LayerNorm): LayerNorm((768,), eps=1e-12, elementwise_affine=True)\n",
       "      (dropout): Dropout(p=0.1, inplace=False)\n",
       "    )\n",
       "    (transformer): Transformer(\n",
       "      (layer): ModuleList(\n",
       "        (0): TransformerBlock(\n",
       "          (attention): MultiHeadSelfAttention(\n",
       "            (dropout): Dropout(p=0.1, inplace=False)\n",
       "            (q_lin): Linear(in_features=768, out_features=768, bias=True)\n",
       "            (k_lin): Linear(in_features=768, out_features=768, bias=True)\n",
       "            (v_lin): Linear(in_features=768, out_features=768, bias=True)\n",
       "            (out_lin): Linear(in_features=768, out_features=768, bias=True)\n",
       "          )\n",
       "          (sa_layer_norm): LayerNorm((768,), eps=1e-12, elementwise_affine=True)\n",
       "          (ffn): FFN(\n",
       "            (dropout): Dropout(p=0.1, inplace=False)\n",
       "            (lin1): Linear(in_features=768, out_features=3072, bias=True)\n",
       "            (lin2): Linear(in_features=3072, out_features=768, bias=True)\n",
       "          )\n",
       "          (output_layer_norm): LayerNorm((768,), eps=1e-12, elementwise_affine=True)\n",
       "        )\n",
       "        (1): TransformerBlock(\n",
       "          (attention): MultiHeadSelfAttention(\n",
       "            (dropout): Dropout(p=0.1, inplace=False)\n",
       "            (q_lin): Linear(in_features=768, out_features=768, bias=True)\n",
       "            (k_lin): Linear(in_features=768, out_features=768, bias=True)\n",
       "            (v_lin): Linear(in_features=768, out_features=768, bias=True)\n",
       "            (out_lin): Linear(in_features=768, out_features=768, bias=True)\n",
       "          )\n",
       "          (sa_layer_norm): LayerNorm((768,), eps=1e-12, elementwise_affine=True)\n",
       "          (ffn): FFN(\n",
       "            (dropout): Dropout(p=0.1, inplace=False)\n",
       "            (lin1): Linear(in_features=768, out_features=3072, bias=True)\n",
       "            (lin2): Linear(in_features=3072, out_features=768, bias=True)\n",
       "          )\n",
       "          (output_layer_norm): LayerNorm((768,), eps=1e-12, elementwise_affine=True)\n",
       "        )\n",
       "        (2): TransformerBlock(\n",
       "          (attention): MultiHeadSelfAttention(\n",
       "            (dropout): Dropout(p=0.1, inplace=False)\n",
       "            (q_lin): Linear(in_features=768, out_features=768, bias=True)\n",
       "            (k_lin): Linear(in_features=768, out_features=768, bias=True)\n",
       "            (v_lin): Linear(in_features=768, out_features=768, bias=True)\n",
       "            (out_lin): Linear(in_features=768, out_features=768, bias=True)\n",
       "          )\n",
       "          (sa_layer_norm): LayerNorm((768,), eps=1e-12, elementwise_affine=True)\n",
       "          (ffn): FFN(\n",
       "            (dropout): Dropout(p=0.1, inplace=False)\n",
       "            (lin1): Linear(in_features=768, out_features=3072, bias=True)\n",
       "            (lin2): Linear(in_features=3072, out_features=768, bias=True)\n",
       "          )\n",
       "          (output_layer_norm): LayerNorm((768,), eps=1e-12, elementwise_affine=True)\n",
       "        )\n",
       "        (3): TransformerBlock(\n",
       "          (attention): MultiHeadSelfAttention(\n",
       "            (dropout): Dropout(p=0.1, inplace=False)\n",
       "            (q_lin): Linear(in_features=768, out_features=768, bias=True)\n",
       "            (k_lin): Linear(in_features=768, out_features=768, bias=True)\n",
       "            (v_lin): Linear(in_features=768, out_features=768, bias=True)\n",
       "            (out_lin): Linear(in_features=768, out_features=768, bias=True)\n",
       "          )\n",
       "          (sa_layer_norm): LayerNorm((768,), eps=1e-12, elementwise_affine=True)\n",
       "          (ffn): FFN(\n",
       "            (dropout): Dropout(p=0.1, inplace=False)\n",
       "            (lin1): Linear(in_features=768, out_features=3072, bias=True)\n",
       "            (lin2): Linear(in_features=3072, out_features=768, bias=True)\n",
       "          )\n",
       "          (output_layer_norm): LayerNorm((768,), eps=1e-12, elementwise_affine=True)\n",
       "        )\n",
       "        (4): TransformerBlock(\n",
       "          (attention): MultiHeadSelfAttention(\n",
       "            (dropout): Dropout(p=0.1, inplace=False)\n",
       "            (q_lin): Linear(in_features=768, out_features=768, bias=True)\n",
       "            (k_lin): Linear(in_features=768, out_features=768, bias=True)\n",
       "            (v_lin): Linear(in_features=768, out_features=768, bias=True)\n",
       "            (out_lin): Linear(in_features=768, out_features=768, bias=True)\n",
       "          )\n",
       "          (sa_layer_norm): LayerNorm((768,), eps=1e-12, elementwise_affine=True)\n",
       "          (ffn): FFN(\n",
       "            (dropout): Dropout(p=0.1, inplace=False)\n",
       "            (lin1): Linear(in_features=768, out_features=3072, bias=True)\n",
       "            (lin2): Linear(in_features=3072, out_features=768, bias=True)\n",
       "          )\n",
       "          (output_layer_norm): LayerNorm((768,), eps=1e-12, elementwise_affine=True)\n",
       "        )\n",
       "        (5): TransformerBlock(\n",
       "          (attention): MultiHeadSelfAttention(\n",
       "            (dropout): Dropout(p=0.1, inplace=False)\n",
       "            (q_lin): Linear(in_features=768, out_features=768, bias=True)\n",
       "            (k_lin): Linear(in_features=768, out_features=768, bias=True)\n",
       "            (v_lin): Linear(in_features=768, out_features=768, bias=True)\n",
       "            (out_lin): Linear(in_features=768, out_features=768, bias=True)\n",
       "          )\n",
       "          (sa_layer_norm): LayerNorm((768,), eps=1e-12, elementwise_affine=True)\n",
       "          (ffn): FFN(\n",
       "            (dropout): Dropout(p=0.1, inplace=False)\n",
       "            (lin1): Linear(in_features=768, out_features=3072, bias=True)\n",
       "            (lin2): Linear(in_features=3072, out_features=768, bias=True)\n",
       "          )\n",
       "          (output_layer_norm): LayerNorm((768,), eps=1e-12, elementwise_affine=True)\n",
       "        )\n",
       "      )\n",
       "    )\n",
       "  )\n",
       "  (pre_classifier): Linear(in_features=768, out_features=768, bias=True)\n",
       "  (classifier): Linear(in_features=768, out_features=5, bias=True)\n",
       "  (dropout): Dropout(p=0.2, inplace=False)\n",
       ")"
      ]
     },
     "execution_count": 53,
     "metadata": {},
     "output_type": "execute_result"
    }
   ],
   "source": [
    "# DistilBERT 모델과 토크나이저 로드 (경량화된 모델 사용)\n",
    "tokenizer = BertTokenizer.from_pretrained(\"distilbert-base-uncased\")\n",
    "model = DistilBertForSequenceClassification.from_pretrained(\"distilbert-base-uncased\", num_labels=len(train_data['class'].unique()))\n",
    "model.to(device)"
   ]
  },
  {
   "cell_type": "markdown",
   "id": "4d2bd673",
   "metadata": {
    "id": "YJxcznRC7nUO"
   },
   "source": [
    "### 2. 텍스트 데이터를 KLUE-BERT 임베딩으로 변환  "
   ]
  },
  {
   "cell_type": "markdown",
   "id": "5ac8a6ef",
   "metadata": {
    "id": "bQxMN7vQ_3fZ"
   },
   "source": [
    "시간 진짜 오래 걸림;;;;\n",
    "![image.png](data:image/png;base64,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)\n",
    "![image.png](data:image/png;base64,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)\n",
    "![image.png](data:image/png;base64,iVBORw0KGgoAAAANSUhEUgAAAH8AAAAXCAYAAAAiGpAkAAAAAXNSR0IArs4c6QAAAARnQU1BAACxjwv8YQUAAAAJcEhZcwAADsMAAA7DAcdvqGQAAAZOSURBVGhD7ZlpSFVbFMeXWVmUqRWVQVpWStFEg9ngEKY0mKD4oTmKoKjogyBBRD0iQYI+2PAlykItQggKjaCBouhTc9FAUURFNJdlKk3v9Vuenecez73mVd97eO8PDt679z7n7L3XWv+19jXk719IkICkk/U3SAASNH4AEzR+APOvGL++vl5KSkrk6dOnVkuQ/wN+F3y3b9+WW7duyaJFi6yWBiMfPXpUsrKyJCIiQseUlZVZvY2kpKTI69evZebMmXL58mWZNGmSxMTEWL2NHDp0SG7evGl9a8qSJUtk9OjR1jeR9+/fy6VLl2T27NnSuXNnq7VlnDlzRv8yNzus5dWrV03a2xLWO2bMGI81wbNnz+TOnTuSkZEhoaGhVmvraVfje4Nxhw8fbtb4djDKhQsXZOXKla5jeeaRI0ckLS1NBg8eLJ8+fZIrV67oNWfOHBk1apQ1UqS2tlaqqqrUsWbMmOFh0NYa/9q1a1JZWSnLly//Pc93797JsWPH5NGjR7JgwYLfxkUJ9+3bp3N3g3WsWLFCwsLC5OTJk9KrVy+ZPn261dt6/AoPJnvx4kV5+fKlLsCX4ZwLJFqHDx+un/8Ecz9qsXHjRk0fwKZ069ZNPwORER4eLrGxsVJdXa2OwLxQALt/19XVSWlpqQwaNEg2bdok3bt3t3oaOXXqlF5OMjMzrU/ufP78Wc6fPy8/f/60WhrU6ODBgzJ58mRZunSpdOnSxeoRnd/WrVutb94jH7ifwKIfJ2gLQv/6hfX5j8CIGIDIzsnJkfLyct1wvn///l3u3bsn8fHxahjGHj9+XPLy8vRKTEzUiBs6dKiqBhtMVIwfP76JUmD0HTt2yIsXL2T9+vX6TAyJSvTv31+Ki4v1XWwUxiVi2aDevXvruydOnKgGJmKZH/fA/fv35e3bt5Kbmytdu3bVNjuPHz/W+a1atUpl1lwDBgyQL1++SFxcnDXSE+Zw9uxZ6dmzp6575MiRuibSUFRUlKSnp/uUbObP+h4+fCh9+vRpsh84KX0hISEycOBAq9U7zOH06dOqrOzRx48fZefOnWq7c+fO6X60KPKJqD179qgRjfytXbtW2+bNm9eiiMZA69at08m54YwKO84+FlZTU6Ob1hwPHjzQyCwsLFT5nzp1qsydO9fDMP5EPnmZi3148uSJtn379k2eP3+ujrFlyxb58eOHzJo1S6UbI4Jd2UiXJrjArm6Mx5lxgAkTJmibGzg2aefGjRsaKLyP96Iqw4YNk/z8fHVwgrbdf+EzDoOBwMi+r5zvvMcXY8eOleTkZDXW4sWLPVKB2Uj6jZSyCdQDjMXgBw4ckKSkJJ8b2hwYmefynOjoaNm/f78qXb9+/fT9RD5Kw7rYdBSTcfSxRgLIGemmWMbhTKDRhpLgFG6q9eHDBykqKlIl5R1mDOrKfqJmRDwmR8X8yvm+jBMZGemxGP6Sq52wAHCLfLd7iBCkceHChR4GBvo6dfrzUyuRR30AyDOpgI1yO5m44TxlXL9+XYsynBoFssNcp02bpv04A5JN4TdkyBBZs2aNNaoBe87n2r59u9XTCKrF5QZOVlBQoJG/YcMGdWgiH2fHQY0zoCKkJ7+M782gRBpFiRvGk+2wMd6qd4Pzvs2bNzdxMPC2IU6IdiLEDm1um827m6vwv379qhU+UooTGHbv3q2VPXWQ0yF85f7mwMl9OXrfvn31pIEtyO0oIkdfDM9coV0j3wmbyOmAPO2UZSP/bg5ARKMMzvtox8mMClD98iwu+zg3xo0bJydOnJARI0bo2Lt376pcG1AXpNEe2b5gU1evXm19a9gbI/usiU3miGqOnxSwFKa8x62ucP6uwRxNgPBs9tdEsC+4D6MDOZ9CmJSRnZ2ttQnpzi/jg1v0/Vf06NFDZYzc5uZ8dhISEuTNmzeya9cujcopU6aoQ7hh5Lc18HyUZtu2bVrNc3LAEZB9X4rihGjFaJx6WgpKw+8xe/fu1bxPylu2bJl/BZ+vyAdnToS2kn1wc7yrV69qlU1hZSppf/AWkWB+dGlOXdoDHBu1mz9/fpud8zvM//OR/IqKCklNTdVzfUcCE+GUnPXb8he+DvNfPaKRczLFlylsOgr8VkDeJoW0JR0m8oO0nOD/8wOYoPEDmKDxA5ig8QMWkX8Ayr92xlvr8UEAAAAASUVORK5CYII=)\n",
    "![image.png](data:image/png;base64,iVBORw0KGgoAAAANSUhEUgAAAIIAAAAcCAYAAACtb2fOAAAAAXNSR0IArs4c6QAAAARnQU1BAACxjwv8YQUAAAAJcEhZcwAADsMAAA7DAcdvqGQAAAbzSURBVGhD7ZpbSBVdFMfXOWZXKsug0lIJgrDUMCyC0qSMLym/KMKuFJEF5Ws9FAX1EBH0EtpTJmhFColREF1EMHxKg7QiyIfsXnS/l3im+a+zV2efOTNzjre+i/PTYfasvfZ97bXXjPoME/IY9PjV3WOQ4xmCB+MZggfjGYIHE2YI379/p8bGRvr27ZuS/DOgH6dOnaJHjx4picdAE/bWIAswcuRIKi4uphEjRqicvtPe3k5tbW20YcMGJQm2d/78eVq+fDmNHTuWdaqrq1VuiNzcXHr16hUtWbKEbt68STk5OZSSkqJyQ5w5c4Zu376tniLZtGkTZWRkqCeit2/fUnNzMy1btoyGDBmipD3j+vXrfEffdDCWly9fRsj7E4w3MzMzbEzg8ePHdPfuXSooKKC4uDgldcfWEB4+fEjp6en9agyxGIIT0Dt79mxUQ9DBAjU1NdG2bdtsdVHnuXPnaNGiRZSWlkYfP36klpYWvgoLC2nWrFms193dzfMBg/nx4wcb0/DhwzkP9NYQLl26xP0T0IetW7dyv7DA8IajRo2i1atX08yZM1kHspMnT7KOHVLHsGHD6PLlyzRmzBhasGCBynXHcRvcu3ePampq+sUY0PEbN27QixcveDBui2gdLCZ++vTpnI4FKQ8vsnfvXjZsgAnSFxA7ZvTo0ZSamkofPnxgo0C/4Bn0Tyvod2dnJyUmJnLddly9epUvK0uXLlWpSNCm1UOhXRgI2tq+fTu3V19fT5MmTWIZ+nfo0CGl7ewRwLx583iTIR8GEQ3XYBEW3dd4AQuKxcCOx+48ffq044RCFzsMekePHqV9+/bxQmC3Iq+srMzR9aPOAwcO8ETCALATsfA7d+5kj3P48GE6ceIE19PV1cU7dvbs2eTz+bhvO3bsoPz8/DBjAfAYmzdvZoNxAguO/uoXFtmJnz9/8rziCNaBx8ERCA8QHx9PycnJNG7cOPry5YvSCIF5Qr/hIe3mc/z48WzoDx48UBJ3HD0CLLCkpIQr7C2w+vLycpo7d+5vF7lr1y6WrVixokc7HQtUWlrKA7fDult0rHnv37+nz58/8xj7g556hEAgwMaI4w79mDBhAq1bt46mTJnC7h3easaMGfT06VP6+vUrG4OARRePBwOXjQZ0rwcDnzp1KhvCnDlzWGbH69ev6eLFi/YxwqdPn/psBL1FjAeLBeRocIsRrGXcyMrKooULF/LCbdy4McwDyPiRb3W38CDwTtYjpjfACO7fv09JSUm8yA0NDRyHbNmyhb1CRUUFGwGOqfXr13O8In3DGLGZrDEV+odAG8Ynmw4yxDbo89ChQ1mm8+7dOzpy5AhlZ2dHGsKFCxc42uxPI3BbqISEBNuBOYFzL5ZgETsH7hMTaV04p7yeGIJMfCxYYwErmJeqqipau3YtXblyhWOCxYsX07Nnz6iuro7WrFlDkydPVtoh3GIEEIvx2noEJHH5/X/mOxMm3umtwW6iMRintwDBrpzV2GAIA+ERoBPLKyNiHuhNmzaNX+/EEIqKijjGgYHKRnRb7FgMwc0j6ITFCDhXcPU30TyCFZl0nOvWhZIjws4YsMA4OqzlIIfBiQdAFI26cDktaqzAs0ycONF1x1vB0YBduHLlSo4J0Ge8mSFmwUbE+GGMCByfP3/OMRbasYtDrMEzxiObBfOO+Y1mBAw8wkBjGoBhGgLfY6GtrY31zchaSYLg2Tw/DfN1TknCgRz51nJWuRm1G5WVlUZHRwc/C8hHu2jfilOfrl27ZqsfjTt37hgHDx409uzZYxw7dswwF5zl5iu2cfz4cZbv37/faGpqMszgkvN6AsqYm8ZoaWlREnfCjoaBIlowZ3eGYlcM1NEAWltbOUBbtWpVn7yg004F8oGnr16nN7x584a9IOKOWL4j/BFD+DeCY6G2tpby8vJcvxH8F8GSwkBx3MT6ZXHQ/vURuxRB6q1bt/gDz/+JJ0+e8Kfx+fPnK0l0Bq1H8AjH+38ED8YzBA/GMwQPxjMED8YzBA/Gt3v3bu+twYN8+X/9zYZgmD/4JR9+fcFnQSXxBU7kfjMdUG+erG+m/f6QDOj1WPUF5EfUpcrgFvz7B4XVC7hMAArBZ6kTZfX6BakTeVyfWRZ/XHN6e4ZcvjhGlEWe+cMy84YqdH2A/znwmfOh66Ec+o2apF2uG0lTLLogVG9APYfygiW5SFAORfPOfQhm/dbRkT7ikjTu6JMvJT2Hy+iTgo8R8qwXFkQuOnrFkhbwjEkB0Je0gGfIdfT6pB2eWPNZwDP+cidyXR8gLXl6OcnX6xQZkPYkDaQOfV7wjPKiizz0R/KCumg31L6UAaJnl9bbCMrCjQF35OOKU+PQ9QHnWeZHdHAHkh8IBOgXeXov1S+OFv0AAAAASUVORK5CYII=)"
   ]
  },
  {
   "cell_type": "code",
   "execution_count": 54,
   "id": "e86c4834",
   "metadata": {
    "colab": {
     "base_uri": "https://localhost:8080/",
     "height": 338
    },
    "id": "_Tbuypei8Vk4",
    "outputId": "65469a2b-6142-4999-85fc-fce277b8d633"
   },
   "outputs": [
    {
     "data": {
      "text/plain": [
       "\"# 텍스트를 BERT 임베딩으로 변환하는 함수\\ndef get_bert_embeddings(text):\\n    inputs = tokenizer(text, return_tensors='pt', truncation=True, padding=True, max_length=128)\\n    with torch.no_grad():  # 모델 학습을 하지 않으므로 gradient 계산을 하지 않음\\n        outputs = model(**inputs)\\n    # CLS 토큰의 임베딩만 사용 (배치에서 첫 번째 토큰)\\n    return outputs.last_hidden_state[:, 0, :].numpy()\\n\\n# 데이터에서 텍스트 열을 사용하여 BERT 임베딩 계산\\nembeddings = np.array([get_bert_embeddings(text) for text in data['conversation']])\""
      ]
     },
     "execution_count": 54,
     "metadata": {},
     "output_type": "execute_result"
    }
   ],
   "source": [
    "'''# 텍스트를 BERT 임베딩으로 변환하는 함수\n",
    "def get_bert_embeddings(text):\n",
    "    inputs = tokenizer(text, return_tensors='pt', truncation=True, padding=True, max_length=128)\n",
    "    with torch.no_grad():  # 모델 학습을 하지 않으므로 gradient 계산을 하지 않음\n",
    "        outputs = model(**inputs)\n",
    "    # CLS 토큰의 임베딩만 사용 (배치에서 첫 번째 토큰)\n",
    "    return outputs.last_hidden_state[:, 0, :].numpy()\n",
    "\n",
    "# 데이터에서 텍스트 열을 사용하여 BERT 임베딩 계산\n",
    "embeddings = np.array([get_bert_embeddings(text) for text in data['conversation']])'''\n"
   ]
  },
  {
   "cell_type": "markdown",
   "id": "7b7e78ec",
   "metadata": {
    "id": "fPGdX2QyIkY9"
   },
   "source": [
    "![image.png](data:image/png;base64,iVBORw0KGgoAAAANSUhEUgAAAzoAAAICCAYAAAAH77jAAAAAAXNSR0IArs4c6QAAAARnQU1BAACxjwv8YQUAAAAJcEhZcwAADsMAAA7DAcdvqGQAAFY9SURBVHhe7d0PsGVXXeD71RCwG/IAA+Gl3xjpbnKZqMO/oPyJ+AoUx9SMomVRsUYQnxlfoMApUyIkoA9xhgcMoGRqICUBosIb3xgYSv7UK1AGqNGKMPwtpJi8S2j6iYSIgqG9oS8N9953f6f3L/n16rXWXmudvffZe5/vp2vV2Xv933ufe8/69T7n3AObm5t7GxsbDgAAAADmotNAZ29vr9k6exsAAAAAhtRZoCOBjZ8AAAAAYBU6CXQkqNnd3V2knZ2du7cJdgAAAACswtKBjt69kQDn29/+9t1J9rUMAAAAAIbUSaAjd28kuPnWt7612B6TQ4cONVsAAAAA1sW9msel2GAHAAAAAFZt6UBH354mgY68XQ0AAAAAVq2TOzpCAx4AAAAAWLXOAh1BoAMAAABgDDoNdAAAAABgDAh0AAAAAMxOMtDZ2911W7fd5v6/P/xD98U3vcnd+alPuV2+WQ0AAADAyEUDnVN/8zfuk1df7T577bXuW3/7t+47J0+6Ezfd5P7in/9z9/WPflQ+kNPUBAAAAIBxCf7B0G999avuMy94gbv4mc90//N+YHPgXvfEQ1ubm+6zv/Eb7hH75Rc88Yl3f6309va229racgcPHmxqlpG/wfPJT37SfeELX1j0I3/o8+KLL3aPfexj3QMf+MCmVjn+YCgAAJiDEydOuCNHjjR7ANqcG+js7bnbXv96910XXugu/rmf269xwH39Ix9xf/ehD7l/+uIXL6rcuR+QnPj933ePfNWr3IH9QGLZQOfmm29273nPe9ypU6eanLP9xE/8hPv5n/95d//737/JyUegAwAA5oBAByhzzlvXvv2Nb7iTn/2se/AP//AiyAn5n77v+9y99wOIu774xSanjgRGL3vZyxaBTizIEe9///vdtddeu7jbMwZPf83D704qtr1Kdp6hNHVtx1NyjLZurJ2O4ydlt8coND8/L3UMUqbJl2qXEmtX218bnX+o/9wx+5obAADo1jl3dOTLB/7Hv/t37tGve5277wUXLPL8Ozri/33lK92FT32qe9DjH199R0eCnM/uB1W5HvKQh7hXvOIV7oJmXjna7ujIouXdLzwTQNntmFid0n5Ebj0hdVNy+7FKxhehOdhjDpHy0nY5cwrN3c9rq5OzrUJ5vrY6Uu4rrW+1zccXOy5fab8idex2jND4oXap/vqSO+Yq5gYAgjs6QJlzAp3tO+5wn3vpS90/2w8o7rsfWAj5prXdb33LnXf++Yv9ve98x/2Pl7/cHf6X/9I98HGPqwp05C6OJOvKK690f/qnf+ruvPPOJudcl19+ufu1X/u1Zq9dH4GOkrr+vshdCHVdL8TOz1faZ2gempeaY6qdSrUPqe3T5uVsq1CeL1UnVpbTb0xpW6kfYvsI9RlrJ7Ru7XHE2tX2F5N7DCo2ts6r6/kBQA4CHaDMOW9dk7s4933wg90/3nprk+PcXcePu7//b/+t2TvzZQXbX/mKO/S939vklJEvHpDP5ITccMMN7md+5meavXPdcsst7vj+fFZJFji6yLHbJeyCqS86RixhGKlFseT3+Rzw2esfm5PP1rWPbe3luGKpjfQdamdTCTtf+6jbKpSnZEzbtnQOAABgWOcEOve6733d//LTP+2Ov/GNi4BG3O/iixffsCZ2T592f/2f/tNi/+BDH7rIKyXfrhb7TM5998d/1rOe5a6//vrF3ZuQj33sY81WPbtYsttjpXOMJZ/m+fVCCeMVul6aYgvyUrbPGDte7iJf6sVSjlA7m0rVHIOQerat0j5y+wEAAMMKfr20fPPal//Lf3FfeMMb3COuvdY9eD+oOXDeeYsvH7jtP/wHd+if/BP3T1/0Infv+9+/6uul/+iP/si9853vbPbuIW9dk2R96lOfWrzF7fOf/3yT49zjHvc492LzeaGU1FvX7OIltJCJ8Rc2uuDJ7csvL62/KjIPnz3mECkPzd/PqzlGf8y2MYTfxtK6sbm0tY21E6k+S9vUCvXn57XNR4X6UV2Vdc0/trZ9ABgb3roGlAkHOo1v/vVfu+M33OD+9k//dHEn50GPeYw7evXV7sFPfvLdf1unJtC58cYbF5/F8YUCHSXfvPamN71psf2IRzxi8aUEOfoIdNrE+pJ8UVPW1dyWEZqH5qXmqMdmxfrpUmq+udsl2tpJua+tfs08Uvw5+P3nHEOoPDe/bV9IXq7QmCm279C4pf0BwJAIdIAyyUAnR02g87a3vc29613vavbuEQp0vvrVr7q3v/3t7kMf+lCT49yjHvUo99KXvrTZSwsFOrGF1JgXOW2Lv9Dca9qkhBaCmhcqU6l2KtW+S3acnO1Vk7mkdD3P0LHnzCF2zvz8tv2xaTt2a8zHAWAeCHSAMisJdD784Q+717/+9c3ePfxAR96yJkHO3t5ek3PGT/3UT7lf/MVfbPbSYnd07AKrdLHVtviZyoKn5rj9+pqX6ivVTqXax0ibNqlxc7Z9qTFjbbqSmleutj5qx4i18/Pb9lXtPFKkzzY5Y/YxNwDIQaADlDnnywiG8NjHPrbZCpNA6HnPe94i0PGDHNHWvm+yyEmlnAXVUGQusSRznTr/3NvUNT1nsSTlUyfHEdJ2bLF2Y2Ovl58AAMC8rOSOjpDP28jnbiy5m/O5z30u+UdEf+AHfsD99m//drPXro87Om1C/ZUsgm3b2naij+Pyaf+xeUp5aB5+Xs1c29rEyiVfxMZPtSsdT8fK4c8nV2pOvrZjiKltJ+yxhM5PqN9lxotp6zN3zD7mBgA5uKMDlEkGOvIV0H/4h3/ofu7nfs5993d/t3v3u9/t/uRP/mTxd26e/vSnL+rUBjp33XWXu/baa90dd9zR5OR55Stf6UoCs9SXEfRlTAshmUvKlBdsbccmco/PXrPU9UuNOZVzWfucqG2XUnuuRel4bf2JnD5TcwaAPhHoAGWSgc6f/dmfuY9//OPuuc99rvuHf/gH94UvfMH9+I//+CL4+ZEf+RF37Nix6kBHSH+vec1r3N///d83OWkveMEL3JOe9KRmL88qAh0AAICuEegAZaKf0Tl+/Pji8eEPP/O/oBLo6B/5lLs7sr8s6Vu+Jjr2h0GVvF1N7uSUBjkAAAAA1lPwjo4ENPI2NXl72nve857FXRy5U3P99dff/Yc7n//85y/+cOcyd3QsCaw+9rGPLR7/8R//cdHPwx72sMUXD8jXSdfijg4AAJgD7ugAZYKBzic+8Qn3hje8odlzi8/EXHPNNXcHDfJtaBL8yJ2drgKdvhDoAACAOSDQAcoE37omd2puuummRbriiisWn9GRgEHu8lx11VWLt5xJkAMAAAAAY7Syr5ceCnd0MAU/eug77oOnzmv2VmMMcwAAxHFHByizkj8YOkZPPnSg2cpX02YoL3neE5qt6erqGFL9hMqGPndjCTBkDjIXAACAOSDQqSRBzl+c2mv2+jWmoGVMc5m7I4f+z2arO330CQAAMEbJQEdukUpS/j4wR6+44aPNVv/G9nax1F0deRsobwUFAABTkfyMjnz72kc+8hF3+PDhxf5XvvIV98QnPnHxZQVqyp/R8d96Zu/Q2DL/zk2qLMW/G2IX1LYsli9yF+Ft7WLjCSmTPK2j5bVzEbHx7Bg6rmobL9anSLXN6bekP5E7nt8uFuj4d15OnPqNZusMW27LJD+239anGlvwBQA4g8/oAGVaAx0JXvTv2HzmM59x559//iwCHf+tZ3Y/VaZCeSn+4tnup8qEv59j2fFEaEy/bo7UeLrtP9oy1XeZysnL7TNVJlJBhR+0qLZgJlYmYn1aBDoAME4EOkCZ5FvXHvnIR571xzplW/Iwf3Yxju70fV4liJFgRuQENQAAAHMVDXRuvfVW9973vtd96EMfcu94xzsWSbYlT8rmTu7YaBqC/E+/piHMYbw++uyaBDZ9zFOCGE0+DXYIcgAAwDqLBjqXXnqpe8ITnuCe/OQnu8suu2yRfvZnf3aRpGzu5G1pNi2rbcEr5Tb1bQ7j9dFnDRk799qGymtIEGOTpUFOKAhaBl9GAAAApiT51rU777xz8bmbo0ePLtK66uqujl3wpnS1GM41h/GGPgZf7Nq2zSv1LWe5bEBj7+TUBDupz+ecOnVqkQAAAKYg+WUEX//6191+ebN3xvd8z/csklrHb10TUl5yp0cWvHYRHNpX/mJZaHmsjSV1/DK/z9R4Uhaagyqdi4iNp2P5j1pm2XYi1qdItc3pty3P7qfKhOwrv1/R9oUEInTXRtkyG+gIf1/E+hR8EQEAjBdfRgCUSQY6OaYc6AytbcGL6Vr22o4hwCDIAYBxI9AByhDoAAAATACBDlAm+RkdAAAAAJgiAh0AAAAAs0OgAwAAAGB2CHQAAAAAzA6BDjAQ+VYzAAAwf7zmjwPfujYwmQ9/dDFPn+dq6OvAVzdjCP/x0kvdv7n11mavG330OQdD/Q4J/cHqkr/hNjWp8xoqW7frMNZvXRv6NTVk2Tn82DU/7f7r9e9q9u4h+ZatkyoTvPavHnd0Zkx+6MdiTHMZkz7OC9c9jOdgmAQyQ5rKdRjLPGUxrQtqu41hcR3Go4+fTT9gURr82KR1U2UYDwKdga36fzxwxpDXgf/RwVD6uPPC3ZwwfpePA9cBXZAgpQ/y2s9b2FaLQGdgof+JkDybrLYyy+7rdqid0PxQWYxtY1MbrROrr/mhMssvj7Wz+X6ZCuX77fw6sXyhebHykLY2mu+XpfZ1O9RuGal+NS+Ur4+xMpXbVvf9/DZaN9ZO8/0ym++XiWXK9NEv17xUvk1t5I6NTZbuh8r6oPONzT1W7tf1y2zy1ZTpfqhMpfJD7Wx+W5mmHPqWKnm0b6/y32oV2vfbLKNt7n2UibY2JeV+vqYceh79c+qf39C+32YZds6huWu5X9a2Xys1XqxMxMp1289Xmu+X2Xyb2vQVAGE4fEZnYDIf/3+g/Dy7X1sm/H2VW69LNXOJbYvcdsLfF6E8X0mfsi9Cfabu6MTmkRovVSZifS5D+hR+v7VzyWkn/La5/YfE6qb67KNMyL6weaKtXQ0JYOxdmbb9vqWOqea89FEm/H1fqDzVR2n/PlkIh94upQtkv8yvb/dTZbVqj722TOXklfaZEjtXki/8stS5TpXFtH1GR4/Hf7RlKrcsR6h+7XipMuHvq9x6MfpWtBS/jv9WtVB73tWxWtzRQdEvglUo/WXVhZoxh5qjjCPzE0Oem6GvwdDjLat0vjn1p3YOutDnMdu+53Ru2xbHq7Yuz+MpXwcpW8XrylRIQBMKcmTfJj/wweoR6Kwh/YWmKZdtY1OfpP/YL9y+5hAbs6/xYlLj6TUcw4tRap5TUXMMtT9HKak+bb5NqDeW82jnYVOf5O6BpiEMdVzLsHO0qU9jug59vK6kxhuSnYdNOWxAg+kh0FlT8otMU+4Pu21jU5+k/9j8+piHjBXrq4/xUlLj6Txzr12fUvOcitpjsG26uhaxPm2+TaijP0NjOI92Hjb1Se4+2NSnsZ1rmY8my87Rpj6N6TpouX9elmHHC40ZonPQ1AV/Hpra+HdxMD0EOhNgf+BzfjDbdPWLYyhyzG1z7uKYSs5vyXhdfOuKHc/OM+fc+Errl+iz76HkHkMfx9rX+dMvG+j68zhTu95zeH72IXQ3oeZcSRtNXbxW9UXmpmlMuroONew1k8c+xi3pc6zXqBSfz1k9voxgYPaXifLz7H6ovuUfX6hvEcsXqf67VDoXyW/bVyXtRCzPlzOeCPVntX0hgUjNx59Hal/E+hSh+m1SbXQsERtPxOaobHlsPD/f7vv9Kb++8Pu2bWP9i9C+yu1T+P1YqXY1coIbqSNKg6DUcaToMdaeF6H1/DahfRUaT0lZrK3fTvh1VWy8UN+h9jGyCA79j38sX/gLZ1vPloXal86vrb5/Xmx9WyZsP6kyERrXz/PHipXlWPV1WObLCITsq7Z6um/bWLH6lm2bqu+P19a39pvbZ47Q3ZvYZ260nl/utyfQWT0CnZEr/UHFeI3hFx7Pp/XT9V0cxXNpvmqu7ZSeDzJXNeY5h85pW6AzF1O5RikEOeNAoAMAADAB6xLoAF3hMzoAAAAAZodABwAAAMDsEOgAAAAAmB0CHQAAAACzw5cRAAMJfQPL3L+V5emveXiz5dy7X/iFxaPkhbZLhPpVuX2WjG3H89XMv80y56W0nX9sfvvauWB67LVuu+6x8lQ7KYvp4znWdgwxNe38Y/Pbd3Ve+DICoAyBzoi89dAX3bNPHW322pXWX5XQV2TOWeh4UwHN0MGOfcHNfUFPvRCr3Bf2mvFL5PSpdUrqxtQeg7RTfvtQn7a+T+uWziU2js1r6zM0r9L6vlD7tnapMVcldO7azucQ7Lm0c7Fza5tnrLw0X7WVx0g75bcP9Wnr+7Ru6Vxi49i8WJ9tY/nlBDpAGd66NgES0HSNO10oJS+2sZRDXrAlLUP7CCUrlKckX+csj7F6fSs9f359f79PsfOp59JPbec01EZTTKiuTau6jqtWc9xzOm/2WHL49f39Psm5XtfnKbAqBDojMoW7MyjXdsdGyqROiASkcwlKu1hM2D7so99vKE8XGaG6qQWILQ8lv782oT40jZUco3+cMt/Yses5w7lKny9DKH3+6bWPtQn1p/VjqfS8hPrQNFZyjP5xdn1eAJyNQGcgelfGf7RSefIYK4+VxejCObaI1vxYmT765Zrn54tUWYxtE2qXKkux7fy2uh8rC+WLVNky5C1wXb3tT184/e2psS/+ukjIIXVji4ZUmdDyUCoV6kMT0vR5G0o158/vw9L9WFkoX6TKRCo/1M7mh8r00S8rUfv8kzahcWP9aX4olQr1oWlqQsegCcBy+IzOQCQQkTs2/qMVyhO5+bF6IXJeQgtoPz+0L/y2qXZtfcYM3aeQfeH3lWrX1mfOZ3CG+pyOLEr0xdNut2mrGyv3F0FSp3YOym/Tti8kL5ffV66a41Cp+Yb6DR2jiOWn+McYmkusz5p5tM2xps8afn+hfeGPmWrX1qfIySvpM9RfidhYsX5D+W3tJC9XaMwU23dq3FC/obmKWH6Kf4yhuaTm10bb8hkdoAyBzkA0CPEfrVigkpsfqxfiL8ZV26I9t52V24cv1a6PPkVNP219zCXQaZPbVxfsfEKLhyHnUsOfY9u+pWWhOql2JaQf1dafratSbUL1faH2XR2b8vtr24+x9XL6yMkr6TPUX4nYWKF+c8Zadj4l/LHa9i0tC9VJtSsh/agu+hMEOkAZ3roGZJIARtPUyAuuvuja7VzyIm1TLM+nY8VSrdS4qbmkxMrtfENpjlLn12fr5rQJ1fdTiOSHzr9NQ+ljzD76bCNj2fPaJnZtcugYsTRH+nxe5rwBWA6BzkDkTovccREld17QLbnTUhOwSF1pq2kopfOM0Rda+6I7xIuvjhdLNQscf4Hkp66F5m1TH2PGyFgypuhqbNuHbMfSGNjz7u9rXi6pX3N8Urd2zBTbZ5f95hhiTHtsoTTkc0yvoehqbNuHbMeSL1THTwDqEegMbF0CnNLFeReL+VxDByypb1UTqbetDR1Y9SH0wq1JFxsldGEUS9JvjD++TSmh+ppkzLnQc6jb+jinY7T02MZ2fPK86lvtc7dtbqk+9WcmlMZ2DZZhn1P2MXaMWhZKAJbDZ3QGpHdyYnd0Und69G6QLffrp9qH6LnxF9L2nIXKYgvvWDu/TaiPnLzQvorlW1Inp0+7b/nj2bq2TPh9pIKZOXw+R/l9rmIBExuzbS617WpJv8rvPzRmzvxq5uq3adsXkpfL7ytXF+1S2o7T37fsfKSOrWvLhN9HrF+/T+XXD7XXtqF+Q1Jz0PycOiVq27WRfpXff2jMnOOqmavfpm1ftY3ll/MZHaAMgQ7Wjh+wDCUU0AwV5KySvFCnpF7ka6QWDqm5tC02UoY8hpRl2ilp7+/P1bocZy77/Ek9l+x5C+m6Xa3UMaQs005Je38/pO2cCNuWQAcoQ6ADAAAwAQQ6QBk+owMAAABgdgh0AAAAAMwOgQ4AAACA2SHQAQAAADA7BDrACMi3r62bdTxmAAAwHAIdoELpt/ml6vfxFdNT+LZBOWaCHQAA0BcCHZyjj0UyX/M9X1xbAAAwRgQ6wAr19QdDh/xDqMvgrg4AAOgLgc6Myf+0a7JS+7oda2eTldrX7VA7ofmhshjbxqY2tl6ovpZ3WbaMVH+lZTo/TVZbmWX3dTvUTmh+qAwAAKBPBDozJQtL+V99TbkLTb0ToO18mi+piz6XmWco5ZB6Oq4dLzUXv8xKtRub1DxTZTFSVx91W03pvAAAgPkh0MGo+IvldSVBgQYGdlukysaMawsAAIZEoIOV0v/pL12w2zY2rUrXc9C7IP62SJWNicyr6/MCAACQi0AHK6eLdV0Y57BtbFqVPuYh50L6Cp2TVNmY2HMy9rkCAIB5IdBBEVmsapLF67LmuPgtOabUt47p+Q2d51RZrVVc276+dQ4AAIBAZ6ZkoRpbuPplPlvukzJNVm2ffju/3yGl5uKXWWM6hmXIvDVZ/vH5bLnlt/P7BQAA6NOBzc3NvY2NjWa33O7urtvZ2XHb29tua2vLHTx4sCkZB3/xhXosVvuz6jsbq7i23M0BgDInTpxwR44cafYAtOGODrIR5PRn1Qv+VVxbghwAANCntQx0vnPnPzRbzv3t//0297l/9bPn5H38sd93Vn4oT9h8lao71Fht7XPHamsvxjSWSo2Vaq/5qfZDj9XWXqTaT2ksAACArqxloPPpH/vhxSLrq//5/3Jf/eM/cg/6X596Tt4/e9f7zs4P5Xl1k+0HHqutveSn2mt+qv0Yx2prL/mp9nfnJ9oPPVZr+/38VHvNT7Ufy1gAAABd4TM6AAAAE8BndIAyfEYHAAAAwOwQ6AAAAACYHd66hs48/TUPb7bC3v3CLzRb57Jt/XpSlmob4s9lmT5t3Vg7fzyVatfWRsTGW0aqz9icxDLzyD0OW6/22EvaDT2eJe2U3760z1B9P6+kT1u3dC7LkLFSYvMYco7AKvHWNaAMgc7AahYQ/ot/bvtYuxx+W19JXyo2Xz+/bb9NqH5OnzYvZ1uF8ny57fy8nL5jYm1L81XtXELtbF7Otk/KVKpvS9vYstzxRKrfVLsapX2G6vt5sTo+qWPrhtrlCPVt1fYZa1c7T2BKCHSAMrx1beT0xdumtgWEqG0nQm391BUdy5L93LliPZU+F+1zetXPLRk/lpYR6svf9+n58x+XJePp+Y4lAAD6RqCDzthFVSihzlDnTxaf9nr5qWZxWtsuxp+TTVOhC309L/5+LduP9uXvj13outqUIsfYVgcAsF4IdAZiX6hzXrRTahctJe10jrEUoguqWAqRfL8/2Y/VX0ep89c1HUfHtPtjEJqX3Z+61M/X1OixxFKIvZ6hBABACQKdgeiLtH3B7vOFW/pOLSja6DxjqZTMI9ZO8nWuqXq5/P5K+tT6/nZKaDybUkrqlsgdd5VicxhibqVj2LratrQPn7TV546S/dznat+WPT49llgqpecLAIBcBDozpguKZRcsOXSMWLJ1QnSuXS1kbH8lfdr6JW21bijFhOpK6or01Xa+lV4brd+234XY8cbyu1QzhtSX49e2NX0IPY/aVh6XPbe2D001c7Ok/bJ9lPDn7ydbBwCAHAQ6A1j1C7UuWHLH1bqp5NMxctIYDD2PsRx3jL0+bWkM5Dkocwk9F8cudB67OLfaR0lffZ1H7TOVfHbubQkAgBwEOgPQF2b7Ir3Mi3VokeDLqZOic7Xz9fN8y47ZJV1MpVLXQmNoGpKMZ69byfh2zn5aV3Lsteczl99n7GesT10fm/Snyd/XPN86P88AAN0j0MFKycKmLdXyF1Y2dU3mGRpHU+w42o5P2g6l9hhSatul6DxFH/1PVdt50HM2V/Z5AQCAINAZOV3I2WRfzP0ySaKtXYzfRlIqf1kyp7Y0FBlLj23IcbsUmrse15jUnuva4xt6vFx2Tro9dXocNqXyAQDoy4HNzc29jY2NZrfc7u6u29nZcdvb225ra8sdPHiwKRmHQ4cONVsYQtvipWSRqaTP0nY5i6jcPu34qbmkxkyN1TbX0mNv08cxtEmNadl6uW18Je2GHk9JGxFqlypro21jcvu0x1RzfMuoOYah5wisyokTJ9yRI0eaPQBtCHQAAAAmgEAHKMNb1wAAAADMDoEOAAAAgNkh0AEAAAAwOwQ6AAAAAGaHQAfA2vjRQ99ZpDma07GFjmOu1w0A0B8CHcAzhm/qy5nDsnXW9RsJP3jqvGarXz92zU+flfo21HH1TQKa0LFIHsEOAKAEgc4EvPXQF5ut6epjUT2Vhfq6BhRtas/LFM6nBDb/9fp3nZWGCHYAAMA9CHSAiTp16lSzhS5IADWFIGoq86wRu5ujuKsDAChBoDMgvTMjj/5dGs0L5etjrEzlttV9Pz+HLrL8hVZqX7dj7WyyUvu6HWonND9UVivVZ6xM90NlbbRNrF0qP9aupszm+2VtYu10P1QmNN8v0/1QmdD8UFkbCRynEDx2OU97vvxzltq39UP1bLLa9gEA6BKBzsAksHj2qaOLpGyeJBt8aD0tKxUaT2iepNxgRxYlusiSlLtI0UWZtvNpvqQu+qydZ0qqz1SZ7OujbufSNpJyj8Gfi1VS5o+XKotJ9Sn7+qjbqo92iKs9Z1o/1K62TwAAukSgMzA/4Ojb0OONkSy2llXSRxfjzVHueeH8AQCALhDojITcVdGE5chCWf4XWVNXYn32Nd7Quj6GZc7L0O0wDH1OCHkkqAUA9IlAZyTsW8m4C7M8WUBp6mLRq4syTT5bNtVFtj0GSV2w/eWel7ZznWLblbaVcadw7aYyTwAAVo1AZ4TW7a6OLtwklS5OQ3IWgV0uFLvsayy6OKZVn5fS8VPBUR/HUttnTRAnhrweMpYmf66yH8oXbd+q1vatbAAAWAQ6IyB3cOxb1/w7Orbc8tv1TRcooQWMX+az5T4p02TV9um38/utEepTHmNlli23bBubluHPxSop848hxraxSbT1acutUDtbp6TdqujfzbFJ8qbEP58lpK0mAABW5cDm5ubexsZGs1tud3fX7ezsuO3tbbe1teUOHjzYlIxD6Qs0hrXqBSnWi94tKLkr0MdztI8+a46tD6lj09/HbcceunPD3RzAuRMnTrgjR440ewDaEOgAAABMAIEOUIa3rgEAAACYHQIdAAAAALNDoAMAAABgdgh0AAAAAMwOgQ4AAACA2SHQAQAAADA7BDoAAAAAZodABwAAAMDsEOgAAAAAmB0CHQAAAACzQ6ADAAAAYHYIdAAAAADMDoEOAAAAgNkh0AEAAAAwOwQ6AAAAAGaHQAcAAADA7BDoAAAAAJgdAh0AAAAAs0OgAwAAAGB2CHQAAAAAzA6BDgAAAIDZIdDpyNNf8/Bm6+ztEkO0W9U8pY0mFdseK3sMofmmjsFva1MfUv3649tUq7btMmOOgT13oWMpOT5bN9ZOx/GTstvLKOkzVt7VXAAAqHVgc3Nzb2Njo9ktt7u763Z2dtz29rbb2tpyBw8ebErG4dChQ81WmLwYv/uFXzhnO8W+gIfaxvqx7YRfJ7edsPXa2sXqxtqpVL+pdr6cfnL7LBlb6qYsewyh/kN9ts255Jh8sbal+SpVLmXKr5Maz8ptF+P3J7R9qExIeWm7nDmF5u7ntdXJ2VahPF9OHUvqK9uubS5WrLx0LgDanThxwh05cqTZA9CGOzqF9MVbUy6/nSTJaxNqJ6mNbZczTt9kDjoPu90X6d+er1DqQtf9jVnpsYauQRfXPdWnXyZJ+fnaTvf97XWgxyupi2sDAMCYEOhgEHYBabdL6MJ5TAsymYumGJ1zLNWci1o1cwnV01Rj2fboT+l1kbqpn8nS/gAA6NLaBjr2BZgX43nS6xpLJUIBguTZlOLXtWloOqY/h9hcbD0/1Vi2PfpTe12kTehniusMAFiltQ109MXXvhCXviDbRW+f7Dh2LH8/paSuCI1T2oeS87psH9LGXqecPqReKpWqaW+PuS2VamtT22+M9hfrs+vxYuw8JNlr4ZdJ6ouM649V+rzwt1NC49k0NBnTHq/ODwCAseCta0uQF3ZNfbLj2LH8/ZSSukrq62LGphqhPnL60kWcX1f2tWwsQscjebmphrSLnQO/Xz1fWr9t35I87S82pj9eX+w8JNm5+GWSlB6bJltWKzZWG1u/pK3WDaUhxc7f0PMAACBlLQMdXej421id2AIptYhrK9NrG0ulQn3YFBOqa9NQ9HzlpD6t4tiFf4xDjN/3ufTVjifnQs9JznkZ+rgAAKixloGOvkjLo93GGbroEfLYxYJQF1Cx1Ae9vrFUKtSHTbHjCNW1qeb4pY20FaV9SN1YGoI99qkLnUM/dS00hqZlzeW6AAAgeOsaBmEXt6HUxSJtCP7C0iY5jphQfU2pdl3T8WJJylEmdB41da2P61f7HGwbq6ZPAAC6tLZ/MNS+uJe+0Psv8LrAaOsv1M7KbWf5Y1vazpbZuqF2qb5S7ZYVm0su27a2XZva4+76fMX6s/k5dUJS5VKm/Dqp8azcdjF+f0Lbh8qElIfG8fNK5yLa2sTKJV/Exk+1qxkvJmec2rkA6B5/MBQos7aBTtdyFgZthmi3ynmm9NFnH2SeKbFjqG1XK3U+U3OpnUft9attNxZt11XkHp89F6nzkhqzq3PZxVxEV/MBcAaBDlCGQAcAAGACCHSAMnxGBwAAAMDsEOgAAAAAmB0CHQAAAACzQ6ADAAAAYHYIdIAO/eih7zRbZ/vXNz1tkYBcv/60+i+J6coY5oDVkGvP9R+v1PVJvd7EXqOAuSLQKdTVt7il+gmV8e1x4ycvIB88dV6zd663XPWBZms15vAcWpefP1nAvPYDn2/2VkfmsMxi962HvthsrZcnHzrQbHVvyOdi7Dn4Hy+9tNmC1cd5ifWZ+v2Qeq2R1yiCHawTAh1ggoZeeKeMaS5z18e57uv6SZDz7FNHm71+Tem8DImfzW4R4AHTQ6AzEadOnWq2MEZtd3MwbUP+/I3lbo5a9q7OOvqLU3vN1jz9m1tvbbZg9XFe+uiTuzpYJ2sd6Mj/dmmybJ5fJrR8qDLR1qa0PJafYtvY1CZVP1XWJtVO80LlbWWxfMvfr2XHC40Ry9dHv6yNtgm1ayvTR1sey8+hbfx2Ns8vE1o+VJloa1NaHstP0bqxdprvl6X2dTvUbhn6lrXQW9ckT5PPtguVh7Qdg+b7Zal93Q61yxF665rk2VRC5xGaS6xM90NlQvNDZbXkjocmX6zM5ofKrNB+qJ3QvFC55vn5Ilam+6EylcoPtbP5fhmAbqxtoCO/3OV/aTX5v+w1L1YWapfq0y+zUmVtbLva8Wy7FNvGphy2vj9eqiwm5xhsHV+oLKfPLvnjWam5aF0tK6FtJNk+U+MpW0fptp/fpm08zYuVhdql+vTLrFRZG9uudjzbLkX70XZWH30uQ9+y5r91TYIXydMUC3a0PEfqGMZ2XuROj6bcYMc/Bit1fFpXy6za85IiC3W5+6DJLtxTZSJVFtPWp7B1VKpdqkz29VG3c6T6FKkyAMvjrWs450VwCnLmnKoTKpvieRgS56cffZ9X6V8XsrrAHbPcAGdZUzsvIbVzHuJYZeG+ajlzsHXGMGcA3eKta03qSh99dk1f4EvnadvYtCp9zCHW5yoWRbG59GUO4/XRZ9dqf/7apPrUMYd43o7N3M9L6vhSatsNyd7l0DsjluRpyqV9xtqlygBMz1oHOvLiZlMX+uizhoydeiGzc8x9obNtbFoFmXPXc+ijzxQZQ69P6BrYuQw1n6mP10efNWTs3GsbKq9h+5RkyRhdjjUlcz4vOv/QsaXUthsbCVpsymXb2IBGtm0ZgOnjrWuNPl7oVv3iGXshG9uLusxHU+hFdyzzlbnF5lj7LTZ6fUJ9WkOfgzmMt+rnTezats2ri285s2PIts5BHkvPy9i+BW4ZXZ4XpHV1R0SDkbbAI3e8ruY1ZXxLKNbJ2gY6+sKmSV/wcsTapfr0y6xUWa1UP6l5roKMrylX6BjkcRl99JmS6js0F8uWW7aNTcrm2T7bxkupmcsy48Xapfr0y6xUWa1UP6l5trFtrT767IN+AYGmrj6PM/XzkuIfgxU6Plsndgxt7WpoQKLJBiapslq1fabahcrkUdnyXKnxAPTvwObm5t7GRv3/Hu7u7rqdnR23vb3ttra23MGDB5uScVj2l/eU2WOXF7Ix0hfZsdNz2TbX2P+U/eubnrZ49P9i9RSuEeose23HcCdlTndzUEbvKnL9x+XEiRPuyJEjyesTe70R3M3BuiHQAQAAmAANdADk4TM6AAAAAGaHQAcAAADA7BDoAAAAAJgdAh0AAAAAs0OgAwAAAGB2CHQAAAAAzA6BDgAAAIDZIdABAAAAMDsEOgAAAABmh0AHAAAAwOwQ6AAAAACYHQIdAAAAALNDoAMAAABgdgh0AAAAAMwOgQ4AAACA2SHQAQAAADA7BDoAAAAAZodABwAAAMDsEOgAAAAAmB0CHQAAAACzQ6ADAAAAYHYIdAAAAADMDoEOAAAAgNkh0AEAAAAwOwQ6AAAAAGaHQAcAAADA7BDoAAAAAJgdAh0AAAAAs3Ngc3Nzb2Njo9ktt7u763Z2dtz29rbb2tpyhw8fbkoAAAAAYDW4owMAAABgdgh0AAAAAMwOgQ4AAACA2SHQAQAAADA7BDoAAAAAZodABwAAAMDsrOzrpb/97W+7D37wg4t2uS677DJ38cUXN3sAAAAAELayQOfGG290H/nIR5q9PPe5z33c7/zO77jzzz+/yQEAAACAc60s0HnJS17iHvrQh7orrriiyUm78847F8HRdddd5x7xiEc0uQAAAABwrpUFOnI3R+o+7GEPa3LS7rrrLveBD3zAXX755e7CCy9scgEAAADgXCsLdEI++clPugsuuMAdOXKkyQEAAACAcqP61jW5YyOfwbnjjjuaHAAAAAAoN6o7Ot/85jfdb/3Wb7l73/vei8dDhw65z33uc+4973lPU2N/wgcOuL29vcW21Hv2s5+9+KwPAAAAAKiVBDq/+7u/6z772c82e2GPetSj3K/+6q8uApt3vvOd7r3vfW9Tcsa97nUv97znPW/xldMAAAAAYK0k0Ln55pvdF7/4xWbvbF/+8pcX/Tz+8Y93z3nOcxaBjnj/+9/v/viP/3ixL+n5z3++e+xjH7soq/GiBz2w2Trbq+/8BmUBlFHmo4wyH2WU+eZSBmCaRvXWtb/6q79y119/vbv00kvdC17wgsVdG+uWW25xb3/72xdvV1smyAEAAAAwb6MKdH7zN3/TnXfeee7FL36x+67v+q4m92zyOZ773e9+zR4AAAAAnGtUgY5829r555+/SAAAAABQa2VfL/3nf/7n7hOf+ESzd8ZFF10UDXLkTs673vUuvnoaAAAAQKuV3dF55Stf6e5zn/u4n/zJn2xy0r7xjW+4N77xje6aa65ZfCMbAAAAAMSsLNAJfWV0G/n8zmtf+1r3gAc8oMkBAAAAgHOtLNCRP/op36J25513uqNHjy7af+lLX2pKw77/+7/fLTNXAAAAAOthVF9GAAAAAABdWNmXEQAAAABAXwh0AAAAAMwOgQ4AYDKOHTvWbAHd4/kFzMvaBjovetADm617hPJKLNt+WX0cE4DhyCLLT6vSx9jL9intjx8/3uxhjFLXuPb69/FcjJHn15DjAegXd3QaEhC8+s5vNHvrbSrBEUEc5kYWWbqQt9sY3hwWuyzYwzgvwPog0NlHkAMA4yaLUwI/DEGeZwRDwDysfaATC3IkX5OVsx9qJ5Yp00e/XPP8/BTbxm+n+6EyofmxMn30y2NlsXpC62qydD9UBsyVLr7k0V+IaZ6fL8ZUZrWV57DjhPrT8pIy3Q+VtUm11Tw/X9SU2fxQmT76ZW20TahdqmxoqbnEynQ/VAZghuTv6CxjZ2dn7/Tp03snT57cu/3225vc8XvhAx+wSCF+vt0fukzIvp8n2tqJmnahNiKnXaptqCzUh0qViVB/wBwcPXq02Tqb5IfK/Dy7P9Yyv16bWH3N9x+F3ya3TPj7uaRdqG2q/z7KhL+fY5nxRGrMVFlKzjh2P1UmQv35cuoAGD/eujYCOW+bm8pb61Lz5O2BwPJCb98qeUtXF2//WnY8+Z/0LubRpS7ns2xfYzo3di5jnVebMc0bwLDWOtCRhXfsbU/6lii/3LaRx64W77HxxmYq8wTWjb4Vp/TtOKtoN4aFp8yh9hhq1Y5X264PU5jLKq4tgHFa+zs6sWBH8m3qk4w/1FjLsvMc+1yBdSGLOVncaSph2+W2XXa8sSw+7TEMMSc7nqRcte26tsx171rbXGzZWJ5vAIbHW9f2yYI9dYfCL9P6677QT52zrsgYmgisgOWlFn19LAhDfdYsPrtesPZxrCVS49eW9WHV56nGsnOW9vJ8AzB9B+TLCDY2Nprdcru7u25nZ8dtb2+7ra0td/jw4aZk3EILZ5sn2yq0wI61t1LlbWW2/9BYKmfMtrxYHRHLFzljqbYyS+ul2iht21YPmJLYQiu1ALOLOw0KtK5fZsXKbL5oa5cznq0j/P02ofqa5z8q2VehtsovE1oeKovxx7dq5xIr88cKja1t/fyUkrnkzEGlylJi7VJz8ct8Wh4rC+UDmJ61DXRqsbAeTk6gA2C9sAhFn3h+AfNCoAMAAABgdviMDgAAAIDZIdABAAAAMDsEOgAAAABmh0AHAAAAwOwQ6AAABveYA3c0W/cI5QEAUItAJ2GoF91VvbhPZVERm6fk21TDtvP709RWJmL5vlQbTctoa58aK1bm1+uS/VsXY3bVS9/dbJ0rVZbSR599iM1F8m0qIc+pT+9d1OzdQ/L6fL4BANYLgc6A1vkFvPbYY+10oWRTF+fX71OSipUtMxe/XZ9S81zmGDBfqSDnpn/79LNSabADAEDfCHQasqjzF3ay2JuzKRzf3K/B1IV+bkr0+Yf5au40jIUEDl2rOR8182gbR54vqZ9rgmwAQFcIdPbpC6//4ht6sZU8m6zUvm6H2gnNLymz+X5ZjlCbVJ9tZZbd1+1Qu1XQeQw1l9h4oeebzYu1E7VltWJ96s9N7Viht65Jnk01ZKGtdxqULsBDi/BU2Sq0zbGtPMQ/H33RcWLzAABgKGsd6OjCzV9wttHFXckCT8fQdj7Nl2T71PmFykSqrFaqz1RZjNTVR91eFf98+qTcJitWJv34Zdq3bsfGi/Hbyb5KlYlUWa22PjW/q/HkTo+mkmBHF/r+gl7zQovwVNnYxOY5xmPQeYz5fAIA5m1tAx1ZkOnCbY500emnsQnNUVIbu7D22/j5mnLoc0KTbRcrk8dYWS3pI1duXZ2XTSpVlkv60H5WwS722+TUwfL0ehDsAABWYW0DHbuw64pd5Mmj7K+KLjr9NDahOUrKEWvj52tqk6qT034ZoeeLPj/1OdUFPRearFRZDp1rTdsu6IK6ZlGt7aa8IB/jMeh8CCwBAKuw1m9d0wVdlwtJoAsaMGgaOzvfVaq9g6DtNE1R2zEMHQRpgBOaCwAAQ+DLCPbJ4kz/NzqH1tXFnaV9rXrB15fUsQ9Jxu9aqs8+xutK7tz6OD5pJ2lsz3dZXKcW9qkF/5DBQF9CxzBU0KHnPTaW/o6MGePzCQAwTQc2Nzf3NjY2mt1yu7u7bmdnx21vb7utrS13+PDhpmT6Qi+4OS/CqTr6Am/L/fqhfVXSrk2ofqrPtv6l3Ar1LVJ9hMTGbRsvJtVu6DIldfx8207KbB2/TLWNlSqPlbX1uQz5ogH/K6b9vFCdGnbx7y/CU2UitXBPlaWU9unnhfZVzXxiYvO044mSMeU5FXsepcoAAChBoFOo7QVazPVFmgUIgK6Efp/wOwYA0KW1C3R+77e33O+9bKvZy2dffDWgUaEXZr/OlKWOHfA992Xnu+f+1vnNHgAAwGpwRwcAAADA7PBlBAAAAABmh0AHAAAAwOwQ6AAAAACYHQKdCXj8cx58VgIAAACQRqAzchLY/Pc3fu2sRLADAAAApBHoAAAAAJgdAh0AAAAAs8Pf0ZkA/61q8vY1AAAAAHHc0Rk5PqMDAAAAlCPQAQAAADA7BDoAAAAAZodABwAAAMDs8GUEE8CXEQAAAABlCHQAAAAAzA5vXQMAAAAwOwQ6AAAAAGaHQAcAAADA7BDoAAAAAJgdAh0AAAAAs0OggywvetADm62zt0sM0W5V85Q2mlRse6zsMYTmmzoGv61NfUj1649vU63atsuMOQb23IWOpeT4bN1YOx3HT8puL6Okz1h5V3MBAPSHr5eegGX+jo68GL/6zm+cs51iX8BDbWP92HbCr5PbTth6be1idWPtVKrfVDtfTj+5fZaMLXVTlj2GUP+hPtvmXHJMvljb0nyVKpcy5ddJjWfltovx+xPaPlQmpLy0Xc6cQnP389rq5GyrUJ4vp44l9ZVt1zYXK1ZeOhcAwPC4ozNyEuRIYGOTH/h0SV+8NeXy20mSvDahdpLa2HY54/RN5qDzsNt9kf7t+QqlLnTd35iVHmvoGnRx3VN9+mWSlJ+v7XTf314HerySurg2AIBpIdABOmAXkHa7hC6cx7Qgk7loitE5x1LNuahVM5dQPU01lm2P/pReF6mb+pks7Q8AMCwCnZmyL8C8GM+TXtdYKhEKECTPphS/rk1D0zH9OcTmYuv5qcay7dGf2usibUI/U1xnABg3Ap2Z0hdf+0Jc+oJsF719suPYsfz9lJK6IjROaR9KzuuyfUgbe51y+pB6qVSqpr095rZUqq1Nbb8x2l+sz67Hi7HzkGSvhV8mqS8yrj9W6fPC304JjWfT0GRMe7w6PwDAhMiXESxjZ2dn7/Tp03snT57cu/3225tcdOmHrr7gnJTjhQ98QLN19nZKrF5bXzl5ue18be1ytn1aFqqTalcr1qfk15bNnR5j6FhjebnJ5+e17Yuaftqk+kz1JWV+8oXyltU2Ts52idp2omQuOeMsMxcAwDC4ozMB/pcRtLH/A2q3sTqx/wmX/NoyvbaxVCrUh00xobo2DUXPV07q0yqOXfjHOMT4fZ9LX+14ci70nOScl6GPCwDQDwKdGdIXaXm02zhDFz1CHrtYEOoCKpb6oNc3lkqF+rApdhyhujbVHL+0kbaitA+pG0tDsMc+daFz6KeuhcbQtKy5XBcAQB4CnZHr86uk0R27uA2lLhZpQ/AXljbJccSE6mtKteuajhdLUo4yofOoqWt9XL/a52DbWDV9AgCGxR8MnYCaPxhqX9xLX+j9F3hdYLT1F2pn5baz/LEtbWfLbN1Qu1RfqXbLis0ll21b265N7XF3fb5i/dn8nDohqXIpU36d1HhWbrsYvz+h7UNlQspD4/h5pXMRbW1i5ZIvYuOn2tWMF5MzTu1cAADjR6CDLDkLgzZDtFvlPFP66LMPMs+U2DHUtquVOp+pudTOo/b61bYbi7brKnKPz56L1HlJjdnVuexiLqKr+QAA+kGgAwAAAGB2+IwOAAAAgNkh0AEAAAAwOwQ6AAAAAGaHQAdAtsccuKPZOpvkx8qAkDE8X3jOri9+Z41b6vq0lQEWgc6IxP5mjuTb1Kdjx441W8tJ9RMq62pc9EdeQD69d1Gzd65U2RDm8Bxal5+/tufSUGQOyyyM+v59PFZ9HveQz8XYc5DFclgf5yXWZ+1rzbI/05gfAp2RiL1wSL783Ryb1vXFFetj6IV3ypjmMnd9nOu+rp/+bh7ClM7LkPjZ7BYBAuaIQKdD8sJXG4QM9YI5VsePH2+2MEbyApj6XzRM25A/f2N7LvE/wOXm/nrF77qwPs5LX33yMw3F39HpQe3/9IXa5eaF2P/tsgsZzZc82Q6VKX8BFOtTpNrm9FvSn8gdz28XE/vF2PaLOHceIncuInUMUiZ5WscfM1WmQm2Uv9+2OI2V2/FE7lwsW5bS1i42npAyydM6Wl47FxEbz46h46q28WJ9ilTbnH5L+hO54/ntap4rItan5Mf22/pUbc9vn/0PrdDvZxX73a11Sn+PiyHPS0zoNcget8g5NpWaT+r4LP8YYu1U6TUX0kb5bWNlNl/4ZW37KjSe5GmdknYq1kb47YSO6Vumz5TYeCJVJtrKsUYk0FnGfpCzd/r06b2TJ0/u3X777U0ufujqCxapRKh+bp7v6NGjzdYZdl+3/UeR0051UaZy8nL7TJX1oY+5tLWT/VhfsbJQHypVJh7tvtJshYXKlxnP38+x7Hh+norlp6TG023/UeS0U12UqZy83D5TZSL1XPLrqmXGi/VptT2/Q3J+N4f2c35/+2LHkDrWtvMQ6zNHzbHH9HEMOfVKr7lf3+4PXSZk388TqXapMhHqzwqVp/oo7d+Xqt/WV+lYmK+1feua/O9TKC1TZsn/Ztn/ucPqlP5v5RjkzDlVJ1Q2xfMwJM5PP/o+r9K//u+9PI79Opbc6VjG1M5LSO2chzjWMdwtyJmDrcMdDqyjtQ10NBDx0zJllgZAobKhyIubpq700WfX9AW+dJ5yqzuUVqXmGNrE+lzFoig2l77MYbw++uxa7c9fm1SfOuYQz9uxmft5SR1fSm27IUngoa8x8ugHIjWvQ9pnrF2qDJgjvoygBxrgrDLIEfLiZlMX+uizhoydeiGzc8x9oZMXiFBaBZmzPYYu9NFnioyh1yd0DexchprP1Mfro88aMnbutQ2V17B9SrJkjC7HmpI5nxedf+jYUmrbjU3ta5FtYwMa2bZlwDog0OnQGO7ixPTxQrfqF8/YC9nYXtRlPppCL7pj+Z81mVtsjv4LZi69PqE+raGv2RzGG/oYfLFr2zav2ueSZceQbZ2DPJaeF138zUGX5wVpXf3e1p+Htudg7nhdzWvK5vQzjeUR6HSoj7s40p8GUCWBlL6wadIXvByxdqk+/TIrVVYr1U9qnqsg42vKFToGeVxGH32mpPoOzcWy5ZZtY5OyebbPtvFSauayzHixdqk+/TIrVVYr1U9qnm1sW6uPPvvg/77u6vVg6uclxT8GK3R8tk7sGNra1dCARJNdSKfKatX2mWoXKpNHZctzpcYDxoCvl8Zk2RcueSEbI32RHTs9l21zjb2Q6QujXzaFa4Q6y17bMSyKWJitr9jvLIxD6vq0lXFNYRHoAAAAAJgd3roGAAAAYHYIdAAAAADMDoEOAAAAgNkh0AEAAAAwOwQ6AAAAAGaHQAcAAADA7BDoAAAAAJgdAh0AAAAAs0OgAwAAAGB2CHQAAAAAzA6BDgAAAIDZIdABAAAAMDsEOgAAAABmh0AHAAAAwOwQ6AAAAACYHQIdAAAAALNDoAMAAABgdgh0AAAAAMwOgQ4AAACA2SHQAQAAADA7BDoAAAAAZodAB8Ck/cEf/IH7xCc+0ewBAACcQaADYLLe8pa3uI9+9KMEOwAA4BwEOgAm6c1vfvMiuPnWt77l7rrrLvf7v//77uMf/3hTCgAA1h2BDoDJufHGGxdBzfb2tjt48OAiffOb3+TODgAAuBuBDoBJeeMb37gIck6fPu3ud7/7uec+97nu8ssvX2xLsPOmN73JfeYzn2lq9+zjr3DHjh1zx6662f1dkwUAAMaBQAfApDzykY90973vfd2hQ4fc1Vdf7R71qEe5Zz3rWe5JT3rS4s7OQx7yEPe93/u9Te2E/SDlqnf44ckn3SskcGnSK5LvhNuve+Vt7lW3HHfHb7rSXdjkAgCAcSDQATApcvfmmc98pnvOc56zCHKU5P3CL/yC+/Vf/3X3oAc9qMkNaYKZK9/c7Ku/czdf9Qznbt4PXI7vp1te5W678ip38x1NcdAl7pKLmk0AADAqBzY3N/c2Njaa3XK7u7tuZ2dn8V75ra0td/jw4aZk2i644IJmC0DXvv71rzdbw/u7d1zlrnX/fv/ftYvHm56h92IkAHqfu+L4S9xli30JfK517hU3uSv9YOaOm91Vl1/nPtzsuqvf4Y4/7X3u2Acuca/avM5d9+Ffdu+QfuStbXcHVE2ebEr+3XXvKXOvOuaecaPs7+fsB1wv+cEz2zLnJ7yoGe0pr3If1TtIdh4yh+vOzLwNv98AAOuAQAfAWtKA555AZz/U2Q803ve0JsBYBBG3uV+5O/DxeYHRIqiRt7JpYLQfKL3jS+7KZ5xpLX2//pKPnhnPq6uBzFNebcpvuORMQGO3z+rnS/vjv95dcncfN7svPePKyFwBAFg/vHUNABqXXXfcXfGB5jM6ySAn4upfMXd/Lrw7yBGXPe2X3Ydv+1Kzt8/UvfDJV7inPOVV7t9r0PWDV7hf/vBt7ksSLN2wHxC94p7PAF32v73Kuf/nQ/slF7tLntJk7ruQIAcAgLMQ6ADAwpnP7sgdncVndI5f4d7X+oUELeRujARNwc8E5fqwu+7ypg9Jd79lbj+QuulX3G1N2VLzBABghgh0AEzOa1/7WveWt7yl2Tvjy1/+snv5y1/ubrnllian0Mff59589Tvu/lyMc5e5l9z8y+7NH/hks19IgpwPXNEETftpv686TznzzW7aj6S7v+Vtf46LvI+6S25o++IEAADWC4EOgEmRAOfzn//84g+DvvWtb13kSZBz/fXXL4KAt73tbe7WW29d5Bf5nkvcU258n7snrJG3jb3ZPeWSi5v9Mn934jbTVr6KuuaOzoXuqf/CueteYv5Ozx03u1csvhb7k+7ms74e+8Putr9pNgEAAIEOgGl5zGMe4+5zn/ssvgDlL//yL90NN9zgXve617mvfe1r7t73vre76KKL3MUXVwQnF13pbrrZuWfoW8SOPcG97180Xw5Q4cJn/Iq75EVPaPp6n7ui8o7Ohc+4yb3jEde5J+i8XuLc/76Y02Xuqe7au+d63SPs3SgAAMC3rgGYHLmbc9NNN7lTp0658847z33nO99x97rXvdzRo0fdNddc4+5///s3NQEAwLrijg6AyXnc4x7nfumXfskdOnSIIAcAAAQR6ACYpB/8wR9cBDtyR0fuJBPkAAAAi7euAZg0+eIB+UwOQQ4AALC4owNg0i699FKCHAAAcA4CHQAAAACzQ6ADAAAAYHYIdIzHHBj2z4oPPV4tzsv4cc7GYZ1/puf+HORnDMviOdQNziNKEOiMyNA/vLXjpdqFysb0S6mvuUi/NpWI1V+mTxVqV9vXGEx57n2a43kpPaahz0FqvHV+nsofsO3DVS99d7M1fqG5ynPi03sXNXvdaHuedf08HMvzWs7jOv+MoQyBTqOPX0IpQ49Xa6rnZchfgjpnm3LHj9Ur6VPr9in3eNaZfx3Ges76eL4M8Rxcpbkf39hJ4HDTv316s4ccU3/OjvX3J6aHQAedYjFQZhXni2sE9Gudf8aOHz/ebEHNJVAe0zHIXAiGkINAZ5//S8j/4Qnta/JpXqxcSH7JLwztK9RfbVkOaVf6iy02Vs5c/PFsG79dal+3Q+2E5peU2Xy/rPQcdUnm4o8fm6dK5Yfa6X6oLEXrx9rVlll+eaqdLfPLY/kiVaakzH/u6mOonebHyvTRL9c8P1+kypSUlfyMxcosKQv1qds+LS8pa9tPifUpUmVKykp/xtvGaiv3tZXpY6g8ROuG2rTttwm9dU3ybCqhbwMLvR1M8jT5bDtbbvPto9L6fr6wbfxyzfPz28Sug0iVpWj90nZtQv3p/DRZbWWW3dftUDugmPzB0GXs7OzsnT59eu/kyZN7t99+e5M7LY92X2m2zkjt59T183yx8lB+qH9VW6ZCeVasPNUuZ5zcflP7JXWt2j5TZUryNJWI9eXLyWvbF1310ybVRxdlqXoit25tmRXKz60b2s/pz+6nyqy2el326T+KWF1RW6Zy8kr7FKX5IlSWGq+2TMi+n9cm1WeqLMfRo0ebrXv4eaE6Kb/0f7yr2bqHnxfaT7XzH4VfP7Tv54m2drFzuOx1iPUrUmW1cuZg92vLhL8fklMHWPs7OvK/BaX/W2eF2qb6W3a8FNvvsmP0Oc+Qocfrg8xf0xD/CzXUcylF5hBKbUrmHaorY/j5fZ0LK3cuy8rpr3TMPubZR5+rEjqOMRxfzvhzuQZdK/1cT079Pj8rxHUEusdb1wrJLyJ58dM0ZlOZZw29DkIeeYFYTu3zWtqFUo6a8YTUj42xTJ+hdjJOrAzTELt+Y7u2qbmkyrqm50XIY+7P81zUvgWtRttzMFUGIM9aBzryy6Pml7i00VTyC6h2vBo6lqYSQ85TDD1e10qeA13p45zpc0VS38ek89dUIja/VJ/aRpPPtgu11eS31THHro95TuXY9dppsmz+qq+tnYsdV+fh56OO3JHRIEYe7R0a3dc0BHtt/eegLZMEoBx3dAr5v4jGZMxzqyXHpMn/RS/7ofwxGvu16Wt+eu2WuU6huem1LyFtNKXYfkvHGNKY5zZW63htY31Jvib/Z0J/vtp+VqZsqEBG6Pn0hfJiSuq26bKvNjKWpi6fT133h/la20An9UOiv5Q0WX5Z7g9aSV0rNV5pmTy28fvpij8X1TaelGkqIfV1vFy2Tdu8LL9dSduYVJ+p/v12ufx2fv+2vIS002TZ/nQ87TtUFmLbiFSftp4vNV6qzN/32bZWqs+U2nYldXPV9pk6Br/MSpWllIxny/z9vpXOUx6XJf1omiIJVPQtZv6dmVqhPuWxjd8uV+jaqlTZlMi8NVn+8flsObCMA/KtaxsbG81uud3dXbezs+O2t7fd1taWO3z4cFMybvLD4//g9Wno8WqN6by0lYkpnNOu8Vyqo88Z0cW81vk6TOXYa63z8UmZmPPxr8oYnldDzqGvscZwHjEdaxfo/N5vb7nfe9lWs4cxsr/A9EVX+b/c/HKsXur6rULoBZHnDdZR7e/W577sfPfc3zq/2QOA6VjbOzoAAAAA5osvIwAAAAAwOwQ6AAAAAGaHQAcAAADA7BDoAAAAAJgdAp2BPf45D262zhUqk7xQAgAAABBHoDOgVICSKvvvb/zaOQkAAABAHIHOgFIBCsELAAAA0B0CHQAAAACzQ6AzAfazOam3uAEAAAA4g0BnAuxncyQR7AAAAABpBDojx2d3AAAAgHIEOgAAAABmh0Bn5HibGgAAAFCOQGfk9DM5NvF2NgAAACDtwObm5t7GxkazW253d9ft7Oy47e1tt7W15Q4fPtyUAAAAAMBqcEcHAAAAwOwQ6AAAAACYHQIdAAAAALNDoAMAAABgdgh0gBF4zIE7mi0gjucJAAD5CHQGlvq7OLEy+9XSqfZjUjPP2mM7duxYszV+obnK4vXTexc1e91oOyddn7MpXQOfzN1PYyXPkzEEO1M6ZwCA9UWgM6DUQj5WJvnyd3Nsqg0IxkyPs5QssI4fP97sIcfUz1nXi2o5F3o+7DbiOGcAgCkg0BlQaiFfssivCQgwTn3czVmFMS105ZzO+S1eXd7Vmfu5UutynACAsxHooDNyV0aTr63MPubS/9kP/Q+/5Gny2Xa23ObbR6X1/Xxh2/jlmufnt0m1S5WlaP3Sdm1C/en8NFltZZbd1+1QOyWBQJfBo47lj2fz/TKxTJk+hsq7pOeq6yBA5+7P3+b7ZWKZMn0MlXf9nAAATMTm5ubeMnZ2dvZOnz69d/Lkyb3bb7+9yUXMD119QbN1rlCZ5PlpjPx52f1Umao9rqNHjzZb9/DzQvupdv6j8OuH9v080dbu0e4rzdbZUu3a+hShPJUqq5UzB7tfWyb8/a6E+k2N3UeZkH0/zxd73ixD+iztNzTP1PH1USZk388DAIA7OhMgb1WzqfTOB85V+larnPp9vn2Lz0BMWx/Pt1z6ti0/+fq6u1NrlecMADAPBDoYhL5tbcpBmr4tJvTWmK7Joi01XqoM3ao5123Xb0gawPjJpwFQqKxUzbGP6ZwBAOaBQAeD8O9KjZEutIQ82v8h1n1NQ7Dj+Qs/WyYJ94jdsahVe65tm7Ev3DXA6SLIEfbYJeWybbo8Z10/JwAA00Cgg8GN/a5OycJsWbKwDC3AShZ5XS8IhyLz1tTlOe9ywe7LPdddXhOfBiVd0ACgr/MlxnDO+nxOAADGi0Bn5PQzOTaN8Y6IP0/LL+t7/vq/wZq6WESH+pTHNn67XKljSJVNicxbk+Ufn8+W982fiz/XmFS72j770EcAUHt8qXa1fQIA1tsB+da1jY2NZrfc7u6u29nZcdvb225ra8sdPny4KQGQq+//Vc8x5BxYrNYZw/MEAICp4I4OMAJjWLwOOQeCnDoEOQAA5CPQAQAAADA7BDoAAAAAZodABwAAAMDsEOgAAAAAmB0CHQC9k28LA1CHnx8AqEOgMzD/b8xYoTL792dswvTZvwtiU65U3ZJ++pb6SuQxzXNobcc+5LkpHWtq163Lc51Tt+vzIz8/BDsAUI5AZ0CpACVVJn9g0yYsZ0yBonzNsp/QjyktzmWuU34ucK4BAGNAoFNomTsqqSCFAAZdGsvCre0PXLLAHAeuQ7f6OJ/c1QGAcgQ6hfSuylB3BfwASMYlKDpDr0Eo+NS8UL4+xspUblvd9/NXKfQ/6pJnk2+ZMn0MlafE+rPJaiuz7L5uh9otQ/sL9ZkqS9H6Je38Nn5b2dcUksqPtU3l66NftgztL9RnqixF69e0S42Xyo+1S5UBACptbm7uLWNnZ2fv9OnTeydPnty7/fbbm9z18ENXX7BIJVL1c/oqHW/OYuffz2vbVzntQm3b2sUcPXr0nFQiVT9U5ufZ/doyIft+nnq0+0qzFRZqlxqvtkz4+8taZi4iNZ9UWYjW9x+F31eo75y8kj5D/S1jmbmI1HxSZSG146Xa5fQp2n6eAABnW9s7Ov7/wmtqK7OGvruDcw19d6vr8eQtLjaNUc68xjr3IXEOhjPFc10yZ55LANCNtQ10NEjxU1uZpQFQqKwPQ441dXptJCFP6q0zqbJ1JYvR1HlJlQ1tTHOpMaVznRKbZ9vxAQDq8BmdShp0EHiMk14brlE+WWzZpGThFcrH2ecstHi1qU92fL1elp2HXxYj9aQvTatm5+/Px5ZJGiO9LrE52rIxnG8AmAMCnUJ6l4DF83RM+a7Oqr5lqauFVh/fFCVz0xRaMNYqnWfJOerqfIrUPHPOR8lc7OK7S3M4113KmbPMJfUNhgCAcxHoFOIOwfjJ9dGANBSU2nLLb7dOZCEriy1NdmEbKpPHVZHxNVn+PH22vAv+eHY+qbKh1c5F6tayY3YhdQy1x7eMmvFC85THWBkAYHkH5FvXNjY2mt1yu7u7bmdnx21vb7utrS13+PDhpgQAzujqf6P7WgTyv+VhuhAXXZ13znU5zhkA1CHQAQAAADA7vHUNAAAAwOwQ6AAAAACYHQIdAAAAALNDoAMAAABgdgh0AAAAAMwOgc7AUn+fJVZm/7ZLqj0AAACAMwh0BpQKUmJlki9/yNImgh0AAAAgjUBnQBKkxKTKAAAAAJQh0AEAAAAwOwQ6I6dvVbOJuz8AAABAGoHOyGlgY5PkAQAAAIgj0AEAAAAwOwQ6AAAAAGaHQAcAAADA7BDojJx+JscmyQMAAAAQd2Bzc3NvY2Oj2S23u7vrdnZ23Pb2ttva2nKHDx9uSgAAAABgNbijAwAAAGB2CHQAAAAAzA6BDgAAAIDZIdABAAAAMDsEOsBMPebAHc3W6oxhDgAAYD0R6AxMvh46JlZmv1o61X5MauY5lWObAgkwPr13UbPXjWPHjjVbYaFymQPBDgAAWAUCnQGlFvKxMsmXv5tj0xwDAj3OIbQt2FFOzunx48ebvenhOQEAwPwQ6AwotZAfapGP+evjbs4yuryrI/2M7Q7RGOcEAAAIdNAhuSujyddWZh9zyf/Ca7JS+7odaidS5Zrn57fR+qG2mpfK98uE5sXKY7R+qE2qLEXrl7arIUFTbeAUOz47f79MtJXrnAAAwLgQ6KATEqToW+v8u1N+mR/QaH2/XYosOOWtUppCC9AQfXuVtguxfava8VRNn6kyEeozJTVeqqyN1LePQ9BgJzfgSR2fnb9u+2x7AAAwDQQ6I6eBgU1Ik8WoLmR1gVoiVH/ZBW4fC+QxzqkLGsD4ybfM3Z3SYx/ruQIAAHEEOhOgd0I0TVEfgZoEMZp8sjCtCXJSUuPV6qPPGD0nsfFSZUPSAMZPPg2AQmW+tmMHAADzQ6CDQfQRrMni1SZLFrO6uO2C9hcaaxm2zy77jbFj+efGlkkaMw1wcoIcZY+ty2BHAy4AADAuBDojN8e3qvVxTHbhqkGJ6HpR2yd/nrKvSY8nhyz+QwvvkvNQUrdN7l2XHBpUlPbX5fH4SgMuAAAwjAObm5t7GxsbzW653d1dt7Oz47a3t93W1pY7fPhwU4IQWeTH7mjEyvzAoKs7Il1LzdOWxY6x9Ljs4tUGAn5g4O8LbRvKjwUV/nha1+Zb2k9JnyrVRrSVx4KB2HgiVSZSY6bKugx0lpFzfCJ0XmLHBgAAxotABxihLhbXYwgwxhLkAACA9cNb14AR6uIOwhgCDIIcAACwKgQ6AAAAAGaHQAcAAADA7BDoAAAAAJgdAh0AAAAAs0OgAwAAAGB2CHQAAAAAzA6BDgAAAIDZIdABAAAAMDsEOgAAAABmh0AHAAAAwOwQ6AAAAACYHQIdAAAAALNDoAMAAABgdgh0AAAAAMwOgQ4AAACA2SHQAQAAADA7BDoAAAAAZodABwAAAMDsEOgAAAAAmB0CHQAAAACzQ6ADAAAAYHbWNtB50YMe2GzdI5RXYtn2y+rjmAAAAIAp4o5OQwKCV9/5jWZvvU0lOCKIAwAAQAyBzj6CnHk6duzYIgEAAGD9rH2gEwtyJF+TlbMfaieWKdNHv1zz/PwU28Zvp/uhMqH5sTJ99MtjZbF6QutqsnQ/VKaOHz++SAAAAFg/ax3oyAI5FuRIvqbYQjok1i7VZ854to7y25Ww7ex42o+WWbXzVKmyGK0vKXeeAAAAAG9dG4GchfpUFvOpeRKQAAAAYChrHejIwjt0V0JIvibLtpHHrhbvsfHGZirzBAAAwHpb+zs6sWBH8m3qk4w/1FjLsvMc+1z5MgIAAID1xVvX9smCPXWHwi/T+mNf6Pctdc66ImNoKj3ffBkBAADA+jqwubm5t7Gx0eyW293ddTs7O257e9ttbW25w4cPNyXjFlo42zzZVqEFdqy9lSpvK7P9h8ZSOWO25cXqiFi+yBlLtZVZWi/VRmnbtnoAAABYL2sb6NRiYT2cnEAHAAAACCHQAQAAADA7fEYHAAAAwOwQ6AAAAACYHQIdAAAAALNDoAMAAABgdgh0AAAAAMwOgQ4AAACA2SHQAQAAADA7BDoAAAAAZodABwAAAMDsEOgAAAAAmB0CHQAAAACzQ6ADAAAAYHYIdAAAAADMDoEOAAAAgNkh0AEAAAAwOwQ6AAAAAGaHQAcAAADA7BDoAAAAAJgdAh0AAAAAs0OgAwAAAGB2CHQAAAAAzA6BDgAAAIDZIdABAAAAMDsEOgAAAABmh0AHAAAAwOx0GugcOHCg2QIAAACA1eks0JEgh0AHAAAAwOo59/8DZkvQdLH3Bh4AAAAASUVORK5CYII=)"
   ]
  },
  {
   "cell_type": "markdown",
   "id": "4794549c",
   "metadata": {},
   "source": [
    "### **다시 시도 : 토크나이징과 데이터 로드**"
   ]
  },
  {
   "cell_type": "code",
   "execution_count": 55,
   "id": "da82bc36",
   "metadata": {},
   "outputs": [],
   "source": [
    "# 데이터셋 클래스 정의 (토크나이징과 데이터 로드)\n",
    "class TextDataset(Dataset):\n",
    "    def __init__(self, texts, labels, tokenizer, max_len=128):\n",
    "        self.texts = texts\n",
    "        self.labels = labels\n",
    "        self.tokenizer = tokenizer\n",
    "        self.max_len = max_len\n",
    "\n",
    "    def __len__(self):\n",
    "        return len(self.texts)\n",
    "\n",
    "    def __getitem__(self, idx):\n",
    "        text = self.texts[idx]\n",
    "        label = self.labels[idx]\n",
    "        encoding = self.tokenizer(\n",
    "            text,\n",
    "            truncation=True,\n",
    "            padding='max_length',\n",
    "            max_length=self.max_len,\n",
    "            return_tensors='pt'\n",
    "        )\n",
    "        input_ids = encoding['input_ids'].squeeze()\n",
    "        attention_mask = encoding['attention_mask'].squeeze()\n",
    "        return {\n",
    "            'input_ids': input_ids,\n",
    "            'attention_mask': attention_mask,\n",
    "            'labels': torch.tensor(label, dtype=torch.long)\n",
    "        }"
   ]
  },
  {
   "cell_type": "markdown",
   "id": "ad3fbe66",
   "metadata": {},
   "source": [
    "### 훈련 및 테스트 데이터 준비"
   ]
  },
  {
   "cell_type": "code",
   "execution_count": 63,
   "id": "fe90e390",
   "metadata": {},
   "outputs": [
    {
     "name": "stdout",
     "output_type": "stream",
     "text": [
      "기타 괴롭힘 대화 \n",
      "\n",
      "너 되게 귀여운거 알지 ? 나보다 작은 남자는 첨봤어 . 그만해 . 니들 놀리는거 재미없어 . 지영아 너가 키 160이지 ? 그럼 재는 160도 안돼는거네 ? 너 군대도 안가고 좋겠다 . 니들이 나 작은데 보태준거 있냐 ? 난쟁이들도 장가가고하던데 . 너도 희망을 가져봐 더이상 하지마라 . 키크는 수술도 있대잖아 ? 니네 엄마는 그거 안해주디 ? 나람 해줬어 . 키로 어찌살아 . 제발 그만 괴롭히라고 ! \n",
      "\n",
      "t_002 \n",
      "\n",
      "너 오늘 그게 뭐야 네 제가 뭘 잘못했나요.? 제대로 좀 하지 네 똑바로 좀 하지 행실이 맘에 안들어 네 실천할께요 옆에 동기들 좀 본받으란 말야 어? 네 알겠습니다 그래 똑바로해 노럭할께요\n"
     ]
    }
   ],
   "source": [
    "print( data['class_label'][2],\"\\n\")\n",
    "print( data['conversation'][2],\"\\n\")\n",
    "\n",
    "print( test['idx'][2],\"\\n\")\n",
    "print( test['text'][2])"
   ]
  },
  {
   "cell_type": "code",
   "execution_count": 57,
   "id": "9b11aaab",
   "metadata": {},
   "outputs": [],
   "source": [
    "# 훈련 및 테스트 데이터 준비 (배치 크기 줄임)\n",
    "train_texts = data['conversation'].tolist()  # 전처리된 텍스트 사용\n",
    "train_labels = data['class_label'].tolist()\n",
    "\n",
    "test_texts = test['text'].tolist()  # 전처리된 텍스트 사용\n",
    "test_labels = test['idx'].tolist()\n",
    "\n",
    "train_dataset = TextDataset(train_texts, train_labels, tokenizer)\n",
    "test_dataset = TextDataset(test_texts, test_labels, tokenizer)\n",
    "\n",
    "train_loader = DataLoader(train_dataset, batch_size=8, shuffle=True)  # 배치 크기 줄임\n",
    "test_loader = DataLoader(test_dataset, batch_size=8)"
   ]
  },
  {
   "cell_type": "markdown",
   "id": "31a2c359",
   "metadata": {},
   "source": [
    "### 학습 & 평가 설정"
   ]
  },
  {
   "cell_type": "code",
   "execution_count": 58,
   "id": "ed7bdaaa",
   "metadata": {},
   "outputs": [],
   "source": [
    "# 6. Mixed Precision 설정\n",
    "scaler = GradScaler()\n",
    "\n",
    "# 7. 옵티마이저 설정\n",
    "optimizer = AdamW(model.parameters(), lr=5e-5)\n",
    "\n",
    "# Gradient Accumulation 설정 (큰 배치 크기를 시뮬레이션)\n",
    "accumulation_steps = 4"
   ]
  },
  {
   "cell_type": "code",
   "execution_count": 59,
   "id": "f62a78f3",
   "metadata": {},
   "outputs": [],
   "source": [
    "# 8. 학습 함수 정의 (Mixed Precision 적용 및 Gradient Accumulation)\n",
    "def train_epoch(model, data_loader, optimizer, device, accumulation_steps, scaler):\n",
    "    model.train()\n",
    "    losses = []\n",
    "    correct_predictions = 0\n",
    "    total = 0\n",
    "\n",
    "    optimizer.zero_grad()\n",
    "\n",
    "    for idx, batch in enumerate(data_loader):\n",
    "        input_ids = batch['input_ids'].to(device)\n",
    "        attention_mask = batch['attention_mask'].to(device)\n",
    "        labels = batch['labels'].to(device)\n",
    "\n",
    "        with autocast():  # Mixed Precision\n",
    "            outputs = model(input_ids=input_ids, attention_mask=attention_mask, labels=labels)\n",
    "            loss = outputs.loss\n",
    "            logits = outputs.logits\n",
    "\n",
    "        scaler.scale(loss).backward()\n",
    "\n",
    "        if (idx + 1) % accumulation_steps == 0:\n",
    "            scaler.step(optimizer)\n",
    "            scaler.update()\n",
    "            optimizer.zero_grad()\n",
    "\n",
    "        preds = torch.argmax(logits, dim=1)\n",
    "        correct_predictions += torch.sum(preds == labels)\n",
    "        total += len(labels)\n",
    "        losses.append(loss.item())\n",
    "\n",
    "    return correct_predictions.double() / total, np.mean(losses)\n",
    "\n",
    "# 9. 평가 함수 정의\n",
    "def evaluate(model, data_loader, device):\n",
    "    model.eval()\n",
    "    predictions = []\n",
    "    true_labels = []\n",
    "\n",
    "    with torch.no_grad():\n",
    "        for batch in data_loader:\n",
    "            input_ids = batch['input_ids'].to(device)\n",
    "            attention_mask = batch['attention_mask'].to(device)\n",
    "            labels = batch['labels'].to(device)\n",
    "\n",
    "            outputs = model(input_ids=input_ids, attention_mask=attention_mask)\n",
    "            logits = outputs.logits\n",
    "            preds = torch.argmax(logits, dim=1)\n",
    "\n",
    "            predictions.extend(preds.cpu().numpy())\n",
    "            true_labels.extend(labels.cpu().numpy())\n",
    "\n",
    "    return predictions, true_labels"
   ]
  },
  {
   "cell_type": "markdown",
   "id": "e21dd7b4",
   "metadata": {},
   "source": [
    "### F1 Score 계산"
   ]
  },
  {
   "cell_type": "code",
   "execution_count": 60,
   "id": "0d12e2ba",
   "metadata": {},
   "outputs": [
    {
     "name": "stdout",
     "output_type": "stream",
     "text": [
      "Epoch 1/3\n"
     ]
    },
    {
     "ename": "TypeError",
     "evalue": "new(): invalid data type 'str'",
     "output_type": "error",
     "traceback": [
      "\u001b[0;31m---------------------------------------------------------------------------\u001b[0m",
      "\u001b[0;31mTypeError\u001b[0m                                 Traceback (most recent call last)",
      "\u001b[0;32m/tmp/ipykernel_340/2156998744.py\u001b[0m in \u001b[0;36m<module>\u001b[0;34m\u001b[0m\n\u001b[1;32m      4\u001b[0m \u001b[0;32mfor\u001b[0m \u001b[0mepoch\u001b[0m \u001b[0;32min\u001b[0m \u001b[0mrange\u001b[0m\u001b[0;34m(\u001b[0m\u001b[0mEPOCHS\u001b[0m\u001b[0;34m)\u001b[0m\u001b[0;34m:\u001b[0m\u001b[0;34m\u001b[0m\u001b[0;34m\u001b[0m\u001b[0m\n\u001b[1;32m      5\u001b[0m     \u001b[0mprint\u001b[0m\u001b[0;34m(\u001b[0m\u001b[0;34mf'Epoch {epoch + 1}/{EPOCHS}'\u001b[0m\u001b[0;34m)\u001b[0m\u001b[0;34m\u001b[0m\u001b[0;34m\u001b[0m\u001b[0m\n\u001b[0;32m----> 6\u001b[0;31m     \u001b[0mtrain_acc\u001b[0m\u001b[0;34m,\u001b[0m \u001b[0mtrain_loss\u001b[0m \u001b[0;34m=\u001b[0m \u001b[0mtrain_epoch\u001b[0m\u001b[0;34m(\u001b[0m\u001b[0mmodel\u001b[0m\u001b[0;34m,\u001b[0m \u001b[0mtrain_loader\u001b[0m\u001b[0;34m,\u001b[0m \u001b[0moptimizer\u001b[0m\u001b[0;34m,\u001b[0m \u001b[0mdevice\u001b[0m\u001b[0;34m,\u001b[0m \u001b[0maccumulation_steps\u001b[0m\u001b[0;34m,\u001b[0m \u001b[0mscaler\u001b[0m\u001b[0;34m)\u001b[0m\u001b[0;34m\u001b[0m\u001b[0;34m\u001b[0m\u001b[0m\n\u001b[0m\u001b[1;32m      7\u001b[0m     \u001b[0mprint\u001b[0m\u001b[0;34m(\u001b[0m\u001b[0;34mf'Train loss: {train_loss}, Train accuracy: {train_acc}'\u001b[0m\u001b[0;34m)\u001b[0m\u001b[0;34m\u001b[0m\u001b[0;34m\u001b[0m\u001b[0m\n\u001b[1;32m      8\u001b[0m \u001b[0;34m\u001b[0m\u001b[0m\n",
      "\u001b[0;32m/tmp/ipykernel_340/782822063.py\u001b[0m in \u001b[0;36mtrain_epoch\u001b[0;34m(model, data_loader, optimizer, device, accumulation_steps, scaler)\u001b[0m\n\u001b[1;32m      8\u001b[0m     \u001b[0moptimizer\u001b[0m\u001b[0;34m.\u001b[0m\u001b[0mzero_grad\u001b[0m\u001b[0;34m(\u001b[0m\u001b[0;34m)\u001b[0m\u001b[0;34m\u001b[0m\u001b[0;34m\u001b[0m\u001b[0m\n\u001b[1;32m      9\u001b[0m \u001b[0;34m\u001b[0m\u001b[0m\n\u001b[0;32m---> 10\u001b[0;31m     \u001b[0;32mfor\u001b[0m \u001b[0midx\u001b[0m\u001b[0;34m,\u001b[0m \u001b[0mbatch\u001b[0m \u001b[0;32min\u001b[0m \u001b[0menumerate\u001b[0m\u001b[0;34m(\u001b[0m\u001b[0mdata_loader\u001b[0m\u001b[0;34m)\u001b[0m\u001b[0;34m:\u001b[0m\u001b[0;34m\u001b[0m\u001b[0;34m\u001b[0m\u001b[0m\n\u001b[0m\u001b[1;32m     11\u001b[0m         \u001b[0minput_ids\u001b[0m \u001b[0;34m=\u001b[0m \u001b[0mbatch\u001b[0m\u001b[0;34m[\u001b[0m\u001b[0;34m'input_ids'\u001b[0m\u001b[0;34m]\u001b[0m\u001b[0;34m.\u001b[0m\u001b[0mto\u001b[0m\u001b[0;34m(\u001b[0m\u001b[0mdevice\u001b[0m\u001b[0;34m)\u001b[0m\u001b[0;34m\u001b[0m\u001b[0;34m\u001b[0m\u001b[0m\n\u001b[1;32m     12\u001b[0m         \u001b[0mattention_mask\u001b[0m \u001b[0;34m=\u001b[0m \u001b[0mbatch\u001b[0m\u001b[0;34m[\u001b[0m\u001b[0;34m'attention_mask'\u001b[0m\u001b[0;34m]\u001b[0m\u001b[0;34m.\u001b[0m\u001b[0mto\u001b[0m\u001b[0;34m(\u001b[0m\u001b[0mdevice\u001b[0m\u001b[0;34m)\u001b[0m\u001b[0;34m\u001b[0m\u001b[0;34m\u001b[0m\u001b[0m\n",
      "\u001b[0;32m/opt/conda/lib/python3.9/site-packages/torch/utils/data/dataloader.py\u001b[0m in \u001b[0;36m__next__\u001b[0;34m(self)\u001b[0m\n\u001b[1;32m    519\u001b[0m             \u001b[0;32mif\u001b[0m \u001b[0mself\u001b[0m\u001b[0;34m.\u001b[0m\u001b[0m_sampler_iter\u001b[0m \u001b[0;32mis\u001b[0m \u001b[0;32mNone\u001b[0m\u001b[0;34m:\u001b[0m\u001b[0;34m\u001b[0m\u001b[0;34m\u001b[0m\u001b[0m\n\u001b[1;32m    520\u001b[0m                 \u001b[0mself\u001b[0m\u001b[0;34m.\u001b[0m\u001b[0m_reset\u001b[0m\u001b[0;34m(\u001b[0m\u001b[0;34m)\u001b[0m\u001b[0;34m\u001b[0m\u001b[0;34m\u001b[0m\u001b[0m\n\u001b[0;32m--> 521\u001b[0;31m             \u001b[0mdata\u001b[0m \u001b[0;34m=\u001b[0m \u001b[0mself\u001b[0m\u001b[0;34m.\u001b[0m\u001b[0m_next_data\u001b[0m\u001b[0;34m(\u001b[0m\u001b[0;34m)\u001b[0m\u001b[0;34m\u001b[0m\u001b[0;34m\u001b[0m\u001b[0m\n\u001b[0m\u001b[1;32m    522\u001b[0m             \u001b[0mself\u001b[0m\u001b[0;34m.\u001b[0m\u001b[0m_num_yielded\u001b[0m \u001b[0;34m+=\u001b[0m \u001b[0;36m1\u001b[0m\u001b[0;34m\u001b[0m\u001b[0;34m\u001b[0m\u001b[0m\n\u001b[1;32m    523\u001b[0m             \u001b[0;32mif\u001b[0m \u001b[0mself\u001b[0m\u001b[0;34m.\u001b[0m\u001b[0m_dataset_kind\u001b[0m \u001b[0;34m==\u001b[0m \u001b[0m_DatasetKind\u001b[0m\u001b[0;34m.\u001b[0m\u001b[0mIterable\u001b[0m \u001b[0;32mand\u001b[0m\u001b[0;31m \u001b[0m\u001b[0;31m\\\u001b[0m\u001b[0;34m\u001b[0m\u001b[0;34m\u001b[0m\u001b[0m\n",
      "\u001b[0;32m/opt/conda/lib/python3.9/site-packages/torch/utils/data/dataloader.py\u001b[0m in \u001b[0;36m_next_data\u001b[0;34m(self)\u001b[0m\n\u001b[1;32m    559\u001b[0m     \u001b[0;32mdef\u001b[0m \u001b[0m_next_data\u001b[0m\u001b[0;34m(\u001b[0m\u001b[0mself\u001b[0m\u001b[0;34m)\u001b[0m\u001b[0;34m:\u001b[0m\u001b[0;34m\u001b[0m\u001b[0;34m\u001b[0m\u001b[0m\n\u001b[1;32m    560\u001b[0m         \u001b[0mindex\u001b[0m \u001b[0;34m=\u001b[0m \u001b[0mself\u001b[0m\u001b[0;34m.\u001b[0m\u001b[0m_next_index\u001b[0m\u001b[0;34m(\u001b[0m\u001b[0;34m)\u001b[0m  \u001b[0;31m# may raise StopIteration\u001b[0m\u001b[0;34m\u001b[0m\u001b[0;34m\u001b[0m\u001b[0m\n\u001b[0;32m--> 561\u001b[0;31m         \u001b[0mdata\u001b[0m \u001b[0;34m=\u001b[0m \u001b[0mself\u001b[0m\u001b[0;34m.\u001b[0m\u001b[0m_dataset_fetcher\u001b[0m\u001b[0;34m.\u001b[0m\u001b[0mfetch\u001b[0m\u001b[0;34m(\u001b[0m\u001b[0mindex\u001b[0m\u001b[0;34m)\u001b[0m  \u001b[0;31m# may raise StopIteration\u001b[0m\u001b[0;34m\u001b[0m\u001b[0;34m\u001b[0m\u001b[0m\n\u001b[0m\u001b[1;32m    562\u001b[0m         \u001b[0;32mif\u001b[0m \u001b[0mself\u001b[0m\u001b[0;34m.\u001b[0m\u001b[0m_pin_memory\u001b[0m\u001b[0;34m:\u001b[0m\u001b[0;34m\u001b[0m\u001b[0;34m\u001b[0m\u001b[0m\n\u001b[1;32m    563\u001b[0m             \u001b[0mdata\u001b[0m \u001b[0;34m=\u001b[0m \u001b[0m_utils\u001b[0m\u001b[0;34m.\u001b[0m\u001b[0mpin_memory\u001b[0m\u001b[0;34m.\u001b[0m\u001b[0mpin_memory\u001b[0m\u001b[0;34m(\u001b[0m\u001b[0mdata\u001b[0m\u001b[0;34m)\u001b[0m\u001b[0;34m\u001b[0m\u001b[0;34m\u001b[0m\u001b[0m\n",
      "\u001b[0;32m/opt/conda/lib/python3.9/site-packages/torch/utils/data/_utils/fetch.py\u001b[0m in \u001b[0;36mfetch\u001b[0;34m(self, possibly_batched_index)\u001b[0m\n\u001b[1;32m     42\u001b[0m     \u001b[0;32mdef\u001b[0m \u001b[0mfetch\u001b[0m\u001b[0;34m(\u001b[0m\u001b[0mself\u001b[0m\u001b[0;34m,\u001b[0m \u001b[0mpossibly_batched_index\u001b[0m\u001b[0;34m)\u001b[0m\u001b[0;34m:\u001b[0m\u001b[0;34m\u001b[0m\u001b[0;34m\u001b[0m\u001b[0m\n\u001b[1;32m     43\u001b[0m         \u001b[0;32mif\u001b[0m \u001b[0mself\u001b[0m\u001b[0;34m.\u001b[0m\u001b[0mauto_collation\u001b[0m\u001b[0;34m:\u001b[0m\u001b[0;34m\u001b[0m\u001b[0;34m\u001b[0m\u001b[0m\n\u001b[0;32m---> 44\u001b[0;31m             \u001b[0mdata\u001b[0m \u001b[0;34m=\u001b[0m \u001b[0;34m[\u001b[0m\u001b[0mself\u001b[0m\u001b[0;34m.\u001b[0m\u001b[0mdataset\u001b[0m\u001b[0;34m[\u001b[0m\u001b[0midx\u001b[0m\u001b[0;34m]\u001b[0m \u001b[0;32mfor\u001b[0m \u001b[0midx\u001b[0m \u001b[0;32min\u001b[0m \u001b[0mpossibly_batched_index\u001b[0m\u001b[0;34m]\u001b[0m\u001b[0;34m\u001b[0m\u001b[0;34m\u001b[0m\u001b[0m\n\u001b[0m\u001b[1;32m     45\u001b[0m         \u001b[0;32melse\u001b[0m\u001b[0;34m:\u001b[0m\u001b[0;34m\u001b[0m\u001b[0;34m\u001b[0m\u001b[0m\n\u001b[1;32m     46\u001b[0m             \u001b[0mdata\u001b[0m \u001b[0;34m=\u001b[0m \u001b[0mself\u001b[0m\u001b[0;34m.\u001b[0m\u001b[0mdataset\u001b[0m\u001b[0;34m[\u001b[0m\u001b[0mpossibly_batched_index\u001b[0m\u001b[0;34m]\u001b[0m\u001b[0;34m\u001b[0m\u001b[0;34m\u001b[0m\u001b[0m\n",
      "\u001b[0;32m/opt/conda/lib/python3.9/site-packages/torch/utils/data/_utils/fetch.py\u001b[0m in \u001b[0;36m<listcomp>\u001b[0;34m(.0)\u001b[0m\n\u001b[1;32m     42\u001b[0m     \u001b[0;32mdef\u001b[0m \u001b[0mfetch\u001b[0m\u001b[0;34m(\u001b[0m\u001b[0mself\u001b[0m\u001b[0;34m,\u001b[0m \u001b[0mpossibly_batched_index\u001b[0m\u001b[0;34m)\u001b[0m\u001b[0;34m:\u001b[0m\u001b[0;34m\u001b[0m\u001b[0;34m\u001b[0m\u001b[0m\n\u001b[1;32m     43\u001b[0m         \u001b[0;32mif\u001b[0m \u001b[0mself\u001b[0m\u001b[0;34m.\u001b[0m\u001b[0mauto_collation\u001b[0m\u001b[0;34m:\u001b[0m\u001b[0;34m\u001b[0m\u001b[0;34m\u001b[0m\u001b[0m\n\u001b[0;32m---> 44\u001b[0;31m             \u001b[0mdata\u001b[0m \u001b[0;34m=\u001b[0m \u001b[0;34m[\u001b[0m\u001b[0mself\u001b[0m\u001b[0;34m.\u001b[0m\u001b[0mdataset\u001b[0m\u001b[0;34m[\u001b[0m\u001b[0midx\u001b[0m\u001b[0;34m]\u001b[0m \u001b[0;32mfor\u001b[0m \u001b[0midx\u001b[0m \u001b[0;32min\u001b[0m \u001b[0mpossibly_batched_index\u001b[0m\u001b[0;34m]\u001b[0m\u001b[0;34m\u001b[0m\u001b[0;34m\u001b[0m\u001b[0m\n\u001b[0m\u001b[1;32m     45\u001b[0m         \u001b[0;32melse\u001b[0m\u001b[0;34m:\u001b[0m\u001b[0;34m\u001b[0m\u001b[0;34m\u001b[0m\u001b[0m\n\u001b[1;32m     46\u001b[0m             \u001b[0mdata\u001b[0m \u001b[0;34m=\u001b[0m \u001b[0mself\u001b[0m\u001b[0;34m.\u001b[0m\u001b[0mdataset\u001b[0m\u001b[0;34m[\u001b[0m\u001b[0mpossibly_batched_index\u001b[0m\u001b[0;34m]\u001b[0m\u001b[0;34m\u001b[0m\u001b[0;34m\u001b[0m\u001b[0m\n",
      "\u001b[0;32m/tmp/ipykernel_340/2445421402.py\u001b[0m in \u001b[0;36m__getitem__\u001b[0;34m(self, idx)\u001b[0m\n\u001b[1;32m     25\u001b[0m             \u001b[0;34m'input_ids'\u001b[0m\u001b[0;34m:\u001b[0m \u001b[0minput_ids\u001b[0m\u001b[0;34m,\u001b[0m\u001b[0;34m\u001b[0m\u001b[0;34m\u001b[0m\u001b[0m\n\u001b[1;32m     26\u001b[0m             \u001b[0;34m'attention_mask'\u001b[0m\u001b[0;34m:\u001b[0m \u001b[0mattention_mask\u001b[0m\u001b[0;34m,\u001b[0m\u001b[0;34m\u001b[0m\u001b[0;34m\u001b[0m\u001b[0m\n\u001b[0;32m---> 27\u001b[0;31m             \u001b[0;34m'labels'\u001b[0m\u001b[0;34m:\u001b[0m \u001b[0mtorch\u001b[0m\u001b[0;34m.\u001b[0m\u001b[0mtensor\u001b[0m\u001b[0;34m(\u001b[0m\u001b[0mlabel\u001b[0m\u001b[0;34m,\u001b[0m \u001b[0mdtype\u001b[0m\u001b[0;34m=\u001b[0m\u001b[0mtorch\u001b[0m\u001b[0;34m.\u001b[0m\u001b[0mlong\u001b[0m\u001b[0;34m)\u001b[0m\u001b[0;34m\u001b[0m\u001b[0;34m\u001b[0m\u001b[0m\n\u001b[0m\u001b[1;32m     28\u001b[0m         }\n",
      "\u001b[0;31mTypeError\u001b[0m: new(): invalid data type 'str'"
     ]
    }
   ],
   "source": [
    "# 10. 학습 및 성능 평가\n",
    "EPOCHS = 3\n",
    "\n",
    "for epoch in range(EPOCHS):\n",
    "    print(f'Epoch {epoch + 1}/{EPOCHS}')\n",
    "    train_acc, train_loss = train_epoch(model, train_loader, optimizer, device, accumulation_steps, scaler)\n",
    "    print(f'Train loss: {train_loss}, Train accuracy: {train_acc}')\n",
    "\n",
    "# 테스트 데이터에서 성능 평가\n",
    "predictions, true_labels = evaluate(model, test_loader, device)\n",
    "\n",
    "# F1 Score 계산\n",
    "f1 = f1_score(true_labels, predictions, average='weighted')\n",
    "print(f'F1 Score: {f1}')"
   ]
  },
  {
   "cell_type": "markdown",
   "id": "7114214d",
   "metadata": {},
   "source": [
    "## wandb시각화 :  t-SNE"
   ]
  },
  {
   "cell_type": "code",
   "execution_count": null,
   "id": "33917c39",
   "metadata": {
    "id": "4_2pOEOyAocD"
   },
   "outputs": [],
   "source": [
    "# t-SNE로 3차원 축소\n",
    "tsne = TSNE(n_components=3, random_state=42)\n",
    "tsne_results = tsne.fit_transform(embeddings.squeeze())\n",
    "\n",
    "# t-SNE 결과를 WandB로 로그\n",
    "wandb.log({\n",
    "    \"3D t-SNE Visualization\": wandb.plot.scatter(\n",
    "        wandb.Table(data=[[x, y, z, label] for x, y, z, label in zip(\n",
    "            tsne_results[:, 0], tsne_results[:, 1], tsne_results[:, 2], data['class']\n",
    "        )],\n",
    "        columns=[\"TSNE-1\", \"TSNE-2\", \"TSNE-3\", \"class\"]),\n",
    "        \"TSNE-1\", \"TSNE-2\", \"TSNE-3\", title=\"3D t-SNE Visualization of KLUE-BERT Embeddings\")\n",
    "})\n",
    "\n",
    "# wandb.finish()로 세션 종료\n",
    "wandb.finish()"
   ]
  },
  {
   "cell_type": "code",
   "execution_count": null,
   "id": "95eb8c42",
   "metadata": {
    "id": "ZONktdSJ9YUl"
   },
   "outputs": [],
   "source": [
    "# t-SNE를 사용하여 2차원으로 축소\n",
    "tsne = TSNE(n_components=2, random_state=42)\n",
    "tsne_results = tsne.fit_transform(embeddings.squeeze())\n",
    "\n",
    "# t-SNE 결과를 데이터프레임에 추가\n",
    "data['tsne_1'] = tsne_results[:, 0]\n",
    "data['tsne_2'] = tsne_results[:, 1]\n",
    "\n",
    "# t-SNE 시각화\n",
    "plt.figure(figsize=(10, 8))\n",
    "sns.scatterplot(\n",
    "    x=\"tsne_1\", y=\"tsne_2\",\n",
    "    hue=\"class\",  # 'class' 열을 사용하여 카테고리별로 색상 구분\n",
    "    palette=sns.color_palette(\"hsv\", as_cmap=True),\n",
    "    data=data,\n",
    "    legend=\"full\"\n",
    ")\n",
    "plt.title('t-SNE Visualization of KLUE-BERT Embeddings')\n",
    "plt.show()"
   ]
  },
  {
   "cell_type": "markdown",
   "id": "57c08d62",
   "metadata": {
    "id": "YcIwFhD4mJ9D"
   },
   "source": [
    "## 파이프라인을 이용한 테스트"
   ]
  },
  {
   "cell_type": "code",
   "execution_count": null,
   "id": "64fb1394",
   "metadata": {
    "id": "Jq2SwKutCdje"
   },
   "outputs": [],
   "source": [
    "# KLUE-BERT 토크나이저로 토큰화 및 인코딩\n",
    "inputs = tokenizer(\n",
    "    processed_texts.tolist(),  # 전처리된 텍스트 리스트\n",
    "    return_tensors=\"pt\",       # PyTorch 텐서로 반환\n",
    "    padding=True,              # 패딩 적용\n",
    "    truncation=True,           # 최대 길이 초과시 잘라내기\n",
    "    max_length=128             # 최대 길이 설정 (128 토큰)\n",
    ")"
   ]
  },
  {
   "cell_type": "code",
   "execution_count": null,
   "id": "00e2332e",
   "metadata": {
    "id": "7lzDrJ_kCh2k"
   },
   "outputs": [],
   "source": [
    "# KLUE-BERT 모델에 입력하여 임베딩 또는 예측값 얻기\n",
    "with torch.no_grad():  # 학습이 아닌 예측을 수행하므로 gradient 계산하지 않음\n",
    "    outputs = model(**inputs)\n",
    "\n",
    "# 모델 출력 확인\n",
    "# CLS 토큰에 해당하는 임베딩 벡터 추출\n",
    "cls_embedding = outputs.last_hidden_state[:, 0, :]  # CLS 토큰 임베딩\n"
   ]
  },
  {
   "cell_type": "code",
   "execution_count": null,
   "id": "bbc33896",
   "metadata": {
    "id": "0TgpwxST4MdO"
   },
   "outputs": [],
   "source": [
    "# 파이프라인을 이용한 테스트\n",
    "nlp = pipeline(\"sentiment-analysis\", model=model, tokenizer=tokenizer)\n",
    "\n",
    "# 예시 문장 테스트\n",
    "text = \"이 문장은 KLUE-BERT 모델을 테스트하는 예시입니다.\"\n",
    "result = nlp(text)\n",
    "\n",
    "print(result)"
   ]
  },
  {
   "cell_type": "code",
   "execution_count": null,
   "id": "d6e4a509",
   "metadata": {
    "id": "IMbar7b2oRUF"
   },
   "outputs": [],
   "source": [
    "# 예시 문장 테스트\n",
    "text = \"이 문장은 KLUE-BERT 모델을 테스트하는 예시입니다.\"\n",
    "result = nlp(text)\n",
    "\n",
    "print(result)"
   ]
  },
  {
   "cell_type": "code",
   "execution_count": null,
   "id": "e395ca43",
   "metadata": {
    "id": "9Fvytk7Jo3ql"
   },
   "outputs": [],
   "source": [
    "from transformers import BertForSequenceClassification\n",
    "\n",
    "model = BertForSequenceClassification.from_pretrained(\"klue/bert-base\")\n",
    "print(model.config.id2label)\n"
   ]
  },
  {
   "cell_type": "code",
   "execution_count": null,
   "id": "45eb14d6",
   "metadata": {
    "id": "9b4c2eb1"
   },
   "outputs": [],
   "source": [
    "output = predict('아가씨 담배한갑주소 네 4500원입니다 어 네 지갑어디갔지 에이 버스에서 잃어버렸나보네 그럼 취소할까요 아가씨 내 여기단골이니 담에 갖다줄께 저도 알바생이라 외상안됩니다 아따 누가 떼먹는다고 그러나 갖다준다고 안됩니다 자꾸이럼 경찰불러요 아가씨 담배피는교 그건 왜 물으세요 그람 아가씨 담배 한대만 빌립시다 내 지금 지갑도 잃어버리고 기분이 그래서 그러니 여기요  아따 주는김에 한개더 주면 되겠네')"
   ]
  },
  {
   "cell_type": "code",
   "execution_count": null,
   "id": "7373011e",
   "metadata": {
    "id": "a3f86b2d"
   },
   "outputs": [],
   "source": [
    "output = predict('우리팀에서 다른팀으로 갈 사람 없나? 그럼 영지씨가 가는건 어때?  네? 제가요? 그렇지? 2달만 파견 잘 갔다오면 승진이야. 네? 저는 별로 가고 싶지 않습니다. 여기 있는 모든사람도 가기 싫어해. 그러니까 막내인 영지씨가 가는게 맞지 정말 죄송합니다. 저는 못갑니다. 장난해? 모두를 위해 영지씨가 희생하는게 싫어? 네. 부당한 방법으로 가는 것 같습니다. 영지씨 안가면 회사생활 오래 못할 것 같은데 그래도 안갈거야? 안가면 지옥일텐데. 그래도 이 방법은 아닌 것 같습니다. 죄송합니다.')"
   ]
  },
  {
   "cell_type": "code",
   "execution_count": null,
   "id": "520d900e",
   "metadata": {
    "id": "7b2b3ac6"
   },
   "outputs": [],
   "source": [
    "output = predict('너 오늘 그게 뭐야 네 제가 뭘 잘못했나요.? 제대로 좀 하지 네 똑바로 좀 하지 행실이 맘에 안들어 네 실천할께요 옆에 동기들 좀 본받으란 말야 어? 네 알겠습니다 그래 똑바로해 노럭할께요')"
   ]
  },
  {
   "cell_type": "markdown",
   "id": "8c5b19d1",
   "metadata": {
    "id": "14fc132d"
   },
   "source": [
    "#### 위에건 일반 대화 아닌가? 애매함ㅎ. 2 epochs에서는 일반 대화로 분류함"
   ]
  },
  {
   "cell_type": "code",
   "execution_count": null,
   "id": "c8461191",
   "metadata": {
    "id": "1e0056f1"
   },
   "outputs": [],
   "source": [
    "output = predict('국희씨 네? 이번주말에 뭐해? 애들이랑 키즈카페 가기러했어요 어 사실 나도 아까 점심먹을때 들어서 알고 있었는데 확인차 물어봤어 왜그러세요? 응 우리애들이랑 국희씨 애들이랑 나이도 얼추 비슷한데 주말에 키즈카페 좀 데려가주라 네?? 실장님은 안가시구요? 어 나는 집도 좀 치우고 밀린 일좀 보게 부탁할게 하지만 제가 애들 4명이나 보기엔 우리애들 얌전하니까 너무걱정마 내가 주의줄게 그럼 주말에 우리집앞으로 와')"
   ]
  },
  {
   "cell_type": "code",
   "execution_count": null,
   "id": "d76b762e",
   "metadata": {
    "id": "2c008601"
   },
   "outputs": [],
   "source": [
    "output = predict('저기요 제가 파워블로거에 맘카페까지 활동하고 있어요.  아.네. 멋지시네요!!!! 파워블로거 분들이 쓰신글을 조금 믿음이 가더라구요. 그쵸? 와 된장찌개 진짜 잘 먹었어요. 요리 솜씨가 좋네요 이만 가보겠습니다. 저기요 손님 밥 값 지불 안 하셨는데요! 네? 저 파워블로거라니까요? 제가 홍보해드릴건데 밥은 무료로 주셔야죠 저 홍보해달라고 한 적 없는데요 와서 빨리 밥값내고 가세요. 저 홍보해달라고 한 적 없어요. 그렇게 말 번복하시면 안되죠. 엄연한 계약 사항인데. 제가 언제리뷰해달라고 했어요 그냥 멋지시다고 했죠 빨리 돈내고 가세요. 나참 어이가 없네 아주 안 좋게 적을거니까 각오하세요. 하. 그냥 돈 내지말고 가세요. 그냥 가셔도 됩니다.')"
   ]
  }
 ],
 "metadata": {
  "colab": {
   "collapsed_sections": [
    "5c946afc"
   ],
   "provenance": []
  },
  "kernelspec": {
   "display_name": "Python 3 (ipykernel)",
   "language": "python",
   "name": "python3"
  },
  "language_info": {
   "codemirror_mode": {
    "name": "ipython",
    "version": 3
   },
   "file_extension": ".py",
   "mimetype": "text/x-python",
   "name": "python",
   "nbconvert_exporter": "python",
   "pygments_lexer": "ipython3",
   "version": "3.9.7"
  },
  "widgets": {
   "application/vnd.jupyter.widget-state+json": {
    "063bab5ce0cc4c6baa7c00fdb9ebbb05": {
     "model_module": "@jupyter-widgets/base",
     "model_module_version": "1.2.0",
     "model_name": "LayoutModel",
     "state": {
      "_model_module": "@jupyter-widgets/base",
      "_model_module_version": "1.2.0",
      "_model_name": "LayoutModel",
      "_view_count": null,
      "_view_module": "@jupyter-widgets/base",
      "_view_module_version": "1.2.0",
      "_view_name": "LayoutView",
      "align_content": null,
      "align_items": null,
      "align_self": null,
      "border": null,
      "bottom": null,
      "display": null,
      "flex": null,
      "flex_flow": null,
      "grid_area": null,
      "grid_auto_columns": null,
      "grid_auto_flow": null,
      "grid_auto_rows": null,
      "grid_column": null,
      "grid_gap": null,
      "grid_row": null,
      "grid_template_areas": null,
      "grid_template_columns": null,
      "grid_template_rows": null,
      "height": null,
      "justify_content": null,
      "justify_items": null,
      "left": null,
      "margin": null,
      "max_height": null,
      "max_width": null,
      "min_height": null,
      "min_width": null,
      "object_fit": null,
      "object_position": null,
      "order": null,
      "overflow": null,
      "overflow_x": null,
      "overflow_y": null,
      "padding": null,
      "right": null,
      "top": null,
      "visibility": null,
      "width": null
     }
    },
    "14a8580f3010431b95d2193bbcf18dd5": {
     "model_module": "@jupyter-widgets/controls",
     "model_module_version": "1.5.0",
     "model_name": "ProgressStyleModel",
     "state": {
      "_model_module": "@jupyter-widgets/controls",
      "_model_module_version": "1.5.0",
      "_model_name": "ProgressStyleModel",
      "_view_count": null,
      "_view_module": "@jupyter-widgets/base",
      "_view_module_version": "1.2.0",
      "_view_name": "StyleView",
      "bar_color": null,
      "description_width": ""
     }
    },
    "170fe869f740471d81bbbd60af33bb97": {
     "model_module": "@jupyter-widgets/base",
     "model_module_version": "1.2.0",
     "model_name": "LayoutModel",
     "state": {
      "_model_module": "@jupyter-widgets/base",
      "_model_module_version": "1.2.0",
      "_model_name": "LayoutModel",
      "_view_count": null,
      "_view_module": "@jupyter-widgets/base",
      "_view_module_version": "1.2.0",
      "_view_name": "LayoutView",
      "align_content": null,
      "align_items": null,
      "align_self": null,
      "border": null,
      "bottom": null,
      "display": null,
      "flex": null,
      "flex_flow": null,
      "grid_area": null,
      "grid_auto_columns": null,
      "grid_auto_flow": null,
      "grid_auto_rows": null,
      "grid_column": null,
      "grid_gap": null,
      "grid_row": null,
      "grid_template_areas": null,
      "grid_template_columns": null,
      "grid_template_rows": null,
      "height": null,
      "justify_content": null,
      "justify_items": null,
      "left": null,
      "margin": null,
      "max_height": null,
      "max_width": null,
      "min_height": null,
      "min_width": null,
      "object_fit": null,
      "object_position": null,
      "order": null,
      "overflow": null,
      "overflow_x": null,
      "overflow_y": null,
      "padding": null,
      "right": null,
      "top": null,
      "visibility": null,
      "width": null
     }
    },
    "291aa9f380264bbf9ab1f9bf6b0f897f": {
     "model_module": "@jupyter-widgets/controls",
     "model_module_version": "1.5.0",
     "model_name": "ProgressStyleModel",
     "state": {
      "_model_module": "@jupyter-widgets/controls",
      "_model_module_version": "1.5.0",
      "_model_name": "ProgressStyleModel",
      "_view_count": null,
      "_view_module": "@jupyter-widgets/base",
      "_view_module_version": "1.2.0",
      "_view_name": "StyleView",
      "bar_color": null,
      "description_width": ""
     }
    },
    "32dd0bf50c3c4fea902305c50c0948f3": {
     "model_module": "@jupyter-widgets/controls",
     "model_module_version": "1.5.0",
     "model_name": "LabelModel",
     "state": {
      "_dom_classes": [],
      "_model_module": "@jupyter-widgets/controls",
      "_model_module_version": "1.5.0",
      "_model_name": "LabelModel",
      "_view_count": null,
      "_view_module": "@jupyter-widgets/controls",
      "_view_module_version": "1.5.0",
      "_view_name": "LabelView",
      "description": "",
      "description_tooltip": null,
      "layout": "IPY_MODEL_063bab5ce0cc4c6baa7c00fdb9ebbb05",
      "placeholder": "​",
      "style": "IPY_MODEL_547375e1997149b9966a3e5105ef3b1e",
      "value": "0.011 MB of 0.011 MB uploaded\r"
     }
    },
    "4075f76518004bf88163342a9a121741": {
     "model_module": "@jupyter-widgets/controls",
     "model_module_version": "1.5.0",
     "model_name": "FloatProgressModel",
     "state": {
      "_dom_classes": [],
      "_model_module": "@jupyter-widgets/controls",
      "_model_module_version": "1.5.0",
      "_model_name": "FloatProgressModel",
      "_view_count": null,
      "_view_module": "@jupyter-widgets/controls",
      "_view_module_version": "1.5.0",
      "_view_name": "ProgressView",
      "bar_style": "",
      "description": "",
      "description_tooltip": null,
      "layout": "IPY_MODEL_ea85fb07a99e4abc96cac774f4310a25",
      "max": 1,
      "min": 0,
      "orientation": "horizontal",
      "style": "IPY_MODEL_14a8580f3010431b95d2193bbcf18dd5",
      "value": 1
     }
    },
    "547375e1997149b9966a3e5105ef3b1e": {
     "model_module": "@jupyter-widgets/controls",
     "model_module_version": "1.5.0",
     "model_name": "DescriptionStyleModel",
     "state": {
      "_model_module": "@jupyter-widgets/controls",
      "_model_module_version": "1.5.0",
      "_model_name": "DescriptionStyleModel",
      "_view_count": null,
      "_view_module": "@jupyter-widgets/base",
      "_view_module_version": "1.2.0",
      "_view_name": "StyleView",
      "description_width": ""
     }
    },
    "55719d6c55a84855a0077b7c49d3d71a": {
     "model_module": "@jupyter-widgets/controls",
     "model_module_version": "1.5.0",
     "model_name": "FloatProgressModel",
     "state": {
      "_dom_classes": [],
      "_model_module": "@jupyter-widgets/controls",
      "_model_module_version": "1.5.0",
      "_model_name": "FloatProgressModel",
      "_view_count": null,
      "_view_module": "@jupyter-widgets/controls",
      "_view_module_version": "1.5.0",
      "_view_name": "ProgressView",
      "bar_style": "",
      "description": "",
      "description_tooltip": null,
      "layout": "IPY_MODEL_a7a285a6222843b5b05df72b94054383",
      "max": 1,
      "min": 0,
      "orientation": "horizontal",
      "style": "IPY_MODEL_291aa9f380264bbf9ab1f9bf6b0f897f",
      "value": 1
     }
    },
    "5f3d9aa636504613b7d0551e9655f432": {
     "model_module": "@jupyter-widgets/controls",
     "model_module_version": "1.5.0",
     "model_name": "VBoxModel",
     "state": {
      "_dom_classes": [],
      "_model_module": "@jupyter-widgets/controls",
      "_model_module_version": "1.5.0",
      "_model_name": "VBoxModel",
      "_view_count": null,
      "_view_module": "@jupyter-widgets/controls",
      "_view_module_version": "1.5.0",
      "_view_name": "VBoxView",
      "box_style": "",
      "children": [
       "IPY_MODEL_c64d6116a35640908f9bf2b5a24e397a",
       "IPY_MODEL_55719d6c55a84855a0077b7c49d3d71a"
      ],
      "layout": "IPY_MODEL_aeffa1b5b6be4fda9e25486d46b481c1"
     }
    },
    "71bf8217faf84a82970ca2294dae772b": {
     "model_module": "@jupyter-widgets/controls",
     "model_module_version": "1.5.0",
     "model_name": "DescriptionStyleModel",
     "state": {
      "_model_module": "@jupyter-widgets/controls",
      "_model_module_version": "1.5.0",
      "_model_name": "DescriptionStyleModel",
      "_view_count": null,
      "_view_module": "@jupyter-widgets/base",
      "_view_module_version": "1.2.0",
      "_view_name": "StyleView",
      "description_width": ""
     }
    },
    "a7a285a6222843b5b05df72b94054383": {
     "model_module": "@jupyter-widgets/base",
     "model_module_version": "1.2.0",
     "model_name": "LayoutModel",
     "state": {
      "_model_module": "@jupyter-widgets/base",
      "_model_module_version": "1.2.0",
      "_model_name": "LayoutModel",
      "_view_count": null,
      "_view_module": "@jupyter-widgets/base",
      "_view_module_version": "1.2.0",
      "_view_name": "LayoutView",
      "align_content": null,
      "align_items": null,
      "align_self": null,
      "border": null,
      "bottom": null,
      "display": null,
      "flex": null,
      "flex_flow": null,
      "grid_area": null,
      "grid_auto_columns": null,
      "grid_auto_flow": null,
      "grid_auto_rows": null,
      "grid_column": null,
      "grid_gap": null,
      "grid_row": null,
      "grid_template_areas": null,
      "grid_template_columns": null,
      "grid_template_rows": null,
      "height": null,
      "justify_content": null,
      "justify_items": null,
      "left": null,
      "margin": null,
      "max_height": null,
      "max_width": null,
      "min_height": null,
      "min_width": null,
      "object_fit": null,
      "object_position": null,
      "order": null,
      "overflow": null,
      "overflow_x": null,
      "overflow_y": null,
      "padding": null,
      "right": null,
      "top": null,
      "visibility": null,
      "width": null
     }
    },
    "aeffa1b5b6be4fda9e25486d46b481c1": {
     "model_module": "@jupyter-widgets/base",
     "model_module_version": "1.2.0",
     "model_name": "LayoutModel",
     "state": {
      "_model_module": "@jupyter-widgets/base",
      "_model_module_version": "1.2.0",
      "_model_name": "LayoutModel",
      "_view_count": null,
      "_view_module": "@jupyter-widgets/base",
      "_view_module_version": "1.2.0",
      "_view_name": "LayoutView",
      "align_content": null,
      "align_items": null,
      "align_self": null,
      "border": null,
      "bottom": null,
      "display": null,
      "flex": null,
      "flex_flow": null,
      "grid_area": null,
      "grid_auto_columns": null,
      "grid_auto_flow": null,
      "grid_auto_rows": null,
      "grid_column": null,
      "grid_gap": null,
      "grid_row": null,
      "grid_template_areas": null,
      "grid_template_columns": null,
      "grid_template_rows": null,
      "height": null,
      "justify_content": null,
      "justify_items": null,
      "left": null,
      "margin": null,
      "max_height": null,
      "max_width": null,
      "min_height": null,
      "min_width": null,
      "object_fit": null,
      "object_position": null,
      "order": null,
      "overflow": null,
      "overflow_x": null,
      "overflow_y": null,
      "padding": null,
      "right": null,
      "top": null,
      "visibility": null,
      "width": null
     }
    },
    "bba67b8f55cc4f93905bac1c51ef2693": {
     "model_module": "@jupyter-widgets/controls",
     "model_module_version": "1.5.0",
     "model_name": "VBoxModel",
     "state": {
      "_dom_classes": [],
      "_model_module": "@jupyter-widgets/controls",
      "_model_module_version": "1.5.0",
      "_model_name": "VBoxModel",
      "_view_count": null,
      "_view_module": "@jupyter-widgets/controls",
      "_view_module_version": "1.5.0",
      "_view_name": "VBoxView",
      "box_style": "",
      "children": [
       "IPY_MODEL_32dd0bf50c3c4fea902305c50c0948f3",
       "IPY_MODEL_4075f76518004bf88163342a9a121741"
      ],
      "layout": "IPY_MODEL_170fe869f740471d81bbbd60af33bb97"
     }
    },
    "c64d6116a35640908f9bf2b5a24e397a": {
     "model_module": "@jupyter-widgets/controls",
     "model_module_version": "1.5.0",
     "model_name": "LabelModel",
     "state": {
      "_dom_classes": [],
      "_model_module": "@jupyter-widgets/controls",
      "_model_module_version": "1.5.0",
      "_model_name": "LabelModel",
      "_view_count": null,
      "_view_module": "@jupyter-widgets/controls",
      "_view_module_version": "1.5.0",
      "_view_name": "LabelView",
      "description": "",
      "description_tooltip": null,
      "layout": "IPY_MODEL_d4b709f80a9947ada6149b7491802a9f",
      "placeholder": "​",
      "style": "IPY_MODEL_71bf8217faf84a82970ca2294dae772b",
      "value": "0.042 MB of 0.042 MB uploaded\r"
     }
    },
    "d4b709f80a9947ada6149b7491802a9f": {
     "model_module": "@jupyter-widgets/base",
     "model_module_version": "1.2.0",
     "model_name": "LayoutModel",
     "state": {
      "_model_module": "@jupyter-widgets/base",
      "_model_module_version": "1.2.0",
      "_model_name": "LayoutModel",
      "_view_count": null,
      "_view_module": "@jupyter-widgets/base",
      "_view_module_version": "1.2.0",
      "_view_name": "LayoutView",
      "align_content": null,
      "align_items": null,
      "align_self": null,
      "border": null,
      "bottom": null,
      "display": null,
      "flex": null,
      "flex_flow": null,
      "grid_area": null,
      "grid_auto_columns": null,
      "grid_auto_flow": null,
      "grid_auto_rows": null,
      "grid_column": null,
      "grid_gap": null,
      "grid_row": null,
      "grid_template_areas": null,
      "grid_template_columns": null,
      "grid_template_rows": null,
      "height": null,
      "justify_content": null,
      "justify_items": null,
      "left": null,
      "margin": null,
      "max_height": null,
      "max_width": null,
      "min_height": null,
      "min_width": null,
      "object_fit": null,
      "object_position": null,
      "order": null,
      "overflow": null,
      "overflow_x": null,
      "overflow_y": null,
      "padding": null,
      "right": null,
      "top": null,
      "visibility": null,
      "width": null
     }
    },
    "ea85fb07a99e4abc96cac774f4310a25": {
     "model_module": "@jupyter-widgets/base",
     "model_module_version": "1.2.0",
     "model_name": "LayoutModel",
     "state": {
      "_model_module": "@jupyter-widgets/base",
      "_model_module_version": "1.2.0",
      "_model_name": "LayoutModel",
      "_view_count": null,
      "_view_module": "@jupyter-widgets/base",
      "_view_module_version": "1.2.0",
      "_view_name": "LayoutView",
      "align_content": null,
      "align_items": null,
      "align_self": null,
      "border": null,
      "bottom": null,
      "display": null,
      "flex": null,
      "flex_flow": null,
      "grid_area": null,
      "grid_auto_columns": null,
      "grid_auto_flow": null,
      "grid_auto_rows": null,
      "grid_column": null,
      "grid_gap": null,
      "grid_row": null,
      "grid_template_areas": null,
      "grid_template_columns": null,
      "grid_template_rows": null,
      "height": null,
      "justify_content": null,
      "justify_items": null,
      "left": null,
      "margin": null,
      "max_height": null,
      "max_width": null,
      "min_height": null,
      "min_width": null,
      "object_fit": null,
      "object_position": null,
      "order": null,
      "overflow": null,
      "overflow_x": null,
      "overflow_y": null,
      "padding": null,
      "right": null,
      "top": null,
      "visibility": null,
      "width": null
     }
    }
   }
  }
 },
 "nbformat": 4,
 "nbformat_minor": 5
}
