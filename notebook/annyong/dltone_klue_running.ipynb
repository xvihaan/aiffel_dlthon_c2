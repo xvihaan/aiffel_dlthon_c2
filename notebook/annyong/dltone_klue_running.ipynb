{
  "cells": [
    {
      "cell_type": "markdown",
      "id": "f6c924f9",
      "metadata": {
        "id": "f6c924f9"
      },
      "source": [
        "# 0. 버전확인"
      ]
    },
    {
      "cell_type": "code",
      "execution_count": 1,
      "id": "7634cf25",
      "metadata": {
        "id": "7634cf25",
        "outputId": "91baa030-b2a8-4205-eb7c-f82df90b2fb2",
        "colab": {
          "base_uri": "https://localhost:8080/"
        }
      },
      "outputs": [
        {
          "output_type": "stream",
          "name": "stdout",
          "text": [
            "2.17.0\n"
          ]
        }
      ],
      "source": [
        "import tensorflow\n",
        "\n",
        "print(tensorflow.__version__)"
      ]
    },
    {
      "cell_type": "code",
      "source": [
        "from google.colab import drive\n",
        "drive.mount('/content/drive')"
      ],
      "metadata": {
        "colab": {
          "base_uri": "https://localhost:8080/"
        },
        "id": "nxH9SEdaivzt",
        "outputId": "85e99618-7f32-4c33-c40d-5306e428bf86"
      },
      "id": "nxH9SEdaivzt",
      "execution_count": 2,
      "outputs": [
        {
          "output_type": "stream",
          "name": "stdout",
          "text": [
            "Mounted at /content/drive\n"
          ]
        }
      ]
    },
    {
      "cell_type": "markdown",
      "id": "cddf7c91",
      "metadata": {
        "id": "cddf7c91"
      },
      "source": [
        "# Step 1. 데이터 수집하기\n",
        "### new_train.csv사용"
      ]
    },
    {
      "cell_type": "markdown",
      "id": "872744dc",
      "metadata": {
        "id": "872744dc"
      },
      "source": [
        "# Step 2. 데이터 전처리하기\n",
        "### 5) 데이터 증강 외 모두 적용\n",
        "\n",
        "#### **1) 한글 불용어 처리  2) 구두점 처리  3) 중복 공백 제거  4) 양쪽 공백 제거   6) 임베딩 방식(모델에서 처리해줌)**"
      ]
    },
    {
      "cell_type": "code",
      "execution_count": 3,
      "id": "cb34ed99",
      "metadata": {
        "id": "cb34ed99",
        "outputId": "b18852b7-3093-492b-a874-a3702f07c3bf",
        "colab": {
          "base_uri": "https://localhost:8080/"
        }
      },
      "outputs": [
        {
          "output_type": "stream",
          "name": "stdout",
          "text": [
            "=3\n"
          ]
        }
      ],
      "source": [
        "import tensorflow as tf\n",
        "import numpy as np\n",
        "import pandas as pd\n",
        "import os\n",
        "import re\n",
        "\n",
        "from bs4 import BeautifulSoup\n",
        "from tensorflow.keras.preprocessing.text import Tokenizer\n",
        "from tensorflow.keras.preprocessing.sequence import pad_sequences\n",
        "\n",
        "import torch\n",
        "from transformers import BertTokenizer, BertModel\n",
        "from sklearn.manifold import TSNE\n",
        "import matplotlib.pyplot as plt\n",
        "import seaborn as sns\n",
        "\n",
        "import urllib.request\n",
        "import warnings\n",
        "warnings.filterwarnings(\"ignore\", category=UserWarning, module='bs4')\n",
        "\n",
        "print('=3')"
      ]
    },
    {
      "cell_type": "code",
      "execution_count": 4,
      "id": "592d898b",
      "metadata": {
        "id": "592d898b",
        "outputId": "585d8a50-4497-463e-a0e7-c97b8d09a1cc",
        "colab": {
          "base_uri": "https://localhost:8080/",
          "height": 206
        }
      },
      "outputs": [
        {
          "output_type": "execute_result",
          "data": {
            "text/plain": [
              "   idx      class                                       conversation\n",
              "0    0      협박 대화  지금 너 스스로를 죽여달라고 애원하는 것인가?\\n 아닙니다. 죄송합니다.\\n 죽을 ...\n",
              "1    1      협박 대화  길동경찰서입니다.\\n9시 40분 마트에 폭발물을 설치할거다.\\n네?\\n똑바로 들어 ...\n",
              "2    2  기타 괴롭힘 대화  너 되게 귀여운거 알지? 나보다 작은 남자는 첨봤어.\\n그만해. 니들 놀리는거 재미...\n",
              "3    3      갈취 대화  어이 거기\\n예??\\n너 말이야 너. 이리 오라고\\n무슨 일.\\n너 옷 좋아보인다?...\n",
              "4    4      갈취 대화  저기요 혹시 날이 너무 뜨겁잖아요? 저희 회사에서 이 선크림 파는데 한 번 손등에 ..."
            ],
            "text/html": [
              "\n",
              "  <div id=\"df-3cd41d9a-2e1b-4533-8439-be0823b01ff5\" class=\"colab-df-container\">\n",
              "    <div>\n",
              "<style scoped>\n",
              "    .dataframe tbody tr th:only-of-type {\n",
              "        vertical-align: middle;\n",
              "    }\n",
              "\n",
              "    .dataframe tbody tr th {\n",
              "        vertical-align: top;\n",
              "    }\n",
              "\n",
              "    .dataframe thead th {\n",
              "        text-align: right;\n",
              "    }\n",
              "</style>\n",
              "<table border=\"1\" class=\"dataframe\">\n",
              "  <thead>\n",
              "    <tr style=\"text-align: right;\">\n",
              "      <th></th>\n",
              "      <th>idx</th>\n",
              "      <th>class</th>\n",
              "      <th>conversation</th>\n",
              "    </tr>\n",
              "  </thead>\n",
              "  <tbody>\n",
              "    <tr>\n",
              "      <th>0</th>\n",
              "      <td>0</td>\n",
              "      <td>협박 대화</td>\n",
              "      <td>지금 너 스스로를 죽여달라고 애원하는 것인가?\\n 아닙니다. 죄송합니다.\\n 죽을 ...</td>\n",
              "    </tr>\n",
              "    <tr>\n",
              "      <th>1</th>\n",
              "      <td>1</td>\n",
              "      <td>협박 대화</td>\n",
              "      <td>길동경찰서입니다.\\n9시 40분 마트에 폭발물을 설치할거다.\\n네?\\n똑바로 들어 ...</td>\n",
              "    </tr>\n",
              "    <tr>\n",
              "      <th>2</th>\n",
              "      <td>2</td>\n",
              "      <td>기타 괴롭힘 대화</td>\n",
              "      <td>너 되게 귀여운거 알지? 나보다 작은 남자는 첨봤어.\\n그만해. 니들 놀리는거 재미...</td>\n",
              "    </tr>\n",
              "    <tr>\n",
              "      <th>3</th>\n",
              "      <td>3</td>\n",
              "      <td>갈취 대화</td>\n",
              "      <td>어이 거기\\n예??\\n너 말이야 너. 이리 오라고\\n무슨 일.\\n너 옷 좋아보인다?...</td>\n",
              "    </tr>\n",
              "    <tr>\n",
              "      <th>4</th>\n",
              "      <td>4</td>\n",
              "      <td>갈취 대화</td>\n",
              "      <td>저기요 혹시 날이 너무 뜨겁잖아요? 저희 회사에서 이 선크림 파는데 한 번 손등에 ...</td>\n",
              "    </tr>\n",
              "  </tbody>\n",
              "</table>\n",
              "</div>\n",
              "    <div class=\"colab-df-buttons\">\n",
              "\n",
              "  <div class=\"colab-df-container\">\n",
              "    <button class=\"colab-df-convert\" onclick=\"convertToInteractive('df-3cd41d9a-2e1b-4533-8439-be0823b01ff5')\"\n",
              "            title=\"Convert this dataframe to an interactive table.\"\n",
              "            style=\"display:none;\">\n",
              "\n",
              "  <svg xmlns=\"http://www.w3.org/2000/svg\" height=\"24px\" viewBox=\"0 -960 960 960\">\n",
              "    <path d=\"M120-120v-720h720v720H120Zm60-500h600v-160H180v160Zm220 220h160v-160H400v160Zm0 220h160v-160H400v160ZM180-400h160v-160H180v160Zm440 0h160v-160H620v160ZM180-180h160v-160H180v160Zm440 0h160v-160H620v160Z\"/>\n",
              "  </svg>\n",
              "    </button>\n",
              "\n",
              "  <style>\n",
              "    .colab-df-container {\n",
              "      display:flex;\n",
              "      gap: 12px;\n",
              "    }\n",
              "\n",
              "    .colab-df-convert {\n",
              "      background-color: #E8F0FE;\n",
              "      border: none;\n",
              "      border-radius: 50%;\n",
              "      cursor: pointer;\n",
              "      display: none;\n",
              "      fill: #1967D2;\n",
              "      height: 32px;\n",
              "      padding: 0 0 0 0;\n",
              "      width: 32px;\n",
              "    }\n",
              "\n",
              "    .colab-df-convert:hover {\n",
              "      background-color: #E2EBFA;\n",
              "      box-shadow: 0px 1px 2px rgba(60, 64, 67, 0.3), 0px 1px 3px 1px rgba(60, 64, 67, 0.15);\n",
              "      fill: #174EA6;\n",
              "    }\n",
              "\n",
              "    .colab-df-buttons div {\n",
              "      margin-bottom: 4px;\n",
              "    }\n",
              "\n",
              "    [theme=dark] .colab-df-convert {\n",
              "      background-color: #3B4455;\n",
              "      fill: #D2E3FC;\n",
              "    }\n",
              "\n",
              "    [theme=dark] .colab-df-convert:hover {\n",
              "      background-color: #434B5C;\n",
              "      box-shadow: 0px 1px 3px 1px rgba(0, 0, 0, 0.15);\n",
              "      filter: drop-shadow(0px 1px 2px rgba(0, 0, 0, 0.3));\n",
              "      fill: #FFFFFF;\n",
              "    }\n",
              "  </style>\n",
              "\n",
              "    <script>\n",
              "      const buttonEl =\n",
              "        document.querySelector('#df-3cd41d9a-2e1b-4533-8439-be0823b01ff5 button.colab-df-convert');\n",
              "      buttonEl.style.display =\n",
              "        google.colab.kernel.accessAllowed ? 'block' : 'none';\n",
              "\n",
              "      async function convertToInteractive(key) {\n",
              "        const element = document.querySelector('#df-3cd41d9a-2e1b-4533-8439-be0823b01ff5');\n",
              "        const dataTable =\n",
              "          await google.colab.kernel.invokeFunction('convertToInteractive',\n",
              "                                                    [key], {});\n",
              "        if (!dataTable) return;\n",
              "\n",
              "        const docLinkHtml = 'Like what you see? Visit the ' +\n",
              "          '<a target=\"_blank\" href=https://colab.research.google.com/notebooks/data_table.ipynb>data table notebook</a>'\n",
              "          + ' to learn more about interactive tables.';\n",
              "        element.innerHTML = '';\n",
              "        dataTable['output_type'] = 'display_data';\n",
              "        await google.colab.output.renderOutput(dataTable, element);\n",
              "        const docLink = document.createElement('div');\n",
              "        docLink.innerHTML = docLinkHtml;\n",
              "        element.appendChild(docLink);\n",
              "      }\n",
              "    </script>\n",
              "  </div>\n",
              "\n",
              "\n",
              "<div id=\"df-25f90b1b-ba8a-4787-bfa8-4cd8c13de09a\">\n",
              "  <button class=\"colab-df-quickchart\" onclick=\"quickchart('df-25f90b1b-ba8a-4787-bfa8-4cd8c13de09a')\"\n",
              "            title=\"Suggest charts\"\n",
              "            style=\"display:none;\">\n",
              "\n",
              "<svg xmlns=\"http://www.w3.org/2000/svg\" height=\"24px\"viewBox=\"0 0 24 24\"\n",
              "     width=\"24px\">\n",
              "    <g>\n",
              "        <path d=\"M19 3H5c-1.1 0-2 .9-2 2v14c0 1.1.9 2 2 2h14c1.1 0 2-.9 2-2V5c0-1.1-.9-2-2-2zM9 17H7v-7h2v7zm4 0h-2V7h2v10zm4 0h-2v-4h2v4z\"/>\n",
              "    </g>\n",
              "</svg>\n",
              "  </button>\n",
              "\n",
              "<style>\n",
              "  .colab-df-quickchart {\n",
              "      --bg-color: #E8F0FE;\n",
              "      --fill-color: #1967D2;\n",
              "      --hover-bg-color: #E2EBFA;\n",
              "      --hover-fill-color: #174EA6;\n",
              "      --disabled-fill-color: #AAA;\n",
              "      --disabled-bg-color: #DDD;\n",
              "  }\n",
              "\n",
              "  [theme=dark] .colab-df-quickchart {\n",
              "      --bg-color: #3B4455;\n",
              "      --fill-color: #D2E3FC;\n",
              "      --hover-bg-color: #434B5C;\n",
              "      --hover-fill-color: #FFFFFF;\n",
              "      --disabled-bg-color: #3B4455;\n",
              "      --disabled-fill-color: #666;\n",
              "  }\n",
              "\n",
              "  .colab-df-quickchart {\n",
              "    background-color: var(--bg-color);\n",
              "    border: none;\n",
              "    border-radius: 50%;\n",
              "    cursor: pointer;\n",
              "    display: none;\n",
              "    fill: var(--fill-color);\n",
              "    height: 32px;\n",
              "    padding: 0;\n",
              "    width: 32px;\n",
              "  }\n",
              "\n",
              "  .colab-df-quickchart:hover {\n",
              "    background-color: var(--hover-bg-color);\n",
              "    box-shadow: 0 1px 2px rgba(60, 64, 67, 0.3), 0 1px 3px 1px rgba(60, 64, 67, 0.15);\n",
              "    fill: var(--button-hover-fill-color);\n",
              "  }\n",
              "\n",
              "  .colab-df-quickchart-complete:disabled,\n",
              "  .colab-df-quickchart-complete:disabled:hover {\n",
              "    background-color: var(--disabled-bg-color);\n",
              "    fill: var(--disabled-fill-color);\n",
              "    box-shadow: none;\n",
              "  }\n",
              "\n",
              "  .colab-df-spinner {\n",
              "    border: 2px solid var(--fill-color);\n",
              "    border-color: transparent;\n",
              "    border-bottom-color: var(--fill-color);\n",
              "    animation:\n",
              "      spin 1s steps(1) infinite;\n",
              "  }\n",
              "\n",
              "  @keyframes spin {\n",
              "    0% {\n",
              "      border-color: transparent;\n",
              "      border-bottom-color: var(--fill-color);\n",
              "      border-left-color: var(--fill-color);\n",
              "    }\n",
              "    20% {\n",
              "      border-color: transparent;\n",
              "      border-left-color: var(--fill-color);\n",
              "      border-top-color: var(--fill-color);\n",
              "    }\n",
              "    30% {\n",
              "      border-color: transparent;\n",
              "      border-left-color: var(--fill-color);\n",
              "      border-top-color: var(--fill-color);\n",
              "      border-right-color: var(--fill-color);\n",
              "    }\n",
              "    40% {\n",
              "      border-color: transparent;\n",
              "      border-right-color: var(--fill-color);\n",
              "      border-top-color: var(--fill-color);\n",
              "    }\n",
              "    60% {\n",
              "      border-color: transparent;\n",
              "      border-right-color: var(--fill-color);\n",
              "    }\n",
              "    80% {\n",
              "      border-color: transparent;\n",
              "      border-right-color: var(--fill-color);\n",
              "      border-bottom-color: var(--fill-color);\n",
              "    }\n",
              "    90% {\n",
              "      border-color: transparent;\n",
              "      border-bottom-color: var(--fill-color);\n",
              "    }\n",
              "  }\n",
              "</style>\n",
              "\n",
              "  <script>\n",
              "    async function quickchart(key) {\n",
              "      const quickchartButtonEl =\n",
              "        document.querySelector('#' + key + ' button');\n",
              "      quickchartButtonEl.disabled = true;  // To prevent multiple clicks.\n",
              "      quickchartButtonEl.classList.add('colab-df-spinner');\n",
              "      try {\n",
              "        const charts = await google.colab.kernel.invokeFunction(\n",
              "            'suggestCharts', [key], {});\n",
              "      } catch (error) {\n",
              "        console.error('Error during call to suggestCharts:', error);\n",
              "      }\n",
              "      quickchartButtonEl.classList.remove('colab-df-spinner');\n",
              "      quickchartButtonEl.classList.add('colab-df-quickchart-complete');\n",
              "    }\n",
              "    (() => {\n",
              "      let quickchartButtonEl =\n",
              "        document.querySelector('#df-25f90b1b-ba8a-4787-bfa8-4cd8c13de09a button');\n",
              "      quickchartButtonEl.style.display =\n",
              "        google.colab.kernel.accessAllowed ? 'block' : 'none';\n",
              "    })();\n",
              "  </script>\n",
              "</div>\n",
              "\n",
              "    </div>\n",
              "  </div>\n"
            ],
            "application/vnd.google.colaboratory.intrinsic+json": {
              "type": "dataframe",
              "variable_name": "train_data",
              "summary": "{\n  \"name\": \"train_data\",\n  \"rows\": 12092,\n  \"fields\": [\n    {\n      \"column\": \"idx\",\n      \"properties\": {\n        \"dtype\": \"number\",\n        \"std\": 3490,\n        \"min\": 0,\n        \"max\": 12091,\n        \"num_unique_values\": 12092,\n        \"samples\": [\n          468,\n          9125,\n          538\n        ],\n        \"semantic_type\": \"\",\n        \"description\": \"\"\n      }\n    },\n    {\n      \"column\": \"class\",\n      \"properties\": {\n        \"dtype\": \"category\",\n        \"num_unique_values\": 5,\n        \"samples\": [\n          \"\\uae30\\ud0c0 \\uad34\\ub86d\\ud798 \\ub300\\ud654\",\n          \"\\uc77c\\ubc18\",\n          \"\\uac08\\ucde8 \\ub300\\ud654\"\n        ],\n        \"semantic_type\": \"\",\n        \"description\": \"\"\n      }\n    },\n    {\n      \"column\": \"conversation\",\n      \"properties\": {\n        \"dtype\": \"string\",\n        \"num_unique_values\": 11923,\n        \"samples\": [\n          \"\\ubc29\\uc774 \\uc881\\uc544\\uc11c \\uadf8\\ub807\\uc9c0 \\uc544\\uae30\\uc790\\uae30\\ud55c \\ub9db\\uc740 \\uc788\\ub124. \\uadfc\\ub370 \\ub108 \\uc6b0\\ub9ac \\uc9d1\\uc5d4 \\uc6ec\\uc77c\\uc774\\uc57c? \\ubb34\\uc2a8 \\uc77c \\uc788\\uc5b4? \\uc6ec\\uc77c\\uc740. \\ube75\\uc9d1 \\uc9c0\\ub098\\ub294\\ub370 \\uc5b8\\ub2c8 \\uc0dd\\uac01\\ub098\\uc11c. \\ucf00\\uc78c \\uba39\\uc73c\\uba70 \\uc774\\ub7f0~\\uc800\\ub7f0~ \\uc598\\uae30\\ub098 \\ud558\\ub824\\uace0 \\uc654\\uc9c0 \\ubb50. \\uc5b4\\ucc28\\ud53c \\uc880 \\uc774\\ub530 \\uacfc\\uc678\\ud558\\ub7ec \\ub108\\ud76c \\uc9d1 \\uac08 \\uac74\\ub370.. \",\n          \"\\uc815\\uacfc\\uc7a5\\n\\uc774\\ub7f0\\ub9d0 \\uc624\\ud574\\uc5c6\\uc774 \\ub4e4\\uc5b4\\n\\ub124 \\ubd80\\uc7a5\\ub2d8\\n\\uc815\\uacfc\\uc7a5\\uc740 \\ud68c\\uc7a5\\ub2d8 \\uc606\\uc5d0\\uc11c \\uc788\\ub294\\uc2dc\\ub78c\\uc774\\ub2c8 \\ub2e8\\uc815\\ud574\\uc57c\\uc9c0\\n\\ub124 \\ub9de\\uc2b5\\ub2c8\\ub2e4.\\n\\uba38\\ub9ac \\uc2a4\\ud0c0\\uc77c \\ubc14\\uafd4\\ubd10\\n\\uc5b4\\ub5bb\\uac8c\\uc694\\n\\uae34\\uba38\\ub9ac \\uce58\\ub801\\uce58\\ub801 \\ud558\\ub2c8\\uae4c \\ucee4\\ud2b8\\ud574\\n\\ubb36\\uace0 \\ub2e4\\ub2c8\\ub294\\ub370\\uc694\\n\\ud1a0 \\ub2ec\\uc9c0 \\ub9d0\\uace0 \\uac70\\uc2ac\\ub9ac\\ub2c8\\uae4c \\uc798\\ub77c\",\n          \"\\ub0b4 \\ub9d0\\uc740 \\ubb34\\uc2a8 \\ub9d0\\uc774\\ub0d0\\uba74... \\ubb34\\uc2a8 \\ub9d0\\uc500\\uc774\\uc2e0\\uc9c0 \\uc54c\\uc544\\uc694. \\ud558\\uc9c0\\ub9cc... \\ud600\\ub294 \\ub0b4\\ubc00\\uc9c0 \\ub9d0\\uad6c\\uc694,\\ub2e4 \\ud070 \\uc544\\uac00\\uc528\\uac00 \\uc544\\uae4c\\ubd80\\ud130 \\uc65c \\uc790\\uafb8 \\ud600\\ub294 \\ub0b4 \\ubc00\\uc5b4\\uc694., \\uc8c4\\uc1a1\\ud569\\ub2c8\\ub2e4. \\ubc84\\ub987\\uc774\\ub77c\\uc11c! \"\n        ],\n        \"semantic_type\": \"\",\n        \"description\": \"\"\n      }\n    }\n  ]\n}"
            }
          },
          "metadata": {},
          "execution_count": 4
        }
      ],
      "source": [
        "train_data_path =\"/content/drive/MyDrive/dlthon/new_train.csv\"\n",
        "train_data = pd.read_csv(train_data_path)\n",
        "train_data.head()"
      ]
    },
    {
      "cell_type": "code",
      "execution_count": 5,
      "id": "cae89b50",
      "metadata": {
        "id": "cae89b50"
      },
      "outputs": [],
      "source": [
        "data = train_data"
      ]
    },
    {
      "cell_type": "code",
      "execution_count": 6,
      "id": "a21eb0c2",
      "metadata": {
        "id": "a21eb0c2",
        "outputId": "c24a4ba8-708f-4c23-9f80-8896b49f92cf",
        "colab": {
          "base_uri": "https://localhost:8080/"
        }
      },
      "outputs": [
        {
          "output_type": "stream",
          "name": "stdout",
          "text": [
            "샘플 개수: 12092\n"
          ]
        }
      ],
      "source": [
        "num_samples = len(data)\n",
        "print(\"샘플 개수:\", num_samples)"
      ]
    },
    {
      "cell_type": "code",
      "execution_count": 7,
      "id": "944c9de5",
      "metadata": {
        "id": "944c9de5",
        "outputId": "c03d0d25-182d-4d18-a6c7-a614d28af608",
        "colab": {
          "base_uri": "https://localhost:8080/"
        }
      },
      "outputs": [
        {
          "output_type": "stream",
          "name": "stdout",
          "text": [
            "중복된 데이터: {}\n"
          ]
        }
      ],
      "source": [
        "# 중복 확인\n",
        "from collections import Counter\n",
        "\n",
        "data_counts = Counter(data)\n",
        "duplicates = {item: count for item, count in data_counts.items() if count > 1}\n",
        "\n",
        "print(\"중복된 데이터:\", duplicates)  # {1: 2} (1이 2번 등장)"
      ]
    },
    {
      "cell_type": "code",
      "execution_count": 8,
      "id": "cd2db021",
      "metadata": {
        "id": "cd2db021",
        "outputId": "e6ab51c4-c0c4-48fb-e22c-ccc80ee3532a",
        "colab": {
          "base_uri": "https://localhost:8080/"
        }
      },
      "outputs": [
        {
          "output_type": "stream",
          "name": "stdout",
          "text": [
            "class 열에 누락값이 있습니까? False\n",
            "idx 열에 누락값이 있습니까? False\n"
          ]
        }
      ],
      "source": [
        "# 'class' 열과 'idx' 열에 누락값 확인\n",
        "missing_class = data['class'].isnull().any()\n",
        "missing_idx = data['idx'].isnull().any()\n",
        "\n",
        "print(\"class 열에 누락값이 있습니까?\", missing_class)  # True (누락값 있음)\n",
        "print(\"idx 열에 누락값이 있습니까?\", missing_idx)      # True (누락값 있음)\n"
      ]
    },
    {
      "cell_type": "code",
      "execution_count": 9,
      "id": "d5c26550",
      "metadata": {
        "id": "d5c26550",
        "outputId": "3b607f11-73af-4cbb-f414-c13cd6d82fcb",
        "colab": {
          "base_uri": "https://localhost:8080/"
        }
      },
      "outputs": [
        {
          "output_type": "stream",
          "name": "stdout",
          "text": [
            "                                        conversation  \\\n",
            "0  지금 너 스스로를 죽여달라고 애원하는 것인가?\\n 아닙니다. 죄송합니다.\\n 죽을 ...   \n",
            "1  길동경찰서입니다.\\n9시 40분 마트에 폭발물을 설치할거다.\\n네?\\n똑바로 들어 ...   \n",
            "2  너 되게 귀여운거 알지? 나보다 작은 남자는 첨봤어.\\n그만해. 니들 놀리는거 재미...   \n",
            "3  어이 거기\\n예??\\n너 말이야 너. 이리 오라고\\n무슨 일.\\n너 옷 좋아보인다?...   \n",
            "4  저기요 혹시 날이 너무 뜨겁잖아요? 저희 회사에서 이 선크림 파는데 한 번 손등에 ...   \n",
            "\n",
            "                              conversation_processed  \\\n",
            "0  지금 너 스스로를 죽여달라고 애원하는 것인가 ? 아닙니다 . 죄송합니다 . 죽을 거...   \n",
            "1  길동경찰서입니다 . 9시 40분 마트에 폭발물을 설치할거다 . 네 ? 똑바로 들어 ...   \n",
            "2  너 되게 귀여운거 알지 ? 나보다 작은 남자는 첨봤어 . 그만해 . 니들 놀리는거 ...   \n",
            "3  어이 거기 예 ? ? 너 말이야 너 . 이리 오라고 무슨 일 . 너 옷 좋아보인다 ...   \n",
            "4  저기요 혹시 날이 너무 뜨겁잖아요 ? 저희 회사에서 이 선크림 파는데 한 번 손등에...   \n",
            "\n",
            "                               conversation_filtered  \n",
            "0  지금 너 스스로를 죽여달라고 애원하는 것인가 ? 아닙니다 . 죄송합니다 . 죽을 거...  \n",
            "1  길동경찰서입니다 . 9시 40분 마트에 폭발물을 설치할거다 . 네 ? 똑바로 들어 ...  \n",
            "2  너 되게 귀여운거 알지 ? 나보다 작은 남자는 첨봤어 . 그만해 . 니들 놀리는거 ...  \n",
            "3  어이 거기 예 ? ? 너 말이야 너 . 이리 오라고 무슨 일 . 너 옷 좋아보인다 ...  \n",
            "4  저기요 혹시 날이 너무 뜨겁잖아요 ? 저희 회사에서 선크림 파는데 한 번 손등에 발...  \n"
          ]
        }
      ],
      "source": [
        "import re\n",
        "\n",
        "# 한글 불용어 목록\n",
        "stopwords = [\n",
        "    \"이\", \"그\", \"저\", \"가\", \"을\", \"를\", \"에\", \"의\", \"와\", \"과\", \"들\"\n",
        "]\n",
        "\n",
        "def preprocess_korean_text(data):\n",
        "    processed_texts = []\n",
        "\n",
        "    for sentence in data:\n",
        "        # 구두점 처리\n",
        "        sentence = re.sub(r\"([?.!,])\", r\" \\1 \", sentence)\n",
        "\n",
        "        # 중복 공백 제거\n",
        "        sentence = re.sub(r'\\s+', ' ', sentence)\n",
        "\n",
        "        # 양쪽 공백 제거\n",
        "        sentence = sentence.strip()\n",
        "\n",
        "        processed_texts.append(sentence)\n",
        "\n",
        "    return processed_texts\n",
        "\n",
        "def remove_stopwords(data, stopwords):\n",
        "    filtered_texts = []\n",
        "\n",
        "    for sentence in data:\n",
        "        # 텍스트를 공백으로 분리하여 단어 리스트 생성\n",
        "        words = sentence.split()\n",
        "\n",
        "        # 불용어가 아닌 단어만 필터링\n",
        "        filtered_words = [word for word in words if word not in stopwords]\n",
        "\n",
        "        # 필터링된 단어를 다시 문자열로 결합\n",
        "        filtered_texts.append(' '.join(filtered_words))\n",
        "\n",
        "    return filtered_texts\n",
        "\n",
        "\n",
        "# conversation 열에 대해서만 전처리 및 불용어 제거 적용\n",
        "data['conversation_processed'] = preprocess_korean_text(data['conversation'])\n",
        "data['conversation_filtered'] = remove_stopwords(data['conversation_processed'], stopwords)\n",
        "\n",
        "# 결과 확인\n",
        "print(data[['conversation', 'conversation_processed', 'conversation_filtered']].head())\n"
      ]
    },
    {
      "cell_type": "code",
      "execution_count": 10,
      "id": "bc61a93a",
      "metadata": {
        "id": "bc61a93a",
        "outputId": "160aabf8-93e7-496d-f14c-5399582bbf32",
        "colab": {
          "base_uri": "https://localhost:8080/",
          "height": 996
        }
      },
      "outputs": [
        {
          "output_type": "execute_result",
          "data": {
            "text/plain": [
              "         idx      class                                       conversation  \\\n",
              "0          0      협박 대화  지금 너 스스로를 죽여달라고 애원하는 것인가?\\n 아닙니다. 죄송합니다.\\n 죽을 ...   \n",
              "1          1      협박 대화  길동경찰서입니다.\\n9시 40분 마트에 폭발물을 설치할거다.\\n네?\\n똑바로 들어 ...   \n",
              "2          2  기타 괴롭힘 대화  너 되게 귀여운거 알지? 나보다 작은 남자는 첨봤어.\\n그만해. 니들 놀리는거 재미...   \n",
              "3          3      갈취 대화  어이 거기\\n예??\\n너 말이야 너. 이리 오라고\\n무슨 일.\\n너 옷 좋아보인다?...   \n",
              "4          4      갈취 대화  저기요 혹시 날이 너무 뜨겁잖아요? 저희 회사에서 이 선크림 파는데 한 번 손등에 ...   \n",
              "...      ...        ...                                                ...   \n",
              "12087  12087         일반  미안하다... 나 내일 회사 하루 쉬려고. 회사를? 어...너무 힘들어서 하루 쉬고...   \n",
              "12088  12088         일반  아~엄마 뭐하는데 이 오밤중에? 난 정말 나간다. 애들처럼 왜 이러냐고? 동네 창피...   \n",
              "12089  12089         일반  니 방에 들어가, 자 임마. 엄마 갑자기 짐 들고 사라질까봐 불안해서 못 나가. 겁...   \n",
              "12090  12090         일반  어, 왜 일어나있어? 힘든데 누워있지. 아니, 이젠 괜찮아 오빠. 뭐가 괜찮아? 어...   \n",
              "12091  12091         일반  오랜만에 병원 밖이라도 나가서 점심을 먹으니까 아주 꿀맛이다. 며칠에 한번 집에 들...   \n",
              "\n",
              "                                  conversation_processed  \\\n",
              "0      지금 너 스스로를 죽여달라고 애원하는 것인가 ? 아닙니다 . 죄송합니다 . 죽을 거...   \n",
              "1      길동경찰서입니다 . 9시 40분 마트에 폭발물을 설치할거다 . 네 ? 똑바로 들어 ...   \n",
              "2      너 되게 귀여운거 알지 ? 나보다 작은 남자는 첨봤어 . 그만해 . 니들 놀리는거 ...   \n",
              "3      어이 거기 예 ? ? 너 말이야 너 . 이리 오라고 무슨 일 . 너 옷 좋아보인다 ...   \n",
              "4      저기요 혹시 날이 너무 뜨겁잖아요 ? 저희 회사에서 이 선크림 파는데 한 번 손등에...   \n",
              "...                                                  ...   \n",
              "12087  미안하다 . . . 나 내일 회사 하루 쉬려고 . 회사를 ? 어 . . . 너무 힘...   \n",
              "12088  아~엄마 뭐하는데 이 오밤중에 ? 난 정말 나간다 . 애들처럼 왜 이러냐고 ? 동네...   \n",
              "12089  니 방에 들어가 , 자 임마 . 엄마 갑자기 짐 들고 사라질까봐 불안해서 못 나가 ...   \n",
              "12090  어 , 왜 일어나있어 ? 힘든데 누워있지 . 아니 , 이젠 괜찮아 오빠 . 뭐가 괜...   \n",
              "12091  오랜만에 병원 밖이라도 나가서 점심을 먹으니까 아주 꿀맛이다 . 며칠에 한번 집에 ...   \n",
              "\n",
              "                                   conversation_filtered  \n",
              "0      지금 너 스스로를 죽여달라고 애원하는 것인가 ? 아닙니다 . 죄송합니다 . 죽을 거...  \n",
              "1      길동경찰서입니다 . 9시 40분 마트에 폭발물을 설치할거다 . 네 ? 똑바로 들어 ...  \n",
              "2      너 되게 귀여운거 알지 ? 나보다 작은 남자는 첨봤어 . 그만해 . 니들 놀리는거 ...  \n",
              "3      어이 거기 예 ? ? 너 말이야 너 . 이리 오라고 무슨 일 . 너 옷 좋아보인다 ...  \n",
              "4      저기요 혹시 날이 너무 뜨겁잖아요 ? 저희 회사에서 선크림 파는데 한 번 손등에 발...  \n",
              "...                                                  ...  \n",
              "12087  미안하다 . . . 나 내일 회사 하루 쉬려고 . 회사를 ? 어 . . . 너무 힘...  \n",
              "12088  아~엄마 뭐하는데 오밤중에 ? 난 정말 나간다 . 애들처럼 왜 이러냐고 ? 동네 창...  \n",
              "12089  니 방에 들어가 , 자 임마 . 엄마 갑자기 짐 들고 사라질까봐 불안해서 못 나가 ...  \n",
              "12090  어 , 왜 일어나있어 ? 힘든데 누워있지 . 아니 , 이젠 괜찮아 오빠 . 뭐가 괜...  \n",
              "12091  오랜만에 병원 밖이라도 나가서 점심을 먹으니까 아주 꿀맛이다 . 며칠에 한번 집에 ...  \n",
              "\n",
              "[12092 rows x 5 columns]"
            ],
            "text/html": [
              "\n",
              "  <div id=\"df-f5ca7f19-04dd-47af-9a71-453a58219394\" class=\"colab-df-container\">\n",
              "    <div>\n",
              "<style scoped>\n",
              "    .dataframe tbody tr th:only-of-type {\n",
              "        vertical-align: middle;\n",
              "    }\n",
              "\n",
              "    .dataframe tbody tr th {\n",
              "        vertical-align: top;\n",
              "    }\n",
              "\n",
              "    .dataframe thead th {\n",
              "        text-align: right;\n",
              "    }\n",
              "</style>\n",
              "<table border=\"1\" class=\"dataframe\">\n",
              "  <thead>\n",
              "    <tr style=\"text-align: right;\">\n",
              "      <th></th>\n",
              "      <th>idx</th>\n",
              "      <th>class</th>\n",
              "      <th>conversation</th>\n",
              "      <th>conversation_processed</th>\n",
              "      <th>conversation_filtered</th>\n",
              "    </tr>\n",
              "  </thead>\n",
              "  <tbody>\n",
              "    <tr>\n",
              "      <th>0</th>\n",
              "      <td>0</td>\n",
              "      <td>협박 대화</td>\n",
              "      <td>지금 너 스스로를 죽여달라고 애원하는 것인가?\\n 아닙니다. 죄송합니다.\\n 죽을 ...</td>\n",
              "      <td>지금 너 스스로를 죽여달라고 애원하는 것인가 ? 아닙니다 . 죄송합니다 . 죽을 거...</td>\n",
              "      <td>지금 너 스스로를 죽여달라고 애원하는 것인가 ? 아닙니다 . 죄송합니다 . 죽을 거...</td>\n",
              "    </tr>\n",
              "    <tr>\n",
              "      <th>1</th>\n",
              "      <td>1</td>\n",
              "      <td>협박 대화</td>\n",
              "      <td>길동경찰서입니다.\\n9시 40분 마트에 폭발물을 설치할거다.\\n네?\\n똑바로 들어 ...</td>\n",
              "      <td>길동경찰서입니다 . 9시 40분 마트에 폭발물을 설치할거다 . 네 ? 똑바로 들어 ...</td>\n",
              "      <td>길동경찰서입니다 . 9시 40분 마트에 폭발물을 설치할거다 . 네 ? 똑바로 들어 ...</td>\n",
              "    </tr>\n",
              "    <tr>\n",
              "      <th>2</th>\n",
              "      <td>2</td>\n",
              "      <td>기타 괴롭힘 대화</td>\n",
              "      <td>너 되게 귀여운거 알지? 나보다 작은 남자는 첨봤어.\\n그만해. 니들 놀리는거 재미...</td>\n",
              "      <td>너 되게 귀여운거 알지 ? 나보다 작은 남자는 첨봤어 . 그만해 . 니들 놀리는거 ...</td>\n",
              "      <td>너 되게 귀여운거 알지 ? 나보다 작은 남자는 첨봤어 . 그만해 . 니들 놀리는거 ...</td>\n",
              "    </tr>\n",
              "    <tr>\n",
              "      <th>3</th>\n",
              "      <td>3</td>\n",
              "      <td>갈취 대화</td>\n",
              "      <td>어이 거기\\n예??\\n너 말이야 너. 이리 오라고\\n무슨 일.\\n너 옷 좋아보인다?...</td>\n",
              "      <td>어이 거기 예 ? ? 너 말이야 너 . 이리 오라고 무슨 일 . 너 옷 좋아보인다 ...</td>\n",
              "      <td>어이 거기 예 ? ? 너 말이야 너 . 이리 오라고 무슨 일 . 너 옷 좋아보인다 ...</td>\n",
              "    </tr>\n",
              "    <tr>\n",
              "      <th>4</th>\n",
              "      <td>4</td>\n",
              "      <td>갈취 대화</td>\n",
              "      <td>저기요 혹시 날이 너무 뜨겁잖아요? 저희 회사에서 이 선크림 파는데 한 번 손등에 ...</td>\n",
              "      <td>저기요 혹시 날이 너무 뜨겁잖아요 ? 저희 회사에서 이 선크림 파는데 한 번 손등에...</td>\n",
              "      <td>저기요 혹시 날이 너무 뜨겁잖아요 ? 저희 회사에서 선크림 파는데 한 번 손등에 발...</td>\n",
              "    </tr>\n",
              "    <tr>\n",
              "      <th>...</th>\n",
              "      <td>...</td>\n",
              "      <td>...</td>\n",
              "      <td>...</td>\n",
              "      <td>...</td>\n",
              "      <td>...</td>\n",
              "    </tr>\n",
              "    <tr>\n",
              "      <th>12087</th>\n",
              "      <td>12087</td>\n",
              "      <td>일반</td>\n",
              "      <td>미안하다... 나 내일 회사 하루 쉬려고. 회사를? 어...너무 힘들어서 하루 쉬고...</td>\n",
              "      <td>미안하다 . . . 나 내일 회사 하루 쉬려고 . 회사를 ? 어 . . . 너무 힘...</td>\n",
              "      <td>미안하다 . . . 나 내일 회사 하루 쉬려고 . 회사를 ? 어 . . . 너무 힘...</td>\n",
              "    </tr>\n",
              "    <tr>\n",
              "      <th>12088</th>\n",
              "      <td>12088</td>\n",
              "      <td>일반</td>\n",
              "      <td>아~엄마 뭐하는데 이 오밤중에? 난 정말 나간다. 애들처럼 왜 이러냐고? 동네 창피...</td>\n",
              "      <td>아~엄마 뭐하는데 이 오밤중에 ? 난 정말 나간다 . 애들처럼 왜 이러냐고 ? 동네...</td>\n",
              "      <td>아~엄마 뭐하는데 오밤중에 ? 난 정말 나간다 . 애들처럼 왜 이러냐고 ? 동네 창...</td>\n",
              "    </tr>\n",
              "    <tr>\n",
              "      <th>12089</th>\n",
              "      <td>12089</td>\n",
              "      <td>일반</td>\n",
              "      <td>니 방에 들어가, 자 임마. 엄마 갑자기 짐 들고 사라질까봐 불안해서 못 나가. 겁...</td>\n",
              "      <td>니 방에 들어가 , 자 임마 . 엄마 갑자기 짐 들고 사라질까봐 불안해서 못 나가 ...</td>\n",
              "      <td>니 방에 들어가 , 자 임마 . 엄마 갑자기 짐 들고 사라질까봐 불안해서 못 나가 ...</td>\n",
              "    </tr>\n",
              "    <tr>\n",
              "      <th>12090</th>\n",
              "      <td>12090</td>\n",
              "      <td>일반</td>\n",
              "      <td>어, 왜 일어나있어? 힘든데 누워있지. 아니, 이젠 괜찮아 오빠. 뭐가 괜찮아? 어...</td>\n",
              "      <td>어 , 왜 일어나있어 ? 힘든데 누워있지 . 아니 , 이젠 괜찮아 오빠 . 뭐가 괜...</td>\n",
              "      <td>어 , 왜 일어나있어 ? 힘든데 누워있지 . 아니 , 이젠 괜찮아 오빠 . 뭐가 괜...</td>\n",
              "    </tr>\n",
              "    <tr>\n",
              "      <th>12091</th>\n",
              "      <td>12091</td>\n",
              "      <td>일반</td>\n",
              "      <td>오랜만에 병원 밖이라도 나가서 점심을 먹으니까 아주 꿀맛이다. 며칠에 한번 집에 들...</td>\n",
              "      <td>오랜만에 병원 밖이라도 나가서 점심을 먹으니까 아주 꿀맛이다 . 며칠에 한번 집에 ...</td>\n",
              "      <td>오랜만에 병원 밖이라도 나가서 점심을 먹으니까 아주 꿀맛이다 . 며칠에 한번 집에 ...</td>\n",
              "    </tr>\n",
              "  </tbody>\n",
              "</table>\n",
              "<p>12092 rows × 5 columns</p>\n",
              "</div>\n",
              "    <div class=\"colab-df-buttons\">\n",
              "\n",
              "  <div class=\"colab-df-container\">\n",
              "    <button class=\"colab-df-convert\" onclick=\"convertToInteractive('df-f5ca7f19-04dd-47af-9a71-453a58219394')\"\n",
              "            title=\"Convert this dataframe to an interactive table.\"\n",
              "            style=\"display:none;\">\n",
              "\n",
              "  <svg xmlns=\"http://www.w3.org/2000/svg\" height=\"24px\" viewBox=\"0 -960 960 960\">\n",
              "    <path d=\"M120-120v-720h720v720H120Zm60-500h600v-160H180v160Zm220 220h160v-160H400v160Zm0 220h160v-160H400v160ZM180-400h160v-160H180v160Zm440 0h160v-160H620v160ZM180-180h160v-160H180v160Zm440 0h160v-160H620v160Z\"/>\n",
              "  </svg>\n",
              "    </button>\n",
              "\n",
              "  <style>\n",
              "    .colab-df-container {\n",
              "      display:flex;\n",
              "      gap: 12px;\n",
              "    }\n",
              "\n",
              "    .colab-df-convert {\n",
              "      background-color: #E8F0FE;\n",
              "      border: none;\n",
              "      border-radius: 50%;\n",
              "      cursor: pointer;\n",
              "      display: none;\n",
              "      fill: #1967D2;\n",
              "      height: 32px;\n",
              "      padding: 0 0 0 0;\n",
              "      width: 32px;\n",
              "    }\n",
              "\n",
              "    .colab-df-convert:hover {\n",
              "      background-color: #E2EBFA;\n",
              "      box-shadow: 0px 1px 2px rgba(60, 64, 67, 0.3), 0px 1px 3px 1px rgba(60, 64, 67, 0.15);\n",
              "      fill: #174EA6;\n",
              "    }\n",
              "\n",
              "    .colab-df-buttons div {\n",
              "      margin-bottom: 4px;\n",
              "    }\n",
              "\n",
              "    [theme=dark] .colab-df-convert {\n",
              "      background-color: #3B4455;\n",
              "      fill: #D2E3FC;\n",
              "    }\n",
              "\n",
              "    [theme=dark] .colab-df-convert:hover {\n",
              "      background-color: #434B5C;\n",
              "      box-shadow: 0px 1px 3px 1px rgba(0, 0, 0, 0.15);\n",
              "      filter: drop-shadow(0px 1px 2px rgba(0, 0, 0, 0.3));\n",
              "      fill: #FFFFFF;\n",
              "    }\n",
              "  </style>\n",
              "\n",
              "    <script>\n",
              "      const buttonEl =\n",
              "        document.querySelector('#df-f5ca7f19-04dd-47af-9a71-453a58219394 button.colab-df-convert');\n",
              "      buttonEl.style.display =\n",
              "        google.colab.kernel.accessAllowed ? 'block' : 'none';\n",
              "\n",
              "      async function convertToInteractive(key) {\n",
              "        const element = document.querySelector('#df-f5ca7f19-04dd-47af-9a71-453a58219394');\n",
              "        const dataTable =\n",
              "          await google.colab.kernel.invokeFunction('convertToInteractive',\n",
              "                                                    [key], {});\n",
              "        if (!dataTable) return;\n",
              "\n",
              "        const docLinkHtml = 'Like what you see? Visit the ' +\n",
              "          '<a target=\"_blank\" href=https://colab.research.google.com/notebooks/data_table.ipynb>data table notebook</a>'\n",
              "          + ' to learn more about interactive tables.';\n",
              "        element.innerHTML = '';\n",
              "        dataTable['output_type'] = 'display_data';\n",
              "        await google.colab.output.renderOutput(dataTable, element);\n",
              "        const docLink = document.createElement('div');\n",
              "        docLink.innerHTML = docLinkHtml;\n",
              "        element.appendChild(docLink);\n",
              "      }\n",
              "    </script>\n",
              "  </div>\n",
              "\n",
              "\n",
              "<div id=\"df-4bf2348a-b219-4a82-9817-3eb332201d12\">\n",
              "  <button class=\"colab-df-quickchart\" onclick=\"quickchart('df-4bf2348a-b219-4a82-9817-3eb332201d12')\"\n",
              "            title=\"Suggest charts\"\n",
              "            style=\"display:none;\">\n",
              "\n",
              "<svg xmlns=\"http://www.w3.org/2000/svg\" height=\"24px\"viewBox=\"0 0 24 24\"\n",
              "     width=\"24px\">\n",
              "    <g>\n",
              "        <path d=\"M19 3H5c-1.1 0-2 .9-2 2v14c0 1.1.9 2 2 2h14c1.1 0 2-.9 2-2V5c0-1.1-.9-2-2-2zM9 17H7v-7h2v7zm4 0h-2V7h2v10zm4 0h-2v-4h2v4z\"/>\n",
              "    </g>\n",
              "</svg>\n",
              "  </button>\n",
              "\n",
              "<style>\n",
              "  .colab-df-quickchart {\n",
              "      --bg-color: #E8F0FE;\n",
              "      --fill-color: #1967D2;\n",
              "      --hover-bg-color: #E2EBFA;\n",
              "      --hover-fill-color: #174EA6;\n",
              "      --disabled-fill-color: #AAA;\n",
              "      --disabled-bg-color: #DDD;\n",
              "  }\n",
              "\n",
              "  [theme=dark] .colab-df-quickchart {\n",
              "      --bg-color: #3B4455;\n",
              "      --fill-color: #D2E3FC;\n",
              "      --hover-bg-color: #434B5C;\n",
              "      --hover-fill-color: #FFFFFF;\n",
              "      --disabled-bg-color: #3B4455;\n",
              "      --disabled-fill-color: #666;\n",
              "  }\n",
              "\n",
              "  .colab-df-quickchart {\n",
              "    background-color: var(--bg-color);\n",
              "    border: none;\n",
              "    border-radius: 50%;\n",
              "    cursor: pointer;\n",
              "    display: none;\n",
              "    fill: var(--fill-color);\n",
              "    height: 32px;\n",
              "    padding: 0;\n",
              "    width: 32px;\n",
              "  }\n",
              "\n",
              "  .colab-df-quickchart:hover {\n",
              "    background-color: var(--hover-bg-color);\n",
              "    box-shadow: 0 1px 2px rgba(60, 64, 67, 0.3), 0 1px 3px 1px rgba(60, 64, 67, 0.15);\n",
              "    fill: var(--button-hover-fill-color);\n",
              "  }\n",
              "\n",
              "  .colab-df-quickchart-complete:disabled,\n",
              "  .colab-df-quickchart-complete:disabled:hover {\n",
              "    background-color: var(--disabled-bg-color);\n",
              "    fill: var(--disabled-fill-color);\n",
              "    box-shadow: none;\n",
              "  }\n",
              "\n",
              "  .colab-df-spinner {\n",
              "    border: 2px solid var(--fill-color);\n",
              "    border-color: transparent;\n",
              "    border-bottom-color: var(--fill-color);\n",
              "    animation:\n",
              "      spin 1s steps(1) infinite;\n",
              "  }\n",
              "\n",
              "  @keyframes spin {\n",
              "    0% {\n",
              "      border-color: transparent;\n",
              "      border-bottom-color: var(--fill-color);\n",
              "      border-left-color: var(--fill-color);\n",
              "    }\n",
              "    20% {\n",
              "      border-color: transparent;\n",
              "      border-left-color: var(--fill-color);\n",
              "      border-top-color: var(--fill-color);\n",
              "    }\n",
              "    30% {\n",
              "      border-color: transparent;\n",
              "      border-left-color: var(--fill-color);\n",
              "      border-top-color: var(--fill-color);\n",
              "      border-right-color: var(--fill-color);\n",
              "    }\n",
              "    40% {\n",
              "      border-color: transparent;\n",
              "      border-right-color: var(--fill-color);\n",
              "      border-top-color: var(--fill-color);\n",
              "    }\n",
              "    60% {\n",
              "      border-color: transparent;\n",
              "      border-right-color: var(--fill-color);\n",
              "    }\n",
              "    80% {\n",
              "      border-color: transparent;\n",
              "      border-right-color: var(--fill-color);\n",
              "      border-bottom-color: var(--fill-color);\n",
              "    }\n",
              "    90% {\n",
              "      border-color: transparent;\n",
              "      border-bottom-color: var(--fill-color);\n",
              "    }\n",
              "  }\n",
              "</style>\n",
              "\n",
              "  <script>\n",
              "    async function quickchart(key) {\n",
              "      const quickchartButtonEl =\n",
              "        document.querySelector('#' + key + ' button');\n",
              "      quickchartButtonEl.disabled = true;  // To prevent multiple clicks.\n",
              "      quickchartButtonEl.classList.add('colab-df-spinner');\n",
              "      try {\n",
              "        const charts = await google.colab.kernel.invokeFunction(\n",
              "            'suggestCharts', [key], {});\n",
              "      } catch (error) {\n",
              "        console.error('Error during call to suggestCharts:', error);\n",
              "      }\n",
              "      quickchartButtonEl.classList.remove('colab-df-spinner');\n",
              "      quickchartButtonEl.classList.add('colab-df-quickchart-complete');\n",
              "    }\n",
              "    (() => {\n",
              "      let quickchartButtonEl =\n",
              "        document.querySelector('#df-4bf2348a-b219-4a82-9817-3eb332201d12 button');\n",
              "      quickchartButtonEl.style.display =\n",
              "        google.colab.kernel.accessAllowed ? 'block' : 'none';\n",
              "    })();\n",
              "  </script>\n",
              "</div>\n",
              "\n",
              "  <div id=\"id_df9de6ae-e48d-43d8-9ba4-983643c6054e\">\n",
              "    <style>\n",
              "      .colab-df-generate {\n",
              "        background-color: #E8F0FE;\n",
              "        border: none;\n",
              "        border-radius: 50%;\n",
              "        cursor: pointer;\n",
              "        display: none;\n",
              "        fill: #1967D2;\n",
              "        height: 32px;\n",
              "        padding: 0 0 0 0;\n",
              "        width: 32px;\n",
              "      }\n",
              "\n",
              "      .colab-df-generate:hover {\n",
              "        background-color: #E2EBFA;\n",
              "        box-shadow: 0px 1px 2px rgba(60, 64, 67, 0.3), 0px 1px 3px 1px rgba(60, 64, 67, 0.15);\n",
              "        fill: #174EA6;\n",
              "      }\n",
              "\n",
              "      [theme=dark] .colab-df-generate {\n",
              "        background-color: #3B4455;\n",
              "        fill: #D2E3FC;\n",
              "      }\n",
              "\n",
              "      [theme=dark] .colab-df-generate:hover {\n",
              "        background-color: #434B5C;\n",
              "        box-shadow: 0px 1px 3px 1px rgba(0, 0, 0, 0.15);\n",
              "        filter: drop-shadow(0px 1px 2px rgba(0, 0, 0, 0.3));\n",
              "        fill: #FFFFFF;\n",
              "      }\n",
              "    </style>\n",
              "    <button class=\"colab-df-generate\" onclick=\"generateWithVariable('train_data')\"\n",
              "            title=\"Generate code using this dataframe.\"\n",
              "            style=\"display:none;\">\n",
              "\n",
              "  <svg xmlns=\"http://www.w3.org/2000/svg\" height=\"24px\"viewBox=\"0 0 24 24\"\n",
              "       width=\"24px\">\n",
              "    <path d=\"M7,19H8.4L18.45,9,17,7.55,7,17.6ZM5,21V16.75L18.45,3.32a2,2,0,0,1,2.83,0l1.4,1.43a1.91,1.91,0,0,1,.58,1.4,1.91,1.91,0,0,1-.58,1.4L9.25,21ZM18.45,9,17,7.55Zm-12,3A5.31,5.31,0,0,0,4.9,8.1,5.31,5.31,0,0,0,1,6.5,5.31,5.31,0,0,0,4.9,4.9,5.31,5.31,0,0,0,6.5,1,5.31,5.31,0,0,0,8.1,4.9,5.31,5.31,0,0,0,12,6.5,5.46,5.46,0,0,0,6.5,12Z\"/>\n",
              "  </svg>\n",
              "    </button>\n",
              "    <script>\n",
              "      (() => {\n",
              "      const buttonEl =\n",
              "        document.querySelector('#id_df9de6ae-e48d-43d8-9ba4-983643c6054e button.colab-df-generate');\n",
              "      buttonEl.style.display =\n",
              "        google.colab.kernel.accessAllowed ? 'block' : 'none';\n",
              "\n",
              "      buttonEl.onclick = () => {\n",
              "        google.colab.notebook.generateWithVariable('train_data');\n",
              "      }\n",
              "      })();\n",
              "    </script>\n",
              "  </div>\n",
              "\n",
              "    </div>\n",
              "  </div>\n"
            ],
            "application/vnd.google.colaboratory.intrinsic+json": {
              "type": "dataframe",
              "variable_name": "train_data",
              "summary": "{\n  \"name\": \"train_data\",\n  \"rows\": 12092,\n  \"fields\": [\n    {\n      \"column\": \"idx\",\n      \"properties\": {\n        \"dtype\": \"number\",\n        \"std\": 3490,\n        \"min\": 0,\n        \"max\": 12091,\n        \"num_unique_values\": 12092,\n        \"samples\": [\n          468,\n          9125,\n          538\n        ],\n        \"semantic_type\": \"\",\n        \"description\": \"\"\n      }\n    },\n    {\n      \"column\": \"class\",\n      \"properties\": {\n        \"dtype\": \"category\",\n        \"num_unique_values\": 5,\n        \"samples\": [\n          \"\\uae30\\ud0c0 \\uad34\\ub86d\\ud798 \\ub300\\ud654\",\n          \"\\uc77c\\ubc18\",\n          \"\\uac08\\ucde8 \\ub300\\ud654\"\n        ],\n        \"semantic_type\": \"\",\n        \"description\": \"\"\n      }\n    },\n    {\n      \"column\": \"conversation\",\n      \"properties\": {\n        \"dtype\": \"string\",\n        \"num_unique_values\": 11923,\n        \"samples\": [\n          \"\\ubc29\\uc774 \\uc881\\uc544\\uc11c \\uadf8\\ub807\\uc9c0 \\uc544\\uae30\\uc790\\uae30\\ud55c \\ub9db\\uc740 \\uc788\\ub124. \\uadfc\\ub370 \\ub108 \\uc6b0\\ub9ac \\uc9d1\\uc5d4 \\uc6ec\\uc77c\\uc774\\uc57c? \\ubb34\\uc2a8 \\uc77c \\uc788\\uc5b4? \\uc6ec\\uc77c\\uc740. \\ube75\\uc9d1 \\uc9c0\\ub098\\ub294\\ub370 \\uc5b8\\ub2c8 \\uc0dd\\uac01\\ub098\\uc11c. \\ucf00\\uc78c \\uba39\\uc73c\\uba70 \\uc774\\ub7f0~\\uc800\\ub7f0~ \\uc598\\uae30\\ub098 \\ud558\\ub824\\uace0 \\uc654\\uc9c0 \\ubb50. \\uc5b4\\ucc28\\ud53c \\uc880 \\uc774\\ub530 \\uacfc\\uc678\\ud558\\ub7ec \\ub108\\ud76c \\uc9d1 \\uac08 \\uac74\\ub370.. \",\n          \"\\uc815\\uacfc\\uc7a5\\n\\uc774\\ub7f0\\ub9d0 \\uc624\\ud574\\uc5c6\\uc774 \\ub4e4\\uc5b4\\n\\ub124 \\ubd80\\uc7a5\\ub2d8\\n\\uc815\\uacfc\\uc7a5\\uc740 \\ud68c\\uc7a5\\ub2d8 \\uc606\\uc5d0\\uc11c \\uc788\\ub294\\uc2dc\\ub78c\\uc774\\ub2c8 \\ub2e8\\uc815\\ud574\\uc57c\\uc9c0\\n\\ub124 \\ub9de\\uc2b5\\ub2c8\\ub2e4.\\n\\uba38\\ub9ac \\uc2a4\\ud0c0\\uc77c \\ubc14\\uafd4\\ubd10\\n\\uc5b4\\ub5bb\\uac8c\\uc694\\n\\uae34\\uba38\\ub9ac \\uce58\\ub801\\uce58\\ub801 \\ud558\\ub2c8\\uae4c \\ucee4\\ud2b8\\ud574\\n\\ubb36\\uace0 \\ub2e4\\ub2c8\\ub294\\ub370\\uc694\\n\\ud1a0 \\ub2ec\\uc9c0 \\ub9d0\\uace0 \\uac70\\uc2ac\\ub9ac\\ub2c8\\uae4c \\uc798\\ub77c\",\n          \"\\ub0b4 \\ub9d0\\uc740 \\ubb34\\uc2a8 \\ub9d0\\uc774\\ub0d0\\uba74... \\ubb34\\uc2a8 \\ub9d0\\uc500\\uc774\\uc2e0\\uc9c0 \\uc54c\\uc544\\uc694. \\ud558\\uc9c0\\ub9cc... \\ud600\\ub294 \\ub0b4\\ubc00\\uc9c0 \\ub9d0\\uad6c\\uc694,\\ub2e4 \\ud070 \\uc544\\uac00\\uc528\\uac00 \\uc544\\uae4c\\ubd80\\ud130 \\uc65c \\uc790\\uafb8 \\ud600\\ub294 \\ub0b4 \\ubc00\\uc5b4\\uc694., \\uc8c4\\uc1a1\\ud569\\ub2c8\\ub2e4. \\ubc84\\ub987\\uc774\\ub77c\\uc11c! \"\n        ],\n        \"semantic_type\": \"\",\n        \"description\": \"\"\n      }\n    },\n    {\n      \"column\": \"conversation_processed\",\n      \"properties\": {\n        \"dtype\": \"string\",\n        \"num_unique_values\": 11922,\n        \"samples\": [\n          \"\\uc5b4\\ub77c , \\uc800\\uae30 \\ub124 \\uc9c0\\uac11 \\uc654\\ub2e4 . \\ud558 , \\uadc0\\ucc2e\\uac8c . \\uc65c , \\uc88b\\uc796\\uc544 . \\uc800\\ub7f0 \\uc88b\\uc740 \\uace0\\uac1d\\uc774 \\ub610 \\uc5b4\\ub514 \\uc788\\ub2e4\\uace0 . \\ub124\\uac00 \\ud55c\\ub9c8\\ub514\\ub9cc \\ud558\\uba74 \\uc9d1\\uc774\\uace0 \\ucc28\\uace0 \\ub2e4 \\ud314\\uc544\\uc11c \\uac16\\ub2e4 \\ubc14\\uce60\\uac78 ? \\uadf8\\uac8c \\uadc0\\ucc2e\\ub2e4\\ub294 \\uac70\\uc608\\uc694 . \\uadf8\\ub807\\uac8c \\uc2a4\\uc2a4\\ub85c \\uc778\\uc0dd \\ub9d0\\uc544\\uba39\\uc5b4 \\ub193\\uace0 \\uc804\\ubd80 \\ub0b4 \\ucc45\\uc784\\uc774\\ub77c\\ub294 \\uc2dd\\uc73c\\ub85c \\ub5a0\\ub118\\uae30\\uace0 \\uad34\\ub86d\\ud788\\uc796\\uc544\\uc694 . \\ubcf8\\uc778\\uc758 \\uc798\\ubabb\\uc740 \\uc0dd\\uac01\\ub3c4 \\uc548\\ud558\\uace0 \\ub9d0\\uc774\\uc8e0 . \\uc6b0\\uc640 , \\uc6ec\\uc77c\\ub85c \\ub9d0 \\uc138\\uac8c \\ud558\\ub124 . \\ub108 \\uc6b0\\uc544\\ud55c \\ucee8\\uc149 \\uc544\\ub2c8\\uc5c8\\uc5b4 ? \\ucd94\\uc6b4\\ub370 \\ube68\\ub9ac \\ub4e4\\uc5b4\\uac00\\uc694 .\",\n          \"\\uc815\\uacfc\\uc7a5 \\uc774\\ub7f0\\ub9d0 \\uc624\\ud574\\uc5c6\\uc774 \\ub4e4\\uc5b4 \\ub124 \\ubd80\\uc7a5\\ub2d8 \\uc815\\uacfc\\uc7a5\\uc740 \\ud68c\\uc7a5\\ub2d8 \\uc606\\uc5d0\\uc11c \\uc788\\ub294\\uc2dc\\ub78c\\uc774\\ub2c8 \\ub2e8\\uc815\\ud574\\uc57c\\uc9c0 \\ub124 \\ub9de\\uc2b5\\ub2c8\\ub2e4 . \\uba38\\ub9ac \\uc2a4\\ud0c0\\uc77c \\ubc14\\uafd4\\ubd10 \\uc5b4\\ub5bb\\uac8c\\uc694 \\uae34\\uba38\\ub9ac \\uce58\\ub801\\uce58\\ub801 \\ud558\\ub2c8\\uae4c \\ucee4\\ud2b8\\ud574 \\ubb36\\uace0 \\ub2e4\\ub2c8\\ub294\\ub370\\uc694 \\ud1a0 \\ub2ec\\uc9c0 \\ub9d0\\uace0 \\uac70\\uc2ac\\ub9ac\\ub2c8\\uae4c \\uc798\\ub77c\",\n          \"\\uc57c \\uc7e4 \\uc65c \\uc800\\ub807\\uac8c \\uac77\\ub0d0 ? \\uc808\\ub69d\\uc774\\ub0d0 ? \\uc774\\uc0c1\\ud558\\uac8c \\uac77\\ub124 \\ub108 \\uc7e4 \\uc606\\uc5d0 \\uac00\\uc11c \\ub530\\ub77c\\ud574\\ubd10 \\uc880 \\uc774\\ub530 \\ud574\\ubcfc\\uac8c \\uc800\\ub7ec\\uace0 \\uc5b4\\ub5bb\\uac8c \\ub2e4\\ub2c8\\uc9c0 ? \\uadf8\\ub7ec\\ub2c8\\uae4c \\ub098\\ub77c\\uba74 \\uc9d1\\uc5d0 \\uccd0\\ubc15\\ud600 \\uc788\\uc744\\ub4ef \\uc5d0\\ud6a8 \\uc7e8 \\uc9c4\\uc9dc \\ubd88\\ud589\\ud558\\ub2e4 \\ub0b4\\uac00 \\uc544\\ub2cc\\uac8c \\uc5b4\\ub514\\uc57c \\ucc9c\\ub9cc\\ub2e4\\ud589 \\uadf8\\ub7ec\\ub2c8\\uae4c \\uc9c4\\uc9dc \\uac10\\uc0ac\\ud569\\ub2c8\\ub2e4 \\uc5b4 ? \\uc7e4 \\uc774\\ucabd\\uc73c\\ub85c \\uc628\\ub2e4 \\uc6b0\\ub9ac \\ub534\\ub370\\uac00\\uc790\"\n        ],\n        \"semantic_type\": \"\",\n        \"description\": \"\"\n      }\n    },\n    {\n      \"column\": \"conversation_filtered\",\n      \"properties\": {\n        \"dtype\": \"string\",\n        \"num_unique_values\": 11922,\n        \"samples\": [\n          \"\\uc5b4\\ub77c , \\uc800\\uae30 \\ub124 \\uc9c0\\uac11 \\uc654\\ub2e4 . \\ud558 , \\uadc0\\ucc2e\\uac8c . \\uc65c , \\uc88b\\uc796\\uc544 . \\uc800\\ub7f0 \\uc88b\\uc740 \\uace0\\uac1d\\uc774 \\ub610 \\uc5b4\\ub514 \\uc788\\ub2e4\\uace0 . \\ub124\\uac00 \\ud55c\\ub9c8\\ub514\\ub9cc \\ud558\\uba74 \\uc9d1\\uc774\\uace0 \\ucc28\\uace0 \\ub2e4 \\ud314\\uc544\\uc11c \\uac16\\ub2e4 \\ubc14\\uce60\\uac78 ? \\uadf8\\uac8c \\uadc0\\ucc2e\\ub2e4\\ub294 \\uac70\\uc608\\uc694 . \\uadf8\\ub807\\uac8c \\uc2a4\\uc2a4\\ub85c \\uc778\\uc0dd \\ub9d0\\uc544\\uba39\\uc5b4 \\ub193\\uace0 \\uc804\\ubd80 \\ub0b4 \\ucc45\\uc784\\uc774\\ub77c\\ub294 \\uc2dd\\uc73c\\ub85c \\ub5a0\\ub118\\uae30\\uace0 \\uad34\\ub86d\\ud788\\uc796\\uc544\\uc694 . \\ubcf8\\uc778\\uc758 \\uc798\\ubabb\\uc740 \\uc0dd\\uac01\\ub3c4 \\uc548\\ud558\\uace0 \\ub9d0\\uc774\\uc8e0 . \\uc6b0\\uc640 , \\uc6ec\\uc77c\\ub85c \\ub9d0 \\uc138\\uac8c \\ud558\\ub124 . \\ub108 \\uc6b0\\uc544\\ud55c \\ucee8\\uc149 \\uc544\\ub2c8\\uc5c8\\uc5b4 ? \\ucd94\\uc6b4\\ub370 \\ube68\\ub9ac \\ub4e4\\uc5b4\\uac00\\uc694 .\",\n          \"\\uc815\\uacfc\\uc7a5 \\uc774\\ub7f0\\ub9d0 \\uc624\\ud574\\uc5c6\\uc774 \\ub4e4\\uc5b4 \\ub124 \\ubd80\\uc7a5\\ub2d8 \\uc815\\uacfc\\uc7a5\\uc740 \\ud68c\\uc7a5\\ub2d8 \\uc606\\uc5d0\\uc11c \\uc788\\ub294\\uc2dc\\ub78c\\uc774\\ub2c8 \\ub2e8\\uc815\\ud574\\uc57c\\uc9c0 \\ub124 \\ub9de\\uc2b5\\ub2c8\\ub2e4 . \\uba38\\ub9ac \\uc2a4\\ud0c0\\uc77c \\ubc14\\uafd4\\ubd10 \\uc5b4\\ub5bb\\uac8c\\uc694 \\uae34\\uba38\\ub9ac \\uce58\\ub801\\uce58\\ub801 \\ud558\\ub2c8\\uae4c \\ucee4\\ud2b8\\ud574 \\ubb36\\uace0 \\ub2e4\\ub2c8\\ub294\\ub370\\uc694 \\ud1a0 \\ub2ec\\uc9c0 \\ub9d0\\uace0 \\uac70\\uc2ac\\ub9ac\\ub2c8\\uae4c \\uc798\\ub77c\",\n          \"\\uc57c \\uc7e4 \\uc65c \\uc800\\ub807\\uac8c \\uac77\\ub0d0 ? \\uc808\\ub69d\\uc774\\ub0d0 ? \\uc774\\uc0c1\\ud558\\uac8c \\uac77\\ub124 \\ub108 \\uc7e4 \\uc606\\uc5d0 \\uac00\\uc11c \\ub530\\ub77c\\ud574\\ubd10 \\uc880 \\uc774\\ub530 \\ud574\\ubcfc\\uac8c \\uc800\\ub7ec\\uace0 \\uc5b4\\ub5bb\\uac8c \\ub2e4\\ub2c8\\uc9c0 ? \\uadf8\\ub7ec\\ub2c8\\uae4c \\ub098\\ub77c\\uba74 \\uc9d1\\uc5d0 \\uccd0\\ubc15\\ud600 \\uc788\\uc744\\ub4ef \\uc5d0\\ud6a8 \\uc7e8 \\uc9c4\\uc9dc \\ubd88\\ud589\\ud558\\ub2e4 \\ub0b4\\uac00 \\uc544\\ub2cc\\uac8c \\uc5b4\\ub514\\uc57c \\ucc9c\\ub9cc\\ub2e4\\ud589 \\uadf8\\ub7ec\\ub2c8\\uae4c \\uc9c4\\uc9dc \\uac10\\uc0ac\\ud569\\ub2c8\\ub2e4 \\uc5b4 ? \\uc7e4 \\uc774\\ucabd\\uc73c\\ub85c \\uc628\\ub2e4 \\uc6b0\\ub9ac \\ub534\\ub370\\uac00\\uc790\"\n        ],\n        \"semantic_type\": \"\",\n        \"description\": \"\"\n      }\n    }\n  ]\n}"
            }
          },
          "metadata": {},
          "execution_count": 10
        }
      ],
      "source": [
        "data"
      ]
    },
    {
      "cell_type": "code",
      "execution_count": 11,
      "id": "32bee70e",
      "metadata": {
        "id": "32bee70e",
        "outputId": "ab9a82f1-77c9-4c43-de23-7916641be33b",
        "colab": {
          "base_uri": "https://localhost:8080/",
          "height": 423
        }
      },
      "outputs": [
        {
          "output_type": "execute_result",
          "data": {
            "text/plain": [
              "         idx      class                              conversation_filtered\n",
              "0          0      협박 대화  지금 너 스스로를 죽여달라고 애원하는 것인가 ? 아닙니다 . 죄송합니다 . 죽을 거...\n",
              "1          1      협박 대화  길동경찰서입니다 . 9시 40분 마트에 폭발물을 설치할거다 . 네 ? 똑바로 들어 ...\n",
              "2          2  기타 괴롭힘 대화  너 되게 귀여운거 알지 ? 나보다 작은 남자는 첨봤어 . 그만해 . 니들 놀리는거 ...\n",
              "3          3      갈취 대화  어이 거기 예 ? ? 너 말이야 너 . 이리 오라고 무슨 일 . 너 옷 좋아보인다 ...\n",
              "4          4      갈취 대화  저기요 혹시 날이 너무 뜨겁잖아요 ? 저희 회사에서 선크림 파는데 한 번 손등에 발...\n",
              "...      ...        ...                                                ...\n",
              "12087  12087         일반  미안하다 . . . 나 내일 회사 하루 쉬려고 . 회사를 ? 어 . . . 너무 힘...\n",
              "12088  12088         일반  아~엄마 뭐하는데 오밤중에 ? 난 정말 나간다 . 애들처럼 왜 이러냐고 ? 동네 창...\n",
              "12089  12089         일반  니 방에 들어가 , 자 임마 . 엄마 갑자기 짐 들고 사라질까봐 불안해서 못 나가 ...\n",
              "12090  12090         일반  어 , 왜 일어나있어 ? 힘든데 누워있지 . 아니 , 이젠 괜찮아 오빠 . 뭐가 괜...\n",
              "12091  12091         일반  오랜만에 병원 밖이라도 나가서 점심을 먹으니까 아주 꿀맛이다 . 며칠에 한번 집에 ...\n",
              "\n",
              "[12092 rows x 3 columns]"
            ],
            "text/html": [
              "\n",
              "  <div id=\"df-06eb4ca7-69cf-4427-a498-5dfa2694cb37\" class=\"colab-df-container\">\n",
              "    <div>\n",
              "<style scoped>\n",
              "    .dataframe tbody tr th:only-of-type {\n",
              "        vertical-align: middle;\n",
              "    }\n",
              "\n",
              "    .dataframe tbody tr th {\n",
              "        vertical-align: top;\n",
              "    }\n",
              "\n",
              "    .dataframe thead th {\n",
              "        text-align: right;\n",
              "    }\n",
              "</style>\n",
              "<table border=\"1\" class=\"dataframe\">\n",
              "  <thead>\n",
              "    <tr style=\"text-align: right;\">\n",
              "      <th></th>\n",
              "      <th>idx</th>\n",
              "      <th>class</th>\n",
              "      <th>conversation_filtered</th>\n",
              "    </tr>\n",
              "  </thead>\n",
              "  <tbody>\n",
              "    <tr>\n",
              "      <th>0</th>\n",
              "      <td>0</td>\n",
              "      <td>협박 대화</td>\n",
              "      <td>지금 너 스스로를 죽여달라고 애원하는 것인가 ? 아닙니다 . 죄송합니다 . 죽을 거...</td>\n",
              "    </tr>\n",
              "    <tr>\n",
              "      <th>1</th>\n",
              "      <td>1</td>\n",
              "      <td>협박 대화</td>\n",
              "      <td>길동경찰서입니다 . 9시 40분 마트에 폭발물을 설치할거다 . 네 ? 똑바로 들어 ...</td>\n",
              "    </tr>\n",
              "    <tr>\n",
              "      <th>2</th>\n",
              "      <td>2</td>\n",
              "      <td>기타 괴롭힘 대화</td>\n",
              "      <td>너 되게 귀여운거 알지 ? 나보다 작은 남자는 첨봤어 . 그만해 . 니들 놀리는거 ...</td>\n",
              "    </tr>\n",
              "    <tr>\n",
              "      <th>3</th>\n",
              "      <td>3</td>\n",
              "      <td>갈취 대화</td>\n",
              "      <td>어이 거기 예 ? ? 너 말이야 너 . 이리 오라고 무슨 일 . 너 옷 좋아보인다 ...</td>\n",
              "    </tr>\n",
              "    <tr>\n",
              "      <th>4</th>\n",
              "      <td>4</td>\n",
              "      <td>갈취 대화</td>\n",
              "      <td>저기요 혹시 날이 너무 뜨겁잖아요 ? 저희 회사에서 선크림 파는데 한 번 손등에 발...</td>\n",
              "    </tr>\n",
              "    <tr>\n",
              "      <th>...</th>\n",
              "      <td>...</td>\n",
              "      <td>...</td>\n",
              "      <td>...</td>\n",
              "    </tr>\n",
              "    <tr>\n",
              "      <th>12087</th>\n",
              "      <td>12087</td>\n",
              "      <td>일반</td>\n",
              "      <td>미안하다 . . . 나 내일 회사 하루 쉬려고 . 회사를 ? 어 . . . 너무 힘...</td>\n",
              "    </tr>\n",
              "    <tr>\n",
              "      <th>12088</th>\n",
              "      <td>12088</td>\n",
              "      <td>일반</td>\n",
              "      <td>아~엄마 뭐하는데 오밤중에 ? 난 정말 나간다 . 애들처럼 왜 이러냐고 ? 동네 창...</td>\n",
              "    </tr>\n",
              "    <tr>\n",
              "      <th>12089</th>\n",
              "      <td>12089</td>\n",
              "      <td>일반</td>\n",
              "      <td>니 방에 들어가 , 자 임마 . 엄마 갑자기 짐 들고 사라질까봐 불안해서 못 나가 ...</td>\n",
              "    </tr>\n",
              "    <tr>\n",
              "      <th>12090</th>\n",
              "      <td>12090</td>\n",
              "      <td>일반</td>\n",
              "      <td>어 , 왜 일어나있어 ? 힘든데 누워있지 . 아니 , 이젠 괜찮아 오빠 . 뭐가 괜...</td>\n",
              "    </tr>\n",
              "    <tr>\n",
              "      <th>12091</th>\n",
              "      <td>12091</td>\n",
              "      <td>일반</td>\n",
              "      <td>오랜만에 병원 밖이라도 나가서 점심을 먹으니까 아주 꿀맛이다 . 며칠에 한번 집에 ...</td>\n",
              "    </tr>\n",
              "  </tbody>\n",
              "</table>\n",
              "<p>12092 rows × 3 columns</p>\n",
              "</div>\n",
              "    <div class=\"colab-df-buttons\">\n",
              "\n",
              "  <div class=\"colab-df-container\">\n",
              "    <button class=\"colab-df-convert\" onclick=\"convertToInteractive('df-06eb4ca7-69cf-4427-a498-5dfa2694cb37')\"\n",
              "            title=\"Convert this dataframe to an interactive table.\"\n",
              "            style=\"display:none;\">\n",
              "\n",
              "  <svg xmlns=\"http://www.w3.org/2000/svg\" height=\"24px\" viewBox=\"0 -960 960 960\">\n",
              "    <path d=\"M120-120v-720h720v720H120Zm60-500h600v-160H180v160Zm220 220h160v-160H400v160Zm0 220h160v-160H400v160ZM180-400h160v-160H180v160Zm440 0h160v-160H620v160ZM180-180h160v-160H180v160Zm440 0h160v-160H620v160Z\"/>\n",
              "  </svg>\n",
              "    </button>\n",
              "\n",
              "  <style>\n",
              "    .colab-df-container {\n",
              "      display:flex;\n",
              "      gap: 12px;\n",
              "    }\n",
              "\n",
              "    .colab-df-convert {\n",
              "      background-color: #E8F0FE;\n",
              "      border: none;\n",
              "      border-radius: 50%;\n",
              "      cursor: pointer;\n",
              "      display: none;\n",
              "      fill: #1967D2;\n",
              "      height: 32px;\n",
              "      padding: 0 0 0 0;\n",
              "      width: 32px;\n",
              "    }\n",
              "\n",
              "    .colab-df-convert:hover {\n",
              "      background-color: #E2EBFA;\n",
              "      box-shadow: 0px 1px 2px rgba(60, 64, 67, 0.3), 0px 1px 3px 1px rgba(60, 64, 67, 0.15);\n",
              "      fill: #174EA6;\n",
              "    }\n",
              "\n",
              "    .colab-df-buttons div {\n",
              "      margin-bottom: 4px;\n",
              "    }\n",
              "\n",
              "    [theme=dark] .colab-df-convert {\n",
              "      background-color: #3B4455;\n",
              "      fill: #D2E3FC;\n",
              "    }\n",
              "\n",
              "    [theme=dark] .colab-df-convert:hover {\n",
              "      background-color: #434B5C;\n",
              "      box-shadow: 0px 1px 3px 1px rgba(0, 0, 0, 0.15);\n",
              "      filter: drop-shadow(0px 1px 2px rgba(0, 0, 0, 0.3));\n",
              "      fill: #FFFFFF;\n",
              "    }\n",
              "  </style>\n",
              "\n",
              "    <script>\n",
              "      const buttonEl =\n",
              "        document.querySelector('#df-06eb4ca7-69cf-4427-a498-5dfa2694cb37 button.colab-df-convert');\n",
              "      buttonEl.style.display =\n",
              "        google.colab.kernel.accessAllowed ? 'block' : 'none';\n",
              "\n",
              "      async function convertToInteractive(key) {\n",
              "        const element = document.querySelector('#df-06eb4ca7-69cf-4427-a498-5dfa2694cb37');\n",
              "        const dataTable =\n",
              "          await google.colab.kernel.invokeFunction('convertToInteractive',\n",
              "                                                    [key], {});\n",
              "        if (!dataTable) return;\n",
              "\n",
              "        const docLinkHtml = 'Like what you see? Visit the ' +\n",
              "          '<a target=\"_blank\" href=https://colab.research.google.com/notebooks/data_table.ipynb>data table notebook</a>'\n",
              "          + ' to learn more about interactive tables.';\n",
              "        element.innerHTML = '';\n",
              "        dataTable['output_type'] = 'display_data';\n",
              "        await google.colab.output.renderOutput(dataTable, element);\n",
              "        const docLink = document.createElement('div');\n",
              "        docLink.innerHTML = docLinkHtml;\n",
              "        element.appendChild(docLink);\n",
              "      }\n",
              "    </script>\n",
              "  </div>\n",
              "\n",
              "\n",
              "<div id=\"df-71e6888f-0d32-4be7-b74c-e4439c801380\">\n",
              "  <button class=\"colab-df-quickchart\" onclick=\"quickchart('df-71e6888f-0d32-4be7-b74c-e4439c801380')\"\n",
              "            title=\"Suggest charts\"\n",
              "            style=\"display:none;\">\n",
              "\n",
              "<svg xmlns=\"http://www.w3.org/2000/svg\" height=\"24px\"viewBox=\"0 0 24 24\"\n",
              "     width=\"24px\">\n",
              "    <g>\n",
              "        <path d=\"M19 3H5c-1.1 0-2 .9-2 2v14c0 1.1.9 2 2 2h14c1.1 0 2-.9 2-2V5c0-1.1-.9-2-2-2zM9 17H7v-7h2v7zm4 0h-2V7h2v10zm4 0h-2v-4h2v4z\"/>\n",
              "    </g>\n",
              "</svg>\n",
              "  </button>\n",
              "\n",
              "<style>\n",
              "  .colab-df-quickchart {\n",
              "      --bg-color: #E8F0FE;\n",
              "      --fill-color: #1967D2;\n",
              "      --hover-bg-color: #E2EBFA;\n",
              "      --hover-fill-color: #174EA6;\n",
              "      --disabled-fill-color: #AAA;\n",
              "      --disabled-bg-color: #DDD;\n",
              "  }\n",
              "\n",
              "  [theme=dark] .colab-df-quickchart {\n",
              "      --bg-color: #3B4455;\n",
              "      --fill-color: #D2E3FC;\n",
              "      --hover-bg-color: #434B5C;\n",
              "      --hover-fill-color: #FFFFFF;\n",
              "      --disabled-bg-color: #3B4455;\n",
              "      --disabled-fill-color: #666;\n",
              "  }\n",
              "\n",
              "  .colab-df-quickchart {\n",
              "    background-color: var(--bg-color);\n",
              "    border: none;\n",
              "    border-radius: 50%;\n",
              "    cursor: pointer;\n",
              "    display: none;\n",
              "    fill: var(--fill-color);\n",
              "    height: 32px;\n",
              "    padding: 0;\n",
              "    width: 32px;\n",
              "  }\n",
              "\n",
              "  .colab-df-quickchart:hover {\n",
              "    background-color: var(--hover-bg-color);\n",
              "    box-shadow: 0 1px 2px rgba(60, 64, 67, 0.3), 0 1px 3px 1px rgba(60, 64, 67, 0.15);\n",
              "    fill: var(--button-hover-fill-color);\n",
              "  }\n",
              "\n",
              "  .colab-df-quickchart-complete:disabled,\n",
              "  .colab-df-quickchart-complete:disabled:hover {\n",
              "    background-color: var(--disabled-bg-color);\n",
              "    fill: var(--disabled-fill-color);\n",
              "    box-shadow: none;\n",
              "  }\n",
              "\n",
              "  .colab-df-spinner {\n",
              "    border: 2px solid var(--fill-color);\n",
              "    border-color: transparent;\n",
              "    border-bottom-color: var(--fill-color);\n",
              "    animation:\n",
              "      spin 1s steps(1) infinite;\n",
              "  }\n",
              "\n",
              "  @keyframes spin {\n",
              "    0% {\n",
              "      border-color: transparent;\n",
              "      border-bottom-color: var(--fill-color);\n",
              "      border-left-color: var(--fill-color);\n",
              "    }\n",
              "    20% {\n",
              "      border-color: transparent;\n",
              "      border-left-color: var(--fill-color);\n",
              "      border-top-color: var(--fill-color);\n",
              "    }\n",
              "    30% {\n",
              "      border-color: transparent;\n",
              "      border-left-color: var(--fill-color);\n",
              "      border-top-color: var(--fill-color);\n",
              "      border-right-color: var(--fill-color);\n",
              "    }\n",
              "    40% {\n",
              "      border-color: transparent;\n",
              "      border-right-color: var(--fill-color);\n",
              "      border-top-color: var(--fill-color);\n",
              "    }\n",
              "    60% {\n",
              "      border-color: transparent;\n",
              "      border-right-color: var(--fill-color);\n",
              "    }\n",
              "    80% {\n",
              "      border-color: transparent;\n",
              "      border-right-color: var(--fill-color);\n",
              "      border-bottom-color: var(--fill-color);\n",
              "    }\n",
              "    90% {\n",
              "      border-color: transparent;\n",
              "      border-bottom-color: var(--fill-color);\n",
              "    }\n",
              "  }\n",
              "</style>\n",
              "\n",
              "  <script>\n",
              "    async function quickchart(key) {\n",
              "      const quickchartButtonEl =\n",
              "        document.querySelector('#' + key + ' button');\n",
              "      quickchartButtonEl.disabled = true;  // To prevent multiple clicks.\n",
              "      quickchartButtonEl.classList.add('colab-df-spinner');\n",
              "      try {\n",
              "        const charts = await google.colab.kernel.invokeFunction(\n",
              "            'suggestCharts', [key], {});\n",
              "      } catch (error) {\n",
              "        console.error('Error during call to suggestCharts:', error);\n",
              "      }\n",
              "      quickchartButtonEl.classList.remove('colab-df-spinner');\n",
              "      quickchartButtonEl.classList.add('colab-df-quickchart-complete');\n",
              "    }\n",
              "    (() => {\n",
              "      let quickchartButtonEl =\n",
              "        document.querySelector('#df-71e6888f-0d32-4be7-b74c-e4439c801380 button');\n",
              "      quickchartButtonEl.style.display =\n",
              "        google.colab.kernel.accessAllowed ? 'block' : 'none';\n",
              "    })();\n",
              "  </script>\n",
              "</div>\n",
              "\n",
              "  <div id=\"id_e57fa644-d71a-4208-8279-cc9498f93ab9\">\n",
              "    <style>\n",
              "      .colab-df-generate {\n",
              "        background-color: #E8F0FE;\n",
              "        border: none;\n",
              "        border-radius: 50%;\n",
              "        cursor: pointer;\n",
              "        display: none;\n",
              "        fill: #1967D2;\n",
              "        height: 32px;\n",
              "        padding: 0 0 0 0;\n",
              "        width: 32px;\n",
              "      }\n",
              "\n",
              "      .colab-df-generate:hover {\n",
              "        background-color: #E2EBFA;\n",
              "        box-shadow: 0px 1px 2px rgba(60, 64, 67, 0.3), 0px 1px 3px 1px rgba(60, 64, 67, 0.15);\n",
              "        fill: #174EA6;\n",
              "      }\n",
              "\n",
              "      [theme=dark] .colab-df-generate {\n",
              "        background-color: #3B4455;\n",
              "        fill: #D2E3FC;\n",
              "      }\n",
              "\n",
              "      [theme=dark] .colab-df-generate:hover {\n",
              "        background-color: #434B5C;\n",
              "        box-shadow: 0px 1px 3px 1px rgba(0, 0, 0, 0.15);\n",
              "        filter: drop-shadow(0px 1px 2px rgba(0, 0, 0, 0.3));\n",
              "        fill: #FFFFFF;\n",
              "      }\n",
              "    </style>\n",
              "    <button class=\"colab-df-generate\" onclick=\"generateWithVariable('data')\"\n",
              "            title=\"Generate code using this dataframe.\"\n",
              "            style=\"display:none;\">\n",
              "\n",
              "  <svg xmlns=\"http://www.w3.org/2000/svg\" height=\"24px\"viewBox=\"0 0 24 24\"\n",
              "       width=\"24px\">\n",
              "    <path d=\"M7,19H8.4L18.45,9,17,7.55,7,17.6ZM5,21V16.75L18.45,3.32a2,2,0,0,1,2.83,0l1.4,1.43a1.91,1.91,0,0,1,.58,1.4,1.91,1.91,0,0,1-.58,1.4L9.25,21ZM18.45,9,17,7.55Zm-12,3A5.31,5.31,0,0,0,4.9,8.1,5.31,5.31,0,0,0,1,6.5,5.31,5.31,0,0,0,4.9,4.9,5.31,5.31,0,0,0,6.5,1,5.31,5.31,0,0,0,8.1,4.9,5.31,5.31,0,0,0,12,6.5,5.46,5.46,0,0,0,6.5,12Z\"/>\n",
              "  </svg>\n",
              "    </button>\n",
              "    <script>\n",
              "      (() => {\n",
              "      const buttonEl =\n",
              "        document.querySelector('#id_e57fa644-d71a-4208-8279-cc9498f93ab9 button.colab-df-generate');\n",
              "      buttonEl.style.display =\n",
              "        google.colab.kernel.accessAllowed ? 'block' : 'none';\n",
              "\n",
              "      buttonEl.onclick = () => {\n",
              "        google.colab.notebook.generateWithVariable('data');\n",
              "      }\n",
              "      })();\n",
              "    </script>\n",
              "  </div>\n",
              "\n",
              "    </div>\n",
              "  </div>\n"
            ],
            "application/vnd.google.colaboratory.intrinsic+json": {
              "type": "dataframe",
              "variable_name": "data",
              "summary": "{\n  \"name\": \"data\",\n  \"rows\": 12092,\n  \"fields\": [\n    {\n      \"column\": \"idx\",\n      \"properties\": {\n        \"dtype\": \"number\",\n        \"std\": 3490,\n        \"min\": 0,\n        \"max\": 12091,\n        \"num_unique_values\": 12092,\n        \"samples\": [\n          468,\n          9125,\n          538\n        ],\n        \"semantic_type\": \"\",\n        \"description\": \"\"\n      }\n    },\n    {\n      \"column\": \"class\",\n      \"properties\": {\n        \"dtype\": \"category\",\n        \"num_unique_values\": 5,\n        \"samples\": [\n          \"\\uae30\\ud0c0 \\uad34\\ub86d\\ud798 \\ub300\\ud654\",\n          \"\\uc77c\\ubc18\",\n          \"\\uac08\\ucde8 \\ub300\\ud654\"\n        ],\n        \"semantic_type\": \"\",\n        \"description\": \"\"\n      }\n    },\n    {\n      \"column\": \"conversation_filtered\",\n      \"properties\": {\n        \"dtype\": \"string\",\n        \"num_unique_values\": 11922,\n        \"samples\": [\n          \"\\uc5b4\\ub77c , \\uc800\\uae30 \\ub124 \\uc9c0\\uac11 \\uc654\\ub2e4 . \\ud558 , \\uadc0\\ucc2e\\uac8c . \\uc65c , \\uc88b\\uc796\\uc544 . \\uc800\\ub7f0 \\uc88b\\uc740 \\uace0\\uac1d\\uc774 \\ub610 \\uc5b4\\ub514 \\uc788\\ub2e4\\uace0 . \\ub124\\uac00 \\ud55c\\ub9c8\\ub514\\ub9cc \\ud558\\uba74 \\uc9d1\\uc774\\uace0 \\ucc28\\uace0 \\ub2e4 \\ud314\\uc544\\uc11c \\uac16\\ub2e4 \\ubc14\\uce60\\uac78 ? \\uadf8\\uac8c \\uadc0\\ucc2e\\ub2e4\\ub294 \\uac70\\uc608\\uc694 . \\uadf8\\ub807\\uac8c \\uc2a4\\uc2a4\\ub85c \\uc778\\uc0dd \\ub9d0\\uc544\\uba39\\uc5b4 \\ub193\\uace0 \\uc804\\ubd80 \\ub0b4 \\ucc45\\uc784\\uc774\\ub77c\\ub294 \\uc2dd\\uc73c\\ub85c \\ub5a0\\ub118\\uae30\\uace0 \\uad34\\ub86d\\ud788\\uc796\\uc544\\uc694 . \\ubcf8\\uc778\\uc758 \\uc798\\ubabb\\uc740 \\uc0dd\\uac01\\ub3c4 \\uc548\\ud558\\uace0 \\ub9d0\\uc774\\uc8e0 . \\uc6b0\\uc640 , \\uc6ec\\uc77c\\ub85c \\ub9d0 \\uc138\\uac8c \\ud558\\ub124 . \\ub108 \\uc6b0\\uc544\\ud55c \\ucee8\\uc149 \\uc544\\ub2c8\\uc5c8\\uc5b4 ? \\ucd94\\uc6b4\\ub370 \\ube68\\ub9ac \\ub4e4\\uc5b4\\uac00\\uc694 .\",\n          \"\\uc815\\uacfc\\uc7a5 \\uc774\\ub7f0\\ub9d0 \\uc624\\ud574\\uc5c6\\uc774 \\ub4e4\\uc5b4 \\ub124 \\ubd80\\uc7a5\\ub2d8 \\uc815\\uacfc\\uc7a5\\uc740 \\ud68c\\uc7a5\\ub2d8 \\uc606\\uc5d0\\uc11c \\uc788\\ub294\\uc2dc\\ub78c\\uc774\\ub2c8 \\ub2e8\\uc815\\ud574\\uc57c\\uc9c0 \\ub124 \\ub9de\\uc2b5\\ub2c8\\ub2e4 . \\uba38\\ub9ac \\uc2a4\\ud0c0\\uc77c \\ubc14\\uafd4\\ubd10 \\uc5b4\\ub5bb\\uac8c\\uc694 \\uae34\\uba38\\ub9ac \\uce58\\ub801\\uce58\\ub801 \\ud558\\ub2c8\\uae4c \\ucee4\\ud2b8\\ud574 \\ubb36\\uace0 \\ub2e4\\ub2c8\\ub294\\ub370\\uc694 \\ud1a0 \\ub2ec\\uc9c0 \\ub9d0\\uace0 \\uac70\\uc2ac\\ub9ac\\ub2c8\\uae4c \\uc798\\ub77c\",\n          \"\\uc57c \\uc7e4 \\uc65c \\uc800\\ub807\\uac8c \\uac77\\ub0d0 ? \\uc808\\ub69d\\uc774\\ub0d0 ? \\uc774\\uc0c1\\ud558\\uac8c \\uac77\\ub124 \\ub108 \\uc7e4 \\uc606\\uc5d0 \\uac00\\uc11c \\ub530\\ub77c\\ud574\\ubd10 \\uc880 \\uc774\\ub530 \\ud574\\ubcfc\\uac8c \\uc800\\ub7ec\\uace0 \\uc5b4\\ub5bb\\uac8c \\ub2e4\\ub2c8\\uc9c0 ? \\uadf8\\ub7ec\\ub2c8\\uae4c \\ub098\\ub77c\\uba74 \\uc9d1\\uc5d0 \\uccd0\\ubc15\\ud600 \\uc788\\uc744\\ub4ef \\uc5d0\\ud6a8 \\uc7e8 \\uc9c4\\uc9dc \\ubd88\\ud589\\ud558\\ub2e4 \\ub0b4\\uac00 \\uc544\\ub2cc\\uac8c \\uc5b4\\ub514\\uc57c \\ucc9c\\ub9cc\\ub2e4\\ud589 \\uadf8\\ub7ec\\ub2c8\\uae4c \\uc9c4\\uc9dc \\uac10\\uc0ac\\ud569\\ub2c8\\ub2e4 \\uc5b4 ? \\uc7e4 \\uc774\\ucabd\\uc73c\\ub85c \\uc628\\ub2e4 \\uc6b0\\ub9ac \\ub534\\ub370\\uac00\\uc790\"\n        ],\n        \"semantic_type\": \"\",\n        \"description\": \"\"\n      }\n    }\n  ]\n}"
            }
          },
          "metadata": {},
          "execution_count": 11
        }
      ],
      "source": [
        "# Q열과 A열 삭제\n",
        "data = data.drop(columns=['conversation', 'conversation_processed'])\n",
        "data"
      ]
    },
    {
      "cell_type": "code",
      "execution_count": 13,
      "id": "9f2e8849",
      "metadata": {
        "id": "9f2e8849",
        "outputId": "ade80499-9d2b-44eb-c93d-b08736c8c87b",
        "colab": {
          "base_uri": "https://localhost:8080/",
          "height": 423
        }
      },
      "outputs": [
        {
          "output_type": "execute_result",
          "data": {
            "text/plain": [
              "         idx class_label                                       conversation\n",
              "0          0       협박 대화  지금 너 스스로를 죽여달라고 애원하는 것인가 ? 아닙니다 . 죄송합니다 . 죽을 거...\n",
              "1          1       협박 대화  길동경찰서입니다 . 9시 40분 마트에 폭발물을 설치할거다 . 네 ? 똑바로 들어 ...\n",
              "2          2   기타 괴롭힘 대화  너 되게 귀여운거 알지 ? 나보다 작은 남자는 첨봤어 . 그만해 . 니들 놀리는거 ...\n",
              "3          3       갈취 대화  어이 거기 예 ? ? 너 말이야 너 . 이리 오라고 무슨 일 . 너 옷 좋아보인다 ...\n",
              "4          4       갈취 대화  저기요 혹시 날이 너무 뜨겁잖아요 ? 저희 회사에서 선크림 파는데 한 번 손등에 발...\n",
              "...      ...         ...                                                ...\n",
              "12087  12087          일반  미안하다 . . . 나 내일 회사 하루 쉬려고 . 회사를 ? 어 . . . 너무 힘...\n",
              "12088  12088          일반  아~엄마 뭐하는데 오밤중에 ? 난 정말 나간다 . 애들처럼 왜 이러냐고 ? 동네 창...\n",
              "12089  12089          일반  니 방에 들어가 , 자 임마 . 엄마 갑자기 짐 들고 사라질까봐 불안해서 못 나가 ...\n",
              "12090  12090          일반  어 , 왜 일어나있어 ? 힘든데 누워있지 . 아니 , 이젠 괜찮아 오빠 . 뭐가 괜...\n",
              "12091  12091          일반  오랜만에 병원 밖이라도 나가서 점심을 먹으니까 아주 꿀맛이다 . 며칠에 한번 집에 ...\n",
              "\n",
              "[12092 rows x 3 columns]"
            ],
            "text/html": [
              "\n",
              "  <div id=\"df-854e008f-0376-4948-8eef-16b6b2bdbfc5\" class=\"colab-df-container\">\n",
              "    <div>\n",
              "<style scoped>\n",
              "    .dataframe tbody tr th:only-of-type {\n",
              "        vertical-align: middle;\n",
              "    }\n",
              "\n",
              "    .dataframe tbody tr th {\n",
              "        vertical-align: top;\n",
              "    }\n",
              "\n",
              "    .dataframe thead th {\n",
              "        text-align: right;\n",
              "    }\n",
              "</style>\n",
              "<table border=\"1\" class=\"dataframe\">\n",
              "  <thead>\n",
              "    <tr style=\"text-align: right;\">\n",
              "      <th></th>\n",
              "      <th>idx</th>\n",
              "      <th>class_label</th>\n",
              "      <th>conversation</th>\n",
              "    </tr>\n",
              "  </thead>\n",
              "  <tbody>\n",
              "    <tr>\n",
              "      <th>0</th>\n",
              "      <td>0</td>\n",
              "      <td>협박 대화</td>\n",
              "      <td>지금 너 스스로를 죽여달라고 애원하는 것인가 ? 아닙니다 . 죄송합니다 . 죽을 거...</td>\n",
              "    </tr>\n",
              "    <tr>\n",
              "      <th>1</th>\n",
              "      <td>1</td>\n",
              "      <td>협박 대화</td>\n",
              "      <td>길동경찰서입니다 . 9시 40분 마트에 폭발물을 설치할거다 . 네 ? 똑바로 들어 ...</td>\n",
              "    </tr>\n",
              "    <tr>\n",
              "      <th>2</th>\n",
              "      <td>2</td>\n",
              "      <td>기타 괴롭힘 대화</td>\n",
              "      <td>너 되게 귀여운거 알지 ? 나보다 작은 남자는 첨봤어 . 그만해 . 니들 놀리는거 ...</td>\n",
              "    </tr>\n",
              "    <tr>\n",
              "      <th>3</th>\n",
              "      <td>3</td>\n",
              "      <td>갈취 대화</td>\n",
              "      <td>어이 거기 예 ? ? 너 말이야 너 . 이리 오라고 무슨 일 . 너 옷 좋아보인다 ...</td>\n",
              "    </tr>\n",
              "    <tr>\n",
              "      <th>4</th>\n",
              "      <td>4</td>\n",
              "      <td>갈취 대화</td>\n",
              "      <td>저기요 혹시 날이 너무 뜨겁잖아요 ? 저희 회사에서 선크림 파는데 한 번 손등에 발...</td>\n",
              "    </tr>\n",
              "    <tr>\n",
              "      <th>...</th>\n",
              "      <td>...</td>\n",
              "      <td>...</td>\n",
              "      <td>...</td>\n",
              "    </tr>\n",
              "    <tr>\n",
              "      <th>12087</th>\n",
              "      <td>12087</td>\n",
              "      <td>일반</td>\n",
              "      <td>미안하다 . . . 나 내일 회사 하루 쉬려고 . 회사를 ? 어 . . . 너무 힘...</td>\n",
              "    </tr>\n",
              "    <tr>\n",
              "      <th>12088</th>\n",
              "      <td>12088</td>\n",
              "      <td>일반</td>\n",
              "      <td>아~엄마 뭐하는데 오밤중에 ? 난 정말 나간다 . 애들처럼 왜 이러냐고 ? 동네 창...</td>\n",
              "    </tr>\n",
              "    <tr>\n",
              "      <th>12089</th>\n",
              "      <td>12089</td>\n",
              "      <td>일반</td>\n",
              "      <td>니 방에 들어가 , 자 임마 . 엄마 갑자기 짐 들고 사라질까봐 불안해서 못 나가 ...</td>\n",
              "    </tr>\n",
              "    <tr>\n",
              "      <th>12090</th>\n",
              "      <td>12090</td>\n",
              "      <td>일반</td>\n",
              "      <td>어 , 왜 일어나있어 ? 힘든데 누워있지 . 아니 , 이젠 괜찮아 오빠 . 뭐가 괜...</td>\n",
              "    </tr>\n",
              "    <tr>\n",
              "      <th>12091</th>\n",
              "      <td>12091</td>\n",
              "      <td>일반</td>\n",
              "      <td>오랜만에 병원 밖이라도 나가서 점심을 먹으니까 아주 꿀맛이다 . 며칠에 한번 집에 ...</td>\n",
              "    </tr>\n",
              "  </tbody>\n",
              "</table>\n",
              "<p>12092 rows × 3 columns</p>\n",
              "</div>\n",
              "    <div class=\"colab-df-buttons\">\n",
              "\n",
              "  <div class=\"colab-df-container\">\n",
              "    <button class=\"colab-df-convert\" onclick=\"convertToInteractive('df-854e008f-0376-4948-8eef-16b6b2bdbfc5')\"\n",
              "            title=\"Convert this dataframe to an interactive table.\"\n",
              "            style=\"display:none;\">\n",
              "\n",
              "  <svg xmlns=\"http://www.w3.org/2000/svg\" height=\"24px\" viewBox=\"0 -960 960 960\">\n",
              "    <path d=\"M120-120v-720h720v720H120Zm60-500h600v-160H180v160Zm220 220h160v-160H400v160Zm0 220h160v-160H400v160ZM180-400h160v-160H180v160Zm440 0h160v-160H620v160ZM180-180h160v-160H180v160Zm440 0h160v-160H620v160Z\"/>\n",
              "  </svg>\n",
              "    </button>\n",
              "\n",
              "  <style>\n",
              "    .colab-df-container {\n",
              "      display:flex;\n",
              "      gap: 12px;\n",
              "    }\n",
              "\n",
              "    .colab-df-convert {\n",
              "      background-color: #E8F0FE;\n",
              "      border: none;\n",
              "      border-radius: 50%;\n",
              "      cursor: pointer;\n",
              "      display: none;\n",
              "      fill: #1967D2;\n",
              "      height: 32px;\n",
              "      padding: 0 0 0 0;\n",
              "      width: 32px;\n",
              "    }\n",
              "\n",
              "    .colab-df-convert:hover {\n",
              "      background-color: #E2EBFA;\n",
              "      box-shadow: 0px 1px 2px rgba(60, 64, 67, 0.3), 0px 1px 3px 1px rgba(60, 64, 67, 0.15);\n",
              "      fill: #174EA6;\n",
              "    }\n",
              "\n",
              "    .colab-df-buttons div {\n",
              "      margin-bottom: 4px;\n",
              "    }\n",
              "\n",
              "    [theme=dark] .colab-df-convert {\n",
              "      background-color: #3B4455;\n",
              "      fill: #D2E3FC;\n",
              "    }\n",
              "\n",
              "    [theme=dark] .colab-df-convert:hover {\n",
              "      background-color: #434B5C;\n",
              "      box-shadow: 0px 1px 3px 1px rgba(0, 0, 0, 0.15);\n",
              "      filter: drop-shadow(0px 1px 2px rgba(0, 0, 0, 0.3));\n",
              "      fill: #FFFFFF;\n",
              "    }\n",
              "  </style>\n",
              "\n",
              "    <script>\n",
              "      const buttonEl =\n",
              "        document.querySelector('#df-854e008f-0376-4948-8eef-16b6b2bdbfc5 button.colab-df-convert');\n",
              "      buttonEl.style.display =\n",
              "        google.colab.kernel.accessAllowed ? 'block' : 'none';\n",
              "\n",
              "      async function convertToInteractive(key) {\n",
              "        const element = document.querySelector('#df-854e008f-0376-4948-8eef-16b6b2bdbfc5');\n",
              "        const dataTable =\n",
              "          await google.colab.kernel.invokeFunction('convertToInteractive',\n",
              "                                                    [key], {});\n",
              "        if (!dataTable) return;\n",
              "\n",
              "        const docLinkHtml = 'Like what you see? Visit the ' +\n",
              "          '<a target=\"_blank\" href=https://colab.research.google.com/notebooks/data_table.ipynb>data table notebook</a>'\n",
              "          + ' to learn more about interactive tables.';\n",
              "        element.innerHTML = '';\n",
              "        dataTable['output_type'] = 'display_data';\n",
              "        await google.colab.output.renderOutput(dataTable, element);\n",
              "        const docLink = document.createElement('div');\n",
              "        docLink.innerHTML = docLinkHtml;\n",
              "        element.appendChild(docLink);\n",
              "      }\n",
              "    </script>\n",
              "  </div>\n",
              "\n",
              "\n",
              "<div id=\"df-dd83fd1f-aa49-46b0-80b9-530c1474e8dc\">\n",
              "  <button class=\"colab-df-quickchart\" onclick=\"quickchart('df-dd83fd1f-aa49-46b0-80b9-530c1474e8dc')\"\n",
              "            title=\"Suggest charts\"\n",
              "            style=\"display:none;\">\n",
              "\n",
              "<svg xmlns=\"http://www.w3.org/2000/svg\" height=\"24px\"viewBox=\"0 0 24 24\"\n",
              "     width=\"24px\">\n",
              "    <g>\n",
              "        <path d=\"M19 3H5c-1.1 0-2 .9-2 2v14c0 1.1.9 2 2 2h14c1.1 0 2-.9 2-2V5c0-1.1-.9-2-2-2zM9 17H7v-7h2v7zm4 0h-2V7h2v10zm4 0h-2v-4h2v4z\"/>\n",
              "    </g>\n",
              "</svg>\n",
              "  </button>\n",
              "\n",
              "<style>\n",
              "  .colab-df-quickchart {\n",
              "      --bg-color: #E8F0FE;\n",
              "      --fill-color: #1967D2;\n",
              "      --hover-bg-color: #E2EBFA;\n",
              "      --hover-fill-color: #174EA6;\n",
              "      --disabled-fill-color: #AAA;\n",
              "      --disabled-bg-color: #DDD;\n",
              "  }\n",
              "\n",
              "  [theme=dark] .colab-df-quickchart {\n",
              "      --bg-color: #3B4455;\n",
              "      --fill-color: #D2E3FC;\n",
              "      --hover-bg-color: #434B5C;\n",
              "      --hover-fill-color: #FFFFFF;\n",
              "      --disabled-bg-color: #3B4455;\n",
              "      --disabled-fill-color: #666;\n",
              "  }\n",
              "\n",
              "  .colab-df-quickchart {\n",
              "    background-color: var(--bg-color);\n",
              "    border: none;\n",
              "    border-radius: 50%;\n",
              "    cursor: pointer;\n",
              "    display: none;\n",
              "    fill: var(--fill-color);\n",
              "    height: 32px;\n",
              "    padding: 0;\n",
              "    width: 32px;\n",
              "  }\n",
              "\n",
              "  .colab-df-quickchart:hover {\n",
              "    background-color: var(--hover-bg-color);\n",
              "    box-shadow: 0 1px 2px rgba(60, 64, 67, 0.3), 0 1px 3px 1px rgba(60, 64, 67, 0.15);\n",
              "    fill: var(--button-hover-fill-color);\n",
              "  }\n",
              "\n",
              "  .colab-df-quickchart-complete:disabled,\n",
              "  .colab-df-quickchart-complete:disabled:hover {\n",
              "    background-color: var(--disabled-bg-color);\n",
              "    fill: var(--disabled-fill-color);\n",
              "    box-shadow: none;\n",
              "  }\n",
              "\n",
              "  .colab-df-spinner {\n",
              "    border: 2px solid var(--fill-color);\n",
              "    border-color: transparent;\n",
              "    border-bottom-color: var(--fill-color);\n",
              "    animation:\n",
              "      spin 1s steps(1) infinite;\n",
              "  }\n",
              "\n",
              "  @keyframes spin {\n",
              "    0% {\n",
              "      border-color: transparent;\n",
              "      border-bottom-color: var(--fill-color);\n",
              "      border-left-color: var(--fill-color);\n",
              "    }\n",
              "    20% {\n",
              "      border-color: transparent;\n",
              "      border-left-color: var(--fill-color);\n",
              "      border-top-color: var(--fill-color);\n",
              "    }\n",
              "    30% {\n",
              "      border-color: transparent;\n",
              "      border-left-color: var(--fill-color);\n",
              "      border-top-color: var(--fill-color);\n",
              "      border-right-color: var(--fill-color);\n",
              "    }\n",
              "    40% {\n",
              "      border-color: transparent;\n",
              "      border-right-color: var(--fill-color);\n",
              "      border-top-color: var(--fill-color);\n",
              "    }\n",
              "    60% {\n",
              "      border-color: transparent;\n",
              "      border-right-color: var(--fill-color);\n",
              "    }\n",
              "    80% {\n",
              "      border-color: transparent;\n",
              "      border-right-color: var(--fill-color);\n",
              "      border-bottom-color: var(--fill-color);\n",
              "    }\n",
              "    90% {\n",
              "      border-color: transparent;\n",
              "      border-bottom-color: var(--fill-color);\n",
              "    }\n",
              "  }\n",
              "</style>\n",
              "\n",
              "  <script>\n",
              "    async function quickchart(key) {\n",
              "      const quickchartButtonEl =\n",
              "        document.querySelector('#' + key + ' button');\n",
              "      quickchartButtonEl.disabled = true;  // To prevent multiple clicks.\n",
              "      quickchartButtonEl.classList.add('colab-df-spinner');\n",
              "      try {\n",
              "        const charts = await google.colab.kernel.invokeFunction(\n",
              "            'suggestCharts', [key], {});\n",
              "      } catch (error) {\n",
              "        console.error('Error during call to suggestCharts:', error);\n",
              "      }\n",
              "      quickchartButtonEl.classList.remove('colab-df-spinner');\n",
              "      quickchartButtonEl.classList.add('colab-df-quickchart-complete');\n",
              "    }\n",
              "    (() => {\n",
              "      let quickchartButtonEl =\n",
              "        document.querySelector('#df-dd83fd1f-aa49-46b0-80b9-530c1474e8dc button');\n",
              "      quickchartButtonEl.style.display =\n",
              "        google.colab.kernel.accessAllowed ? 'block' : 'none';\n",
              "    })();\n",
              "  </script>\n",
              "</div>\n",
              "\n",
              "  <div id=\"id_b5c6d766-6e92-48e5-82cb-7dbfd82cc86d\">\n",
              "    <style>\n",
              "      .colab-df-generate {\n",
              "        background-color: #E8F0FE;\n",
              "        border: none;\n",
              "        border-radius: 50%;\n",
              "        cursor: pointer;\n",
              "        display: none;\n",
              "        fill: #1967D2;\n",
              "        height: 32px;\n",
              "        padding: 0 0 0 0;\n",
              "        width: 32px;\n",
              "      }\n",
              "\n",
              "      .colab-df-generate:hover {\n",
              "        background-color: #E2EBFA;\n",
              "        box-shadow: 0px 1px 2px rgba(60, 64, 67, 0.3), 0px 1px 3px 1px rgba(60, 64, 67, 0.15);\n",
              "        fill: #174EA6;\n",
              "      }\n",
              "\n",
              "      [theme=dark] .colab-df-generate {\n",
              "        background-color: #3B4455;\n",
              "        fill: #D2E3FC;\n",
              "      }\n",
              "\n",
              "      [theme=dark] .colab-df-generate:hover {\n",
              "        background-color: #434B5C;\n",
              "        box-shadow: 0px 1px 3px 1px rgba(0, 0, 0, 0.15);\n",
              "        filter: drop-shadow(0px 1px 2px rgba(0, 0, 0, 0.3));\n",
              "        fill: #FFFFFF;\n",
              "      }\n",
              "    </style>\n",
              "    <button class=\"colab-df-generate\" onclick=\"generateWithVariable('data')\"\n",
              "            title=\"Generate code using this dataframe.\"\n",
              "            style=\"display:none;\">\n",
              "\n",
              "  <svg xmlns=\"http://www.w3.org/2000/svg\" height=\"24px\"viewBox=\"0 0 24 24\"\n",
              "       width=\"24px\">\n",
              "    <path d=\"M7,19H8.4L18.45,9,17,7.55,7,17.6ZM5,21V16.75L18.45,3.32a2,2,0,0,1,2.83,0l1.4,1.43a1.91,1.91,0,0,1,.58,1.4,1.91,1.91,0,0,1-.58,1.4L9.25,21ZM18.45,9,17,7.55Zm-12,3A5.31,5.31,0,0,0,4.9,8.1,5.31,5.31,0,0,0,1,6.5,5.31,5.31,0,0,0,4.9,4.9,5.31,5.31,0,0,0,6.5,1,5.31,5.31,0,0,0,8.1,4.9,5.31,5.31,0,0,0,12,6.5,5.46,5.46,0,0,0,6.5,12Z\"/>\n",
              "  </svg>\n",
              "    </button>\n",
              "    <script>\n",
              "      (() => {\n",
              "      const buttonEl =\n",
              "        document.querySelector('#id_b5c6d766-6e92-48e5-82cb-7dbfd82cc86d button.colab-df-generate');\n",
              "      buttonEl.style.display =\n",
              "        google.colab.kernel.accessAllowed ? 'block' : 'none';\n",
              "\n",
              "      buttonEl.onclick = () => {\n",
              "        google.colab.notebook.generateWithVariable('data');\n",
              "      }\n",
              "      })();\n",
              "    </script>\n",
              "  </div>\n",
              "\n",
              "    </div>\n",
              "  </div>\n"
            ],
            "application/vnd.google.colaboratory.intrinsic+json": {
              "type": "dataframe",
              "variable_name": "data",
              "summary": "{\n  \"name\": \"data\",\n  \"rows\": 12092,\n  \"fields\": [\n    {\n      \"column\": \"idx\",\n      \"properties\": {\n        \"dtype\": \"number\",\n        \"std\": 3490,\n        \"min\": 0,\n        \"max\": 12091,\n        \"num_unique_values\": 12092,\n        \"samples\": [\n          468,\n          9125,\n          538\n        ],\n        \"semantic_type\": \"\",\n        \"description\": \"\"\n      }\n    },\n    {\n      \"column\": \"class_label\",\n      \"properties\": {\n        \"dtype\": \"category\",\n        \"num_unique_values\": 5,\n        \"samples\": [\n          \"\\uae30\\ud0c0 \\uad34\\ub86d\\ud798 \\ub300\\ud654\",\n          \"\\uc77c\\ubc18\",\n          \"\\uac08\\ucde8 \\ub300\\ud654\"\n        ],\n        \"semantic_type\": \"\",\n        \"description\": \"\"\n      }\n    },\n    {\n      \"column\": \"conversation\",\n      \"properties\": {\n        \"dtype\": \"string\",\n        \"num_unique_values\": 11922,\n        \"samples\": [\n          \"\\uc5b4\\ub77c , \\uc800\\uae30 \\ub124 \\uc9c0\\uac11 \\uc654\\ub2e4 . \\ud558 , \\uadc0\\ucc2e\\uac8c . \\uc65c , \\uc88b\\uc796\\uc544 . \\uc800\\ub7f0 \\uc88b\\uc740 \\uace0\\uac1d\\uc774 \\ub610 \\uc5b4\\ub514 \\uc788\\ub2e4\\uace0 . \\ub124\\uac00 \\ud55c\\ub9c8\\ub514\\ub9cc \\ud558\\uba74 \\uc9d1\\uc774\\uace0 \\ucc28\\uace0 \\ub2e4 \\ud314\\uc544\\uc11c \\uac16\\ub2e4 \\ubc14\\uce60\\uac78 ? \\uadf8\\uac8c \\uadc0\\ucc2e\\ub2e4\\ub294 \\uac70\\uc608\\uc694 . \\uadf8\\ub807\\uac8c \\uc2a4\\uc2a4\\ub85c \\uc778\\uc0dd \\ub9d0\\uc544\\uba39\\uc5b4 \\ub193\\uace0 \\uc804\\ubd80 \\ub0b4 \\ucc45\\uc784\\uc774\\ub77c\\ub294 \\uc2dd\\uc73c\\ub85c \\ub5a0\\ub118\\uae30\\uace0 \\uad34\\ub86d\\ud788\\uc796\\uc544\\uc694 . \\ubcf8\\uc778\\uc758 \\uc798\\ubabb\\uc740 \\uc0dd\\uac01\\ub3c4 \\uc548\\ud558\\uace0 \\ub9d0\\uc774\\uc8e0 . \\uc6b0\\uc640 , \\uc6ec\\uc77c\\ub85c \\ub9d0 \\uc138\\uac8c \\ud558\\ub124 . \\ub108 \\uc6b0\\uc544\\ud55c \\ucee8\\uc149 \\uc544\\ub2c8\\uc5c8\\uc5b4 ? \\ucd94\\uc6b4\\ub370 \\ube68\\ub9ac \\ub4e4\\uc5b4\\uac00\\uc694 .\",\n          \"\\uc815\\uacfc\\uc7a5 \\uc774\\ub7f0\\ub9d0 \\uc624\\ud574\\uc5c6\\uc774 \\ub4e4\\uc5b4 \\ub124 \\ubd80\\uc7a5\\ub2d8 \\uc815\\uacfc\\uc7a5\\uc740 \\ud68c\\uc7a5\\ub2d8 \\uc606\\uc5d0\\uc11c \\uc788\\ub294\\uc2dc\\ub78c\\uc774\\ub2c8 \\ub2e8\\uc815\\ud574\\uc57c\\uc9c0 \\ub124 \\ub9de\\uc2b5\\ub2c8\\ub2e4 . \\uba38\\ub9ac \\uc2a4\\ud0c0\\uc77c \\ubc14\\uafd4\\ubd10 \\uc5b4\\ub5bb\\uac8c\\uc694 \\uae34\\uba38\\ub9ac \\uce58\\ub801\\uce58\\ub801 \\ud558\\ub2c8\\uae4c \\ucee4\\ud2b8\\ud574 \\ubb36\\uace0 \\ub2e4\\ub2c8\\ub294\\ub370\\uc694 \\ud1a0 \\ub2ec\\uc9c0 \\ub9d0\\uace0 \\uac70\\uc2ac\\ub9ac\\ub2c8\\uae4c \\uc798\\ub77c\",\n          \"\\uc57c \\uc7e4 \\uc65c \\uc800\\ub807\\uac8c \\uac77\\ub0d0 ? \\uc808\\ub69d\\uc774\\ub0d0 ? \\uc774\\uc0c1\\ud558\\uac8c \\uac77\\ub124 \\ub108 \\uc7e4 \\uc606\\uc5d0 \\uac00\\uc11c \\ub530\\ub77c\\ud574\\ubd10 \\uc880 \\uc774\\ub530 \\ud574\\ubcfc\\uac8c \\uc800\\ub7ec\\uace0 \\uc5b4\\ub5bb\\uac8c \\ub2e4\\ub2c8\\uc9c0 ? \\uadf8\\ub7ec\\ub2c8\\uae4c \\ub098\\ub77c\\uba74 \\uc9d1\\uc5d0 \\uccd0\\ubc15\\ud600 \\uc788\\uc744\\ub4ef \\uc5d0\\ud6a8 \\uc7e8 \\uc9c4\\uc9dc \\ubd88\\ud589\\ud558\\ub2e4 \\ub0b4\\uac00 \\uc544\\ub2cc\\uac8c \\uc5b4\\ub514\\uc57c \\ucc9c\\ub9cc\\ub2e4\\ud589 \\uadf8\\ub7ec\\ub2c8\\uae4c \\uc9c4\\uc9dc \\uac10\\uc0ac\\ud569\\ub2c8\\ub2e4 \\uc5b4 ? \\uc7e4 \\uc774\\ucabd\\uc73c\\ub85c \\uc628\\ub2e4 \\uc6b0\\ub9ac \\ub534\\ub370\\uac00\\uc790\"\n        ],\n        \"semantic_type\": \"\",\n        \"description\": \"\"\n      }\n    }\n  ]\n}"
            }
          },
          "metadata": {},
          "execution_count": 13
        }
      ],
      "source": [
        "# 열 이름 변경\n",
        "data = data.rename(columns={'conversation_filtered': 'conversation'})\n",
        "data\n"
      ]
    },
    {
      "cell_type": "code",
      "source": [
        "# 열 이름 변경\n",
        "data = data.rename(columns={'class': 'class_label'})\n",
        "data"
      ],
      "metadata": {
        "colab": {
          "base_uri": "https://localhost:8080/",
          "height": 423
        },
        "id": "EGx_TFyU5KoH",
        "outputId": "f70e3fef-1575-4ca0-a21d-a9771e45a598"
      },
      "id": "EGx_TFyU5KoH",
      "execution_count": 14,
      "outputs": [
        {
          "output_type": "execute_result",
          "data": {
            "text/plain": [
              "         idx class_label                                       conversation\n",
              "0          0       협박 대화  지금 너 스스로를 죽여달라고 애원하는 것인가 ? 아닙니다 . 죄송합니다 . 죽을 거...\n",
              "1          1       협박 대화  길동경찰서입니다 . 9시 40분 마트에 폭발물을 설치할거다 . 네 ? 똑바로 들어 ...\n",
              "2          2   기타 괴롭힘 대화  너 되게 귀여운거 알지 ? 나보다 작은 남자는 첨봤어 . 그만해 . 니들 놀리는거 ...\n",
              "3          3       갈취 대화  어이 거기 예 ? ? 너 말이야 너 . 이리 오라고 무슨 일 . 너 옷 좋아보인다 ...\n",
              "4          4       갈취 대화  저기요 혹시 날이 너무 뜨겁잖아요 ? 저희 회사에서 선크림 파는데 한 번 손등에 발...\n",
              "...      ...         ...                                                ...\n",
              "12087  12087          일반  미안하다 . . . 나 내일 회사 하루 쉬려고 . 회사를 ? 어 . . . 너무 힘...\n",
              "12088  12088          일반  아~엄마 뭐하는데 오밤중에 ? 난 정말 나간다 . 애들처럼 왜 이러냐고 ? 동네 창...\n",
              "12089  12089          일반  니 방에 들어가 , 자 임마 . 엄마 갑자기 짐 들고 사라질까봐 불안해서 못 나가 ...\n",
              "12090  12090          일반  어 , 왜 일어나있어 ? 힘든데 누워있지 . 아니 , 이젠 괜찮아 오빠 . 뭐가 괜...\n",
              "12091  12091          일반  오랜만에 병원 밖이라도 나가서 점심을 먹으니까 아주 꿀맛이다 . 며칠에 한번 집에 ...\n",
              "\n",
              "[12092 rows x 3 columns]"
            ],
            "text/html": [
              "\n",
              "  <div id=\"df-bf9ea303-a185-4b14-8f9e-14307dd67e30\" class=\"colab-df-container\">\n",
              "    <div>\n",
              "<style scoped>\n",
              "    .dataframe tbody tr th:only-of-type {\n",
              "        vertical-align: middle;\n",
              "    }\n",
              "\n",
              "    .dataframe tbody tr th {\n",
              "        vertical-align: top;\n",
              "    }\n",
              "\n",
              "    .dataframe thead th {\n",
              "        text-align: right;\n",
              "    }\n",
              "</style>\n",
              "<table border=\"1\" class=\"dataframe\">\n",
              "  <thead>\n",
              "    <tr style=\"text-align: right;\">\n",
              "      <th></th>\n",
              "      <th>idx</th>\n",
              "      <th>class_label</th>\n",
              "      <th>conversation</th>\n",
              "    </tr>\n",
              "  </thead>\n",
              "  <tbody>\n",
              "    <tr>\n",
              "      <th>0</th>\n",
              "      <td>0</td>\n",
              "      <td>협박 대화</td>\n",
              "      <td>지금 너 스스로를 죽여달라고 애원하는 것인가 ? 아닙니다 . 죄송합니다 . 죽을 거...</td>\n",
              "    </tr>\n",
              "    <tr>\n",
              "      <th>1</th>\n",
              "      <td>1</td>\n",
              "      <td>협박 대화</td>\n",
              "      <td>길동경찰서입니다 . 9시 40분 마트에 폭발물을 설치할거다 . 네 ? 똑바로 들어 ...</td>\n",
              "    </tr>\n",
              "    <tr>\n",
              "      <th>2</th>\n",
              "      <td>2</td>\n",
              "      <td>기타 괴롭힘 대화</td>\n",
              "      <td>너 되게 귀여운거 알지 ? 나보다 작은 남자는 첨봤어 . 그만해 . 니들 놀리는거 ...</td>\n",
              "    </tr>\n",
              "    <tr>\n",
              "      <th>3</th>\n",
              "      <td>3</td>\n",
              "      <td>갈취 대화</td>\n",
              "      <td>어이 거기 예 ? ? 너 말이야 너 . 이리 오라고 무슨 일 . 너 옷 좋아보인다 ...</td>\n",
              "    </tr>\n",
              "    <tr>\n",
              "      <th>4</th>\n",
              "      <td>4</td>\n",
              "      <td>갈취 대화</td>\n",
              "      <td>저기요 혹시 날이 너무 뜨겁잖아요 ? 저희 회사에서 선크림 파는데 한 번 손등에 발...</td>\n",
              "    </tr>\n",
              "    <tr>\n",
              "      <th>...</th>\n",
              "      <td>...</td>\n",
              "      <td>...</td>\n",
              "      <td>...</td>\n",
              "    </tr>\n",
              "    <tr>\n",
              "      <th>12087</th>\n",
              "      <td>12087</td>\n",
              "      <td>일반</td>\n",
              "      <td>미안하다 . . . 나 내일 회사 하루 쉬려고 . 회사를 ? 어 . . . 너무 힘...</td>\n",
              "    </tr>\n",
              "    <tr>\n",
              "      <th>12088</th>\n",
              "      <td>12088</td>\n",
              "      <td>일반</td>\n",
              "      <td>아~엄마 뭐하는데 오밤중에 ? 난 정말 나간다 . 애들처럼 왜 이러냐고 ? 동네 창...</td>\n",
              "    </tr>\n",
              "    <tr>\n",
              "      <th>12089</th>\n",
              "      <td>12089</td>\n",
              "      <td>일반</td>\n",
              "      <td>니 방에 들어가 , 자 임마 . 엄마 갑자기 짐 들고 사라질까봐 불안해서 못 나가 ...</td>\n",
              "    </tr>\n",
              "    <tr>\n",
              "      <th>12090</th>\n",
              "      <td>12090</td>\n",
              "      <td>일반</td>\n",
              "      <td>어 , 왜 일어나있어 ? 힘든데 누워있지 . 아니 , 이젠 괜찮아 오빠 . 뭐가 괜...</td>\n",
              "    </tr>\n",
              "    <tr>\n",
              "      <th>12091</th>\n",
              "      <td>12091</td>\n",
              "      <td>일반</td>\n",
              "      <td>오랜만에 병원 밖이라도 나가서 점심을 먹으니까 아주 꿀맛이다 . 며칠에 한번 집에 ...</td>\n",
              "    </tr>\n",
              "  </tbody>\n",
              "</table>\n",
              "<p>12092 rows × 3 columns</p>\n",
              "</div>\n",
              "    <div class=\"colab-df-buttons\">\n",
              "\n",
              "  <div class=\"colab-df-container\">\n",
              "    <button class=\"colab-df-convert\" onclick=\"convertToInteractive('df-bf9ea303-a185-4b14-8f9e-14307dd67e30')\"\n",
              "            title=\"Convert this dataframe to an interactive table.\"\n",
              "            style=\"display:none;\">\n",
              "\n",
              "  <svg xmlns=\"http://www.w3.org/2000/svg\" height=\"24px\" viewBox=\"0 -960 960 960\">\n",
              "    <path d=\"M120-120v-720h720v720H120Zm60-500h600v-160H180v160Zm220 220h160v-160H400v160Zm0 220h160v-160H400v160ZM180-400h160v-160H180v160Zm440 0h160v-160H620v160ZM180-180h160v-160H180v160Zm440 0h160v-160H620v160Z\"/>\n",
              "  </svg>\n",
              "    </button>\n",
              "\n",
              "  <style>\n",
              "    .colab-df-container {\n",
              "      display:flex;\n",
              "      gap: 12px;\n",
              "    }\n",
              "\n",
              "    .colab-df-convert {\n",
              "      background-color: #E8F0FE;\n",
              "      border: none;\n",
              "      border-radius: 50%;\n",
              "      cursor: pointer;\n",
              "      display: none;\n",
              "      fill: #1967D2;\n",
              "      height: 32px;\n",
              "      padding: 0 0 0 0;\n",
              "      width: 32px;\n",
              "    }\n",
              "\n",
              "    .colab-df-convert:hover {\n",
              "      background-color: #E2EBFA;\n",
              "      box-shadow: 0px 1px 2px rgba(60, 64, 67, 0.3), 0px 1px 3px 1px rgba(60, 64, 67, 0.15);\n",
              "      fill: #174EA6;\n",
              "    }\n",
              "\n",
              "    .colab-df-buttons div {\n",
              "      margin-bottom: 4px;\n",
              "    }\n",
              "\n",
              "    [theme=dark] .colab-df-convert {\n",
              "      background-color: #3B4455;\n",
              "      fill: #D2E3FC;\n",
              "    }\n",
              "\n",
              "    [theme=dark] .colab-df-convert:hover {\n",
              "      background-color: #434B5C;\n",
              "      box-shadow: 0px 1px 3px 1px rgba(0, 0, 0, 0.15);\n",
              "      filter: drop-shadow(0px 1px 2px rgba(0, 0, 0, 0.3));\n",
              "      fill: #FFFFFF;\n",
              "    }\n",
              "  </style>\n",
              "\n",
              "    <script>\n",
              "      const buttonEl =\n",
              "        document.querySelector('#df-bf9ea303-a185-4b14-8f9e-14307dd67e30 button.colab-df-convert');\n",
              "      buttonEl.style.display =\n",
              "        google.colab.kernel.accessAllowed ? 'block' : 'none';\n",
              "\n",
              "      async function convertToInteractive(key) {\n",
              "        const element = document.querySelector('#df-bf9ea303-a185-4b14-8f9e-14307dd67e30');\n",
              "        const dataTable =\n",
              "          await google.colab.kernel.invokeFunction('convertToInteractive',\n",
              "                                                    [key], {});\n",
              "        if (!dataTable) return;\n",
              "\n",
              "        const docLinkHtml = 'Like what you see? Visit the ' +\n",
              "          '<a target=\"_blank\" href=https://colab.research.google.com/notebooks/data_table.ipynb>data table notebook</a>'\n",
              "          + ' to learn more about interactive tables.';\n",
              "        element.innerHTML = '';\n",
              "        dataTable['output_type'] = 'display_data';\n",
              "        await google.colab.output.renderOutput(dataTable, element);\n",
              "        const docLink = document.createElement('div');\n",
              "        docLink.innerHTML = docLinkHtml;\n",
              "        element.appendChild(docLink);\n",
              "      }\n",
              "    </script>\n",
              "  </div>\n",
              "\n",
              "\n",
              "<div id=\"df-0e2b01c1-ba09-4123-b5a9-8a9797b61b86\">\n",
              "  <button class=\"colab-df-quickchart\" onclick=\"quickchart('df-0e2b01c1-ba09-4123-b5a9-8a9797b61b86')\"\n",
              "            title=\"Suggest charts\"\n",
              "            style=\"display:none;\">\n",
              "\n",
              "<svg xmlns=\"http://www.w3.org/2000/svg\" height=\"24px\"viewBox=\"0 0 24 24\"\n",
              "     width=\"24px\">\n",
              "    <g>\n",
              "        <path d=\"M19 3H5c-1.1 0-2 .9-2 2v14c0 1.1.9 2 2 2h14c1.1 0 2-.9 2-2V5c0-1.1-.9-2-2-2zM9 17H7v-7h2v7zm4 0h-2V7h2v10zm4 0h-2v-4h2v4z\"/>\n",
              "    </g>\n",
              "</svg>\n",
              "  </button>\n",
              "\n",
              "<style>\n",
              "  .colab-df-quickchart {\n",
              "      --bg-color: #E8F0FE;\n",
              "      --fill-color: #1967D2;\n",
              "      --hover-bg-color: #E2EBFA;\n",
              "      --hover-fill-color: #174EA6;\n",
              "      --disabled-fill-color: #AAA;\n",
              "      --disabled-bg-color: #DDD;\n",
              "  }\n",
              "\n",
              "  [theme=dark] .colab-df-quickchart {\n",
              "      --bg-color: #3B4455;\n",
              "      --fill-color: #D2E3FC;\n",
              "      --hover-bg-color: #434B5C;\n",
              "      --hover-fill-color: #FFFFFF;\n",
              "      --disabled-bg-color: #3B4455;\n",
              "      --disabled-fill-color: #666;\n",
              "  }\n",
              "\n",
              "  .colab-df-quickchart {\n",
              "    background-color: var(--bg-color);\n",
              "    border: none;\n",
              "    border-radius: 50%;\n",
              "    cursor: pointer;\n",
              "    display: none;\n",
              "    fill: var(--fill-color);\n",
              "    height: 32px;\n",
              "    padding: 0;\n",
              "    width: 32px;\n",
              "  }\n",
              "\n",
              "  .colab-df-quickchart:hover {\n",
              "    background-color: var(--hover-bg-color);\n",
              "    box-shadow: 0 1px 2px rgba(60, 64, 67, 0.3), 0 1px 3px 1px rgba(60, 64, 67, 0.15);\n",
              "    fill: var(--button-hover-fill-color);\n",
              "  }\n",
              "\n",
              "  .colab-df-quickchart-complete:disabled,\n",
              "  .colab-df-quickchart-complete:disabled:hover {\n",
              "    background-color: var(--disabled-bg-color);\n",
              "    fill: var(--disabled-fill-color);\n",
              "    box-shadow: none;\n",
              "  }\n",
              "\n",
              "  .colab-df-spinner {\n",
              "    border: 2px solid var(--fill-color);\n",
              "    border-color: transparent;\n",
              "    border-bottom-color: var(--fill-color);\n",
              "    animation:\n",
              "      spin 1s steps(1) infinite;\n",
              "  }\n",
              "\n",
              "  @keyframes spin {\n",
              "    0% {\n",
              "      border-color: transparent;\n",
              "      border-bottom-color: var(--fill-color);\n",
              "      border-left-color: var(--fill-color);\n",
              "    }\n",
              "    20% {\n",
              "      border-color: transparent;\n",
              "      border-left-color: var(--fill-color);\n",
              "      border-top-color: var(--fill-color);\n",
              "    }\n",
              "    30% {\n",
              "      border-color: transparent;\n",
              "      border-left-color: var(--fill-color);\n",
              "      border-top-color: var(--fill-color);\n",
              "      border-right-color: var(--fill-color);\n",
              "    }\n",
              "    40% {\n",
              "      border-color: transparent;\n",
              "      border-right-color: var(--fill-color);\n",
              "      border-top-color: var(--fill-color);\n",
              "    }\n",
              "    60% {\n",
              "      border-color: transparent;\n",
              "      border-right-color: var(--fill-color);\n",
              "    }\n",
              "    80% {\n",
              "      border-color: transparent;\n",
              "      border-right-color: var(--fill-color);\n",
              "      border-bottom-color: var(--fill-color);\n",
              "    }\n",
              "    90% {\n",
              "      border-color: transparent;\n",
              "      border-bottom-color: var(--fill-color);\n",
              "    }\n",
              "  }\n",
              "</style>\n",
              "\n",
              "  <script>\n",
              "    async function quickchart(key) {\n",
              "      const quickchartButtonEl =\n",
              "        document.querySelector('#' + key + ' button');\n",
              "      quickchartButtonEl.disabled = true;  // To prevent multiple clicks.\n",
              "      quickchartButtonEl.classList.add('colab-df-spinner');\n",
              "      try {\n",
              "        const charts = await google.colab.kernel.invokeFunction(\n",
              "            'suggestCharts', [key], {});\n",
              "      } catch (error) {\n",
              "        console.error('Error during call to suggestCharts:', error);\n",
              "      }\n",
              "      quickchartButtonEl.classList.remove('colab-df-spinner');\n",
              "      quickchartButtonEl.classList.add('colab-df-quickchart-complete');\n",
              "    }\n",
              "    (() => {\n",
              "      let quickchartButtonEl =\n",
              "        document.querySelector('#df-0e2b01c1-ba09-4123-b5a9-8a9797b61b86 button');\n",
              "      quickchartButtonEl.style.display =\n",
              "        google.colab.kernel.accessAllowed ? 'block' : 'none';\n",
              "    })();\n",
              "  </script>\n",
              "</div>\n",
              "\n",
              "  <div id=\"id_fb59cae9-9e20-4e43-ad10-427fde46b694\">\n",
              "    <style>\n",
              "      .colab-df-generate {\n",
              "        background-color: #E8F0FE;\n",
              "        border: none;\n",
              "        border-radius: 50%;\n",
              "        cursor: pointer;\n",
              "        display: none;\n",
              "        fill: #1967D2;\n",
              "        height: 32px;\n",
              "        padding: 0 0 0 0;\n",
              "        width: 32px;\n",
              "      }\n",
              "\n",
              "      .colab-df-generate:hover {\n",
              "        background-color: #E2EBFA;\n",
              "        box-shadow: 0px 1px 2px rgba(60, 64, 67, 0.3), 0px 1px 3px 1px rgba(60, 64, 67, 0.15);\n",
              "        fill: #174EA6;\n",
              "      }\n",
              "\n",
              "      [theme=dark] .colab-df-generate {\n",
              "        background-color: #3B4455;\n",
              "        fill: #D2E3FC;\n",
              "      }\n",
              "\n",
              "      [theme=dark] .colab-df-generate:hover {\n",
              "        background-color: #434B5C;\n",
              "        box-shadow: 0px 1px 3px 1px rgba(0, 0, 0, 0.15);\n",
              "        filter: drop-shadow(0px 1px 2px rgba(0, 0, 0, 0.3));\n",
              "        fill: #FFFFFF;\n",
              "      }\n",
              "    </style>\n",
              "    <button class=\"colab-df-generate\" onclick=\"generateWithVariable('data')\"\n",
              "            title=\"Generate code using this dataframe.\"\n",
              "            style=\"display:none;\">\n",
              "\n",
              "  <svg xmlns=\"http://www.w3.org/2000/svg\" height=\"24px\"viewBox=\"0 0 24 24\"\n",
              "       width=\"24px\">\n",
              "    <path d=\"M7,19H8.4L18.45,9,17,7.55,7,17.6ZM5,21V16.75L18.45,3.32a2,2,0,0,1,2.83,0l1.4,1.43a1.91,1.91,0,0,1,.58,1.4,1.91,1.91,0,0,1-.58,1.4L9.25,21ZM18.45,9,17,7.55Zm-12,3A5.31,5.31,0,0,0,4.9,8.1,5.31,5.31,0,0,0,1,6.5,5.31,5.31,0,0,0,4.9,4.9,5.31,5.31,0,0,0,6.5,1,5.31,5.31,0,0,0,8.1,4.9,5.31,5.31,0,0,0,12,6.5,5.46,5.46,0,0,0,6.5,12Z\"/>\n",
              "  </svg>\n",
              "    </button>\n",
              "    <script>\n",
              "      (() => {\n",
              "      const buttonEl =\n",
              "        document.querySelector('#id_fb59cae9-9e20-4e43-ad10-427fde46b694 button.colab-df-generate');\n",
              "      buttonEl.style.display =\n",
              "        google.colab.kernel.accessAllowed ? 'block' : 'none';\n",
              "\n",
              "      buttonEl.onclick = () => {\n",
              "        google.colab.notebook.generateWithVariable('data');\n",
              "      }\n",
              "      })();\n",
              "    </script>\n",
              "  </div>\n",
              "\n",
              "    </div>\n",
              "  </div>\n"
            ],
            "application/vnd.google.colaboratory.intrinsic+json": {
              "type": "dataframe",
              "variable_name": "data",
              "summary": "{\n  \"name\": \"data\",\n  \"rows\": 12092,\n  \"fields\": [\n    {\n      \"column\": \"idx\",\n      \"properties\": {\n        \"dtype\": \"number\",\n        \"std\": 3490,\n        \"min\": 0,\n        \"max\": 12091,\n        \"num_unique_values\": 12092,\n        \"samples\": [\n          468,\n          9125,\n          538\n        ],\n        \"semantic_type\": \"\",\n        \"description\": \"\"\n      }\n    },\n    {\n      \"column\": \"class_label\",\n      \"properties\": {\n        \"dtype\": \"category\",\n        \"num_unique_values\": 5,\n        \"samples\": [\n          \"\\uae30\\ud0c0 \\uad34\\ub86d\\ud798 \\ub300\\ud654\",\n          \"\\uc77c\\ubc18\",\n          \"\\uac08\\ucde8 \\ub300\\ud654\"\n        ],\n        \"semantic_type\": \"\",\n        \"description\": \"\"\n      }\n    },\n    {\n      \"column\": \"conversation\",\n      \"properties\": {\n        \"dtype\": \"string\",\n        \"num_unique_values\": 11922,\n        \"samples\": [\n          \"\\uc5b4\\ub77c , \\uc800\\uae30 \\ub124 \\uc9c0\\uac11 \\uc654\\ub2e4 . \\ud558 , \\uadc0\\ucc2e\\uac8c . \\uc65c , \\uc88b\\uc796\\uc544 . \\uc800\\ub7f0 \\uc88b\\uc740 \\uace0\\uac1d\\uc774 \\ub610 \\uc5b4\\ub514 \\uc788\\ub2e4\\uace0 . \\ub124\\uac00 \\ud55c\\ub9c8\\ub514\\ub9cc \\ud558\\uba74 \\uc9d1\\uc774\\uace0 \\ucc28\\uace0 \\ub2e4 \\ud314\\uc544\\uc11c \\uac16\\ub2e4 \\ubc14\\uce60\\uac78 ? \\uadf8\\uac8c \\uadc0\\ucc2e\\ub2e4\\ub294 \\uac70\\uc608\\uc694 . \\uadf8\\ub807\\uac8c \\uc2a4\\uc2a4\\ub85c \\uc778\\uc0dd \\ub9d0\\uc544\\uba39\\uc5b4 \\ub193\\uace0 \\uc804\\ubd80 \\ub0b4 \\ucc45\\uc784\\uc774\\ub77c\\ub294 \\uc2dd\\uc73c\\ub85c \\ub5a0\\ub118\\uae30\\uace0 \\uad34\\ub86d\\ud788\\uc796\\uc544\\uc694 . \\ubcf8\\uc778\\uc758 \\uc798\\ubabb\\uc740 \\uc0dd\\uac01\\ub3c4 \\uc548\\ud558\\uace0 \\ub9d0\\uc774\\uc8e0 . \\uc6b0\\uc640 , \\uc6ec\\uc77c\\ub85c \\ub9d0 \\uc138\\uac8c \\ud558\\ub124 . \\ub108 \\uc6b0\\uc544\\ud55c \\ucee8\\uc149 \\uc544\\ub2c8\\uc5c8\\uc5b4 ? \\ucd94\\uc6b4\\ub370 \\ube68\\ub9ac \\ub4e4\\uc5b4\\uac00\\uc694 .\",\n          \"\\uc815\\uacfc\\uc7a5 \\uc774\\ub7f0\\ub9d0 \\uc624\\ud574\\uc5c6\\uc774 \\ub4e4\\uc5b4 \\ub124 \\ubd80\\uc7a5\\ub2d8 \\uc815\\uacfc\\uc7a5\\uc740 \\ud68c\\uc7a5\\ub2d8 \\uc606\\uc5d0\\uc11c \\uc788\\ub294\\uc2dc\\ub78c\\uc774\\ub2c8 \\ub2e8\\uc815\\ud574\\uc57c\\uc9c0 \\ub124 \\ub9de\\uc2b5\\ub2c8\\ub2e4 . \\uba38\\ub9ac \\uc2a4\\ud0c0\\uc77c \\ubc14\\uafd4\\ubd10 \\uc5b4\\ub5bb\\uac8c\\uc694 \\uae34\\uba38\\ub9ac \\uce58\\ub801\\uce58\\ub801 \\ud558\\ub2c8\\uae4c \\ucee4\\ud2b8\\ud574 \\ubb36\\uace0 \\ub2e4\\ub2c8\\ub294\\ub370\\uc694 \\ud1a0 \\ub2ec\\uc9c0 \\ub9d0\\uace0 \\uac70\\uc2ac\\ub9ac\\ub2c8\\uae4c \\uc798\\ub77c\",\n          \"\\uc57c \\uc7e4 \\uc65c \\uc800\\ub807\\uac8c \\uac77\\ub0d0 ? \\uc808\\ub69d\\uc774\\ub0d0 ? \\uc774\\uc0c1\\ud558\\uac8c \\uac77\\ub124 \\ub108 \\uc7e4 \\uc606\\uc5d0 \\uac00\\uc11c \\ub530\\ub77c\\ud574\\ubd10 \\uc880 \\uc774\\ub530 \\ud574\\ubcfc\\uac8c \\uc800\\ub7ec\\uace0 \\uc5b4\\ub5bb\\uac8c \\ub2e4\\ub2c8\\uc9c0 ? \\uadf8\\ub7ec\\ub2c8\\uae4c \\ub098\\ub77c\\uba74 \\uc9d1\\uc5d0 \\uccd0\\ubc15\\ud600 \\uc788\\uc744\\ub4ef \\uc5d0\\ud6a8 \\uc7e8 \\uc9c4\\uc9dc \\ubd88\\ud589\\ud558\\ub2e4 \\ub0b4\\uac00 \\uc544\\ub2cc\\uac8c \\uc5b4\\ub514\\uc57c \\ucc9c\\ub9cc\\ub2e4\\ud589 \\uadf8\\ub7ec\\ub2c8\\uae4c \\uc9c4\\uc9dc \\uac10\\uc0ac\\ud569\\ub2c8\\ub2e4 \\uc5b4 ? \\uc7e4 \\uc774\\ucabd\\uc73c\\ub85c \\uc628\\ub2e4 \\uc6b0\\ub9ac \\ub534\\ub370\\uac00\\uc790\"\n        ],\n        \"semantic_type\": \"\",\n        \"description\": \"\"\n      }\n    }\n  ]\n}"
            }
          },
          "metadata": {},
          "execution_count": 14
        }
      ]
    },
    {
      "cell_type": "markdown",
      "id": "5c946afc",
      "metadata": {
        "id": "5c946afc"
      },
      "source": [
        "# (사용x)Step 3. SubwordTextEncoder 사용하기\n",
        "#### BERT의 토크나이저는 이미 광범위한 텍스트 데이터로 **학습된 단어장을 포함하고 있으며, 문장을 정수로 인코딩하고 패딩하는 기능도 포함**되어 있습니다.  \n",
        "\n",
        "KLUE-BERT와 같은 사전 학습된 BERT 모델을 사용하면,  \n",
        "**단어장을 만들고 정수 인코딩 및 패딩을 처리하는 과정은 필요하지 않습니다.**\n",
        "\n"
      ]
    },
    {
      "cell_type": "markdown",
      "id": "94befb17",
      "metadata": {
        "id": "94befb17"
      },
      "source": [
        "#### 1. 단어장(Vocabulary) 만들기"
      ]
    },
    {
      "cell_type": "code",
      "execution_count": null,
      "id": "9e62540d",
      "metadata": {
        "id": "9e62540d",
        "outputId": "ea3d2a21-e628-4aaa-dcdb-39918fe0b620",
        "colab": {
          "base_uri": "https://localhost:8080/"
        }
      },
      "outputs": [
        {
          "output_type": "stream",
          "name": "stdout",
          "text": [
            "16144\n"
          ]
        }
      ],
      "source": [
        "import tensorflow_datasets as tfds\n",
        "\n",
        "# 데이터프레임에서 questions와 answers 열을 리스트로 변환\n",
        "conversation = data['conversation'].tolist()\n",
        "class_label = data['class_label'].tolist()\n",
        "\n",
        "# 질문과 답변 데이터셋에 대해서 Vocabulary 생성\n",
        "tokenizer = tfds.deprecated.text.SubwordTextEncoder.build_from_corpus(conversation + class_label, target_vocab_size=2**14)\n",
        "\n",
        "# 시작 토큰과 종료 토큰에 고유한 정수를 부여합니다.\n",
        "START_TOKEN, END_TOKEN = [tokenizer.vocab_size], [tokenizer.vocab_size + 1]\n",
        "\n",
        "# 시작 토큰과 종료 토큰을 고려하여 +2를 하여 단어장의 크기를 산정합니다.\n",
        "VOCAB_SIZE = tokenizer.vocab_size + 2\n",
        "print(VOCAB_SIZE)"
      ]
    },
    {
      "cell_type": "markdown",
      "id": "ace9f9a9",
      "metadata": {
        "id": "ace9f9a9"
      },
      "source": [
        "#### 2. 각 단어를 고유한 정수로 인코딩(Integer encoding) & 패딩(Padding)"
      ]
    },
    {
      "cell_type": "code",
      "execution_count": null,
      "id": "13470169",
      "metadata": {
        "id": "13470169",
        "outputId": "32f54fc8-71f5-4770-a09c-a3645c091094",
        "colab": {
          "base_uri": "https://localhost:8080/"
        }
      },
      "outputs": [
        {
          "output_type": "stream",
          "name": "stdout",
          "text": [
            "정수 인코딩 후의 21번째 질문 샘플: [9, 579, 456, 4801, 150, 64, 12602, 127, 1, 6755, 28, 17, 31, 1560, 1, 25, 18, 12091, 15387, 207, 537, 137, 2674, 1, 7, 17, 6121, 872, 2, 18, 12091, 4923, 2020, 2, 68, 9565, 15918, 64, 8367, 164, 1487, 2443, 3358, 2, 1119, 37, 872, 2, 11394, 11610, 1, 25, 31, 9579, 120, 1, 833, 12091, 5675, 1462, 2, 860, 617, 5]\n",
            "정수 인코딩 후의 21번째 답변 샘플: [87, 13]\n"
          ]
        }
      ],
      "source": [
        "# 각 토큰을 고유한 정수로 변환\n",
        "print('정수 인코딩 후의 21번째 질문 샘플: {}'.format(tokenizer.encode(conversation[21])))\n",
        "print('정수 인코딩 후의 21번째 답변 샘플: {}'.format(tokenizer.encode(class_label[21])))\n"
      ]
    },
    {
      "cell_type": "code",
      "execution_count": null,
      "id": "e628f4d3",
      "metadata": {
        "id": "e628f4d3",
        "outputId": "2ea30aee-0a55-4afe-e407-3ec7366f7ba0",
        "colab": {
          "base_uri": "https://localhost:8080/",
          "height": 997
        }
      },
      "outputs": [
        {
          "output_type": "stream",
          "name": "stdout",
          "text": [
            "대화의 최소 길이 : 8\n",
            "대화의 최대 길이 : 305\n",
            "대화의 평균 길이 : 55.55946080052927\n"
          ]
        },
        {
          "output_type": "display_data",
          "data": {
            "text/plain": [
              "<Figure size 640x480 with 1 Axes>"
            ],
            "image/png": "[encoded data removed]"
          },
          "metadata": {}
        },
        {
          "output_type": "display_data",
          "data": {
            "text/plain": [
              "<Figure size 640x480 with 1 Axes>"
            ],
            "image/png": "[encoded data removed]"
          },
          "metadata": {}
        }
      ],
      "source": [
        "import numpy as np\n",
        "import matplotlib.pyplot as plt\n",
        "\n",
        "# 길이 분포 출력\n",
        "conversation_len = [len(s.split()) for s in data['conversation']]\n",
        "class_label_len = [len(s.split()) for s in data['class_label']]\n",
        "\n",
        "print('대화의 최소 길이 : {}'.format(np.min(conversation_len)))\n",
        "print('대화의 최대 길이 : {}'.format(np.max(conversation_len)))\n",
        "print('대화의 평균 길이 : {}'.format(np.mean(conversation_len)))\n",
        "\n",
        "# 길이 분포 시각화\n",
        "plt.subplot(1, 1, 1)\n",
        "plt.boxplot(conversation_len)\n",
        "plt.title('Conversation')\n",
        "\n",
        "plt.tight_layout()\n",
        "plt.show()\n",
        "\n",
        "plt.title('Conversation Length Distribution')\n",
        "plt.hist(conversation_len, bins=40)\n",
        "plt.xlabel('Length of Samples')\n",
        "plt.ylabel('Number of Samples')\n",
        "plt.show()\n"
      ]
    },
    {
      "cell_type": "code",
      "execution_count": null,
      "id": "a049fb74",
      "metadata": {
        "scrolled": true,
        "id": "a049fb74",
        "outputId": "05d2510e-83fe-4fe0-fa84-bfb5ce9ab237",
        "colab": {
          "base_uri": "https://localhost:8080/"
        }
      },
      "outputs": [
        {
          "output_type": "stream",
          "name": "stdout",
          "text": [
            "120\n"
          ]
        }
      ],
      "source": [
        "# 샘플의 최대 허용 길이 또는 패딩 후의 최종 길이\n",
        "MAX_LENGTH = 120\n",
        "print(MAX_LENGTH)"
      ]
    },
    {
      "cell_type": "code",
      "execution_count": null,
      "id": "2cd70310",
      "metadata": {
        "id": "2cd70310",
        "outputId": "e00d0f05-6ead-41a7-abd9-87eed8b35a98",
        "colab": {
          "base_uri": "https://localhost:8080/"
        }
      },
      "outputs": [
        {
          "output_type": "stream",
          "name": "stdout",
          "text": [
            "단어장의 크기 : 16144\n",
            "필터링 후의 대화 샘플 개수: 11062\n"
          ]
        }
      ],
      "source": [
        "# 정수 인코딩, 최대 길이를 초과하는 샘플 제거, 패딩\n",
        "def tokenize_and_filter(inputs, outputs):\n",
        "  tokenized_inputs, tokenized_outputs = [], []\n",
        "\n",
        "  for (sentence1, sentence2) in zip(inputs, outputs):\n",
        "    # 정수 인코딩 과정에서 시작 토큰과 종료 토큰을 추가\n",
        "    sentence1 = START_TOKEN + tokenizer.encode(sentence1) + END_TOKEN\n",
        "    sentence2 = START_TOKEN + tokenizer.encode(sentence2) + END_TOKEN\n",
        "\n",
        "    # 최대 길이 140 이하인 경우에만 데이터셋으로 허용\n",
        "    if len(sentence1) <= MAX_LENGTH and len(sentence2) <= MAX_LENGTH:\n",
        "      tokenized_inputs.append(sentence1)\n",
        "      tokenized_outputs.append(sentence2)\n",
        "\n",
        "  # 최대 길이 140으로 모든 데이터셋을 패딩\n",
        "  tokenized_inputs = tf.keras.preprocessing.sequence.pad_sequences(\n",
        "      tokenized_inputs, maxlen=MAX_LENGTH, padding='post')\n",
        "  tokenized_outputs = tf.keras.preprocessing.sequence.pad_sequences(\n",
        "      tokenized_outputs, maxlen=MAX_LENGTH, padding='post')\n",
        "\n",
        "  return tokenized_inputs, tokenized_outputs\n",
        "\n",
        "# 정수 인코딩 과정을 수행하면서 샘플의 길이가 140을 넘는 경우는 샘플들을 필터링함. 단어장의 크기와 샘플의 개수를 확인\n",
        "import tensorflow as tf\n",
        "conversation, class_label = tokenize_and_filter(conversation, class_label)\n",
        "print('단어장의 크기 :',(VOCAB_SIZE))\n",
        "print('필터링 후의 대화 샘플 개수: {}'.format(len(conversation)))"
      ]
    },
    {
      "cell_type": "code",
      "source": [
        "print(conversation[2])\n",
        "print(class_label[2])"
      ],
      "metadata": {
        "colab": {
          "base_uri": "https://localhost:8080/"
        },
        "id": "D--w3pPuwWfy",
        "outputId": "1ed0b6c2-590b-4c35-9bc0-4446c16ebe43"
      },
      "id": "D--w3pPuwWfy",
      "execution_count": null,
      "outputs": [
        {
          "output_type": "stream",
          "name": "stdout",
          "text": [
            "[16142     9   391 11306  6169 15918   442     2  2406  1833  3499  4400\n",
            "  1052     1   646     1  2137 15586 15918  6896     1    45   855    38\n",
            "   192  3330 15873 15934  1519     2    29   539    21 15873 15934    14\n",
            "   180  1936    11     2     9  6042    14 14876  1456     1  8171    16\n",
            " 12938   172 12115 10566   665     2 13832  2343  4425  5440  3327     1\n",
            "   266  5750    28  3889   299  5377  7767     1  1259   698    21  3169\n",
            "    14  5252   127     2   620  1664   152  5289  1015     2    81  5679\n",
            "  3519    26     1  6847 15918  5279   840     1   123   249  4366   480\n",
            "   102 16143     0     0     0     0     0     0     0     0     0     0\n",
            "     0     0     0     0     0     0     0     0     0     0     0     0]\n",
            "[16142    79    33    13 16143     0     0     0     0     0     0     0\n",
            "     0     0     0     0     0     0     0     0     0     0     0     0\n",
            "     0     0     0     0     0     0     0     0     0     0     0     0\n",
            "     0     0     0     0     0     0     0     0     0     0     0     0\n",
            "     0     0     0     0     0     0     0     0     0     0     0     0\n",
            "     0     0     0     0     0     0     0     0     0     0     0     0\n",
            "     0     0     0     0     0     0     0     0     0     0     0     0\n",
            "     0     0     0     0     0     0     0     0     0     0     0     0\n",
            "     0     0     0     0     0     0     0     0     0     0     0     0\n",
            "     0     0     0     0     0     0     0     0     0     0     0     0]\n"
          ]
        }
      ]
    },
    {
      "cell_type": "code",
      "execution_count": null,
      "id": "0995bfe0",
      "metadata": {
        "id": "0995bfe0"
      },
      "outputs": [],
      "source": [
        "BATCH_SIZE = 64\n",
        "BUFFER_SIZE = 20000\n",
        "\n",
        "# 디코더는 이전의 target을 다음의 input으로 사용합니다.\n",
        "# 이에 따라 outputs에서는 START_TOKEN을 제거하겠습니다.\n",
        "dataset = tf.data.Dataset.from_tensor_slices((\n",
        "    {\n",
        "        'inputs': conversation,\n",
        "        'dec_inputs': class_label[:, :-1]\n",
        "    },\n",
        "    {\n",
        "        'outputs': class_label[:, 1:]\n",
        "    },\n",
        "))\n",
        "\n",
        "dataset = dataset.cache()\n",
        "dataset = dataset.shuffle(BUFFER_SIZE)\n",
        "dataset = dataset.batch(BATCH_SIZE)\n",
        "dataset = dataset.prefetch(tf.data.experimental.AUTOTUNE)"
      ]
    },
    {
      "cell_type": "markdown",
      "source": [],
      "metadata": {
        "id": "Zs2GieLtsdHL"
      },
      "id": "Zs2GieLtsdHL"
    },
    {
      "cell_type": "code",
      "source": [
        "import seaborn as sns\n",
        "\n",
        "plt.figure(figsize=(8,6))\n",
        "sns.countplot(x='class_label', data=data)\n",
        "plt.title('Category Distribution')\n",
        "plt.show()\n"
      ],
      "metadata": {
        "colab": {
          "base_uri": "https://localhost:8080/",
          "height": 1000
        },
        "id": "98ov6bExsehL",
        "outputId": "cb410baa-9be8-4a47-c1bf-003ccf442d8c"
      },
      "id": "98ov6bExsehL",
      "execution_count": null,
      "outputs": [
        {
          "output_type": "stream",
          "name": "stderr",
          "text": [
            "/usr/local/lib/python3.10/dist-packages/IPython/core/pylabtools.py:151: UserWarning: Glyph 54801 (\\N{HANGUL SYLLABLE HYEOB}) missing from current font.\n",
            "  fig.canvas.print_figure(bytes_io, **kw)\n",
            "/usr/local/lib/python3.10/dist-packages/IPython/core/pylabtools.py:151: UserWarning: Glyph 48149 (\\N{HANGUL SYLLABLE BAG}) missing from current font.\n",
            "  fig.canvas.print_figure(bytes_io, **kw)\n",
            "/usr/local/lib/python3.10/dist-packages/IPython/core/pylabtools.py:151: UserWarning: Glyph 45824 (\\N{HANGUL SYLLABLE DAE}) missing from current font.\n",
            "  fig.canvas.print_figure(bytes_io, **kw)\n",
            "/usr/local/lib/python3.10/dist-packages/IPython/core/pylabtools.py:151: UserWarning: Glyph 54868 (\\N{HANGUL SYLLABLE HWA}) missing from current font.\n",
            "  fig.canvas.print_figure(bytes_io, **kw)\n",
            "/usr/local/lib/python3.10/dist-packages/IPython/core/pylabtools.py:151: UserWarning: Glyph 44592 (\\N{HANGUL SYLLABLE GI}) missing from current font.\n",
            "  fig.canvas.print_figure(bytes_io, **kw)\n",
            "/usr/local/lib/python3.10/dist-packages/IPython/core/pylabtools.py:151: UserWarning: Glyph 53440 (\\N{HANGUL SYLLABLE TA}) missing from current font.\n",
            "  fig.canvas.print_figure(bytes_io, **kw)\n",
            "/usr/local/lib/python3.10/dist-packages/IPython/core/pylabtools.py:151: UserWarning: Glyph 44340 (\\N{HANGUL SYLLABLE GOE}) missing from current font.\n",
            "  fig.canvas.print_figure(bytes_io, **kw)\n",
            "/usr/local/lib/python3.10/dist-packages/IPython/core/pylabtools.py:151: UserWarning: Glyph 47213 (\\N{HANGUL SYLLABLE ROB}) missing from current font.\n",
            "  fig.canvas.print_figure(bytes_io, **kw)\n",
            "/usr/local/lib/python3.10/dist-packages/IPython/core/pylabtools.py:151: UserWarning: Glyph 55192 (\\N{HANGUL SYLLABLE HIM}) missing from current font.\n",
            "  fig.canvas.print_figure(bytes_io, **kw)\n",
            "/usr/local/lib/python3.10/dist-packages/IPython/core/pylabtools.py:151: UserWarning: Glyph 44040 (\\N{HANGUL SYLLABLE GAL}) missing from current font.\n",
            "  fig.canvas.print_figure(bytes_io, **kw)\n",
            "/usr/local/lib/python3.10/dist-packages/IPython/core/pylabtools.py:151: UserWarning: Glyph 52712 (\\N{HANGUL SYLLABLE CWI}) missing from current font.\n",
            "  fig.canvas.print_figure(bytes_io, **kw)\n",
            "/usr/local/lib/python3.10/dist-packages/IPython/core/pylabtools.py:151: UserWarning: Glyph 51649 (\\N{HANGUL SYLLABLE JIG}) missing from current font.\n",
            "  fig.canvas.print_figure(bytes_io, **kw)\n",
            "/usr/local/lib/python3.10/dist-packages/IPython/core/pylabtools.py:151: UserWarning: Glyph 51109 (\\N{HANGUL SYLLABLE JANG}) missing from current font.\n",
            "  fig.canvas.print_figure(bytes_io, **kw)\n",
            "/usr/local/lib/python3.10/dist-packages/IPython/core/pylabtools.py:151: UserWarning: Glyph 45236 (\\N{HANGUL SYLLABLE NAE}) missing from current font.\n",
            "  fig.canvas.print_figure(bytes_io, **kw)\n",
            "/usr/local/lib/python3.10/dist-packages/IPython/core/pylabtools.py:151: UserWarning: Glyph 51068 (\\N{HANGUL SYLLABLE IL}) missing from current font.\n",
            "  fig.canvas.print_figure(bytes_io, **kw)\n",
            "/usr/local/lib/python3.10/dist-packages/IPython/core/pylabtools.py:151: UserWarning: Glyph 48152 (\\N{HANGUL SYLLABLE BAN}) missing from current font.\n",
            "  fig.canvas.print_figure(bytes_io, **kw)\n"
          ]
        },
        {
          "output_type": "display_data",
          "data": {
            "text/plain": [
              "<Figure size 800x600 with 1 Axes>"
            ],
            "image/png": "[encoded data removed]"
          },
          "metadata": {}
        }
      ]
    },
    {
      "cell_type": "code",
      "source": [
        "\n",
        "'''\n",
        "from sklearn.metrics import confusion_matrix, ConfusionMatrixDisplay\n",
        "import numpy as np\n",
        "\n",
        "# y_true는 실제 라벨\n",
        "y_true = np.array(class_label)  # 실제 라벨, 예시에서는 class_label\n",
        "\n",
        "# y_pred는 모델을 통해 예측된 라벨\n",
        "y_pred = []  # 빈 리스트로 시작, 모델 예측 결과를 이곳에 추가\n",
        "\n",
        "# 모델을 사용해 각 문장에 대한 예측 라벨을 얻음\n",
        "for encoded_sentence in conversation:  # 이미 정수 인코딩된 데이터를 사용\n",
        "    inputs = np.expand_dims(encoded_sentence, axis=0)  # 모델 입력에 맞게 차원 확장\n",
        "    outputs = model(inputs)  # 모델 예측\n",
        "    pred = np.argmax(outputs.logits, axis=-1)  # 가장 높은 확률을 가진 라벨 선택\n",
        "    y_pred.append(pred.numpy()[0])  # 리스트에 예측 값 추가\n",
        "\n",
        "# 혼동 행렬 생성\n",
        "cm = confusion_matrix(y_true, y_pred)\n",
        "disp = ConfusionMatrixDisplay(confusion_matrix=cm)\n",
        "disp.plot()\n",
        "plt.show()\n",
        "'''"
      ],
      "metadata": {
        "colab": {
          "base_uri": "https://localhost:8080/",
          "height": 165
        },
        "id": "ZN0V2Dn5st2v",
        "outputId": "28003c70-b383-4360-f2ef-963c5edc9e7a"
      },
      "id": "ZN0V2Dn5st2v",
      "execution_count": null,
      "outputs": [
        {
          "output_type": "execute_result",
          "data": {
            "text/plain": [
              "'\\nfrom sklearn.metrics import confusion_matrix, ConfusionMatrixDisplay\\nimport numpy as np\\n\\n# y_true는 실제 라벨\\ny_true = np.array(class_label)  # 실제 라벨, 예시에서는 class_label\\n\\n# y_pred는 모델을 통해 예측된 라벨\\ny_pred = []  # 빈 리스트로 시작, 모델 예측 결과를 이곳에 추가\\n\\n# 모델을 사용해 각 문장에 대한 예측 라벨을 얻음\\nfor encoded_sentence in conversation:  # 이미 정수 인코딩된 데이터를 사용\\n    inputs = np.expand_dims(encoded_sentence, axis=0)  # 모델 입력에 맞게 차원 확장\\n    outputs = model(inputs)  # 모델 예측\\n    pred = np.argmax(outputs.logits, axis=-1)  # 가장 높은 확률을 가진 라벨 선택\\n    y_pred.append(pred.numpy()[0])  # 리스트에 예측 값 추가\\n\\n# 혼동 행렬 생성\\ncm = confusion_matrix(y_true, y_pred)\\ndisp = ConfusionMatrixDisplay(confusion_matrix=cm)\\ndisp.plot()\\nplt.show()\\n'"
            ],
            "application/vnd.google.colaboratory.intrinsic+json": {
              "type": "string"
            }
          },
          "metadata": {},
          "execution_count": 117
        }
      ]
    },
    {
      "cell_type": "code",
      "source": [
        "from sklearn.decomposition import PCA"
      ],
      "metadata": {
        "id": "AY2gf1L2utvA"
      },
      "id": "AY2gf1L2utvA",
      "execution_count": null,
      "outputs": []
    },
    {
      "cell_type": "code",
      "source": [
        "pca = PCA(n_components=2)\n",
        "components = pca.fit_transform(conversation)  # conversation이 임베딩된 데이터\n",
        "\n",
        "# Assuming class_label has shape (120, 11062), and you need labels for each data point:\n",
        "class_label_reshaped = class_label[0] # Select the first row of class_label, assuming it contains the correct labels.\n",
        "\n",
        "plt.scatter(components[:, 0], components[:, 1], c=class_label_reshaped)  # class_label이 카테고리 라벨\n",
        "plt.title('PCA of Data')\n",
        "plt.show()"
      ],
      "metadata": {
        "colab": {
          "base_uri": "https://localhost:8080/",
          "height": 885
        },
        "id": "SL61WnRDs8Ln",
        "outputId": "8998a55f-8757-43e6-d249-f480623edd4d"
      },
      "id": "SL61WnRDs8Ln",
      "execution_count": null,
      "outputs": [
        {
          "output_type": "error",
          "ename": "ValueError",
          "evalue": "'c' argument has 120 elements, which is inconsistent with 'x' and 'y' with size 11062.",
          "traceback": [
            "\u001b[0;31m---------------------------------------------------------------------------\u001b[0m",
            "\u001b[0;31mValueError\u001b[0m                                Traceback (most recent call last)",
            "\u001b[0;32m/usr/local/lib/python3.10/dist-packages/matplotlib/axes/_axes.py\u001b[0m in \u001b[0;36m_parse_scatter_color_args\u001b[0;34m(c, edgecolors, kwargs, xsize, get_next_color_func)\u001b[0m\n\u001b[1;32m   4438\u001b[0m             \u001b[0;32mtry\u001b[0m\u001b[0;34m:\u001b[0m  \u001b[0;31m# Is 'c' acceptable as PathCollection facecolors?\u001b[0m\u001b[0;34m\u001b[0m\u001b[0;34m\u001b[0m\u001b[0m\n\u001b[0;32m-> 4439\u001b[0;31m                 \u001b[0mcolors\u001b[0m \u001b[0;34m=\u001b[0m \u001b[0mmcolors\u001b[0m\u001b[0;34m.\u001b[0m\u001b[0mto_rgba_array\u001b[0m\u001b[0;34m(\u001b[0m\u001b[0mc\u001b[0m\u001b[0;34m)\u001b[0m\u001b[0;34m\u001b[0m\u001b[0;34m\u001b[0m\u001b[0m\n\u001b[0m\u001b[1;32m   4440\u001b[0m             \u001b[0;32mexcept\u001b[0m \u001b[0;34m(\u001b[0m\u001b[0mTypeError\u001b[0m\u001b[0;34m,\u001b[0m \u001b[0mValueError\u001b[0m\u001b[0;34m)\u001b[0m \u001b[0;32mas\u001b[0m \u001b[0merr\u001b[0m\u001b[0;34m:\u001b[0m\u001b[0;34m\u001b[0m\u001b[0;34m\u001b[0m\u001b[0m\n",
            "\u001b[0;32m/usr/local/lib/python3.10/dist-packages/matplotlib/colors.py\u001b[0m in \u001b[0;36mto_rgba_array\u001b[0;34m(c, alpha)\u001b[0m\n\u001b[1;32m    486\u001b[0m     \u001b[0;32melse\u001b[0m\u001b[0;34m:\u001b[0m\u001b[0;34m\u001b[0m\u001b[0;34m\u001b[0m\u001b[0m\n\u001b[0;32m--> 487\u001b[0;31m         \u001b[0mrgba\u001b[0m \u001b[0;34m=\u001b[0m \u001b[0mnp\u001b[0m\u001b[0;34m.\u001b[0m\u001b[0marray\u001b[0m\u001b[0;34m(\u001b[0m\u001b[0;34m[\u001b[0m\u001b[0mto_rgba\u001b[0m\u001b[0;34m(\u001b[0m\u001b[0mcc\u001b[0m\u001b[0;34m)\u001b[0m \u001b[0;32mfor\u001b[0m \u001b[0mcc\u001b[0m \u001b[0;32min\u001b[0m \u001b[0mc\u001b[0m\u001b[0;34m]\u001b[0m\u001b[0;34m)\u001b[0m\u001b[0;34m\u001b[0m\u001b[0;34m\u001b[0m\u001b[0m\n\u001b[0m\u001b[1;32m    488\u001b[0m \u001b[0;34m\u001b[0m\u001b[0m\n",
            "\u001b[0;32m/usr/local/lib/python3.10/dist-packages/matplotlib/colors.py\u001b[0m in \u001b[0;36m<listcomp>\u001b[0;34m(.0)\u001b[0m\n\u001b[1;32m    486\u001b[0m     \u001b[0;32melse\u001b[0m\u001b[0;34m:\u001b[0m\u001b[0;34m\u001b[0m\u001b[0;34m\u001b[0m\u001b[0m\n\u001b[0;32m--> 487\u001b[0;31m         \u001b[0mrgba\u001b[0m \u001b[0;34m=\u001b[0m \u001b[0mnp\u001b[0m\u001b[0;34m.\u001b[0m\u001b[0marray\u001b[0m\u001b[0;34m(\u001b[0m\u001b[0;34m[\u001b[0m\u001b[0mto_rgba\u001b[0m\u001b[0;34m(\u001b[0m\u001b[0mcc\u001b[0m\u001b[0;34m)\u001b[0m \u001b[0;32mfor\u001b[0m \u001b[0mcc\u001b[0m \u001b[0;32min\u001b[0m \u001b[0mc\u001b[0m\u001b[0;34m]\u001b[0m\u001b[0;34m)\u001b[0m\u001b[0;34m\u001b[0m\u001b[0;34m\u001b[0m\u001b[0m\n\u001b[0m\u001b[1;32m    488\u001b[0m \u001b[0;34m\u001b[0m\u001b[0m\n",
            "\u001b[0;32m/usr/local/lib/python3.10/dist-packages/matplotlib/colors.py\u001b[0m in \u001b[0;36mto_rgba\u001b[0;34m(c, alpha)\u001b[0m\n\u001b[1;32m    298\u001b[0m     \u001b[0;32mif\u001b[0m \u001b[0mrgba\u001b[0m \u001b[0;32mis\u001b[0m \u001b[0;32mNone\u001b[0m\u001b[0;34m:\u001b[0m  \u001b[0;31m# Suppress exception chaining of cache lookup failure.\u001b[0m\u001b[0;34m\u001b[0m\u001b[0;34m\u001b[0m\u001b[0m\n\u001b[0;32m--> 299\u001b[0;31m         \u001b[0mrgba\u001b[0m \u001b[0;34m=\u001b[0m \u001b[0m_to_rgba_no_colorcycle\u001b[0m\u001b[0;34m(\u001b[0m\u001b[0mc\u001b[0m\u001b[0;34m,\u001b[0m \u001b[0malpha\u001b[0m\u001b[0;34m)\u001b[0m\u001b[0;34m\u001b[0m\u001b[0;34m\u001b[0m\u001b[0m\n\u001b[0m\u001b[1;32m    300\u001b[0m         \u001b[0;32mtry\u001b[0m\u001b[0;34m:\u001b[0m\u001b[0;34m\u001b[0m\u001b[0;34m\u001b[0m\u001b[0m\n",
            "\u001b[0;32m/usr/local/lib/python3.10/dist-packages/matplotlib/colors.py\u001b[0m in \u001b[0;36m_to_rgba_no_colorcycle\u001b[0;34m(c, alpha)\u001b[0m\n\u001b[1;32m    380\u001b[0m     \u001b[0;32mif\u001b[0m \u001b[0;32mnot\u001b[0m \u001b[0mnp\u001b[0m\u001b[0;34m.\u001b[0m\u001b[0miterable\u001b[0m\u001b[0;34m(\u001b[0m\u001b[0mc\u001b[0m\u001b[0;34m)\u001b[0m\u001b[0;34m:\u001b[0m\u001b[0;34m\u001b[0m\u001b[0;34m\u001b[0m\u001b[0m\n\u001b[0;32m--> 381\u001b[0;31m         \u001b[0;32mraise\u001b[0m \u001b[0mValueError\u001b[0m\u001b[0;34m(\u001b[0m\u001b[0;34mf\"Invalid RGBA argument: {orig_c!r}\"\u001b[0m\u001b[0;34m)\u001b[0m\u001b[0;34m\u001b[0m\u001b[0;34m\u001b[0m\u001b[0m\n\u001b[0m\u001b[1;32m    382\u001b[0m     \u001b[0;32mif\u001b[0m \u001b[0mlen\u001b[0m\u001b[0;34m(\u001b[0m\u001b[0mc\u001b[0m\u001b[0;34m)\u001b[0m \u001b[0;32mnot\u001b[0m \u001b[0;32min\u001b[0m \u001b[0;34m[\u001b[0m\u001b[0;36m3\u001b[0m\u001b[0;34m,\u001b[0m \u001b[0;36m4\u001b[0m\u001b[0;34m]\u001b[0m\u001b[0;34m:\u001b[0m\u001b[0;34m\u001b[0m\u001b[0;34m\u001b[0m\u001b[0m\n",
            "\u001b[0;31mValueError\u001b[0m: Invalid RGBA argument: 16142.0",
            "\nThe above exception was the direct cause of the following exception:\n",
            "\u001b[0;31mValueError\u001b[0m                                Traceback (most recent call last)",
            "\u001b[0;32m<ipython-input-119-8f45ab86bcbf>\u001b[0m in \u001b[0;36m<cell line: 7>\u001b[0;34m()\u001b[0m\n\u001b[1;32m      5\u001b[0m \u001b[0mclass_label_reshaped\u001b[0m \u001b[0;34m=\u001b[0m \u001b[0mclass_label\u001b[0m\u001b[0;34m[\u001b[0m\u001b[0;36m0\u001b[0m\u001b[0;34m]\u001b[0m \u001b[0;31m# Select the first row of class_label, assuming it contains the correct labels.\u001b[0m\u001b[0;34m\u001b[0m\u001b[0;34m\u001b[0m\u001b[0m\n\u001b[1;32m      6\u001b[0m \u001b[0;34m\u001b[0m\u001b[0m\n\u001b[0;32m----> 7\u001b[0;31m \u001b[0mplt\u001b[0m\u001b[0;34m.\u001b[0m\u001b[0mscatter\u001b[0m\u001b[0;34m(\u001b[0m\u001b[0mcomponents\u001b[0m\u001b[0;34m[\u001b[0m\u001b[0;34m:\u001b[0m\u001b[0;34m,\u001b[0m \u001b[0;36m0\u001b[0m\u001b[0;34m]\u001b[0m\u001b[0;34m,\u001b[0m \u001b[0mcomponents\u001b[0m\u001b[0;34m[\u001b[0m\u001b[0;34m:\u001b[0m\u001b[0;34m,\u001b[0m \u001b[0;36m1\u001b[0m\u001b[0;34m]\u001b[0m\u001b[0;34m,\u001b[0m \u001b[0mc\u001b[0m\u001b[0;34m=\u001b[0m\u001b[0mclass_label_reshaped\u001b[0m\u001b[0;34m)\u001b[0m  \u001b[0;31m# class_label이 카테고리 라벨\u001b[0m\u001b[0;34m\u001b[0m\u001b[0;34m\u001b[0m\u001b[0m\n\u001b[0m\u001b[1;32m      8\u001b[0m \u001b[0mplt\u001b[0m\u001b[0;34m.\u001b[0m\u001b[0mtitle\u001b[0m\u001b[0;34m(\u001b[0m\u001b[0;34m'PCA of Data'\u001b[0m\u001b[0;34m)\u001b[0m\u001b[0;34m\u001b[0m\u001b[0;34m\u001b[0m\u001b[0m\n\u001b[1;32m      9\u001b[0m \u001b[0mplt\u001b[0m\u001b[0;34m.\u001b[0m\u001b[0mshow\u001b[0m\u001b[0;34m(\u001b[0m\u001b[0;34m)\u001b[0m\u001b[0;34m\u001b[0m\u001b[0;34m\u001b[0m\u001b[0m\n",
            "\u001b[0;32m/usr/local/lib/python3.10/dist-packages/matplotlib/pyplot.py\u001b[0m in \u001b[0;36mscatter\u001b[0;34m(x, y, s, c, marker, cmap, norm, vmin, vmax, alpha, linewidths, edgecolors, plotnonfinite, data, **kwargs)\u001b[0m\n\u001b[1;32m   2860\u001b[0m         \u001b[0mvmin\u001b[0m\u001b[0;34m=\u001b[0m\u001b[0;32mNone\u001b[0m\u001b[0;34m,\u001b[0m \u001b[0mvmax\u001b[0m\u001b[0;34m=\u001b[0m\u001b[0;32mNone\u001b[0m\u001b[0;34m,\u001b[0m \u001b[0malpha\u001b[0m\u001b[0;34m=\u001b[0m\u001b[0;32mNone\u001b[0m\u001b[0;34m,\u001b[0m \u001b[0mlinewidths\u001b[0m\u001b[0;34m=\u001b[0m\u001b[0;32mNone\u001b[0m\u001b[0;34m,\u001b[0m \u001b[0;34m*\u001b[0m\u001b[0;34m,\u001b[0m\u001b[0;34m\u001b[0m\u001b[0;34m\u001b[0m\u001b[0m\n\u001b[1;32m   2861\u001b[0m         edgecolors=None, plotnonfinite=False, data=None, **kwargs):\n\u001b[0;32m-> 2862\u001b[0;31m     __ret = gca().scatter(\n\u001b[0m\u001b[1;32m   2863\u001b[0m         \u001b[0mx\u001b[0m\u001b[0;34m,\u001b[0m \u001b[0my\u001b[0m\u001b[0;34m,\u001b[0m \u001b[0ms\u001b[0m\u001b[0;34m=\u001b[0m\u001b[0ms\u001b[0m\u001b[0;34m,\u001b[0m \u001b[0mc\u001b[0m\u001b[0;34m=\u001b[0m\u001b[0mc\u001b[0m\u001b[0;34m,\u001b[0m \u001b[0mmarker\u001b[0m\u001b[0;34m=\u001b[0m\u001b[0mmarker\u001b[0m\u001b[0;34m,\u001b[0m \u001b[0mcmap\u001b[0m\u001b[0;34m=\u001b[0m\u001b[0mcmap\u001b[0m\u001b[0;34m,\u001b[0m \u001b[0mnorm\u001b[0m\u001b[0;34m=\u001b[0m\u001b[0mnorm\u001b[0m\u001b[0;34m,\u001b[0m\u001b[0;34m\u001b[0m\u001b[0;34m\u001b[0m\u001b[0m\n\u001b[1;32m   2864\u001b[0m         \u001b[0mvmin\u001b[0m\u001b[0;34m=\u001b[0m\u001b[0mvmin\u001b[0m\u001b[0;34m,\u001b[0m \u001b[0mvmax\u001b[0m\u001b[0;34m=\u001b[0m\u001b[0mvmax\u001b[0m\u001b[0;34m,\u001b[0m \u001b[0malpha\u001b[0m\u001b[0;34m=\u001b[0m\u001b[0malpha\u001b[0m\u001b[0;34m,\u001b[0m \u001b[0mlinewidths\u001b[0m\u001b[0;34m=\u001b[0m\u001b[0mlinewidths\u001b[0m\u001b[0;34m,\u001b[0m\u001b[0;34m\u001b[0m\u001b[0;34m\u001b[0m\u001b[0m\n",
            "\u001b[0;32m/usr/local/lib/python3.10/dist-packages/matplotlib/__init__.py\u001b[0m in \u001b[0;36minner\u001b[0;34m(ax, data, *args, **kwargs)\u001b[0m\n\u001b[1;32m   1440\u001b[0m     \u001b[0;32mdef\u001b[0m \u001b[0minner\u001b[0m\u001b[0;34m(\u001b[0m\u001b[0max\u001b[0m\u001b[0;34m,\u001b[0m \u001b[0;34m*\u001b[0m\u001b[0margs\u001b[0m\u001b[0;34m,\u001b[0m \u001b[0mdata\u001b[0m\u001b[0;34m=\u001b[0m\u001b[0;32mNone\u001b[0m\u001b[0;34m,\u001b[0m \u001b[0;34m**\u001b[0m\u001b[0mkwargs\u001b[0m\u001b[0;34m)\u001b[0m\u001b[0;34m:\u001b[0m\u001b[0;34m\u001b[0m\u001b[0;34m\u001b[0m\u001b[0m\n\u001b[1;32m   1441\u001b[0m         \u001b[0;32mif\u001b[0m \u001b[0mdata\u001b[0m \u001b[0;32mis\u001b[0m \u001b[0;32mNone\u001b[0m\u001b[0;34m:\u001b[0m\u001b[0;34m\u001b[0m\u001b[0;34m\u001b[0m\u001b[0m\n\u001b[0;32m-> 1442\u001b[0;31m             \u001b[0;32mreturn\u001b[0m \u001b[0mfunc\u001b[0m\u001b[0;34m(\u001b[0m\u001b[0max\u001b[0m\u001b[0;34m,\u001b[0m \u001b[0;34m*\u001b[0m\u001b[0mmap\u001b[0m\u001b[0;34m(\u001b[0m\u001b[0msanitize_sequence\u001b[0m\u001b[0;34m,\u001b[0m \u001b[0margs\u001b[0m\u001b[0;34m)\u001b[0m\u001b[0;34m,\u001b[0m \u001b[0;34m**\u001b[0m\u001b[0mkwargs\u001b[0m\u001b[0;34m)\u001b[0m\u001b[0;34m\u001b[0m\u001b[0;34m\u001b[0m\u001b[0m\n\u001b[0m\u001b[1;32m   1443\u001b[0m \u001b[0;34m\u001b[0m\u001b[0m\n\u001b[1;32m   1444\u001b[0m         \u001b[0mbound\u001b[0m \u001b[0;34m=\u001b[0m \u001b[0mnew_sig\u001b[0m\u001b[0;34m.\u001b[0m\u001b[0mbind\u001b[0m\u001b[0;34m(\u001b[0m\u001b[0max\u001b[0m\u001b[0;34m,\u001b[0m \u001b[0;34m*\u001b[0m\u001b[0margs\u001b[0m\u001b[0;34m,\u001b[0m \u001b[0;34m**\u001b[0m\u001b[0mkwargs\u001b[0m\u001b[0;34m)\u001b[0m\u001b[0;34m\u001b[0m\u001b[0;34m\u001b[0m\u001b[0m\n",
            "\u001b[0;32m/usr/local/lib/python3.10/dist-packages/matplotlib/axes/_axes.py\u001b[0m in \u001b[0;36mscatter\u001b[0;34m(self, x, y, s, c, marker, cmap, norm, vmin, vmax, alpha, linewidths, edgecolors, plotnonfinite, **kwargs)\u001b[0m\n\u001b[1;32m   4600\u001b[0m             \u001b[0morig_edgecolor\u001b[0m \u001b[0;34m=\u001b[0m \u001b[0mkwargs\u001b[0m\u001b[0;34m.\u001b[0m\u001b[0mget\u001b[0m\u001b[0;34m(\u001b[0m\u001b[0;34m'edgecolor'\u001b[0m\u001b[0;34m,\u001b[0m \u001b[0;32mNone\u001b[0m\u001b[0;34m)\u001b[0m\u001b[0;34m\u001b[0m\u001b[0;34m\u001b[0m\u001b[0m\n\u001b[1;32m   4601\u001b[0m         \u001b[0mc\u001b[0m\u001b[0;34m,\u001b[0m \u001b[0mcolors\u001b[0m\u001b[0;34m,\u001b[0m \u001b[0medgecolors\u001b[0m \u001b[0;34m=\u001b[0m\u001b[0;31m \u001b[0m\u001b[0;31m\\\u001b[0m\u001b[0;34m\u001b[0m\u001b[0;34m\u001b[0m\u001b[0m\n\u001b[0;32m-> 4602\u001b[0;31m             self._parse_scatter_color_args(\n\u001b[0m\u001b[1;32m   4603\u001b[0m                 \u001b[0mc\u001b[0m\u001b[0;34m,\u001b[0m \u001b[0medgecolors\u001b[0m\u001b[0;34m,\u001b[0m \u001b[0mkwargs\u001b[0m\u001b[0;34m,\u001b[0m \u001b[0mx\u001b[0m\u001b[0;34m.\u001b[0m\u001b[0msize\u001b[0m\u001b[0;34m,\u001b[0m\u001b[0;34m\u001b[0m\u001b[0;34m\u001b[0m\u001b[0m\n\u001b[1;32m   4604\u001b[0m                 get_next_color_func=self._get_patches_for_fill.get_next_color)\n",
            "\u001b[0;32m/usr/local/lib/python3.10/dist-packages/matplotlib/axes/_axes.py\u001b[0m in \u001b[0;36m_parse_scatter_color_args\u001b[0;34m(c, edgecolors, kwargs, xsize, get_next_color_func)\u001b[0m\n\u001b[1;32m   4443\u001b[0m                 \u001b[0;32melse\u001b[0m\u001b[0;34m:\u001b[0m\u001b[0;34m\u001b[0m\u001b[0;34m\u001b[0m\u001b[0m\n\u001b[1;32m   4444\u001b[0m                     \u001b[0;32mif\u001b[0m \u001b[0;32mnot\u001b[0m \u001b[0mvalid_shape\u001b[0m\u001b[0;34m:\u001b[0m\u001b[0;34m\u001b[0m\u001b[0;34m\u001b[0m\u001b[0m\n\u001b[0;32m-> 4445\u001b[0;31m                         \u001b[0;32mraise\u001b[0m \u001b[0minvalid_shape_exception\u001b[0m\u001b[0;34m(\u001b[0m\u001b[0mc\u001b[0m\u001b[0;34m.\u001b[0m\u001b[0msize\u001b[0m\u001b[0;34m,\u001b[0m \u001b[0mxsize\u001b[0m\u001b[0;34m)\u001b[0m \u001b[0;32mfrom\u001b[0m \u001b[0merr\u001b[0m\u001b[0;34m\u001b[0m\u001b[0;34m\u001b[0m\u001b[0m\n\u001b[0m\u001b[1;32m   4446\u001b[0m                     \u001b[0;31m# Both the mapping *and* the RGBA conversion failed: pretty\u001b[0m\u001b[0;34m\u001b[0m\u001b[0;34m\u001b[0m\u001b[0m\n\u001b[1;32m   4447\u001b[0m                     \u001b[0;31m# severe failure => one may appreciate a verbose feedback.\u001b[0m\u001b[0;34m\u001b[0m\u001b[0;34m\u001b[0m\u001b[0m\n",
            "\u001b[0;31mValueError\u001b[0m: 'c' argument has 120 elements, which is inconsistent with 'x' and 'y' with size 11062."
          ]
        },
        {
          "output_type": "display_data",
          "data": {
            "text/plain": [
              "<Figure size 640x480 with 1 Axes>"
            ],
            "image/png": "[encoded data removed]"
          },
          "metadata": {}
        }
      ]
    },
    {
      "cell_type": "code",
      "source": [
        "pca = PCA(n_components=2)\n",
        "components = pca.fit_transform(conversation)  # conversation이 임베딩된 데이터\n",
        "\n",
        "# Assuming class_label has shape (120, 11062), and you need labels for each data point:\n",
        "class_label_reshaped = class_label.T[0] # Transpose class_label and select the first row\n",
        "\n",
        "plt.scatter(components[:, 0], components[:, 1], c=class_label_reshaped)  # class_label이 카테고리 라벨\n",
        "plt.title('PCA of Data')\n",
        "plt.show()"
      ],
      "metadata": {
        "id": "1D9SW7sDvTag"
      },
      "id": "1D9SW7sDvTag",
      "execution_count": null,
      "outputs": []
    },
    {
      "cell_type": "code",
      "source": [
        "# !pip install wandb"
      ],
      "metadata": {
        "colab": {
          "base_uri": "https://localhost:8080/"
        },
        "id": "Zo-WoErj0JBj",
        "outputId": "de714098-ecd6-4e0f-e3ae-c37a10c20cd9"
      },
      "id": "Zo-WoErj0JBj",
      "execution_count": null,
      "outputs": [
        {
          "output_type": "stream",
          "name": "stdout",
          "text": [
            "Requirement already satisfied: wandb in /usr/local/lib/python3.10/dist-packages (0.18.3)\n",
            "Requirement already satisfied: click!=8.0.0,>=7.1 in /usr/local/lib/python3.10/dist-packages (from wandb) (8.1.7)\n",
            "Requirement already satisfied: docker-pycreds>=0.4.0 in /usr/local/lib/python3.10/dist-packages (from wandb) (0.4.0)\n",
            "Requirement already satisfied: gitpython!=3.1.29,>=1.0.0 in /usr/local/lib/python3.10/dist-packages (from wandb) (3.1.43)\n",
            "Requirement already satisfied: platformdirs in /usr/local/lib/python3.10/dist-packages (from wandb) (4.3.6)\n",
            "Requirement already satisfied: protobuf!=4.21.0,!=5.28.0,<6,>=3.19.0 in /usr/local/lib/python3.10/dist-packages (from wandb) (3.20.3)\n",
            "Requirement already satisfied: psutil>=5.0.0 in /usr/local/lib/python3.10/dist-packages (from wandb) (5.9.5)\n",
            "Requirement already satisfied: pyyaml in /usr/local/lib/python3.10/dist-packages (from wandb) (6.0.2)\n",
            "Requirement already satisfied: requests<3,>=2.0.0 in /usr/local/lib/python3.10/dist-packages (from wandb) (2.32.3)\n",
            "Requirement already satisfied: sentry-sdk>=1.0.0 in /usr/local/lib/python3.10/dist-packages (from wandb) (2.15.0)\n",
            "Requirement already satisfied: setproctitle in /usr/local/lib/python3.10/dist-packages (from wandb) (1.3.3)\n",
            "Requirement already satisfied: setuptools in /usr/local/lib/python3.10/dist-packages (from wandb) (71.0.4)\n",
            "Requirement already satisfied: six>=1.4.0 in /usr/local/lib/python3.10/dist-packages (from docker-pycreds>=0.4.0->wandb) (1.16.0)\n",
            "Requirement already satisfied: gitdb<5,>=4.0.1 in /usr/local/lib/python3.10/dist-packages (from gitpython!=3.1.29,>=1.0.0->wandb) (4.0.11)\n",
            "Requirement already satisfied: charset-normalizer<4,>=2 in /usr/local/lib/python3.10/dist-packages (from requests<3,>=2.0.0->wandb) (3.3.2)\n",
            "Requirement already satisfied: idna<4,>=2.5 in /usr/local/lib/python3.10/dist-packages (from requests<3,>=2.0.0->wandb) (3.10)\n",
            "Requirement already satisfied: urllib3<3,>=1.21.1 in /usr/local/lib/python3.10/dist-packages (from requests<3,>=2.0.0->wandb) (2.2.3)\n",
            "Requirement already satisfied: certifi>=2017.4.17 in /usr/local/lib/python3.10/dist-packages (from requests<3,>=2.0.0->wandb) (2024.8.30)\n",
            "Requirement already satisfied: smmap<6,>=3.0.1 in /usr/local/lib/python3.10/dist-packages (from gitdb<5,>=4.0.1->gitpython!=3.1.29,>=1.0.0->wandb) (5.0.1)\n"
          ]
        }
      ]
    },
    {
      "cell_type": "markdown",
      "source": [],
      "metadata": {
        "id": "vlililoX0NF1"
      },
      "id": "vlililoX0NF1"
    },
    {
      "cell_type": "code",
      "source": [
        "import wandb\n",
        "wandb.login()\n"
      ],
      "metadata": {
        "colab": {
          "base_uri": "https://localhost:8080/"
        },
        "id": "A4aHf6I70Nnk",
        "outputId": "61130b05-c8b9-4b06-9e34-e923fad9e33c"
      },
      "id": "A4aHf6I70Nnk",
      "execution_count": null,
      "outputs": [
        {
          "output_type": "stream",
          "name": "stderr",
          "text": [
            "\u001b[34m\u001b[1mwandb\u001b[0m: \u001b[33mWARNING\u001b[0m Calling wandb.login() after wandb.init() has no effect.\n"
          ]
        },
        {
          "output_type": "execute_result",
          "data": {
            "text/plain": [
              "True"
            ]
          },
          "metadata": {},
          "execution_count": 121
        }
      ]
    },
    {
      "cell_type": "code",
      "source": [
        "wandb.init(project=\"dim_reduction_example\")\n"
      ],
      "metadata": {
        "colab": {
          "base_uri": "https://localhost:8080/",
          "height": 630,
          "referenced_widgets": [
            "5f3d9aa636504613b7d0551e9655f432",
            "c64d6116a35640908f9bf2b5a24e397a",
            "55719d6c55a84855a0077b7c49d3d71a",
            "aeffa1b5b6be4fda9e25486d46b481c1",
            "d4b709f80a9947ada6149b7491802a9f",
            "71bf8217faf84a82970ca2294dae772b",
            "a7a285a6222843b5b05df72b94054383",
            "291aa9f380264bbf9ab1f9bf6b0f897f"
          ]
        },
        "id": "K6lAimMr03H0",
        "outputId": "03b2b084-10a0-476a-962c-63ddea3de62b"
      },
      "id": "K6lAimMr03H0",
      "execution_count": null,
      "outputs": [
        {
          "output_type": "display_data",
          "data": {
            "text/plain": [
              "<IPython.core.display.HTML object>"
            ],
            "text/html": [
              "Finishing last run (ID:d74u6j5r) before initializing another..."
            ]
          },
          "metadata": {}
        },
        {
          "output_type": "display_data",
          "data": {
            "text/plain": [
              "VBox(children=(Label(value='0.042 MB of 0.042 MB uploaded\\r'), FloatProgress(value=1.0, max=1.0)))"
            ],
            "application/vnd.jupyter.widget-view+json": {
              "version_major": 2,
              "version_minor": 0,
              "model_id": "5f3d9aa636504613b7d0551e9655f432"
            }
          },
          "metadata": {}
        },
        {
          "output_type": "display_data",
          "data": {
            "text/plain": [
              "<IPython.core.display.HTML object>"
            ],
            "text/html": [
              " View run <strong style=\"color:#cdcd00\">volcanic-pyramid-3</strong> at: <a href='https://wandb.ai/ctan0722-innodigital/dim_reduction_example/runs/d74u6j5r' target=\"_blank\">https://wandb.ai/ctan0722-innodigital/dim_reduction_example/runs/d74u6j5r</a><br/> View project at: <a href='https://wandb.ai/ctan0722-innodigital/dim_reduction_example' target=\"_blank\">https://wandb.ai/ctan0722-innodigital/dim_reduction_example</a><br/>Synced 5 W&B file(s), 0 media file(s), 4 artifact file(s) and 2 other file(s)"
            ]
          },
          "metadata": {}
        },
        {
          "output_type": "display_data",
          "data": {
            "text/plain": [
              "<IPython.core.display.HTML object>"
            ],
            "text/html": [
              "Find logs at: <code>./wandb/run-20241004_000041-d74u6j5r/logs</code>"
            ]
          },
          "metadata": {}
        },
        {
          "output_type": "display_data",
          "data": {
            "text/plain": [
              "<IPython.core.display.HTML object>"
            ],
            "text/html": [
              "Successfully finished last run (ID:d74u6j5r). Initializing new run:<br/>"
            ]
          },
          "metadata": {}
        },
        {
          "output_type": "display_data",
          "data": {
            "text/plain": [
              "<IPython.core.display.HTML object>"
            ],
            "text/html": [
              "Tracking run with wandb version 0.18.3"
            ]
          },
          "metadata": {}
        },
        {
          "output_type": "display_data",
          "data": {
            "text/plain": [
              "<IPython.core.display.HTML object>"
            ],
            "text/html": [
              "Run data is saved locally in <code>/content/wandb/run-20241004_000711-rav5g7t0</code>"
            ]
          },
          "metadata": {}
        },
        {
          "output_type": "display_data",
          "data": {
            "text/plain": [
              "<IPython.core.display.HTML object>"
            ],
            "text/html": [
              "Syncing run <strong><a href='https://wandb.ai/ctan0722-innodigital/dim_reduction_example/runs/rav5g7t0' target=\"_blank\">laced-fire-4</a></strong> to <a href='https://wandb.ai/ctan0722-innodigital/dim_reduction_example' target=\"_blank\">Weights & Biases</a> (<a href='https://wandb.me/run' target=\"_blank\">docs</a>)<br/>"
            ]
          },
          "metadata": {}
        },
        {
          "output_type": "display_data",
          "data": {
            "text/plain": [
              "<IPython.core.display.HTML object>"
            ],
            "text/html": [
              " View project at <a href='https://wandb.ai/ctan0722-innodigital/dim_reduction_example' target=\"_blank\">https://wandb.ai/ctan0722-innodigital/dim_reduction_example</a>"
            ]
          },
          "metadata": {}
        },
        {
          "output_type": "display_data",
          "data": {
            "text/plain": [
              "<IPython.core.display.HTML object>"
            ],
            "text/html": [
              " View run at <a href='https://wandb.ai/ctan0722-innodigital/dim_reduction_example/runs/rav5g7t0' target=\"_blank\">https://wandb.ai/ctan0722-innodigital/dim_reduction_example/runs/rav5g7t0</a>"
            ]
          },
          "metadata": {}
        },
        {
          "output_type": "execute_result",
          "data": {
            "text/html": [
              "<button onClick=\"this.nextSibling.style.display='block';this.style.display='none';\">Display W&B run</button><iframe src='https://wandb.ai/ctan0722-innodigital/dim_reduction_example/runs/rav5g7t0?jupyter=true' style='border:none;width:100%;height:420px;display:none;'></iframe>"
            ],
            "text/plain": [
              "<wandb.sdk.wandb_run.Run at 0x7ec4312959f0>"
            ]
          },
          "metadata": {},
          "execution_count": 122
        }
      ]
    },
    {
      "cell_type": "code",
      "source": [
        "from sklearn.decomposition import PCA\n",
        "from sklearn.manifold import TSNE\n",
        "import matplotlib.pyplot as plt\n",
        "import wandb\n",
        "import numpy as np\n",
        "\n",
        "# WandB 프로젝트 초기화\n",
        "wandb.init(project=\"dim_reduction_example\")\n",
        "\n",
        "# 예시 데이터: conversation에 정수 인코딩된 데이터가 있다고 가정\n",
        "# conversation = np.random.randn(100, 300)  # 임의 데이터 예시\n",
        "\n",
        "# PCA 적용\n",
        "pca = PCA(n_components=2)\n",
        "pca_components = pca.fit_transform(conversation)\n",
        "\n",
        "# t-SNE 적용\n",
        "tsne = TSNE(n_components=2, random_state=42)\n",
        "tsne_components = tsne.fit_transform(conversation)\n",
        "\n",
        "# 시각화 결과를 WandB에 기록\n",
        "wandb.log({\n",
        "    \"PCA Scatter Plot\": wandb.plot.scatter(\n",
        "        wandb.Table(data=[[x, y] for x, y in zip(pca_components[:, 0], pca_components[:, 1])],\n",
        "                    columns=[\"PC1\", \"PC2\"]),\n",
        "        \"PC1\", \"PC2\", title=\"PCA of Data\"\n",
        "    ),\n",
        "    \"t-SNE Scatter Plot\": wandb.plot.scatter(\n",
        "        wandb.Table(data=[[x, y] for x, y in zip(tsne_components[:, 0], tsne_components[:, 1])],\n",
        "                    columns=[\"Dim1\", \"Dim2\"]),\n",
        "        \"Dim1\", \"Dim2\", title=\"t-SNE of Data\"\n",
        "    )\n",
        "})\n"
      ],
      "metadata": {
        "colab": {
          "base_uri": "https://localhost:8080/",
          "height": 210,
          "referenced_widgets": [
            "bba67b8f55cc4f93905bac1c51ef2693",
            "32dd0bf50c3c4fea902305c50c0948f3",
            "4075f76518004bf88163342a9a121741",
            "170fe869f740471d81bbbd60af33bb97",
            "063bab5ce0cc4c6baa7c00fdb9ebbb05",
            "547375e1997149b9966a3e5105ef3b1e",
            "ea85fb07a99e4abc96cac774f4310a25",
            "14a8580f3010431b95d2193bbcf18dd5"
          ]
        },
        "id": "Q94svpQS09lW",
        "outputId": "8678cf3e-f178-407c-bce2-945b0a400688"
      },
      "id": "Q94svpQS09lW",
      "execution_count": null,
      "outputs": [
        {
          "output_type": "display_data",
          "data": {
            "text/plain": [
              "<IPython.core.display.HTML object>"
            ],
            "text/html": [
              "Finishing last run (ID:rav5g7t0) before initializing another..."
            ]
          },
          "metadata": {}
        },
        {
          "output_type": "display_data",
          "data": {
            "text/plain": [
              "VBox(children=(Label(value='0.011 MB of 0.011 MB uploaded\\r'), FloatProgress(value=1.0, max=1.0)))"
            ],
            "application/vnd.jupyter.widget-view+json": {
              "version_major": 2,
              "version_minor": 0,
              "model_id": "bba67b8f55cc4f93905bac1c51ef2693"
            }
          },
          "metadata": {}
        },
        {
          "output_type": "display_data",
          "data": {
            "text/plain": [
              "<IPython.core.display.HTML object>"
            ],
            "text/html": [
              " View run <strong style=\"color:#cdcd00\">laced-fire-4</strong> at: <a href='https://wandb.ai/ctan0722-innodigital/dim_reduction_example/runs/rav5g7t0' target=\"_blank\">https://wandb.ai/ctan0722-innodigital/dim_reduction_example/runs/rav5g7t0</a><br/> View project at: <a href='https://wandb.ai/ctan0722-innodigital/dim_reduction_example' target=\"_blank\">https://wandb.ai/ctan0722-innodigital/dim_reduction_example</a><br/>Synced 5 W&B file(s), 0 media file(s), 0 artifact file(s) and 0 other file(s)"
            ]
          },
          "metadata": {}
        },
        {
          "output_type": "display_data",
          "data": {
            "text/plain": [
              "<IPython.core.display.HTML object>"
            ],
            "text/html": [
              "Find logs at: <code>./wandb/run-20241004_000711-rav5g7t0/logs</code>"
            ]
          },
          "metadata": {}
        },
        {
          "output_type": "display_data",
          "data": {
            "text/plain": [
              "<IPython.core.display.HTML object>"
            ],
            "text/html": [
              "Successfully finished last run (ID:rav5g7t0). Initializing new run:<br/>"
            ]
          },
          "metadata": {}
        },
        {
          "output_type": "display_data",
          "data": {
            "text/plain": [
              "<IPython.core.display.HTML object>"
            ],
            "text/html": [
              "Tracking run with wandb version 0.18.3"
            ]
          },
          "metadata": {}
        },
        {
          "output_type": "display_data",
          "data": {
            "text/plain": [
              "<IPython.core.display.HTML object>"
            ],
            "text/html": [
              "Run data is saved locally in <code>/content/wandb/run-20241004_000720-l3nwk2h8</code>"
            ]
          },
          "metadata": {}
        },
        {
          "output_type": "display_data",
          "data": {
            "text/plain": [
              "<IPython.core.display.HTML object>"
            ],
            "text/html": [
              "Syncing run <strong><a href='https://wandb.ai/ctan0722-innodigital/dim_reduction_example/runs/l3nwk2h8' target=\"_blank\">distinctive-glitter-5</a></strong> to <a href='https://wandb.ai/ctan0722-innodigital/dim_reduction_example' target=\"_blank\">Weights & Biases</a> (<a href='https://wandb.me/run' target=\"_blank\">docs</a>)<br/>"
            ]
          },
          "metadata": {}
        },
        {
          "output_type": "display_data",
          "data": {
            "text/plain": [
              "<IPython.core.display.HTML object>"
            ],
            "text/html": [
              " View project at <a href='https://wandb.ai/ctan0722-innodigital/dim_reduction_example' target=\"_blank\">https://wandb.ai/ctan0722-innodigital/dim_reduction_example</a>"
            ]
          },
          "metadata": {}
        },
        {
          "output_type": "display_data",
          "data": {
            "text/plain": [
              "<IPython.core.display.HTML object>"
            ],
            "text/html": [
              " View run at <a href='https://wandb.ai/ctan0722-innodigital/dim_reduction_example/runs/l3nwk2h8' target=\"_blank\">https://wandb.ai/ctan0722-innodigital/dim_reduction_example/runs/l3nwk2h8</a>"
            ]
          },
          "metadata": {}
        }
      ]
    },
    {
      "cell_type": "markdown",
      "source": [],
      "metadata": {
        "id": "gWsQOU27seCI"
      },
      "id": "gWsQOU27seCI"
    },
    {
      "cell_type": "markdown",
      "id": "b7523f17",
      "metadata": {
        "id": "b7523f17"
      },
      "source": [
        "# step 4. 모델 정의"
      ]
    },
    {
      "cell_type": "markdown",
      "id": "19f3c8ba",
      "metadata": {
        "id": "19f3c8ba"
      },
      "source": [
        "#### 9-4. KLUE-BERT 가져오기"
      ]
    },
    {
      "cell_type": "code",
      "source": [
        "# !pip install transformers"
      ],
      "metadata": {
        "colab": {
          "base_uri": "https://localhost:8080/"
        },
        "id": "L2sygijdn7br",
        "outputId": "6c1bbb24-1ccb-49ec-cfd9-c6aed3167a99"
      },
      "id": "L2sygijdn7br",
      "execution_count": null,
      "outputs": [
        {
          "output_type": "stream",
          "name": "stdout",
          "text": [
            "Requirement already satisfied: transformers in /usr/local/lib/python3.10/dist-packages (4.44.2)\n",
            "Requirement already satisfied: filelock in /usr/local/lib/python3.10/dist-packages (from transformers) (3.16.1)\n",
            "Requirement already satisfied: huggingface-hub<1.0,>=0.23.2 in /usr/local/lib/python3.10/dist-packages (from transformers) (0.24.7)\n",
            "Requirement already satisfied: numpy>=1.17 in /usr/local/lib/python3.10/dist-packages (from transformers) (1.26.4)\n",
            "Requirement already satisfied: packaging>=20.0 in /usr/local/lib/python3.10/dist-packages (from transformers) (24.1)\n",
            "Requirement already satisfied: pyyaml>=5.1 in /usr/local/lib/python3.10/dist-packages (from transformers) (6.0.2)\n",
            "Requirement already satisfied: regex!=2019.12.17 in /usr/local/lib/python3.10/dist-packages (from transformers) (2024.9.11)\n",
            "Requirement already satisfied: requests in /usr/local/lib/python3.10/dist-packages (from transformers) (2.32.3)\n",
            "Requirement already satisfied: safetensors>=0.4.1 in /usr/local/lib/python3.10/dist-packages (from transformers) (0.4.5)\n",
            "Requirement already satisfied: tokenizers<0.20,>=0.19 in /usr/local/lib/python3.10/dist-packages (from transformers) (0.19.1)\n",
            "Requirement already satisfied: tqdm>=4.27 in /usr/local/lib/python3.10/dist-packages (from transformers) (4.66.5)\n",
            "Requirement already satisfied: fsspec>=2023.5.0 in /usr/local/lib/python3.10/dist-packages (from huggingface-hub<1.0,>=0.23.2->transformers) (2024.6.1)\n",
            "Requirement already satisfied: typing-extensions>=3.7.4.3 in /usr/local/lib/python3.10/dist-packages (from huggingface-hub<1.0,>=0.23.2->transformers) (4.12.2)\n",
            "Requirement already satisfied: charset-normalizer<4,>=2 in /usr/local/lib/python3.10/dist-packages (from requests->transformers) (3.3.2)\n",
            "Requirement already satisfied: idna<4,>=2.5 in /usr/local/lib/python3.10/dist-packages (from requests->transformers) (3.10)\n",
            "Requirement already satisfied: urllib3<3,>=1.21.1 in /usr/local/lib/python3.10/dist-packages (from requests->transformers) (2.2.3)\n",
            "Requirement already satisfied: certifi>=2017.4.17 in /usr/local/lib/python3.10/dist-packages (from requests->transformers) (2024.8.30)\n"
          ]
        }
      ]
    },
    {
      "cell_type": "code",
      "source": [
        "# !pip install transformers sklearn"
      ],
      "metadata": {
        "colab": {
          "base_uri": "https://localhost:8080/"
        },
        "id": "GrB2t1-83uJu",
        "outputId": "3c00edac-1723-4414-9c91-4dc778a28d25"
      },
      "id": "GrB2t1-83uJu",
      "execution_count": null,
      "outputs": [
        {
          "output_type": "stream",
          "name": "stdout",
          "text": [
            "Requirement already satisfied: transformers in /usr/local/lib/python3.10/dist-packages (4.44.2)\n",
            "Collecting sklearn\n",
            "  Downloading sklearn-0.0.post12.tar.gz (2.6 kB)\n",
            "  \u001b[1;31merror\u001b[0m: \u001b[1msubprocess-exited-with-error\u001b[0m\n",
            "  \n",
            "  \u001b[31m×\u001b[0m \u001b[32mpython setup.py egg_info\u001b[0m did not run successfully.\n",
            "  \u001b[31m│\u001b[0m exit code: \u001b[1;36m1\u001b[0m\n",
            "  \u001b[31m╰─>\u001b[0m See above for output.\n",
            "  \n",
            "  \u001b[1;35mnote\u001b[0m: This error originates from a subprocess, and is likely not a problem with pip.\n",
            "  Preparing metadata (setup.py) ... \u001b[?25l\u001b[?25herror\n",
            "\u001b[1;31merror\u001b[0m: \u001b[1mmetadata-generation-failed\u001b[0m\n",
            "\n",
            "\u001b[31m×\u001b[0m Encountered error while generating package metadata.\n",
            "\u001b[31m╰─>\u001b[0m See above for output.\n",
            "\n",
            "\u001b[1;35mnote\u001b[0m: This is an issue with the package mentioned above, not pip.\n",
            "\u001b[1;36mhint\u001b[0m: See above for details.\n"
          ]
        }
      ]
    },
    {
      "cell_type": "markdown",
      "source": [
        "## KLUE-BERT와 t-SNE를 사용한 시각화\n",
        "\n",
        "주요 단계 요약:\n",
        "1. KLUE-BERT 모델과 토크나이저 로드  \n",
        "2. 텍스트 데이터를 KLUE-BERT 임베딩으로 변환  \n",
        "3. t-SNE를 사용하여 차원 축소  \n",
        "4. t-SNE 시각화  "
      ],
      "metadata": {
        "id": "YzPm5JO-4NXk"
      },
      "id": "YzPm5JO-4NXk"
    },
    {
      "cell_type": "markdown",
      "source": [
        "> t-SNE, \t**작은 데이터셋**의 클러스터링된 패턴을 탐색하거나, 데이터의 **국소적 특성**을 시각화하기 좋음.\n",
        "\n",
        "\n",
        "**작은 데이터셋인가?**\n",
        "-> 크기 측면에서 보면, 데이터셋의 크기가 12,092개의 샘플로 되어 있는 중간 크기의 데이터셋  \n",
        "=> (t-SNE를 사용하는 데 무리가 없는 크기, 매우 크지는 않아서 빠르게 처리가능)\n",
        "\n",
        "\n",
        "\n",
        "**국소적 특성**\n",
        "-> 협박과 관련된 문장들이 같은 공간에 모이고, 갈취와 직장 내 괴롭힘은 다른 영역에 모이는지 등 우리의 상식과 비슷한지 확인하고자 함.  \n",
        "-> 세부적으로 어떤 문장들이 더 유사한지를 탐구"
      ],
      "metadata": {
        "id": "9eKzsQ5r9loo"
      },
      "id": "9eKzsQ5r9loo"
    },
    {
      "cell_type": "markdown",
      "source": [
        "### 1.KLUE-BERT 모델과 토크나이저 로드"
      ],
      "metadata": {
        "id": "qwtRzJQQ8KEe"
      },
      "id": "qwtRzJQQ8KEe"
    },
    {
      "cell_type": "code",
      "source": [
        "from transformers import BertTokenizer, BertForSequenceClassification\n",
        "from transformers import pipeline\n",
        "\n",
        "# KLUE-BERT 모델과 토크나이저 로드\n",
        "tokenizer = BertTokenizer.from_pretrained(\"klue/bert-base\")\n",
        "model = BertModel.from_pretrained(\"klue/bert-base\") # BertForSequenceClassification 대신 BertModel 사용\n",
        "\n",
        "# model = BertForSequenceClassification.from_pretrained(\"klue/bert-base\")\n",
        "# ERROR : AttributeError: 'SequenceClassifierOutput' object has no attribute 'last_hidden_state'"
      ],
      "metadata": {
        "id": "tn1miQZenx7P",
        "colab": {
          "base_uri": "https://localhost:8080/"
        },
        "outputId": "4a1fd7c3-ae82-4c82-cd10-af703b60b021"
      },
      "id": "tn1miQZenx7P",
      "execution_count": 18,
      "outputs": [
        {
          "output_type": "stream",
          "name": "stderr",
          "text": [
            "/usr/local/lib/python3.10/dist-packages/transformers/tokenization_utils_base.py:1601: FutureWarning: `clean_up_tokenization_spaces` was not set. It will be set to `True` by default. This behavior will be depracted in transformers v4.45, and will be then set to `False` by default. For more details check this issue: https://github.com/huggingface/transformers/issues/31884\n",
            "  warnings.warn(\n"
          ]
        }
      ]
    },
    {
      "cell_type": "markdown",
      "source": [
        "### 2. 텍스트 데이터를 KLUE-BERT 임베딩으로 변환  "
      ],
      "metadata": {
        "id": "YJxcznRC7nUO"
      },
      "id": "YJxcznRC7nUO"
    },
    {
      "cell_type": "markdown",
      "source": [
        "시간 진짜 오래 걸림;;;;\n",
        "![image.png](data:image/png;base64,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)\n",
        "![image.png](data:image/png;base64,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)"
      ],
      "metadata": {
        "id": "bQxMN7vQ_3fZ"
      },
      "id": "bQxMN7vQ_3fZ"
    },
    {
      "cell_type": "code",
      "source": [
        "# 텍스트를 BERT 임베딩으로 변환하는 함수\n",
        "def get_bert_embeddings(text):\n",
        "    inputs = tokenizer(text, return_tensors='pt', truncation=True, padding=True, max_length=128)\n",
        "    with torch.no_grad():  # 모델 학습을 하지 않으므로 gradient 계산을 하지 않음\n",
        "        outputs = model(**inputs)\n",
        "    # CLS 토큰의 임베딩만 사용 (배치에서 첫 번째 토큰)\n",
        "    return outputs.last_hidden_state[:, 0, :].numpy()\n",
        "\n",
        "# 데이터에서 텍스트 열을 사용하여 BERT 임베딩 계산\n",
        "embeddings = np.array([get_bert_embeddings(text) for text in data['conversation']])\n"
      ],
      "metadata": {
        "id": "_Tbuypei8Vk4"
      },
      "id": "_Tbuypei8Vk4",
      "execution_count": null,
      "outputs": []
    },
    {
      "cell_type": "code",
      "source": [
        "# t-SNE로 3차원 축소\n",
        "tsne = TSNE(n_components=3, random_state=42)\n",
        "tsne_results = tsne.fit_transform(embeddings.squeeze())\n",
        "\n",
        "# t-SNE 결과를 WandB로 로그\n",
        "wandb.log({\n",
        "    \"3D t-SNE Visualization\": wandb.plot.scatter(\n",
        "        wandb.Table(data=[[x, y, z, label] for x, y, z, label in zip(\n",
        "            tsne_results[:, 0], tsne_results[:, 1], tsne_results[:, 2], data['class']\n",
        "        )],\n",
        "        columns=[\"TSNE-1\", \"TSNE-2\", \"TSNE-3\", \"class\"]),\n",
        "        \"TSNE-1\", \"TSNE-2\", \"TSNE-3\", title=\"3D t-SNE Visualization of KLUE-BERT Embeddings\")\n",
        "})\n",
        "\n",
        "# wandb.finish()로 세션 종료\n",
        "wandb.finish()"
      ],
      "metadata": {
        "id": "4_2pOEOyAocD"
      },
      "id": "4_2pOEOyAocD",
      "execution_count": null,
      "outputs": []
    },
    {
      "cell_type": "code",
      "source": [
        "# t-SNE를 사용하여 2차원으로 축소\n",
        "tsne = TSNE(n_components=2, random_state=42)\n",
        "tsne_results = tsne.fit_transform(embeddings.squeeze())\n",
        "\n",
        "# t-SNE 결과를 데이터프레임에 추가\n",
        "data['tsne_1'] = tsne_results[:, 0]\n",
        "data['tsne_2'] = tsne_results[:, 1]\n",
        "\n",
        "# t-SNE 시각화\n",
        "plt.figure(figsize=(10, 8))\n",
        "sns.scatterplot(\n",
        "    x=\"tsne_1\", y=\"tsne_2\",\n",
        "    hue=\"class\",  # 'class' 열을 사용하여 카테고리별로 색상 구분\n",
        "    palette=sns.color_palette(\"hsv\", as_cmap=True),\n",
        "    data=data,\n",
        "    legend=\"full\"\n",
        ")\n",
        "plt.title('t-SNE Visualization of KLUE-BERT Embeddings')\n",
        "plt.show()"
      ],
      "metadata": {
        "id": "ZONktdSJ9YUl"
      },
      "id": "ZONktdSJ9YUl",
      "execution_count": null,
      "outputs": []
    },
    {
      "cell_type": "markdown",
      "source": [
        "## 파이프라인을 이용한 테스트"
      ],
      "metadata": {
        "id": "YcIwFhD4mJ9D"
      },
      "id": "YcIwFhD4mJ9D"
    },
    {
      "cell_type": "code",
      "source": [
        "# KLUE-BERT 토크나이저로 토큰화 및 인코딩\n",
        "inputs = tokenizer(\n",
        "    processed_texts.tolist(),  # 전처리된 텍스트 리스트\n",
        "    return_tensors=\"pt\",       # PyTorch 텐서로 반환\n",
        "    padding=True,              # 패딩 적용\n",
        "    truncation=True,           # 최대 길이 초과시 잘라내기\n",
        "    max_length=128             # 최대 길이 설정 (128 토큰)\n",
        ")"
      ],
      "metadata": {
        "id": "Jq2SwKutCdje"
      },
      "id": "Jq2SwKutCdje",
      "execution_count": null,
      "outputs": []
    },
    {
      "cell_type": "code",
      "source": [
        "# KLUE-BERT 모델에 입력하여 임베딩 또는 예측값 얻기\n",
        "with torch.no_grad():  # 학습이 아닌 예측을 수행하므로 gradient 계산하지 않음\n",
        "    outputs = model(**inputs)\n",
        "\n",
        "# 모델 출력 확인\n",
        "# CLS 토큰에 해당하는 임베딩 벡터 추출\n",
        "cls_embedding = outputs.last_hidden_state[:, 0, :]  # CLS 토큰 임베딩\n"
      ],
      "metadata": {
        "id": "7lzDrJ_kCh2k"
      },
      "id": "7lzDrJ_kCh2k",
      "execution_count": null,
      "outputs": []
    },
    {
      "cell_type": "code",
      "source": [
        "# 파이프라인을 이용한 테스트\n",
        "nlp = pipeline(\"sentiment-analysis\", model=model, tokenizer=tokenizer)\n",
        "\n",
        "# 예시 문장 테스트\n",
        "text = \"이 문장은 KLUE-BERT 모델을 테스트하는 예시입니다.\"\n",
        "result = nlp(text)\n",
        "\n",
        "print(result)"
      ],
      "metadata": {
        "id": "0TgpwxST4MdO"
      },
      "id": "0TgpwxST4MdO",
      "execution_count": null,
      "outputs": []
    },
    {
      "cell_type": "code",
      "source": [
        "# 예시 문장 테스트\n",
        "text = \"이 문장은 KLUE-BERT 모델을 테스트하는 예시입니다.\"\n",
        "result = nlp(text)\n",
        "\n",
        "print(result)"
      ],
      "metadata": {
        "id": "IMbar7b2oRUF"
      },
      "id": "IMbar7b2oRUF",
      "execution_count": null,
      "outputs": []
    },
    {
      "cell_type": "code",
      "source": [
        "from transformers import BertForSequenceClassification\n",
        "\n",
        "model = BertForSequenceClassification.from_pretrained(\"klue/bert-base\")\n",
        "print(model.config.id2label)\n"
      ],
      "metadata": {
        "id": "9Fvytk7Jo3ql"
      },
      "id": "9Fvytk7Jo3ql",
      "execution_count": null,
      "outputs": []
    },
    {
      "cell_type": "code",
      "execution_count": null,
      "id": "9b4c2eb1",
      "metadata": {
        "id": "9b4c2eb1"
      },
      "outputs": [],
      "source": [
        "output = predict('아가씨 담배한갑주소 네 4500원입니다 어 네 지갑어디갔지 에이 버스에서 잃어버렸나보네 그럼 취소할까요 아가씨 내 여기단골이니 담에 갖다줄께 저도 알바생이라 외상안됩니다 아따 누가 떼먹는다고 그러나 갖다준다고 안됩니다 자꾸이럼 경찰불러요 아가씨 담배피는교 그건 왜 물으세요 그람 아가씨 담배 한대만 빌립시다 내 지금 지갑도 잃어버리고 기분이 그래서 그러니 여기요  아따 주는김에 한개더 주면 되겠네')"
      ]
    },
    {
      "cell_type": "code",
      "execution_count": null,
      "id": "a3f86b2d",
      "metadata": {
        "id": "a3f86b2d"
      },
      "outputs": [],
      "source": [
        "output = predict('우리팀에서 다른팀으로 갈 사람 없나? 그럼 영지씨가 가는건 어때?  네? 제가요? 그렇지? 2달만 파견 잘 갔다오면 승진이야. 네? 저는 별로 가고 싶지 않습니다. 여기 있는 모든사람도 가기 싫어해. 그러니까 막내인 영지씨가 가는게 맞지 정말 죄송합니다. 저는 못갑니다. 장난해? 모두를 위해 영지씨가 희생하는게 싫어? 네. 부당한 방법으로 가는 것 같습니다. 영지씨 안가면 회사생활 오래 못할 것 같은데 그래도 안갈거야? 안가면 지옥일텐데. 그래도 이 방법은 아닌 것 같습니다. 죄송합니다.')"
      ]
    },
    {
      "cell_type": "code",
      "execution_count": null,
      "id": "7b2b3ac6",
      "metadata": {
        "id": "7b2b3ac6"
      },
      "outputs": [],
      "source": [
        "output = predict('너 오늘 그게 뭐야 네 제가 뭘 잘못했나요.? 제대로 좀 하지 네 똑바로 좀 하지 행실이 맘에 안들어 네 실천할께요 옆에 동기들 좀 본받으란 말야 어? 네 알겠습니다 그래 똑바로해 노럭할께요')"
      ]
    },
    {
      "cell_type": "markdown",
      "id": "14fc132d",
      "metadata": {
        "id": "14fc132d"
      },
      "source": [
        "#### 위에건 일반 대화 아닌가? 애매함ㅎ. 2 epochs에서는 일반 대화로 분류함"
      ]
    },
    {
      "cell_type": "code",
      "execution_count": null,
      "id": "1e0056f1",
      "metadata": {
        "id": "1e0056f1"
      },
      "outputs": [],
      "source": [
        "output = predict('국희씨 네? 이번주말에 뭐해? 애들이랑 키즈카페 가기러했어요 어 사실 나도 아까 점심먹을때 들어서 알고 있었는데 확인차 물어봤어 왜그러세요? 응 우리애들이랑 국희씨 애들이랑 나이도 얼추 비슷한데 주말에 키즈카페 좀 데려가주라 네?? 실장님은 안가시구요? 어 나는 집도 좀 치우고 밀린 일좀 보게 부탁할게 하지만 제가 애들 4명이나 보기엔 우리애들 얌전하니까 너무걱정마 내가 주의줄게 그럼 주말에 우리집앞으로 와')"
      ]
    },
    {
      "cell_type": "code",
      "execution_count": null,
      "id": "2c008601",
      "metadata": {
        "id": "2c008601"
      },
      "outputs": [],
      "source": [
        "output = predict('저기요 제가 파워블로거에 맘카페까지 활동하고 있어요.  아.네. 멋지시네요!!!! 파워블로거 분들이 쓰신글을 조금 믿음이 가더라구요. 그쵸? 와 된장찌개 진짜 잘 먹었어요. 요리 솜씨가 좋네요 이만 가보겠습니다. 저기요 손님 밥 값 지불 안 하셨는데요! 네? 저 파워블로거라니까요? 제가 홍보해드릴건데 밥은 무료로 주셔야죠 저 홍보해달라고 한 적 없는데요 와서 빨리 밥값내고 가세요. 저 홍보해달라고 한 적 없어요. 그렇게 말 번복하시면 안되죠. 엄연한 계약 사항인데. 제가 언제리뷰해달라고 했어요 그냥 멋지시다고 했죠 빨리 돈내고 가세요. 나참 어이가 없네 아주 안 좋게 적을거니까 각오하세요. 하. 그냥 돈 내지말고 가세요. 그냥 가셔도 됩니다.')"
      ]
    },
    {
      "cell_type": "markdown",
      "id": "596c18bf",
      "metadata": {
        "id": "596c18bf"
      },
      "source": [
        "# 하이퍼파라미터 간 실험"
      ]
    },
    {
      "cell_type": "markdown",
      "id": "0df2a1b9",
      "metadata": {
        "id": "0df2a1b9"
      },
      "source": [
        "### 1. Max length값 120->100 감소 시키기"
      ]
    },
    {
      "cell_type": "code",
      "execution_count": null,
      "id": "92ce4703",
      "metadata": {
        "id": "92ce4703"
      },
      "outputs": [],
      "source": [
        "# 샘플의 최대 허용 길이 또는 패딩 후의 최종 길이\n",
        "MAX_LENGTH = 100\n",
        "\n",
        "BATCH_SIZE = 64\n",
        "BUFFER_SIZE = 20000\n",
        "\n",
        "# 디코더는 이전의 target을 다음의 input으로 사용합니다.\n",
        "# 이에 따라 outputs에서는 START_TOKEN을 제거하겠습니다.\n",
        "dataset = tf.data.Dataset.from_tensor_slices((\n",
        "    {\n",
        "        'inputs': conversation,\n",
        "        'dec_inputs': class_label[:, :-1]\n",
        "    },\n",
        "    {\n",
        "        'outputs': class_label[:, 1:]\n",
        "    },\n",
        "))\n",
        "\n",
        "dataset = dataset.cache()\n",
        "dataset = dataset.shuffle(BUFFER_SIZE)\n",
        "dataset = dataset.batch(BATCH_SIZE)\n",
        "dataset = dataset.prefetch(tf.data.experimental.AUTOTUNE)"
      ]
    },
    {
      "cell_type": "code",
      "execution_count": null,
      "id": "b96607d6",
      "metadata": {
        "id": "b96607d6"
      },
      "outputs": [],
      "source": [
        "tf.keras.backend.clear_session()\n",
        "\n",
        "# 하이퍼파라미터\n",
        "NUM_LAYERS = 2 # 인코더와 디코더의 층의 개수\n",
        "D_MODEL = 256 # 인코더와 디코더 내부의 입, 출력의 고정 차원\n",
        "NUM_HEADS = 8 # 멀티 헤드 어텐션에서의 헤드 수\n",
        "UNITS = 512 # 피드 포워드 신경망의 은닉층의 크기\n",
        "DROPOUT = 0.05 # 드롭아웃의 비율\n",
        "\n",
        "model = transformer(\n",
        "    vocab_size=VOCAB_SIZE,\n",
        "    num_layers=NUM_LAYERS,\n",
        "    units=UNITS,\n",
        "    d_model=D_MODEL,\n",
        "    num_heads=NUM_HEADS,\n",
        "    dropout=DROPOUT)\n",
        "\n",
        "model.summary()\n",
        "\n",
        "learning_rate = CustomSchedule(D_MODEL)\n",
        "\n",
        "optimizer = tf.keras.optimizers.Adam(\n",
        "    learning_rate, beta_1=0.9, beta_2=0.98, epsilon=1e-9)\n",
        "\n",
        "model.compile(optimizer=optimizer, loss=loss_function, metrics=[accuracy])\n",
        "\n",
        "epochs = 9\n",
        "\n",
        "\n",
        "# epochs를 9으로 설정하고 모델을 학습합니다.\n",
        "history = model.fit(dataset, epochs=epochs, verbose=1)"
      ]
    },
    {
      "cell_type": "code",
      "execution_count": null,
      "id": "4d8c1c1d",
      "metadata": {
        "id": "4d8c1c1d"
      },
      "outputs": [],
      "source": [
        "# 손실 값 그래프\n",
        "plt.figure(figsize=(12, 6))\n",
        "\n",
        "# Loss 그래프\n",
        "plt.subplot(1, 2, 1)\n",
        "plt.plot(history.history['loss'], label='Training Loss')\n",
        "plt.title('Training Loss')\n",
        "plt.xlabel('Epochs')\n",
        "plt.ylabel('Loss')\n",
        "plt.legend()\n",
        "\n",
        "# 정확도 그래프\n",
        "plt.subplot(1, 2, 2)\n",
        "plt.plot(history.history['accuracy'], label='Training Accuracy')\n",
        "plt.title('Training Accuracy')\n",
        "plt.xlabel('Epochs')\n",
        "plt.ylabel('Accuracy')\n",
        "plt.legend()\n",
        "\n",
        "plt.show()"
      ]
    },
    {
      "cell_type": "code",
      "execution_count": null,
      "id": "87133aca",
      "metadata": {
        "id": "87133aca"
      },
      "outputs": [],
      "source": [
        "# 회고\n",
        "[Positional Encoding]\n",
        "positional encoding을 gpt-1처럼 embedding으로 변경하면 어떻게 될까?\n",
        "transformer에서 주로 positional encoding보다 embedding이 더 성능이 잘 나올 것 같은데(단어 간의 의미 관계를 유의미한 벡터의 거리로 표현했기 때문) encoding이 주로 사용되는 이유가 embedding보다 데이터 소모 가성비가 좋아서일까?\n",
        "\n",
        "[토크나이징 - 형태소 분석기/subwordtovector]\n",
        "한국어 데이터에 주로 사용되는 형태소 분석기를 사용하여 토크나이징을 하면 성능이 어떻게 될까?\n",
        "\n",
        "[Max length값]\n",
        "사분위 값인 120을 기준으로 100 or 140 에서의 성능?\n",
        "\n",
        "[dropout 값]\n",
        "0.01 -> (0.05) -> 0.10 비교\n",
        "\n",
        "[batch size와 buffer size]\n",
        "1) epochs 수와 batch size의 관계?\n",
        "2) batch size와 buffer size의 관계?\n",
        "\n",
        "[epochs]\n",
        "early stopping을 통해 최적의 epochs 수 확인\n",
        "\n",
        "[Num_LAYERS]\n",
        "인코더와 디코더의 층의 개수를 증가시킨다면?\n",
        "(2) -> 4 -> 8 -> 12\n",
        "\n",
        "[실험 수업 때 했던 파라미터 최적화 기능?]\n",
        "위 기능을 사용하면 여러번 실험을 하지 않아도 파라미터 별 영향도 및 최적값을 도출해줄까? 시간을 아낄 수 있을 것 같다\n"
      ]
    }
  ],
  "metadata": {
    "kernelspec": {
      "display_name": "Python 3 (ipykernel)",
      "language": "python",
      "name": "python3"
    },
    "language_info": {
      "codemirror_mode": {
        "name": "ipython",
        "version": 3
      },
      "file_extension": ".py",
      "mimetype": "text/x-python",
      "name": "python",
      "nbconvert_exporter": "python",
      "pygments_lexer": "ipython3",
      "version": "3.9.7"
    },
    "colab": {
      "provenance": []
    },
    "widgets": {
      "application/vnd.jupyter.widget-state+json": {
        "5f3d9aa636504613b7d0551e9655f432": {
          "model_module": "@jupyter-widgets/controls",
          "model_name": "VBoxModel",
          "model_module_version": "1.5.0",
          "state": {
            "_dom_classes": [],
            "_model_module": "@jupyter-widgets/controls",
            "_model_module_version": "1.5.0",
            "_model_name": "VBoxModel",
            "_view_count": null,
            "_view_module": "@jupyter-widgets/controls",
            "_view_module_version": "1.5.0",
            "_view_name": "VBoxView",
            "box_style": "",
            "children": [
              "IPY_MODEL_c64d6116a35640908f9bf2b5a24e397a",
              "IPY_MODEL_55719d6c55a84855a0077b7c49d3d71a"
            ],
            "layout": "IPY_MODEL_aeffa1b5b6be4fda9e25486d46b481c1"
          }
        },
        "c64d6116a35640908f9bf2b5a24e397a": {
          "model_module": "@jupyter-widgets/controls",
          "model_name": "LabelModel",
          "model_module_version": "1.5.0",
          "state": {
            "_dom_classes": [],
            "_model_module": "@jupyter-widgets/controls",
            "_model_module_version": "1.5.0",
            "_model_name": "LabelModel",
            "_view_count": null,
            "_view_module": "@jupyter-widgets/controls",
            "_view_module_version": "1.5.0",
            "_view_name": "LabelView",
            "description": "",
            "description_tooltip": null,
            "layout": "IPY_MODEL_d4b709f80a9947ada6149b7491802a9f",
            "placeholder": "​",
            "style": "IPY_MODEL_71bf8217faf84a82970ca2294dae772b",
            "value": "0.042 MB of 0.042 MB uploaded\r"
          }
        },
        "55719d6c55a84855a0077b7c49d3d71a": {
          "model_module": "@jupyter-widgets/controls",
          "model_name": "FloatProgressModel",
          "model_module_version": "1.5.0",
          "state": {
            "_dom_classes": [],
            "_model_module": "@jupyter-widgets/controls",
            "_model_module_version": "1.5.0",
            "_model_name": "FloatProgressModel",
            "_view_count": null,
            "_view_module": "@jupyter-widgets/controls",
            "_view_module_version": "1.5.0",
            "_view_name": "ProgressView",
            "bar_style": "",
            "description": "",
            "description_tooltip": null,
            "layout": "IPY_MODEL_a7a285a6222843b5b05df72b94054383",
            "max": 1,
            "min": 0,
            "orientation": "horizontal",
            "style": "IPY_MODEL_291aa9f380264bbf9ab1f9bf6b0f897f",
            "value": 1
          }
        },
        "aeffa1b5b6be4fda9e25486d46b481c1": {
          "model_module": "@jupyter-widgets/base",
          "model_name": "LayoutModel",
          "model_module_version": "1.2.0",
          "state": {
            "_model_module": "@jupyter-widgets/base",
            "_model_module_version": "1.2.0",
            "_model_name": "LayoutModel",
            "_view_count": null,
            "_view_module": "@jupyter-widgets/base",
            "_view_module_version": "1.2.0",
            "_view_name": "LayoutView",
            "align_content": null,
            "align_items": null,
            "align_self": null,
            "border": null,
            "bottom": null,
            "display": null,
            "flex": null,
            "flex_flow": null,
            "grid_area": null,
            "grid_auto_columns": null,
            "grid_auto_flow": null,
            "grid_auto_rows": null,
            "grid_column": null,
            "grid_gap": null,
            "grid_row": null,
            "grid_template_areas": null,
            "grid_template_columns": null,
            "grid_template_rows": null,
            "height": null,
            "justify_content": null,
            "justify_items": null,
            "left": null,
            "margin": null,
            "max_height": null,
            "max_width": null,
            "min_height": null,
            "min_width": null,
            "object_fit": null,
            "object_position": null,
            "order": null,
            "overflow": null,
            "overflow_x": null,
            "overflow_y": null,
            "padding": null,
            "right": null,
            "top": null,
            "visibility": null,
            "width": null
          }
        },
        "d4b709f80a9947ada6149b7491802a9f": {
          "model_module": "@jupyter-widgets/base",
          "model_name": "LayoutModel",
          "model_module_version": "1.2.0",
          "state": {
            "_model_module": "@jupyter-widgets/base",
            "_model_module_version": "1.2.0",
            "_model_name": "LayoutModel",
            "_view_count": null,
            "_view_module": "@jupyter-widgets/base",
            "_view_module_version": "1.2.0",
            "_view_name": "LayoutView",
            "align_content": null,
            "align_items": null,
            "align_self": null,
            "border": null,
            "bottom": null,
            "display": null,
            "flex": null,
            "flex_flow": null,
            "grid_area": null,
            "grid_auto_columns": null,
            "grid_auto_flow": null,
            "grid_auto_rows": null,
            "grid_column": null,
            "grid_gap": null,
            "grid_row": null,
            "grid_template_areas": null,
            "grid_template_columns": null,
            "grid_template_rows": null,
            "height": null,
            "justify_content": null,
            "justify_items": null,
            "left": null,
            "margin": null,
            "max_height": null,
            "max_width": null,
            "min_height": null,
            "min_width": null,
            "object_fit": null,
            "object_position": null,
            "order": null,
            "overflow": null,
            "overflow_x": null,
            "overflow_y": null,
            "padding": null,
            "right": null,
            "top": null,
            "visibility": null,
            "width": null
          }
        },
        "71bf8217faf84a82970ca2294dae772b": {
          "model_module": "@jupyter-widgets/controls",
          "model_name": "DescriptionStyleModel",
          "model_module_version": "1.5.0",
          "state": {
            "_model_module": "@jupyter-widgets/controls",
            "_model_module_version": "1.5.0",
            "_model_name": "DescriptionStyleModel",
            "_view_count": null,
            "_view_module": "@jupyter-widgets/base",
            "_view_module_version": "1.2.0",
            "_view_name": "StyleView",
            "description_width": ""
          }
        },
        "a7a285a6222843b5b05df72b94054383": {
          "model_module": "@jupyter-widgets/base",
          "model_name": "LayoutModel",
          "model_module_version": "1.2.0",
          "state": {
            "_model_module": "@jupyter-widgets/base",
            "_model_module_version": "1.2.0",
            "_model_name": "LayoutModel",
            "_view_count": null,
            "_view_module": "@jupyter-widgets/base",
            "_view_module_version": "1.2.0",
            "_view_name": "LayoutView",
            "align_content": null,
            "align_items": null,
            "align_self": null,
            "border": null,
            "bottom": null,
            "display": null,
            "flex": null,
            "flex_flow": null,
            "grid_area": null,
            "grid_auto_columns": null,
            "grid_auto_flow": null,
            "grid_auto_rows": null,
            "grid_column": null,
            "grid_gap": null,
            "grid_row": null,
            "grid_template_areas": null,
            "grid_template_columns": null,
            "grid_template_rows": null,
            "height": null,
            "justify_content": null,
            "justify_items": null,
            "left": null,
            "margin": null,
            "max_height": null,
            "max_width": null,
            "min_height": null,
            "min_width": null,
            "object_fit": null,
            "object_position": null,
            "order": null,
            "overflow": null,
            "overflow_x": null,
            "overflow_y": null,
            "padding": null,
            "right": null,
            "top": null,
            "visibility": null,
            "width": null
          }
        },
        "291aa9f380264bbf9ab1f9bf6b0f897f": {
          "model_module": "@jupyter-widgets/controls",
          "model_name": "ProgressStyleModel",
          "model_module_version": "1.5.0",
          "state": {
            "_model_module": "@jupyter-widgets/controls",
            "_model_module_version": "1.5.0",
            "_model_name": "ProgressStyleModel",
            "_view_count": null,
            "_view_module": "@jupyter-widgets/base",
            "_view_module_version": "1.2.0",
            "_view_name": "StyleView",
            "bar_color": null,
            "description_width": ""
          }
        },
        "bba67b8f55cc4f93905bac1c51ef2693": {
          "model_module": "@jupyter-widgets/controls",
          "model_name": "VBoxModel",
          "model_module_version": "1.5.0",
          "state": {
            "_dom_classes": [],
            "_model_module": "@jupyter-widgets/controls",
            "_model_module_version": "1.5.0",
            "_model_name": "VBoxModel",
            "_view_count": null,
            "_view_module": "@jupyter-widgets/controls",
            "_view_module_version": "1.5.0",
            "_view_name": "VBoxView",
            "box_style": "",
            "children": [
              "IPY_MODEL_32dd0bf50c3c4fea902305c50c0948f3",
              "IPY_MODEL_4075f76518004bf88163342a9a121741"
            ],
            "layout": "IPY_MODEL_170fe869f740471d81bbbd60af33bb97"
          }
        },
        "32dd0bf50c3c4fea902305c50c0948f3": {
          "model_module": "@jupyter-widgets/controls",
          "model_name": "LabelModel",
          "model_module_version": "1.5.0",
          "state": {
            "_dom_classes": [],
            "_model_module": "@jupyter-widgets/controls",
            "_model_module_version": "1.5.0",
            "_model_name": "LabelModel",
            "_view_count": null,
            "_view_module": "@jupyter-widgets/controls",
            "_view_module_version": "1.5.0",
            "_view_name": "LabelView",
            "description": "",
            "description_tooltip": null,
            "layout": "IPY_MODEL_063bab5ce0cc4c6baa7c00fdb9ebbb05",
            "placeholder": "​",
            "style": "IPY_MODEL_547375e1997149b9966a3e5105ef3b1e",
            "value": "0.011 MB of 0.011 MB uploaded\r"
          }
        },
        "4075f76518004bf88163342a9a121741": {
          "model_module": "@jupyter-widgets/controls",
          "model_name": "FloatProgressModel",
          "model_module_version": "1.5.0",
          "state": {
            "_dom_classes": [],
            "_model_module": "@jupyter-widgets/controls",
            "_model_module_version": "1.5.0",
            "_model_name": "FloatProgressModel",
            "_view_count": null,
            "_view_module": "@jupyter-widgets/controls",
            "_view_module_version": "1.5.0",
            "_view_name": "ProgressView",
            "bar_style": "",
            "description": "",
            "description_tooltip": null,
            "layout": "IPY_MODEL_ea85fb07a99e4abc96cac774f4310a25",
            "max": 1,
            "min": 0,
            "orientation": "horizontal",
            "style": "IPY_MODEL_14a8580f3010431b95d2193bbcf18dd5",
            "value": 1
          }
        },
        "170fe869f740471d81bbbd60af33bb97": {
          "model_module": "@jupyter-widgets/base",
          "model_name": "LayoutModel",
          "model_module_version": "1.2.0",
          "state": {
            "_model_module": "@jupyter-widgets/base",
            "_model_module_version": "1.2.0",
            "_model_name": "LayoutModel",
            "_view_count": null,
            "_view_module": "@jupyter-widgets/base",
            "_view_module_version": "1.2.0",
            "_view_name": "LayoutView",
            "align_content": null,
            "align_items": null,
            "align_self": null,
            "border": null,
            "bottom": null,
            "display": null,
            "flex": null,
            "flex_flow": null,
            "grid_area": null,
            "grid_auto_columns": null,
            "grid_auto_flow": null,
            "grid_auto_rows": null,
            "grid_column": null,
            "grid_gap": null,
            "grid_row": null,
            "grid_template_areas": null,
            "grid_template_columns": null,
            "grid_template_rows": null,
            "height": null,
            "justify_content": null,
            "justify_items": null,
            "left": null,
            "margin": null,
            "max_height": null,
            "max_width": null,
            "min_height": null,
            "min_width": null,
            "object_fit": null,
            "object_position": null,
            "order": null,
            "overflow": null,
            "overflow_x": null,
            "overflow_y": null,
            "padding": null,
            "right": null,
            "top": null,
            "visibility": null,
            "width": null
          }
        },
        "063bab5ce0cc4c6baa7c00fdb9ebbb05": {
          "model_module": "@jupyter-widgets/base",
          "model_name": "LayoutModel",
          "model_module_version": "1.2.0",
          "state": {
            "_model_module": "@jupyter-widgets/base",
            "_model_module_version": "1.2.0",
            "_model_name": "LayoutModel",
            "_view_count": null,
            "_view_module": "@jupyter-widgets/base",
            "_view_module_version": "1.2.0",
            "_view_name": "LayoutView",
            "align_content": null,
            "align_items": null,
            "align_self": null,
            "border": null,
            "bottom": null,
            "display": null,
            "flex": null,
            "flex_flow": null,
            "grid_area": null,
            "grid_auto_columns": null,
            "grid_auto_flow": null,
            "grid_auto_rows": null,
            "grid_column": null,
            "grid_gap": null,
            "grid_row": null,
            "grid_template_areas": null,
            "grid_template_columns": null,
            "grid_template_rows": null,
            "height": null,
            "justify_content": null,
            "justify_items": null,
            "left": null,
            "margin": null,
            "max_height": null,
            "max_width": null,
            "min_height": null,
            "min_width": null,
            "object_fit": null,
            "object_position": null,
            "order": null,
            "overflow": null,
            "overflow_x": null,
            "overflow_y": null,
            "padding": null,
            "right": null,
            "top": null,
            "visibility": null,
            "width": null
          }
        },
        "547375e1997149b9966a3e5105ef3b1e": {
          "model_module": "@jupyter-widgets/controls",
          "model_name": "DescriptionStyleModel",
          "model_module_version": "1.5.0",
          "state": {
            "_model_module": "@jupyter-widgets/controls",
            "_model_module_version": "1.5.0",
            "_model_name": "DescriptionStyleModel",
            "_view_count": null,
            "_view_module": "@jupyter-widgets/base",
            "_view_module_version": "1.2.0",
            "_view_name": "StyleView",
            "description_width": ""
          }
        },
        "ea85fb07a99e4abc96cac774f4310a25": {
          "model_module": "@jupyter-widgets/base",
          "model_name": "LayoutModel",
          "model_module_version": "1.2.0",
          "state": {
            "_model_module": "@jupyter-widgets/base",
            "_model_module_version": "1.2.0",
            "_model_name": "LayoutModel",
            "_view_count": null,
            "_view_module": "@jupyter-widgets/base",
            "_view_module_version": "1.2.0",
            "_view_name": "LayoutView",
            "align_content": null,
            "align_items": null,
            "align_self": null,
            "border": null,
            "bottom": null,
            "display": null,
            "flex": null,
            "flex_flow": null,
            "grid_area": null,
            "grid_auto_columns": null,
            "grid_auto_flow": null,
            "grid_auto_rows": null,
            "grid_column": null,
            "grid_gap": null,
            "grid_row": null,
            "grid_template_areas": null,
            "grid_template_columns": null,
            "grid_template_rows": null,
            "height": null,
            "justify_content": null,
            "justify_items": null,
            "left": null,
            "margin": null,
            "max_height": null,
            "max_width": null,
            "min_height": null,
            "min_width": null,
            "object_fit": null,
            "object_position": null,
            "order": null,
            "overflow": null,
            "overflow_x": null,
            "overflow_y": null,
            "padding": null,
            "right": null,
            "top": null,
            "visibility": null,
            "width": null
          }
        },
        "14a8580f3010431b95d2193bbcf18dd5": {
          "model_module": "@jupyter-widgets/controls",
          "model_name": "ProgressStyleModel",
          "model_module_version": "1.5.0",
          "state": {
            "_model_module": "@jupyter-widgets/controls",
            "_model_module_version": "1.5.0",
            "_model_name": "ProgressStyleModel",
            "_view_count": null,
            "_view_module": "@jupyter-widgets/base",
            "_view_module_version": "1.2.0",
            "_view_name": "StyleView",
            "bar_color": null,
            "description_width": ""
          }
        }
      }
    }
  },
  "nbformat": 4,
  "nbformat_minor": 5
}